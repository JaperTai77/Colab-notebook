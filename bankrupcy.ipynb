{
  "nbformat": 4,
  "nbformat_minor": 0,
  "metadata": {
    "colab": {
      "name": "bankrupcy.ipynb",
      "provenance": [],
      "authorship_tag": "ABX9TyPFTUsT2PDu/iGDsSPbqAHi",
      "include_colab_link": true
    },
    "kernelspec": {
      "name": "python3",
      "display_name": "Python 3"
    }
  },
  "cells": [
    {
      "cell_type": "markdown",
      "metadata": {
        "id": "view-in-github",
        "colab_type": "text"
      },
      "source": [
        "<a href=\"https://colab.research.google.com/github/JaperTai77/Colab-notebook/blob/main/bankrupcy.ipynb\" target=\"_parent\"><img src=\"https://colab.research.google.com/assets/colab-badge.svg\" alt=\"Open In Colab\"/></a>"
      ]
    },
    {
      "cell_type": "markdown",
      "metadata": {
        "id": "NtA0GO3ncYXY"
      },
      "source": [
        "## Import packages and dataset\n"
      ]
    },
    {
      "cell_type": "code",
      "metadata": {
        "id": "6cLu9ek4b7gp"
      },
      "source": [
        "import numpy as np\n",
        "import pandas as pd\n",
        "import matplotlib.pyplot as plt\n",
        "import seaborn as sns"
      ],
      "execution_count": null,
      "outputs": []
    },
    {
      "cell_type": "code",
      "metadata": {
        "colab": {
          "base_uri": "https://localhost:8080/"
        },
        "id": "2KUUl7OX2W3d",
        "outputId": "d2c5f83b-9e81-46e1-d15a-707d3087d2c9"
      },
      "source": [
        "import statsmodels.api as sm\n",
        "import statsmodels.formula.api as smf\n",
        "import statsmodels.stats.api as sms"
      ],
      "execution_count": null,
      "outputs": [
        {
          "output_type": "stream",
          "text": [
            "/usr/local/lib/python3.7/dist-packages/statsmodels/tools/_testing.py:19: FutureWarning: pandas.util.testing is deprecated. Use the functions in the public API at pandas.testing instead.\n",
            "  import pandas.util.testing as tm\n"
          ],
          "name": "stderr"
        }
      ]
    },
    {
      "cell_type": "code",
      "metadata": {
        "id": "uw_b8scKcK0f"
      },
      "source": [
        "path = 'https://raw.githubusercontent.com/JaperTai77/data-modified/main/data.csv'\n",
        "df = pd.read_csv(path)"
      ],
      "execution_count": null,
      "outputs": []
    },
    {
      "cell_type": "markdown",
      "metadata": {
        "id": "d8H4DFP5iTtJ"
      },
      "source": [
        "# Data Preprocessing"
      ]
    },
    {
      "cell_type": "markdown",
      "metadata": {
        "id": "xQ7u6gbRc7SZ"
      },
      "source": [
        "## Check dataset"
      ]
    },
    {
      "cell_type": "code",
      "metadata": {
        "colab": {
          "base_uri": "https://localhost:8080/",
          "height": 372
        },
        "id": "4Ud3_IREcWq2",
        "outputId": "2d8863fd-743f-4b7c-dc25-028978d3604e"
      },
      "source": [
        "df.head()"
      ],
      "execution_count": null,
      "outputs": [
        {
          "output_type": "execute_result",
          "data": {
            "text/html": [
              "<div>\n",
              "<style scoped>\n",
              "    .dataframe tbody tr th:only-of-type {\n",
              "        vertical-align: middle;\n",
              "    }\n",
              "\n",
              "    .dataframe tbody tr th {\n",
              "        vertical-align: top;\n",
              "    }\n",
              "\n",
              "    .dataframe thead th {\n",
              "        text-align: right;\n",
              "    }\n",
              "</style>\n",
              "<table border=\"1\" class=\"dataframe\">\n",
              "  <thead>\n",
              "    <tr style=\"text-align: right;\">\n",
              "      <th></th>\n",
              "      <th>Bankrupt?</th>\n",
              "      <th>ROA(C) before interest and depreciation before interest</th>\n",
              "      <th>ROA(A) before interest and % after tax</th>\n",
              "      <th>ROA(B) before interest and depreciation after tax</th>\n",
              "      <th>Operating Gross Margin</th>\n",
              "      <th>Realized Sales Gross Margin</th>\n",
              "      <th>Operating Profit Rate</th>\n",
              "      <th>Pre-tax net Interest Rate</th>\n",
              "      <th>After-tax net Interest Rate</th>\n",
              "      <th>Non-industry income and expenditure/revenue</th>\n",
              "      <th>Continuous interest rate (after tax)</th>\n",
              "      <th>Operating Expense Rate</th>\n",
              "      <th>Research and development expense rate</th>\n",
              "      <th>Cash flow rate</th>\n",
              "      <th>Interest-bearing debt interest rate</th>\n",
              "      <th>Tax rate (A)</th>\n",
              "      <th>Net Value Per Share (B)</th>\n",
              "      <th>Net Value Per Share (A)</th>\n",
              "      <th>Net Value Per Share (C)</th>\n",
              "      <th>Persistent EPS in the Last Four Seasons</th>\n",
              "      <th>Cash Flow Per Share</th>\n",
              "      <th>Revenue Per Share (Yuan ¥)</th>\n",
              "      <th>Operating Profit Per Share (Yuan ¥)</th>\n",
              "      <th>Per Share Net profit before tax (Yuan ¥)</th>\n",
              "      <th>Realized Sales Gross Profit Growth Rate</th>\n",
              "      <th>Operating Profit Growth Rate</th>\n",
              "      <th>After-tax Net Profit Growth Rate</th>\n",
              "      <th>Regular Net Profit Growth Rate</th>\n",
              "      <th>Continuous Net Profit Growth Rate</th>\n",
              "      <th>Total Asset Growth Rate</th>\n",
              "      <th>Net Value Growth Rate</th>\n",
              "      <th>Total Asset Return Growth Rate Ratio</th>\n",
              "      <th>Cash Reinvestment %</th>\n",
              "      <th>Current Ratio</th>\n",
              "      <th>Quick Ratio</th>\n",
              "      <th>Interest Expense Ratio</th>\n",
              "      <th>Total debt/Total net worth</th>\n",
              "      <th>Debt ratio %</th>\n",
              "      <th>Net worth/Assets</th>\n",
              "      <th>Long-term fund suitability ratio (A)</th>\n",
              "      <th>...</th>\n",
              "      <th>Current Assets/Total Assets</th>\n",
              "      <th>Cash/Total Assets</th>\n",
              "      <th>Quick Assets/Current Liability</th>\n",
              "      <th>Cash/Current Liability</th>\n",
              "      <th>Current Liability to Assets</th>\n",
              "      <th>Operating Funds to Liability</th>\n",
              "      <th>Inventory/Working Capital</th>\n",
              "      <th>Inventory/Current Liability</th>\n",
              "      <th>Current Liabilities/Liability</th>\n",
              "      <th>Working Capital/Equity</th>\n",
              "      <th>Current Liabilities/Equity</th>\n",
              "      <th>Long-term Liability to Current Assets</th>\n",
              "      <th>Retained Earnings to Total Assets</th>\n",
              "      <th>Total income/Total expense</th>\n",
              "      <th>Total expense/Assets</th>\n",
              "      <th>Current Asset Turnover Rate</th>\n",
              "      <th>Quick Asset Turnover Rate</th>\n",
              "      <th>Working capitcal Turnover Rate</th>\n",
              "      <th>Cash Turnover Rate</th>\n",
              "      <th>Cash Flow to Sales</th>\n",
              "      <th>Fixed Assets to Assets</th>\n",
              "      <th>Current Liability to Liability</th>\n",
              "      <th>Current Liability to Equity</th>\n",
              "      <th>Equity to Long-term Liability</th>\n",
              "      <th>Cash Flow to Total Assets</th>\n",
              "      <th>Cash Flow to Liability</th>\n",
              "      <th>CFO to Assets</th>\n",
              "      <th>Cash Flow to Equity</th>\n",
              "      <th>Current Liability to Current Assets</th>\n",
              "      <th>Liability-Assets Flag</th>\n",
              "      <th>Net Income to Total Assets</th>\n",
              "      <th>Total assets to GNP price</th>\n",
              "      <th>No-credit Interval</th>\n",
              "      <th>Gross Profit to Sales</th>\n",
              "      <th>Net Income to Stockholder's Equity</th>\n",
              "      <th>Liability to Equity</th>\n",
              "      <th>Degree of Financial Leverage (DFL)</th>\n",
              "      <th>Interest Coverage Ratio (Interest expense to EBIT)</th>\n",
              "      <th>Net Income Flag</th>\n",
              "      <th>Equity to Liability</th>\n",
              "    </tr>\n",
              "  </thead>\n",
              "  <tbody>\n",
              "    <tr>\n",
              "      <th>0</th>\n",
              "      <td>1</td>\n",
              "      <td>0.370594</td>\n",
              "      <td>0.424389</td>\n",
              "      <td>0.405750</td>\n",
              "      <td>0.601457</td>\n",
              "      <td>0.601457</td>\n",
              "      <td>0.998969</td>\n",
              "      <td>0.796887</td>\n",
              "      <td>0.808809</td>\n",
              "      <td>0.302646</td>\n",
              "      <td>0.780985</td>\n",
              "      <td>1.256969e-04</td>\n",
              "      <td>0.0</td>\n",
              "      <td>0.458143</td>\n",
              "      <td>0.000725</td>\n",
              "      <td>0.0</td>\n",
              "      <td>0.147950</td>\n",
              "      <td>0.147950</td>\n",
              "      <td>0.147950</td>\n",
              "      <td>0.169141</td>\n",
              "      <td>0.311664</td>\n",
              "      <td>0.017560</td>\n",
              "      <td>0.095921</td>\n",
              "      <td>0.138736</td>\n",
              "      <td>0.022102</td>\n",
              "      <td>0.848195</td>\n",
              "      <td>0.688979</td>\n",
              "      <td>0.688979</td>\n",
              "      <td>0.217535</td>\n",
              "      <td>4.980000e+09</td>\n",
              "      <td>0.000327</td>\n",
              "      <td>0.263100</td>\n",
              "      <td>0.363725</td>\n",
              "      <td>0.002259</td>\n",
              "      <td>0.001208</td>\n",
              "      <td>0.629951</td>\n",
              "      <td>0.021266</td>\n",
              "      <td>0.207576</td>\n",
              "      <td>0.792424</td>\n",
              "      <td>0.005024</td>\n",
              "      <td>...</td>\n",
              "      <td>0.190643</td>\n",
              "      <td>0.004094</td>\n",
              "      <td>0.001997</td>\n",
              "      <td>1.473360e-04</td>\n",
              "      <td>0.147308</td>\n",
              "      <td>0.334015</td>\n",
              "      <td>0.276920</td>\n",
              "      <td>0.001036</td>\n",
              "      <td>0.676269</td>\n",
              "      <td>0.721275</td>\n",
              "      <td>0.339077</td>\n",
              "      <td>0.025592</td>\n",
              "      <td>0.903225</td>\n",
              "      <td>0.002022</td>\n",
              "      <td>0.064856</td>\n",
              "      <td>7.010000e+08</td>\n",
              "      <td>6.550000e+09</td>\n",
              "      <td>0.593831</td>\n",
              "      <td>4.580000e+08</td>\n",
              "      <td>0.671568</td>\n",
              "      <td>0.424206</td>\n",
              "      <td>0.676269</td>\n",
              "      <td>0.339077</td>\n",
              "      <td>0.126549</td>\n",
              "      <td>0.637555</td>\n",
              "      <td>0.458609</td>\n",
              "      <td>0.520382</td>\n",
              "      <td>0.312905</td>\n",
              "      <td>0.118250</td>\n",
              "      <td>0</td>\n",
              "      <td>0.716845</td>\n",
              "      <td>0.009219</td>\n",
              "      <td>0.622879</td>\n",
              "      <td>0.601453</td>\n",
              "      <td>0.827890</td>\n",
              "      <td>0.290202</td>\n",
              "      <td>0.026601</td>\n",
              "      <td>0.564050</td>\n",
              "      <td>1</td>\n",
              "      <td>0.016469</td>\n",
              "    </tr>\n",
              "    <tr>\n",
              "      <th>1</th>\n",
              "      <td>1</td>\n",
              "      <td>0.464291</td>\n",
              "      <td>0.538214</td>\n",
              "      <td>0.516730</td>\n",
              "      <td>0.610235</td>\n",
              "      <td>0.610235</td>\n",
              "      <td>0.998946</td>\n",
              "      <td>0.797380</td>\n",
              "      <td>0.809301</td>\n",
              "      <td>0.303556</td>\n",
              "      <td>0.781506</td>\n",
              "      <td>2.897851e-04</td>\n",
              "      <td>0.0</td>\n",
              "      <td>0.461867</td>\n",
              "      <td>0.000647</td>\n",
              "      <td>0.0</td>\n",
              "      <td>0.182251</td>\n",
              "      <td>0.182251</td>\n",
              "      <td>0.182251</td>\n",
              "      <td>0.208944</td>\n",
              "      <td>0.318137</td>\n",
              "      <td>0.021144</td>\n",
              "      <td>0.093722</td>\n",
              "      <td>0.169918</td>\n",
              "      <td>0.022080</td>\n",
              "      <td>0.848088</td>\n",
              "      <td>0.689693</td>\n",
              "      <td>0.689702</td>\n",
              "      <td>0.217620</td>\n",
              "      <td>6.110000e+09</td>\n",
              "      <td>0.000443</td>\n",
              "      <td>0.264516</td>\n",
              "      <td>0.376709</td>\n",
              "      <td>0.006016</td>\n",
              "      <td>0.004039</td>\n",
              "      <td>0.635172</td>\n",
              "      <td>0.012502</td>\n",
              "      <td>0.171176</td>\n",
              "      <td>0.828824</td>\n",
              "      <td>0.005059</td>\n",
              "      <td>...</td>\n",
              "      <td>0.182419</td>\n",
              "      <td>0.014948</td>\n",
              "      <td>0.004136</td>\n",
              "      <td>1.383910e-03</td>\n",
              "      <td>0.056963</td>\n",
              "      <td>0.341106</td>\n",
              "      <td>0.289642</td>\n",
              "      <td>0.005210</td>\n",
              "      <td>0.308589</td>\n",
              "      <td>0.731975</td>\n",
              "      <td>0.329740</td>\n",
              "      <td>0.023947</td>\n",
              "      <td>0.931065</td>\n",
              "      <td>0.002226</td>\n",
              "      <td>0.025516</td>\n",
              "      <td>1.065198e-04</td>\n",
              "      <td>7.700000e+09</td>\n",
              "      <td>0.593916</td>\n",
              "      <td>2.490000e+09</td>\n",
              "      <td>0.671570</td>\n",
              "      <td>0.468828</td>\n",
              "      <td>0.308589</td>\n",
              "      <td>0.329740</td>\n",
              "      <td>0.120916</td>\n",
              "      <td>0.641100</td>\n",
              "      <td>0.459001</td>\n",
              "      <td>0.567101</td>\n",
              "      <td>0.314163</td>\n",
              "      <td>0.047775</td>\n",
              "      <td>0</td>\n",
              "      <td>0.795297</td>\n",
              "      <td>0.008323</td>\n",
              "      <td>0.623652</td>\n",
              "      <td>0.610237</td>\n",
              "      <td>0.839969</td>\n",
              "      <td>0.283846</td>\n",
              "      <td>0.264577</td>\n",
              "      <td>0.570175</td>\n",
              "      <td>1</td>\n",
              "      <td>0.020794</td>\n",
              "    </tr>\n",
              "    <tr>\n",
              "      <th>2</th>\n",
              "      <td>1</td>\n",
              "      <td>0.426071</td>\n",
              "      <td>0.499019</td>\n",
              "      <td>0.472295</td>\n",
              "      <td>0.601450</td>\n",
              "      <td>0.601364</td>\n",
              "      <td>0.998857</td>\n",
              "      <td>0.796403</td>\n",
              "      <td>0.808388</td>\n",
              "      <td>0.302035</td>\n",
              "      <td>0.780284</td>\n",
              "      <td>2.361297e-04</td>\n",
              "      <td>25500000.0</td>\n",
              "      <td>0.458521</td>\n",
              "      <td>0.000790</td>\n",
              "      <td>0.0</td>\n",
              "      <td>0.177911</td>\n",
              "      <td>0.177911</td>\n",
              "      <td>0.193713</td>\n",
              "      <td>0.180581</td>\n",
              "      <td>0.307102</td>\n",
              "      <td>0.005944</td>\n",
              "      <td>0.092338</td>\n",
              "      <td>0.142803</td>\n",
              "      <td>0.022760</td>\n",
              "      <td>0.848094</td>\n",
              "      <td>0.689463</td>\n",
              "      <td>0.689470</td>\n",
              "      <td>0.217601</td>\n",
              "      <td>7.280000e+09</td>\n",
              "      <td>0.000396</td>\n",
              "      <td>0.264184</td>\n",
              "      <td>0.368913</td>\n",
              "      <td>0.011543</td>\n",
              "      <td>0.005348</td>\n",
              "      <td>0.629631</td>\n",
              "      <td>0.021248</td>\n",
              "      <td>0.207516</td>\n",
              "      <td>0.792484</td>\n",
              "      <td>0.005100</td>\n",
              "      <td>...</td>\n",
              "      <td>0.602806</td>\n",
              "      <td>0.000991</td>\n",
              "      <td>0.006302</td>\n",
              "      <td>5.340000e+09</td>\n",
              "      <td>0.098162</td>\n",
              "      <td>0.336731</td>\n",
              "      <td>0.277456</td>\n",
              "      <td>0.013879</td>\n",
              "      <td>0.446027</td>\n",
              "      <td>0.742729</td>\n",
              "      <td>0.334777</td>\n",
              "      <td>0.003715</td>\n",
              "      <td>0.909903</td>\n",
              "      <td>0.002060</td>\n",
              "      <td>0.021387</td>\n",
              "      <td>1.791094e-03</td>\n",
              "      <td>1.022676e-03</td>\n",
              "      <td>0.594502</td>\n",
              "      <td>7.610000e+08</td>\n",
              "      <td>0.671571</td>\n",
              "      <td>0.276179</td>\n",
              "      <td>0.446027</td>\n",
              "      <td>0.334777</td>\n",
              "      <td>0.117922</td>\n",
              "      <td>0.642765</td>\n",
              "      <td>0.459254</td>\n",
              "      <td>0.538491</td>\n",
              "      <td>0.314515</td>\n",
              "      <td>0.025346</td>\n",
              "      <td>0</td>\n",
              "      <td>0.774670</td>\n",
              "      <td>0.040003</td>\n",
              "      <td>0.623841</td>\n",
              "      <td>0.601449</td>\n",
              "      <td>0.836774</td>\n",
              "      <td>0.290189</td>\n",
              "      <td>0.026555</td>\n",
              "      <td>0.563706</td>\n",
              "      <td>1</td>\n",
              "      <td>0.016474</td>\n",
              "    </tr>\n",
              "    <tr>\n",
              "      <th>3</th>\n",
              "      <td>1</td>\n",
              "      <td>0.399844</td>\n",
              "      <td>0.451265</td>\n",
              "      <td>0.457733</td>\n",
              "      <td>0.583541</td>\n",
              "      <td>0.583541</td>\n",
              "      <td>0.998700</td>\n",
              "      <td>0.796967</td>\n",
              "      <td>0.808966</td>\n",
              "      <td>0.303350</td>\n",
              "      <td>0.781241</td>\n",
              "      <td>1.078888e-04</td>\n",
              "      <td>0.0</td>\n",
              "      <td>0.465705</td>\n",
              "      <td>0.000449</td>\n",
              "      <td>0.0</td>\n",
              "      <td>0.154187</td>\n",
              "      <td>0.154187</td>\n",
              "      <td>0.154187</td>\n",
              "      <td>0.193722</td>\n",
              "      <td>0.321674</td>\n",
              "      <td>0.014368</td>\n",
              "      <td>0.077762</td>\n",
              "      <td>0.148603</td>\n",
              "      <td>0.022046</td>\n",
              "      <td>0.848005</td>\n",
              "      <td>0.689110</td>\n",
              "      <td>0.689110</td>\n",
              "      <td>0.217568</td>\n",
              "      <td>4.880000e+09</td>\n",
              "      <td>0.000382</td>\n",
              "      <td>0.263371</td>\n",
              "      <td>0.384077</td>\n",
              "      <td>0.004194</td>\n",
              "      <td>0.002896</td>\n",
              "      <td>0.630228</td>\n",
              "      <td>0.009572</td>\n",
              "      <td>0.151465</td>\n",
              "      <td>0.848535</td>\n",
              "      <td>0.005047</td>\n",
              "      <td>...</td>\n",
              "      <td>0.225815</td>\n",
              "      <td>0.018851</td>\n",
              "      <td>0.002961</td>\n",
              "      <td>1.010646e-03</td>\n",
              "      <td>0.098715</td>\n",
              "      <td>0.348716</td>\n",
              "      <td>0.276580</td>\n",
              "      <td>0.003540</td>\n",
              "      <td>0.615848</td>\n",
              "      <td>0.729825</td>\n",
              "      <td>0.331509</td>\n",
              "      <td>0.022165</td>\n",
              "      <td>0.906902</td>\n",
              "      <td>0.001831</td>\n",
              "      <td>0.024161</td>\n",
              "      <td>8.140000e+09</td>\n",
              "      <td>6.050000e+09</td>\n",
              "      <td>0.593889</td>\n",
              "      <td>2.030000e+09</td>\n",
              "      <td>0.671519</td>\n",
              "      <td>0.559144</td>\n",
              "      <td>0.615848</td>\n",
              "      <td>0.331509</td>\n",
              "      <td>0.120760</td>\n",
              "      <td>0.579039</td>\n",
              "      <td>0.448518</td>\n",
              "      <td>0.604105</td>\n",
              "      <td>0.302382</td>\n",
              "      <td>0.067250</td>\n",
              "      <td>0</td>\n",
              "      <td>0.739555</td>\n",
              "      <td>0.003252</td>\n",
              "      <td>0.622929</td>\n",
              "      <td>0.583538</td>\n",
              "      <td>0.834697</td>\n",
              "      <td>0.281721</td>\n",
              "      <td>0.026697</td>\n",
              "      <td>0.564663</td>\n",
              "      <td>1</td>\n",
              "      <td>0.023982</td>\n",
              "    </tr>\n",
              "    <tr>\n",
              "      <th>4</th>\n",
              "      <td>1</td>\n",
              "      <td>0.465022</td>\n",
              "      <td>0.538432</td>\n",
              "      <td>0.522298</td>\n",
              "      <td>0.598783</td>\n",
              "      <td>0.598783</td>\n",
              "      <td>0.998973</td>\n",
              "      <td>0.797366</td>\n",
              "      <td>0.809304</td>\n",
              "      <td>0.303475</td>\n",
              "      <td>0.781550</td>\n",
              "      <td>7.890000e+09</td>\n",
              "      <td>0.0</td>\n",
              "      <td>0.462746</td>\n",
              "      <td>0.000686</td>\n",
              "      <td>0.0</td>\n",
              "      <td>0.167502</td>\n",
              "      <td>0.167502</td>\n",
              "      <td>0.167502</td>\n",
              "      <td>0.212537</td>\n",
              "      <td>0.319162</td>\n",
              "      <td>0.029690</td>\n",
              "      <td>0.096898</td>\n",
              "      <td>0.168412</td>\n",
              "      <td>0.022096</td>\n",
              "      <td>0.848258</td>\n",
              "      <td>0.689697</td>\n",
              "      <td>0.689697</td>\n",
              "      <td>0.217626</td>\n",
              "      <td>5.510000e+09</td>\n",
              "      <td>0.000439</td>\n",
              "      <td>0.265218</td>\n",
              "      <td>0.379690</td>\n",
              "      <td>0.006022</td>\n",
              "      <td>0.003727</td>\n",
              "      <td>0.636055</td>\n",
              "      <td>0.005150</td>\n",
              "      <td>0.106509</td>\n",
              "      <td>0.893491</td>\n",
              "      <td>0.005303</td>\n",
              "      <td>...</td>\n",
              "      <td>0.358380</td>\n",
              "      <td>0.014161</td>\n",
              "      <td>0.004275</td>\n",
              "      <td>6.804636e-04</td>\n",
              "      <td>0.110195</td>\n",
              "      <td>0.344639</td>\n",
              "      <td>0.287913</td>\n",
              "      <td>0.004869</td>\n",
              "      <td>0.975007</td>\n",
              "      <td>0.732000</td>\n",
              "      <td>0.330726</td>\n",
              "      <td>0.000000</td>\n",
              "      <td>0.913850</td>\n",
              "      <td>0.002224</td>\n",
              "      <td>0.026385</td>\n",
              "      <td>6.680000e+09</td>\n",
              "      <td>5.050000e+09</td>\n",
              "      <td>0.593915</td>\n",
              "      <td>8.240000e+08</td>\n",
              "      <td>0.671563</td>\n",
              "      <td>0.309555</td>\n",
              "      <td>0.975007</td>\n",
              "      <td>0.330726</td>\n",
              "      <td>0.110933</td>\n",
              "      <td>0.622374</td>\n",
              "      <td>0.454411</td>\n",
              "      <td>0.578469</td>\n",
              "      <td>0.311567</td>\n",
              "      <td>0.047725</td>\n",
              "      <td>0</td>\n",
              "      <td>0.795016</td>\n",
              "      <td>0.003878</td>\n",
              "      <td>0.623521</td>\n",
              "      <td>0.598782</td>\n",
              "      <td>0.839973</td>\n",
              "      <td>0.278514</td>\n",
              "      <td>0.024752</td>\n",
              "      <td>0.575617</td>\n",
              "      <td>1</td>\n",
              "      <td>0.035490</td>\n",
              "    </tr>\n",
              "  </tbody>\n",
              "</table>\n",
              "<p>5 rows × 96 columns</p>\n",
              "</div>"
            ],
            "text/plain": [
              "   Bankrupt?  ...   Equity to Liability\n",
              "0          1  ...              0.016469\n",
              "1          1  ...              0.020794\n",
              "2          1  ...              0.016474\n",
              "3          1  ...              0.023982\n",
              "4          1  ...              0.035490\n",
              "\n",
              "[5 rows x 96 columns]"
            ]
          },
          "metadata": {
            "tags": []
          },
          "execution_count": 4
        }
      ]
    },
    {
      "cell_type": "markdown",
      "metadata": {
        "id": "3SenxVG0iDUK"
      },
      "source": [
        "## Replace column names by simplier names"
      ]
    },
    {
      "cell_type": "code",
      "metadata": {
        "id": "4P9N05VId_2B"
      },
      "source": [
        "# Create a variable gives information of the columns\n",
        "names = np.arange(1, 97, 1).tolist()\n",
        "def colname(df, names = names):\n",
        "  cols = df.columns\n",
        "  dictionary = dict()\n",
        "  for i, name in enumerate(names):\n",
        "    dictionary[name] = cols[i]\n",
        "  return dictionary\n",
        "col_namnes = colname(df)"
      ],
      "execution_count": null,
      "outputs": []
    },
    {
      "cell_type": "code",
      "metadata": {
        "id": "7RlxWeAJh1GL"
      },
      "source": [
        "df.columns = names\n",
        "df = df.rename(columns = {1:'response'})"
      ],
      "execution_count": null,
      "outputs": []
    },
    {
      "cell_type": "markdown",
      "metadata": {
        "id": "HUPp_U62iyZ5"
      },
      "source": [
        "## Correlation of the dataset"
      ]
    },
    {
      "cell_type": "code",
      "metadata": {
        "colab": {
          "base_uri": "https://localhost:8080/",
          "height": 1000
        },
        "id": "zXE_zs9bizrW",
        "outputId": "e97f0137-beed-4ccd-d734-bc0e01f1c7fd"
      },
      "source": [
        "def df_corr(df = df, save = False):\n",
        "  plt.figure(figsize = (20,20))\n",
        "  sns.heatmap(df.corr(), cmap = 'Greys').set_title('Correlation Matrix')\n",
        "  if save == True:\n",
        "    plt.savefig(corr.png)\n",
        "df_corr(df)"
      ],
      "execution_count": null,
      "outputs": [
        {
          "output_type": "display_data",
          "data": {
            "image/png": "[encoded data removed]",
            "text/plain": [
              "<Figure size 1440x1440 with 2 Axes>"
            ]
          },
          "metadata": {
            "tags": [],
            "needs_background": "light"
          }
        }
      ]
    },
    {
      "cell_type": "code",
      "metadata": {
        "colab": {
          "base_uri": "https://localhost:8080/",
          "height": 573
        },
        "id": "oOquvVjKn5EY",
        "outputId": "61aa6138-d6ca-49e5-c423-4c2220dc70c1"
      },
      "source": [
        "pd.DataFrame(df.corr()['response'].drop('response')).plot(kind = 'bar',color = 'red',figsize = (16,9)).set_title('Correlation (Response)')"
      ],
      "execution_count": null,
      "outputs": [
        {
          "output_type": "execute_result",
          "data": {
            "text/plain": [
              "Text(0.5, 1.0, 'Correlation (Response)')"
            ]
          },
          "metadata": {
            "tags": []
          },
          "execution_count": 61
        },
        {
          "output_type": "display_data",
          "data": {
            "image/png": "[encoded data removed]",
            "text/plain": [
              "<Figure size 1152x648 with 1 Axes>"
            ]
          },
          "metadata": {
            "tags": [],
            "needs_background": "light"
          }
        }
      ]
    },
    {
      "cell_type": "markdown",
      "metadata": {
        "id": "C8Yn0bRup05p"
      },
      "source": [
        "# Visualize Data"
      ]
    },
    {
      "cell_type": "code",
      "metadata": {
        "colab": {
          "base_uri": "https://localhost:8080/"
        },
        "id": "VEV-ypKWprtx",
        "outputId": "963e3468-4d6b-410a-d0c1-3c902e92bb41"
      },
      "source": [
        "col_namnes"
      ],
      "execution_count": null,
      "outputs": [
        {
          "output_type": "execute_result",
          "data": {
            "text/plain": [
              "{1: 'Bankrupt?',\n",
              " 2: ' ROA(C) before interest and depreciation before interest',\n",
              " 3: ' ROA(A) before interest and % after tax',\n",
              " 4: ' ROA(B) before interest and depreciation after tax',\n",
              " 5: ' Operating Gross Margin',\n",
              " 6: ' Realized Sales Gross Margin',\n",
              " 7: ' Operating Profit Rate',\n",
              " 8: ' Pre-tax net Interest Rate',\n",
              " 9: ' After-tax net Interest Rate',\n",
              " 10: ' Non-industry income and expenditure/revenue',\n",
              " 11: ' Continuous interest rate (after tax)',\n",
              " 12: ' Operating Expense Rate',\n",
              " 13: ' Research and development expense rate',\n",
              " 14: ' Cash flow rate',\n",
              " 15: ' Interest-bearing debt interest rate',\n",
              " 16: ' Tax rate (A)',\n",
              " 17: ' Net Value Per Share (B)',\n",
              " 18: ' Net Value Per Share (A)',\n",
              " 19: ' Net Value Per Share (C)',\n",
              " 20: ' Persistent EPS in the Last Four Seasons',\n",
              " 21: ' Cash Flow Per Share',\n",
              " 22: ' Revenue Per Share (Yuan ¥)',\n",
              " 23: ' Operating Profit Per Share (Yuan ¥)',\n",
              " 24: ' Per Share Net profit before tax (Yuan ¥)',\n",
              " 25: ' Realized Sales Gross Profit Growth Rate',\n",
              " 26: ' Operating Profit Growth Rate',\n",
              " 27: ' After-tax Net Profit Growth Rate',\n",
              " 28: ' Regular Net Profit Growth Rate',\n",
              " 29: ' Continuous Net Profit Growth Rate',\n",
              " 30: ' Total Asset Growth Rate',\n",
              " 31: ' Net Value Growth Rate',\n",
              " 32: ' Total Asset Return Growth Rate Ratio',\n",
              " 33: ' Cash Reinvestment %',\n",
              " 34: ' Current Ratio',\n",
              " 35: ' Quick Ratio',\n",
              " 36: ' Interest Expense Ratio',\n",
              " 37: ' Total debt/Total net worth',\n",
              " 38: ' Debt ratio %',\n",
              " 39: ' Net worth/Assets',\n",
              " 40: ' Long-term fund suitability ratio (A)',\n",
              " 41: ' Borrowing dependency',\n",
              " 42: ' Contingent liabilities/Net worth',\n",
              " 43: ' Operating profit/Paid-in capital',\n",
              " 44: ' Net profit before tax/Paid-in capital',\n",
              " 45: ' Inventory and accounts receivable/Net value',\n",
              " 46: ' Total Asset Turnover',\n",
              " 47: ' Accounts Receivable Turnover',\n",
              " 48: ' Average Collection Days',\n",
              " 49: ' Inventory Turnover Rate (times)',\n",
              " 50: ' Fixed Assets Turnover Frequency',\n",
              " 51: ' Net Worth Turnover Rate (times)',\n",
              " 52: ' Revenue per person',\n",
              " 53: ' Operating profit per person',\n",
              " 54: ' Allocation rate per person',\n",
              " 55: ' Working Capital to Total Assets',\n",
              " 56: ' Quick Assets/Total Assets',\n",
              " 57: ' Current Assets/Total Assets',\n",
              " 58: ' Cash/Total Assets',\n",
              " 59: ' Quick Assets/Current Liability',\n",
              " 60: ' Cash/Current Liability',\n",
              " 61: ' Current Liability to Assets',\n",
              " 62: ' Operating Funds to Liability',\n",
              " 63: ' Inventory/Working Capital',\n",
              " 64: ' Inventory/Current Liability',\n",
              " 65: ' Current Liabilities/Liability',\n",
              " 66: ' Working Capital/Equity',\n",
              " 67: ' Current Liabilities/Equity',\n",
              " 68: ' Long-term Liability to Current Assets',\n",
              " 69: ' Retained Earnings to Total Assets',\n",
              " 70: ' Total income/Total expense',\n",
              " 71: ' Total expense/Assets',\n",
              " 72: ' Current Asset Turnover Rate',\n",
              " 73: ' Quick Asset Turnover Rate',\n",
              " 74: ' Working capitcal Turnover Rate',\n",
              " 75: ' Cash Turnover Rate',\n",
              " 76: ' Cash Flow to Sales',\n",
              " 77: ' Fixed Assets to Assets',\n",
              " 78: ' Current Liability to Liability',\n",
              " 79: ' Current Liability to Equity',\n",
              " 80: ' Equity to Long-term Liability',\n",
              " 81: ' Cash Flow to Total Assets',\n",
              " 82: ' Cash Flow to Liability',\n",
              " 83: ' CFO to Assets',\n",
              " 84: ' Cash Flow to Equity',\n",
              " 85: ' Current Liability to Current Assets',\n",
              " 86: ' Liability-Assets Flag',\n",
              " 87: ' Net Income to Total Assets',\n",
              " 88: ' Total assets to GNP price',\n",
              " 89: ' No-credit Interval',\n",
              " 90: ' Gross Profit to Sales',\n",
              " 91: \" Net Income to Stockholder's Equity\",\n",
              " 92: ' Liability to Equity',\n",
              " 93: ' Degree of Financial Leverage (DFL)',\n",
              " 94: ' Interest Coverage Ratio (Interest expense to EBIT)',\n",
              " 95: ' Net Income Flag',\n",
              " 96: ' Equity to Liability'}"
            ]
          },
          "metadata": {
            "tags": []
          },
          "execution_count": 62
        }
      ]
    },
    {
      "cell_type": "code",
      "metadata": {
        "colab": {
          "base_uri": "https://localhost:8080/",
          "height": 626
        },
        "id": "XsRB9W3srl-e",
        "outputId": "e934c9a9-2f3d-4c06-b8a5-4300bd464612"
      },
      "source": [
        "plt.style.use('ggplot')\n",
        "plt.figure(figsize = (10,10))\n",
        "plt.hist(df['response'], color = 'red')\n",
        "plt.xlabel('Bankrupted or not')\n",
        "plt.ylabel('Number')\n",
        "plt.title('Bankrupcy Distribution')\n",
        "plt.show()"
      ],
      "execution_count": null,
      "outputs": [
        {
          "output_type": "display_data",
          "data": {
            "image/png": "[encoded data removed]",
            "text/plain": [
              "<Figure size 720x720 with 1 Axes>"
            ]
          },
          "metadata": {
            "tags": []
          }
        }
      ]
    },
    {
      "cell_type": "code",
      "metadata": {
        "colab": {
          "base_uri": "https://localhost:8080/",
          "height": 1000
        },
        "id": "kexCYiH_pyal",
        "outputId": "f92977cf-3ac0-443b-bf4c-57805548a2a9"
      },
      "source": [
        "def pplot(df,a,b):\n",
        "    color = ['red','orange','yellow','green','blue','lightblue','purple','gray','red','orange','yellow','green','blue','lightblue','purple','gray']\n",
        "    int_col = df.select_dtypes(['int','float']).columns\n",
        "    l = range(len(df.columns))\n",
        "    col = df.columns\n",
        "    i = 0\n",
        "    plt.style.use('ggplot')\n",
        "    plt.figure(figsize = (b*5,a*5))\n",
        "    for i in l:\n",
        "        if col[i] in int_col:\n",
        "            plt.subplot(a,b,i+1)\n",
        "            sns.histplot(df[col[i]],kde = True, legend = True, color = color[i],bins = 15).set_title(col_namnes[i+1])\n",
        "            i = i+1\n",
        "        else:\n",
        "            plt.subplot(a,b,i+1)\n",
        "            sns.countplot(df[col[i]],color = color[i]).set_title(col[i])\n",
        "            i = i+1\n",
        "    plt.show()  "
      ],
      "execution_count": null,
      "outputs": [
        {
          "output_type": "display_data",
          "data": {
            "image/png": "[encoded data removed]",
            "text/plain": [
              "<Figure size 720x1800 with 10 Axes>"
            ]
          },
          "metadata": {
            "tags": []
          }
        }
      ]
    },
    {
      "cell_type": "code",
      "metadata": {
        "colab": {
          "base_uri": "https://localhost:8080/"
        },
        "id": "a6WCoUaIv3AJ",
        "outputId": "7cfba5f8-252f-418b-d15a-9f510eef971f"
      },
      "source": [
        "# bankrupcy against whether spent on resarch expenditure\n",
        "print(col_namnes[13])\n",
        "df['expense0_1'] = pd.cut(df[13],3,labels = ['low', 'medium','high'])\n",
        "expense = df.groupby(['expense0_1','response']).agg({'response':['count']}).reset_index()\n",
        "expense.columns = ['expense','Bankrupcy','y']"
      ],
      "execution_count": null,
      "outputs": [
        {
          "output_type": "stream",
          "text": [
            " Research and development expense rate\n"
          ],
          "name": "stdout"
        }
      ]
    },
    {
      "cell_type": "code",
      "metadata": {
        "colab": {
          "base_uri": "https://localhost:8080/",
          "height": 408
        },
        "id": "gYOplyj4ziZw",
        "outputId": "8d249b97-28be-41dd-d579-7fc146b7f51e"
      },
      "source": [
        "plt.figure(figsize = (8,5))\n",
        "sns.barplot('expense','y',hue = 'Bankrupcy', data = expense,palette='pastel')\n",
        "plt.ylabel('Number of Bankrupcy')\n",
        "plt.title(col_namnes[13])\n",
        "plt.show()"
      ],
      "execution_count": null,
      "outputs": [
        {
          "output_type": "stream",
          "text": [
            "/usr/local/lib/python3.7/dist-packages/seaborn/_decorators.py:43: FutureWarning: Pass the following variables as keyword args: x, y. From version 0.12, the only valid positional argument will be `data`, and passing other arguments without an explicit keyword will result in an error or misinterpretation.\n",
            "  FutureWarning\n"
          ],
          "name": "stderr"
        },
        {
          "output_type": "display_data",
          "data": {
            "image/png": "[encoded data removed]",
            "text/plain": [
              "<Figure size 576x360 with 1 Axes>"
            ]
          },
          "metadata": {
            "tags": []
          }
        }
      ]
    },
    {
      "cell_type": "markdown",
      "metadata": {
        "id": "BfthJgGm5IPv"
      },
      "source": [
        "## Machine Learning"
      ]
    },
    {
      "cell_type": "code",
      "metadata": {
        "id": "n_hYFEak5Hi7"
      },
      "source": [
        "X = df.drop(columns = ['response','expense0_1'])\n",
        "Y = df['response']\n",
        "from sklearn.model_selection import train_test_split\n",
        "X_train, X_test, Y_train, Y_test = train_test_split(X,Y,test_size = 0.25)"
      ],
      "execution_count": null,
      "outputs": []
    },
    {
      "cell_type": "code",
      "metadata": {
        "id": "bkPThjcWtoyL"
      },
      "source": [
        "def scale(X_train,X_test):\n",
        "  from sklearn.preprocessing import StandardScaler\n",
        "  sc = StandardScaler()\n",
        "  X_trainS = sc.fit_transform(X_train)\n",
        "  X_testS = sc.transform(X_test)\n",
        "  return (X_trainS,X_testS)\n",
        "X_trainS,X_testS = scale(X_train,X_test)"
      ],
      "execution_count": null,
      "outputs": []
    },
    {
      "cell_type": "code",
      "metadata": {
        "colab": {
          "base_uri": "https://localhost:8080/"
        },
        "id": "0lRK344M1OBP",
        "outputId": "22a0101b-8a28-47a3-cea4-2ceeff4a1941"
      },
      "source": [
        "x = sm.add_constant(np.array(X_trainS))\n",
        "y = np.array(Y_train)\n",
        "result = sm.GLM(y, x, data = df,family = sm.families.Binomial()).fit()"
      ],
      "execution_count": null,
      "outputs": [
        {
          "output_type": "stream",
          "text": [
            "/usr/local/lib/python3.7/dist-packages/statsmodels/genmod/families/links.py:190: RuntimeWarning: overflow encountered in exp\n",
            "  t = np.exp(-z)\n",
            "/usr/local/lib/python3.7/dist-packages/statsmodels/genmod/families/family.py:889: RuntimeWarning: invalid value encountered in true_divide\n",
            "  endog_mu = self._clean(endog / mu)\n",
            "/usr/local/lib/python3.7/dist-packages/statsmodels/genmod/families/family.py:890: RuntimeWarning: divide by zero encountered in true_divide\n",
            "  n_endog_mu = self._clean((1. - endog) / (1. - mu))\n",
            "/usr/local/lib/python3.7/dist-packages/statsmodels/genmod/families/family.py:890: RuntimeWarning: invalid value encountered in true_divide\n",
            "  n_endog_mu = self._clean((1. - endog) / (1. - mu))\n",
            "/usr/local/lib/python3.7/dist-packages/statsmodels/genmod/families/family.py:889: RuntimeWarning: divide by zero encountered in true_divide\n",
            "  endog_mu = self._clean(endog / mu)\n"
          ],
          "name": "stderr"
        }
      ]
    },
    {
      "cell_type": "code",
      "metadata": {
        "colab": {
          "base_uri": "https://localhost:8080/",
          "height": 1000
        },
        "id": "hCHby1PRtyyl",
        "outputId": "a7b55d03-85c5-421d-8642-e0403161f638"
      },
      "source": [
        "result.summary()"
      ],
      "execution_count": null,
      "outputs": [
        {
          "output_type": "stream",
          "text": [
            "/usr/local/lib/python3.7/dist-packages/statsmodels/genmod/families/links.py:190: RuntimeWarning: overflow encountered in exp\n",
            "  t = np.exp(-z)\n",
            "/usr/local/lib/python3.7/dist-packages/statsmodels/genmod/families/family.py:889: RuntimeWarning: divide by zero encountered in true_divide\n",
            "  endog_mu = self._clean(endog / mu)\n",
            "/usr/local/lib/python3.7/dist-packages/statsmodels/genmod/families/family.py:889: RuntimeWarning: invalid value encountered in true_divide\n",
            "  endog_mu = self._clean(endog / mu)\n",
            "/usr/local/lib/python3.7/dist-packages/statsmodels/genmod/families/family.py:890: RuntimeWarning: divide by zero encountered in true_divide\n",
            "  n_endog_mu = self._clean((1. - endog) / (1. - mu))\n",
            "/usr/local/lib/python3.7/dist-packages/statsmodels/genmod/families/family.py:890: RuntimeWarning: invalid value encountered in true_divide\n",
            "  n_endog_mu = self._clean((1. - endog) / (1. - mu))\n",
            "/usr/local/lib/python3.7/dist-packages/statsmodels/genmod/families/family.py:942: RuntimeWarning: divide by zero encountered in true_divide\n",
            "  special.gammaln(n - y + 1) + y * np.log(mu / (1 - mu)) +\n",
            "/usr/local/lib/python3.7/dist-packages/statsmodels/genmod/families/family.py:942: RuntimeWarning: divide by zero encountered in log\n",
            "  special.gammaln(n - y + 1) + y * np.log(mu / (1 - mu)) +\n",
            "/usr/local/lib/python3.7/dist-packages/statsmodels/genmod/families/family.py:942: RuntimeWarning: invalid value encountered in multiply\n",
            "  special.gammaln(n - y + 1) + y * np.log(mu / (1 - mu)) +\n",
            "/usr/local/lib/python3.7/dist-packages/statsmodels/genmod/families/family.py:943: RuntimeWarning: divide by zero encountered in log\n",
            "  n * np.log(1 - mu)) * var_weights\n",
            "/usr/local/lib/python3.7/dist-packages/statsmodels/genmod/families/family.py:943: RuntimeWarning: invalid value encountered in add\n",
            "  n * np.log(1 - mu)) * var_weights\n",
            "/usr/local/lib/python3.7/dist-packages/statsmodels/base/model.py:1294: RuntimeWarning: invalid value encountered in true_divide\n",
            "  return self.params / self.bse\n"
          ],
          "name": "stderr"
        },
        {
          "output_type": "execute_result",
          "data": {
            "text/html": [
              "<table class=\"simpletable\">\n",
              "<caption>Generalized Linear Model Regression Results</caption>\n",
              "<tr>\n",
              "  <th>Dep. Variable:</th>           <td>y</td>        <th>  No. Observations:  </th>  <td>  5114</td> \n",
              "</tr>\n",
              "<tr>\n",
              "  <th>Model:</th>                  <td>GLM</td>       <th>  Df Residuals:      </th>  <td>  5022</td> \n",
              "</tr>\n",
              "<tr>\n",
              "  <th>Model Family:</th>        <td>Binomial</td>     <th>  Df Model:          </th>  <td>    91</td> \n",
              "</tr>\n",
              "<tr>\n",
              "  <th>Link Function:</th>         <td>logit</td>      <th>  Scale:             </th> <td>  1.0000</td>\n",
              "</tr>\n",
              "<tr>\n",
              "  <th>Method:</th>                <td>IRLS</td>       <th>  Log-Likelihood:    </th> <td>     nan</td>\n",
              "</tr>\n",
              "<tr>\n",
              "  <th>Date:</th>            <td>Mon, 01 Mar 2021</td> <th>  Deviance:          </th> <td>     nan</td>\n",
              "</tr>\n",
              "<tr>\n",
              "  <th>Time:</th>                <td>17:02:55</td>     <th>  Pearson chi2:      </th> <td>7.97e+17</td>\n",
              "</tr>\n",
              "<tr>\n",
              "  <th>No. Iterations:</th>         <td>100</td>       <th>                     </th>     <td> </td>   \n",
              "</tr>\n",
              "<tr>\n",
              "  <th>Covariance Type:</th>     <td>nonrobust</td>    <th>                     </th>     <td> </td>   \n",
              "</tr>\n",
              "</table>\n",
              "<table class=\"simpletable\">\n",
              "<tr>\n",
              "    <td></td>       <th>coef</th>     <th>std err</th>      <th>z</th>      <th>P>|z|</th>  <th>[0.025</th>    <th>0.975]</th>  \n",
              "</tr>\n",
              "<tr>\n",
              "  <th>const</th> <td>-1.064e+15</td> <td> 9.38e+05</td> <td>-1.13e+09</td> <td> 0.000</td> <td>-1.06e+15</td> <td>-1.06e+15</td>\n",
              "</tr>\n",
              "<tr>\n",
              "  <th>x1</th>    <td>-4.731e+14</td> <td> 8.05e+06</td> <td>-5.88e+07</td> <td> 0.000</td> <td>-4.73e+14</td> <td>-4.73e+14</td>\n",
              "</tr>\n",
              "<tr>\n",
              "  <th>x2</th>    <td>-2.457e+13</td> <td> 6.54e+06</td> <td>-3.76e+06</td> <td> 0.000</td> <td>-2.46e+13</td> <td>-2.46e+13</td>\n",
              "</tr>\n",
              "<tr>\n",
              "  <th>x3</th>    <td> 5.764e+14</td> <td> 1.01e+07</td> <td> 5.73e+07</td> <td> 0.000</td> <td> 5.76e+14</td> <td> 5.76e+14</td>\n",
              "</tr>\n",
              "<tr>\n",
              "  <th>x4</th>    <td> 7.423e+16</td> <td> 7.31e+09</td> <td> 1.02e+07</td> <td> 0.000</td> <td> 7.42e+16</td> <td> 7.42e+16</td>\n",
              "</tr>\n",
              "<tr>\n",
              "  <th>x5</th>    <td> 1.009e+15</td> <td>  3.5e+07</td> <td> 2.88e+07</td> <td> 0.000</td> <td> 1.01e+15</td> <td> 1.01e+15</td>\n",
              "</tr>\n",
              "<tr>\n",
              "  <th>x6</th>    <td> 2.012e+18</td> <td> 2.28e+11</td> <td> 8.82e+06</td> <td> 0.000</td> <td> 2.01e+18</td> <td> 2.01e+18</td>\n",
              "</tr>\n",
              "<tr>\n",
              "  <th>x7</th>    <td>-1.394e+18</td> <td> 1.58e+11</td> <td>-8.83e+06</td> <td> 0.000</td> <td>-1.39e+18</td> <td>-1.39e+18</td>\n",
              "</tr>\n",
              "<tr>\n",
              "  <th>x8</th>    <td> 4.328e+14</td> <td> 9.12e+07</td> <td> 4.75e+06</td> <td> 0.000</td> <td> 4.33e+14</td> <td> 4.33e+14</td>\n",
              "</tr>\n",
              "<tr>\n",
              "  <th>x9</th>    <td> 8.025e+17</td> <td>  9.1e+10</td> <td> 8.82e+06</td> <td> 0.000</td> <td> 8.02e+17</td> <td> 8.02e+17</td>\n",
              "</tr>\n",
              "<tr>\n",
              "  <th>x10</th>   <td> 5.001e+14</td> <td> 6.54e+07</td> <td> 7.65e+06</td> <td> 0.000</td> <td>    5e+14</td> <td>    5e+14</td>\n",
              "</tr>\n",
              "<tr>\n",
              "  <th>x11</th>   <td>-1.732e+13</td> <td> 1.06e+06</td> <td>-1.63e+07</td> <td> 0.000</td> <td>-1.73e+13</td> <td>-1.73e+13</td>\n",
              "</tr>\n",
              "<tr>\n",
              "  <th>x12</th>   <td> 2.735e+13</td> <td> 9.88e+05</td> <td> 2.77e+07</td> <td> 0.000</td> <td> 2.74e+13</td> <td> 2.74e+13</td>\n",
              "</tr>\n",
              "<tr>\n",
              "  <th>x13</th>   <td>-1.299e+13</td> <td> 3.52e+06</td> <td>-3.69e+06</td> <td> 0.000</td> <td> -1.3e+13</td> <td> -1.3e+13</td>\n",
              "</tr>\n",
              "<tr>\n",
              "  <th>x14</th>   <td> 7.103e+12</td> <td> 9.64e+05</td> <td> 7.37e+06</td> <td> 0.000</td> <td>  7.1e+12</td> <td>  7.1e+12</td>\n",
              "</tr>\n",
              "<tr>\n",
              "  <th>x15</th>   <td> 8.124e+13</td> <td> 1.08e+06</td> <td> 7.51e+07</td> <td> 0.000</td> <td> 8.12e+13</td> <td> 8.12e+13</td>\n",
              "</tr>\n",
              "<tr>\n",
              "  <th>x16</th>   <td>-1.641e+15</td> <td>  2.4e+07</td> <td>-6.84e+07</td> <td> 0.000</td> <td>-1.64e+15</td> <td>-1.64e+15</td>\n",
              "</tr>\n",
              "<tr>\n",
              "  <th>x17</th>   <td> 1.662e+15</td> <td> 5.86e+07</td> <td> 2.83e+07</td> <td> 0.000</td> <td> 1.66e+15</td> <td> 1.66e+15</td>\n",
              "</tr>\n",
              "<tr>\n",
              "  <th>x18</th>   <td>-2.274e+14</td> <td> 5.34e+07</td> <td>-4.26e+06</td> <td> 0.000</td> <td>-2.27e+14</td> <td>-2.27e+14</td>\n",
              "</tr>\n",
              "<tr>\n",
              "  <th>x19</th>   <td>-4.257e+14</td> <td>  5.1e+06</td> <td>-8.34e+07</td> <td> 0.000</td> <td>-4.26e+14</td> <td>-4.26e+14</td>\n",
              "</tr>\n",
              "<tr>\n",
              "  <th>x20</th>   <td>-1.272e+14</td> <td> 1.92e+06</td> <td>-6.62e+07</td> <td> 0.000</td> <td>-1.27e+14</td> <td>-1.27e+14</td>\n",
              "</tr>\n",
              "<tr>\n",
              "  <th>x21</th>   <td> 4.391e+14</td> <td> 5.12e+06</td> <td> 8.58e+07</td> <td> 0.000</td> <td> 4.39e+14</td> <td> 4.39e+14</td>\n",
              "</tr>\n",
              "<tr>\n",
              "  <th>x22</th>   <td> 3.762e+14</td> <td> 2.62e+07</td> <td> 1.43e+07</td> <td> 0.000</td> <td> 3.76e+14</td> <td> 3.76e+14</td>\n",
              "</tr>\n",
              "<tr>\n",
              "  <th>x23</th>   <td> 1.648e+14</td> <td> 4.03e+06</td> <td> 4.08e+07</td> <td> 0.000</td> <td> 1.65e+14</td> <td> 1.65e+14</td>\n",
              "</tr>\n",
              "<tr>\n",
              "  <th>x24</th>   <td>-1.873e+13</td> <td> 9.63e+05</td> <td>-1.95e+07</td> <td> 0.000</td> <td>-1.87e+13</td> <td>-1.87e+13</td>\n",
              "</tr>\n",
              "<tr>\n",
              "  <th>x25</th>   <td>-3.219e+13</td> <td>  1.4e+06</td> <td> -2.3e+07</td> <td> 0.000</td> <td>-3.22e+13</td> <td>-3.22e+13</td>\n",
              "</tr>\n",
              "<tr>\n",
              "  <th>x26</th>   <td> 8.851e+13</td> <td> 1.04e+07</td> <td> 8.48e+06</td> <td> 0.000</td> <td> 8.85e+13</td> <td> 8.85e+13</td>\n",
              "</tr>\n",
              "<tr>\n",
              "  <th>x27</th>   <td>-1.404e+13</td> <td> 1.04e+07</td> <td>-1.35e+06</td> <td> 0.000</td> <td> -1.4e+13</td> <td> -1.4e+13</td>\n",
              "</tr>\n",
              "<tr>\n",
              "  <th>x28</th>   <td>  8.92e+13</td> <td> 1.02e+06</td> <td> 8.75e+07</td> <td> 0.000</td> <td> 8.92e+13</td> <td> 8.92e+13</td>\n",
              "</tr>\n",
              "<tr>\n",
              "  <th>x29</th>   <td>-6.466e+12</td> <td> 9.98e+05</td> <td>-6.48e+06</td> <td> 0.000</td> <td>-6.47e+12</td> <td>-6.47e+12</td>\n",
              "</tr>\n",
              "<tr>\n",
              "  <th>x30</th>   <td>-1.409e+13</td> <td> 1.13e+06</td> <td>-1.24e+07</td> <td> 0.000</td> <td>-1.41e+13</td> <td>-1.41e+13</td>\n",
              "</tr>\n",
              "<tr>\n",
              "  <th>x31</th>   <td>-4.523e+13</td> <td>  1.4e+06</td> <td>-3.23e+07</td> <td> 0.000</td> <td>-4.52e+13</td> <td>-4.52e+13</td>\n",
              "</tr>\n",
              "<tr>\n",
              "  <th>x32</th>   <td> 4.991e+13</td> <td> 1.87e+06</td> <td> 2.67e+07</td> <td> 0.000</td> <td> 4.99e+13</td> <td> 4.99e+13</td>\n",
              "</tr>\n",
              "<tr>\n",
              "  <th>x33</th>   <td>-6.707e+14</td> <td> 2.52e+06</td> <td>-2.67e+08</td> <td> 0.000</td> <td>-6.71e+14</td> <td>-6.71e+14</td>\n",
              "</tr>\n",
              "<tr>\n",
              "  <th>x34</th>   <td>-1.463e+13</td> <td>    1e+06</td> <td>-1.46e+07</td> <td> 0.000</td> <td>-1.46e+13</td> <td>-1.46e+13</td>\n",
              "</tr>\n",
              "<tr>\n",
              "  <th>x35</th>   <td> 4.757e+13</td> <td> 9.47e+05</td> <td> 5.02e+07</td> <td> 0.000</td> <td> 4.76e+13</td> <td> 4.76e+13</td>\n",
              "</tr>\n",
              "<tr>\n",
              "  <th>x36</th>   <td> 2.992e+14</td> <td> 1.25e+06</td> <td> 2.39e+08</td> <td> 0.000</td> <td> 2.99e+14</td> <td> 2.99e+14</td>\n",
              "</tr>\n",
              "<tr>\n",
              "  <th>x37</th>   <td>-4.064e+14</td> <td> 4.33e+07</td> <td>-9.39e+06</td> <td> 0.000</td> <td>-4.06e+14</td> <td>-4.06e+14</td>\n",
              "</tr>\n",
              "<tr>\n",
              "  <th>x38</th>   <td>-4.228e+14</td> <td> 4.33e+07</td> <td>-9.76e+06</td> <td> 0.000</td> <td>-4.23e+14</td> <td>-4.23e+14</td>\n",
              "</tr>\n",
              "<tr>\n",
              "  <th>x39</th>   <td>-2.368e+13</td> <td> 1.09e+06</td> <td>-2.17e+07</td> <td> 0.000</td> <td>-2.37e+13</td> <td>-2.37e+13</td>\n",
              "</tr>\n",
              "<tr>\n",
              "  <th>x40</th>   <td> 9.474e+13</td> <td> 6.32e+06</td> <td>  1.5e+07</td> <td> 0.000</td> <td> 9.47e+13</td> <td> 9.47e+13</td>\n",
              "</tr>\n",
              "<tr>\n",
              "  <th>x41</th>   <td>-1.225e+14</td> <td> 3.82e+06</td> <td> -3.2e+07</td> <td> 0.000</td> <td>-1.22e+14</td> <td>-1.22e+14</td>\n",
              "</tr>\n",
              "<tr>\n",
              "  <th>x42</th>   <td>-3.449e+14</td> <td> 2.64e+07</td> <td>-1.31e+07</td> <td> 0.000</td> <td>-3.45e+14</td> <td>-3.45e+14</td>\n",
              "</tr>\n",
              "<tr>\n",
              "  <th>x43</th>   <td>  1.19e+14</td> <td> 5.34e+06</td> <td> 2.23e+07</td> <td> 0.000</td> <td> 1.19e+14</td> <td> 1.19e+14</td>\n",
              "</tr>\n",
              "<tr>\n",
              "  <th>x44</th>   <td>  1.14e+14</td> <td> 6.38e+06</td> <td> 1.79e+07</td> <td> 0.000</td> <td> 1.14e+14</td> <td> 1.14e+14</td>\n",
              "</tr>\n",
              "<tr>\n",
              "  <th>x45</th>   <td> 2.721e+13</td> <td> 2.39e+06</td> <td> 1.14e+07</td> <td> 0.000</td> <td> 2.72e+13</td> <td> 2.72e+13</td>\n",
              "</tr>\n",
              "<tr>\n",
              "  <th>x46</th>   <td>-2.081e+14</td> <td>  1.3e+06</td> <td> -1.6e+08</td> <td> 0.000</td> <td>-2.08e+14</td> <td>-2.08e+14</td>\n",
              "</tr>\n",
              "<tr>\n",
              "  <th>x47</th>   <td> -6.57e+13</td> <td> 9.49e+05</td> <td>-6.93e+07</td> <td> 0.000</td> <td>-6.57e+13</td> <td>-6.57e+13</td>\n",
              "</tr>\n",
              "<tr>\n",
              "  <th>x48</th>   <td> 1.205e+13</td> <td> 1.02e+06</td> <td> 1.19e+07</td> <td> 0.000</td> <td> 1.21e+13</td> <td> 1.21e+13</td>\n",
              "</tr>\n",
              "<tr>\n",
              "  <th>x49</th>   <td> 2.909e+13</td> <td> 1.15e+06</td> <td> 2.52e+07</td> <td> 0.000</td> <td> 2.91e+13</td> <td> 2.91e+13</td>\n",
              "</tr>\n",
              "<tr>\n",
              "  <th>x50</th>   <td>-1.021e+14</td> <td> 2.53e+06</td> <td>-4.03e+07</td> <td> 0.000</td> <td>-1.02e+14</td> <td>-1.02e+14</td>\n",
              "</tr>\n",
              "<tr>\n",
              "  <th>x51</th>   <td>  5.08e+13</td> <td> 1.54e+06</td> <td> 3.29e+07</td> <td> 0.000</td> <td> 5.08e+13</td> <td> 5.08e+13</td>\n",
              "</tr>\n",
              "<tr>\n",
              "  <th>x52</th>   <td> 1.126e+13</td> <td> 1.41e+06</td> <td> 7.98e+06</td> <td> 0.000</td> <td> 1.13e+13</td> <td> 1.13e+13</td>\n",
              "</tr>\n",
              "<tr>\n",
              "  <th>x53</th>   <td>-5.261e+13</td> <td> 1.01e+06</td> <td>-5.19e+07</td> <td> 0.000</td> <td>-5.26e+13</td> <td>-5.26e+13</td>\n",
              "</tr>\n",
              "<tr>\n",
              "  <th>x54</th>   <td>    -4e+21</td> <td> 4.17e+14</td> <td>-9.59e+06</td> <td> 0.000</td> <td>   -4e+21</td> <td>   -4e+21</td>\n",
              "</tr>\n",
              "<tr>\n",
              "  <th>x55</th>   <td> 4.519e+13</td> <td> 2.09e+06</td> <td> 2.17e+07</td> <td> 0.000</td> <td> 4.52e+13</td> <td> 4.52e+13</td>\n",
              "</tr>\n",
              "<tr>\n",
              "  <th>x56</th>   <td> 4.004e+21</td> <td> 4.17e+14</td> <td> 9.59e+06</td> <td> 0.000</td> <td>    4e+21</td> <td>    4e+21</td>\n",
              "</tr>\n",
              "<tr>\n",
              "  <th>x57</th>   <td>-1.929e+14</td> <td> 1.67e+06</td> <td>-1.16e+08</td> <td> 0.000</td> <td>-1.93e+14</td> <td>-1.93e+14</td>\n",
              "</tr>\n",
              "<tr>\n",
              "  <th>x58</th>   <td> 6.744e+13</td> <td> 1.85e+06</td> <td> 3.64e+07</td> <td> 0.000</td> <td> 6.74e+13</td> <td> 6.74e+13</td>\n",
              "</tr>\n",
              "<tr>\n",
              "  <th>x59</th>   <td>-2.431e+13</td> <td> 9.71e+05</td> <td> -2.5e+07</td> <td> 0.000</td> <td>-2.43e+13</td> <td>-2.43e+13</td>\n",
              "</tr>\n",
              "<tr>\n",
              "  <th>x60</th>   <td>-3.047e+21</td> <td> 3.18e+14</td> <td>-9.59e+06</td> <td> 0.000</td> <td>-3.05e+21</td> <td>-3.05e+21</td>\n",
              "</tr>\n",
              "<tr>\n",
              "  <th>x61</th>   <td>-1.773e+14</td> <td> 3.43e+06</td> <td>-5.17e+07</td> <td> 0.000</td> <td>-1.77e+14</td> <td>-1.77e+14</td>\n",
              "</tr>\n",
              "<tr>\n",
              "  <th>x62</th>   <td>-2.118e+13</td> <td> 1.04e+06</td> <td>-2.05e+07</td> <td> 0.000</td> <td>-2.12e+13</td> <td>-2.12e+13</td>\n",
              "</tr>\n",
              "<tr>\n",
              "  <th>x63</th>   <td> 1.327e+13</td> <td> 9.86e+05</td> <td> 1.35e+07</td> <td> 0.000</td> <td> 1.33e+13</td> <td> 1.33e+13</td>\n",
              "</tr>\n",
              "<tr>\n",
              "  <th>x64</th>   <td> 7.332e+13</td> <td> 8.04e+06</td> <td> 9.12e+06</td> <td> 0.000</td> <td> 7.33e+13</td> <td> 7.33e+13</td>\n",
              "</tr>\n",
              "<tr>\n",
              "  <th>x65</th>   <td>-3.516e+14</td> <td> 7.97e+06</td> <td>-4.41e+07</td> <td> 0.000</td> <td>-3.52e+14</td> <td>-3.52e+14</td>\n",
              "</tr>\n",
              "<tr>\n",
              "  <th>x66</th>   <td>-2.396e+14</td> <td>    1e+07</td> <td> -2.4e+07</td> <td> 0.000</td> <td> -2.4e+14</td> <td> -2.4e+14</td>\n",
              "</tr>\n",
              "<tr>\n",
              "  <th>x67</th>   <td>-2.016e+13</td> <td> 9.58e+05</td> <td>-2.11e+07</td> <td> 0.000</td> <td>-2.02e+13</td> <td>-2.02e+13</td>\n",
              "</tr>\n",
              "<tr>\n",
              "  <th>x68</th>   <td>-1.549e+12</td> <td> 1.91e+06</td> <td> -8.1e+05</td> <td> 0.000</td> <td>-1.55e+12</td> <td>-1.55e+12</td>\n",
              "</tr>\n",
              "<tr>\n",
              "  <th>x69</th>   <td>-6.081e+13</td> <td> 1.36e+06</td> <td>-4.49e+07</td> <td> 0.000</td> <td>-6.08e+13</td> <td>-6.08e+13</td>\n",
              "</tr>\n",
              "<tr>\n",
              "  <th>x70</th>   <td>-6.535e+13</td> <td> 1.85e+06</td> <td>-3.54e+07</td> <td> 0.000</td> <td>-6.54e+13</td> <td>-6.54e+13</td>\n",
              "</tr>\n",
              "<tr>\n",
              "  <th>x71</th>   <td> 1.191e+13</td> <td> 1.16e+06</td> <td> 1.03e+07</td> <td> 0.000</td> <td> 1.19e+13</td> <td> 1.19e+13</td>\n",
              "</tr>\n",
              "<tr>\n",
              "  <th>x72</th>   <td> 2.868e+13</td> <td> 1.13e+06</td> <td> 2.55e+07</td> <td> 0.000</td> <td> 2.87e+13</td> <td> 2.87e+13</td>\n",
              "</tr>\n",
              "<tr>\n",
              "  <th>x73</th>   <td>-3.858e+14</td> <td> 2.22e+07</td> <td>-1.73e+07</td> <td> 0.000</td> <td>-3.86e+14</td> <td>-3.86e+14</td>\n",
              "</tr>\n",
              "<tr>\n",
              "  <th>x74</th>   <td>-1.505e+13</td> <td> 1.01e+06</td> <td>-1.49e+07</td> <td> 0.000</td> <td>-1.51e+13</td> <td>-1.51e+13</td>\n",
              "</tr>\n",
              "<tr>\n",
              "  <th>x75</th>   <td> 3.076e+14</td> <td> 3.56e+06</td> <td> 8.65e+07</td> <td> 0.000</td> <td> 3.08e+14</td> <td> 3.08e+14</td>\n",
              "</tr>\n",
              "<tr>\n",
              "  <th>x76</th>   <td> 2.539e+12</td> <td> 1.57e+06</td> <td> 1.62e+06</td> <td> 0.000</td> <td> 2.54e+12</td> <td> 2.54e+12</td>\n",
              "</tr>\n",
              "<tr>\n",
              "  <th>x77</th>   <td>-7.789e+13</td> <td> 8.01e+06</td> <td>-9.72e+06</td> <td> 0.000</td> <td>-7.79e+13</td> <td>-7.79e+13</td>\n",
              "</tr>\n",
              "<tr>\n",
              "  <th>x78</th>   <td>-1.467e+14</td> <td>    1e+07</td> <td>-1.47e+07</td> <td> 0.000</td> <td>-1.47e+14</td> <td>-1.47e+14</td>\n",
              "</tr>\n",
              "<tr>\n",
              "  <th>x79</th>   <td>-6.503e+13</td> <td> 6.81e+06</td> <td>-9.56e+06</td> <td> 0.000</td> <td> -6.5e+13</td> <td> -6.5e+13</td>\n",
              "</tr>\n",
              "<tr>\n",
              "  <th>x80</th>   <td> 1.653e+13</td> <td> 2.07e+06</td> <td>    8e+06</td> <td> 0.000</td> <td> 1.65e+13</td> <td> 1.65e+13</td>\n",
              "</tr>\n",
              "<tr>\n",
              "  <th>x81</th>   <td>-2.138e+14</td> <td> 1.56e+06</td> <td>-1.37e+08</td> <td> 0.000</td> <td>-2.14e+14</td> <td>-2.14e+14</td>\n",
              "</tr>\n",
              "<tr>\n",
              "  <th>x82</th>   <td> 6.898e+13</td> <td> 2.55e+06</td> <td> 2.71e+07</td> <td> 0.000</td> <td>  6.9e+13</td> <td>  6.9e+13</td>\n",
              "</tr>\n",
              "<tr>\n",
              "  <th>x83</th>   <td> 7.931e+13</td> <td> 1.89e+06</td> <td> 4.19e+07</td> <td> 0.000</td> <td> 7.93e+13</td> <td> 7.93e+13</td>\n",
              "</tr>\n",
              "<tr>\n",
              "  <th>x84</th>   <td>-1.234e+14</td> <td> 1.79e+06</td> <td>-6.89e+07</td> <td> 0.000</td> <td>-1.23e+14</td> <td>-1.23e+14</td>\n",
              "</tr>\n",
              "<tr>\n",
              "  <th>x85</th>   <td> 1.159e+14</td> <td> 1.61e+06</td> <td> 7.22e+07</td> <td> 0.000</td> <td> 1.16e+14</td> <td> 1.16e+14</td>\n",
              "</tr>\n",
              "<tr>\n",
              "  <th>x86</th>   <td>-4.417e+13</td> <td> 5.12e+06</td> <td>-8.62e+06</td> <td> 0.000</td> <td>-4.42e+13</td> <td>-4.42e+13</td>\n",
              "</tr>\n",
              "<tr>\n",
              "  <th>x87</th>   <td>-1.715e+13</td> <td>    1e+06</td> <td>-1.71e+07</td> <td> 0.000</td> <td>-1.71e+13</td> <td>-1.71e+13</td>\n",
              "</tr>\n",
              "<tr>\n",
              "  <th>x88</th>   <td>-1.148e+12</td> <td> 9.55e+05</td> <td> -1.2e+06</td> <td> 0.000</td> <td>-1.15e+12</td> <td>-1.15e+12</td>\n",
              "</tr>\n",
              "<tr>\n",
              "  <th>x89</th>   <td> -7.52e+16</td> <td> 7.31e+09</td> <td>-1.03e+07</td> <td> 0.000</td> <td>-7.52e+16</td> <td>-7.52e+16</td>\n",
              "</tr>\n",
              "<tr>\n",
              "  <th>x90</th>   <td> 1.187e+14</td> <td> 3.75e+06</td> <td> 3.16e+07</td> <td> 0.000</td> <td> 1.19e+14</td> <td> 1.19e+14</td>\n",
              "</tr>\n",
              "<tr>\n",
              "  <th>x91</th>   <td> 2.905e+14</td> <td>  2.3e+07</td> <td> 1.26e+07</td> <td> 0.000</td> <td> 2.91e+14</td> <td> 2.91e+14</td>\n",
              "</tr>\n",
              "<tr>\n",
              "  <th>x92</th>   <td> 1.587e+13</td> <td> 9.41e+05</td> <td> 1.69e+07</td> <td> 0.000</td> <td> 1.59e+13</td> <td> 1.59e+13</td>\n",
              "</tr>\n",
              "<tr>\n",
              "  <th>x93</th>   <td>-2.267e+13</td> <td> 9.43e+05</td> <td> -2.4e+07</td> <td> 0.000</td> <td>-2.27e+13</td> <td>-2.27e+13</td>\n",
              "</tr>\n",
              "<tr>\n",
              "  <th>x94</th>   <td>         0</td> <td>        0</td> <td>      nan</td> <td>   nan</td> <td>        0</td> <td>        0</td>\n",
              "</tr>\n",
              "<tr>\n",
              "  <th>x95</th>   <td>-2.052e+14</td> <td> 2.38e+06</td> <td>-8.62e+07</td> <td> 0.000</td> <td>-2.05e+14</td> <td>-2.05e+14</td>\n",
              "</tr>\n",
              "</table>"
            ],
            "text/plain": [
              "<class 'statsmodels.iolib.summary.Summary'>\n",
              "\"\"\"\n",
              "                 Generalized Linear Model Regression Results                  \n",
              "==============================================================================\n",
              "Dep. Variable:                      y   No. Observations:                 5114\n",
              "Model:                            GLM   Df Residuals:                     5022\n",
              "Model Family:                Binomial   Df Model:                           91\n",
              "Link Function:                  logit   Scale:                          1.0000\n",
              "Method:                          IRLS   Log-Likelihood:                    nan\n",
              "Date:                Mon, 01 Mar 2021   Deviance:                          nan\n",
              "Time:                        17:02:55   Pearson chi2:                 7.97e+17\n",
              "No. Iterations:                   100                                         \n",
              "Covariance Type:            nonrobust                                         \n",
              "==============================================================================\n",
              "                 coef    std err          z      P>|z|      [0.025      0.975]\n",
              "------------------------------------------------------------------------------\n",
              "const      -1.064e+15   9.38e+05  -1.13e+09      0.000   -1.06e+15   -1.06e+15\n",
              "x1         -4.731e+14   8.05e+06  -5.88e+07      0.000   -4.73e+14   -4.73e+14\n",
              "x2         -2.457e+13   6.54e+06  -3.76e+06      0.000   -2.46e+13   -2.46e+13\n",
              "x3          5.764e+14   1.01e+07   5.73e+07      0.000    5.76e+14    5.76e+14\n",
              "x4          7.423e+16   7.31e+09   1.02e+07      0.000    7.42e+16    7.42e+16\n",
              "x5          1.009e+15    3.5e+07   2.88e+07      0.000    1.01e+15    1.01e+15\n",
              "x6          2.012e+18   2.28e+11   8.82e+06      0.000    2.01e+18    2.01e+18\n",
              "x7         -1.394e+18   1.58e+11  -8.83e+06      0.000   -1.39e+18   -1.39e+18\n",
              "x8          4.328e+14   9.12e+07   4.75e+06      0.000    4.33e+14    4.33e+14\n",
              "x9          8.025e+17    9.1e+10   8.82e+06      0.000    8.02e+17    8.02e+17\n",
              "x10         5.001e+14   6.54e+07   7.65e+06      0.000       5e+14       5e+14\n",
              "x11        -1.732e+13   1.06e+06  -1.63e+07      0.000   -1.73e+13   -1.73e+13\n",
              "x12         2.735e+13   9.88e+05   2.77e+07      0.000    2.74e+13    2.74e+13\n",
              "x13        -1.299e+13   3.52e+06  -3.69e+06      0.000    -1.3e+13    -1.3e+13\n",
              "x14         7.103e+12   9.64e+05   7.37e+06      0.000     7.1e+12     7.1e+12\n",
              "x15         8.124e+13   1.08e+06   7.51e+07      0.000    8.12e+13    8.12e+13\n",
              "x16        -1.641e+15    2.4e+07  -6.84e+07      0.000   -1.64e+15   -1.64e+15\n",
              "x17         1.662e+15   5.86e+07   2.83e+07      0.000    1.66e+15    1.66e+15\n",
              "x18        -2.274e+14   5.34e+07  -4.26e+06      0.000   -2.27e+14   -2.27e+14\n",
              "x19        -4.257e+14    5.1e+06  -8.34e+07      0.000   -4.26e+14   -4.26e+14\n",
              "x20        -1.272e+14   1.92e+06  -6.62e+07      0.000   -1.27e+14   -1.27e+14\n",
              "x21         4.391e+14   5.12e+06   8.58e+07      0.000    4.39e+14    4.39e+14\n",
              "x22         3.762e+14   2.62e+07   1.43e+07      0.000    3.76e+14    3.76e+14\n",
              "x23         1.648e+14   4.03e+06   4.08e+07      0.000    1.65e+14    1.65e+14\n",
              "x24        -1.873e+13   9.63e+05  -1.95e+07      0.000   -1.87e+13   -1.87e+13\n",
              "x25        -3.219e+13    1.4e+06   -2.3e+07      0.000   -3.22e+13   -3.22e+13\n",
              "x26         8.851e+13   1.04e+07   8.48e+06      0.000    8.85e+13    8.85e+13\n",
              "x27        -1.404e+13   1.04e+07  -1.35e+06      0.000    -1.4e+13    -1.4e+13\n",
              "x28          8.92e+13   1.02e+06   8.75e+07      0.000    8.92e+13    8.92e+13\n",
              "x29        -6.466e+12   9.98e+05  -6.48e+06      0.000   -6.47e+12   -6.47e+12\n",
              "x30        -1.409e+13   1.13e+06  -1.24e+07      0.000   -1.41e+13   -1.41e+13\n",
              "x31        -4.523e+13    1.4e+06  -3.23e+07      0.000   -4.52e+13   -4.52e+13\n",
              "x32         4.991e+13   1.87e+06   2.67e+07      0.000    4.99e+13    4.99e+13\n",
              "x33        -6.707e+14   2.52e+06  -2.67e+08      0.000   -6.71e+14   -6.71e+14\n",
              "x34        -1.463e+13      1e+06  -1.46e+07      0.000   -1.46e+13   -1.46e+13\n",
              "x35         4.757e+13   9.47e+05   5.02e+07      0.000    4.76e+13    4.76e+13\n",
              "x36         2.992e+14   1.25e+06   2.39e+08      0.000    2.99e+14    2.99e+14\n",
              "x37        -4.064e+14   4.33e+07  -9.39e+06      0.000   -4.06e+14   -4.06e+14\n",
              "x38        -4.228e+14   4.33e+07  -9.76e+06      0.000   -4.23e+14   -4.23e+14\n",
              "x39        -2.368e+13   1.09e+06  -2.17e+07      0.000   -2.37e+13   -2.37e+13\n",
              "x40         9.474e+13   6.32e+06    1.5e+07      0.000    9.47e+13    9.47e+13\n",
              "x41        -1.225e+14   3.82e+06   -3.2e+07      0.000   -1.22e+14   -1.22e+14\n",
              "x42        -3.449e+14   2.64e+07  -1.31e+07      0.000   -3.45e+14   -3.45e+14\n",
              "x43          1.19e+14   5.34e+06   2.23e+07      0.000    1.19e+14    1.19e+14\n",
              "x44          1.14e+14   6.38e+06   1.79e+07      0.000    1.14e+14    1.14e+14\n",
              "x45         2.721e+13   2.39e+06   1.14e+07      0.000    2.72e+13    2.72e+13\n",
              "x46        -2.081e+14    1.3e+06   -1.6e+08      0.000   -2.08e+14   -2.08e+14\n",
              "x47         -6.57e+13   9.49e+05  -6.93e+07      0.000   -6.57e+13   -6.57e+13\n",
              "x48         1.205e+13   1.02e+06   1.19e+07      0.000    1.21e+13    1.21e+13\n",
              "x49         2.909e+13   1.15e+06   2.52e+07      0.000    2.91e+13    2.91e+13\n",
              "x50        -1.021e+14   2.53e+06  -4.03e+07      0.000   -1.02e+14   -1.02e+14\n",
              "x51          5.08e+13   1.54e+06   3.29e+07      0.000    5.08e+13    5.08e+13\n",
              "x52         1.126e+13   1.41e+06   7.98e+06      0.000    1.13e+13    1.13e+13\n",
              "x53        -5.261e+13   1.01e+06  -5.19e+07      0.000   -5.26e+13   -5.26e+13\n",
              "x54            -4e+21   4.17e+14  -9.59e+06      0.000      -4e+21      -4e+21\n",
              "x55         4.519e+13   2.09e+06   2.17e+07      0.000    4.52e+13    4.52e+13\n",
              "x56         4.004e+21   4.17e+14   9.59e+06      0.000       4e+21       4e+21\n",
              "x57        -1.929e+14   1.67e+06  -1.16e+08      0.000   -1.93e+14   -1.93e+14\n",
              "x58         6.744e+13   1.85e+06   3.64e+07      0.000    6.74e+13    6.74e+13\n",
              "x59        -2.431e+13   9.71e+05   -2.5e+07      0.000   -2.43e+13   -2.43e+13\n",
              "x60        -3.047e+21   3.18e+14  -9.59e+06      0.000   -3.05e+21   -3.05e+21\n",
              "x61        -1.773e+14   3.43e+06  -5.17e+07      0.000   -1.77e+14   -1.77e+14\n",
              "x62        -2.118e+13   1.04e+06  -2.05e+07      0.000   -2.12e+13   -2.12e+13\n",
              "x63         1.327e+13   9.86e+05   1.35e+07      0.000    1.33e+13    1.33e+13\n",
              "x64         7.332e+13   8.04e+06   9.12e+06      0.000    7.33e+13    7.33e+13\n",
              "x65        -3.516e+14   7.97e+06  -4.41e+07      0.000   -3.52e+14   -3.52e+14\n",
              "x66        -2.396e+14      1e+07   -2.4e+07      0.000    -2.4e+14    -2.4e+14\n",
              "x67        -2.016e+13   9.58e+05  -2.11e+07      0.000   -2.02e+13   -2.02e+13\n",
              "x68        -1.549e+12   1.91e+06   -8.1e+05      0.000   -1.55e+12   -1.55e+12\n",
              "x69        -6.081e+13   1.36e+06  -4.49e+07      0.000   -6.08e+13   -6.08e+13\n",
              "x70        -6.535e+13   1.85e+06  -3.54e+07      0.000   -6.54e+13   -6.54e+13\n",
              "x71         1.191e+13   1.16e+06   1.03e+07      0.000    1.19e+13    1.19e+13\n",
              "x72         2.868e+13   1.13e+06   2.55e+07      0.000    2.87e+13    2.87e+13\n",
              "x73        -3.858e+14   2.22e+07  -1.73e+07      0.000   -3.86e+14   -3.86e+14\n",
              "x74        -1.505e+13   1.01e+06  -1.49e+07      0.000   -1.51e+13   -1.51e+13\n",
              "x75         3.076e+14   3.56e+06   8.65e+07      0.000    3.08e+14    3.08e+14\n",
              "x76         2.539e+12   1.57e+06   1.62e+06      0.000    2.54e+12    2.54e+12\n",
              "x77        -7.789e+13   8.01e+06  -9.72e+06      0.000   -7.79e+13   -7.79e+13\n",
              "x78        -1.467e+14      1e+07  -1.47e+07      0.000   -1.47e+14   -1.47e+14\n",
              "x79        -6.503e+13   6.81e+06  -9.56e+06      0.000    -6.5e+13    -6.5e+13\n",
              "x80         1.653e+13   2.07e+06      8e+06      0.000    1.65e+13    1.65e+13\n",
              "x81        -2.138e+14   1.56e+06  -1.37e+08      0.000   -2.14e+14   -2.14e+14\n",
              "x82         6.898e+13   2.55e+06   2.71e+07      0.000     6.9e+13     6.9e+13\n",
              "x83         7.931e+13   1.89e+06   4.19e+07      0.000    7.93e+13    7.93e+13\n",
              "x84        -1.234e+14   1.79e+06  -6.89e+07      0.000   -1.23e+14   -1.23e+14\n",
              "x85         1.159e+14   1.61e+06   7.22e+07      0.000    1.16e+14    1.16e+14\n",
              "x86        -4.417e+13   5.12e+06  -8.62e+06      0.000   -4.42e+13   -4.42e+13\n",
              "x87        -1.715e+13      1e+06  -1.71e+07      0.000   -1.71e+13   -1.71e+13\n",
              "x88        -1.148e+12   9.55e+05   -1.2e+06      0.000   -1.15e+12   -1.15e+12\n",
              "x89         -7.52e+16   7.31e+09  -1.03e+07      0.000   -7.52e+16   -7.52e+16\n",
              "x90         1.187e+14   3.75e+06   3.16e+07      0.000    1.19e+14    1.19e+14\n",
              "x91         2.905e+14    2.3e+07   1.26e+07      0.000    2.91e+14    2.91e+14\n",
              "x92         1.587e+13   9.41e+05   1.69e+07      0.000    1.59e+13    1.59e+13\n",
              "x93        -2.267e+13   9.43e+05   -2.4e+07      0.000   -2.27e+13   -2.27e+13\n",
              "x94                 0          0        nan        nan           0           0\n",
              "x95        -2.052e+14   2.38e+06  -8.62e+07      0.000   -2.05e+14   -2.05e+14\n",
              "==============================================================================\n",
              "\"\"\""
            ]
          },
          "metadata": {
            "tags": []
          },
          "execution_count": 34
        }
      ]
    },
    {
      "cell_type": "markdown",
      "metadata": {
        "id": "6enV4Moqt5vl"
      },
      "source": [
        "### Run Logistic Regression"
      ]
    },
    {
      "cell_type": "code",
      "metadata": {
        "id": "AZjLLC7y7NKE",
        "colab": {
          "base_uri": "https://localhost:8080/"
        },
        "outputId": "e2159eff-d810-4e36-cf44-4a1b1c27a055"
      },
      "source": [
        "def logistic(X_train, X_test, Y_train, Y_test):\n",
        "    from sklearn.linear_model import LogisticRegression\n",
        "    classifier = LogisticRegression()\n",
        "    classifier.fit(X_train,Y_train)\n",
        "    \n",
        "    y_pred = classifier.predict(X_test)\n",
        "    return(y_pred)\n",
        "y_pred = logistic(X_trainS, X_testS, Y_train, Y_test).ravel()"
      ],
      "execution_count": null,
      "outputs": [
        {
          "output_type": "stream",
          "text": [
            "/usr/local/lib/python3.7/dist-packages/sklearn/linear_model/_logistic.py:940: ConvergenceWarning: lbfgs failed to converge (status=1):\n",
            "STOP: TOTAL NO. of ITERATIONS REACHED LIMIT.\n",
            "\n",
            "Increase the number of iterations (max_iter) or scale the data as shown in:\n",
            "    https://scikit-learn.org/stable/modules/preprocessing.html\n",
            "Please also refer to the documentation for alternative solver options:\n",
            "    https://scikit-learn.org/stable/modules/linear_model.html#logistic-regression\n",
            "  extra_warning_msg=_LOGISTIC_SOLVER_CONVERGENCE_MSG)\n"
          ],
          "name": "stderr"
        }
      ]
    },
    {
      "cell_type": "code",
      "metadata": {
        "colab": {
          "base_uri": "https://localhost:8080/"
        },
        "id": "MB-gK_Kar7If",
        "outputId": "f83d34a1-3ccd-4128-cd66-5df8d6b2c8f8"
      },
      "source": [
        "from sklearn.metrics import confusion_matrix, accuracy_score, classification_report\n",
        "def result_table(Y_test, y_pred ):\n",
        "  cm = confusion_matrix(Y_test, y_pred)\n",
        "  print(cm)\n",
        "  print(classification_report(Y_test, y_pred))\n",
        "result_table(Y_test, y_pred)"
      ],
      "execution_count": null,
      "outputs": [
        {
          "output_type": "stream",
          "text": [
            "[[1648   11]\n",
            " [  33   13]]\n",
            "              precision    recall  f1-score   support\n",
            "\n",
            "           0       0.98      0.99      0.99      1659\n",
            "           1       0.54      0.28      0.37        46\n",
            "\n",
            "    accuracy                           0.97      1705\n",
            "   macro avg       0.76      0.64      0.68      1705\n",
            "weighted avg       0.97      0.97      0.97      1705\n",
            "\n"
          ],
          "name": "stdout"
        }
      ]
    },
    {
      "cell_type": "markdown",
      "metadata": {
        "id": "qnxXz8evxAu7"
      },
      "source": [
        "### Knn"
      ]
    },
    {
      "cell_type": "code",
      "metadata": {
        "id": "Ai2Aab93w89I"
      },
      "source": [
        "def knn(X_train, X_test, Y_train, Y_test):\n",
        "    from sklearn.neighbors import KNeighborsClassifier\n",
        "    classifier = KNeighborsClassifier(n_neighbors = int(np.sqrt(len(X_train))+1), p = 2) # euclidean_distance\n",
        "    classifier.fit(X_train,Y_train)\n",
        "    \n",
        "    y_pred = classifier.predict(X_test)\n",
        "    return(y_pred)\n",
        "y_pred = knn(X_trainS,X_testS,Y_train,Y_test).ravel()"
      ],
      "execution_count": null,
      "outputs": []
    },
    {
      "cell_type": "code",
      "metadata": {
        "colab": {
          "base_uri": "https://localhost:8080/"
        },
        "id": "CFfNRVd-xI9q",
        "outputId": "9c400f06-9283-44c6-87d5-291110173f8e"
      },
      "source": [
        "result_table(Y_test, y_pred)"
      ],
      "execution_count": null,
      "outputs": [
        {
          "output_type": "stream",
          "text": [
            "[[1659    0]\n",
            " [  46    0]]\n",
            "              precision    recall  f1-score   support\n",
            "\n",
            "           0       0.97      1.00      0.99      1659\n",
            "           1       0.00      0.00      0.00        46\n",
            "\n",
            "    accuracy                           0.97      1705\n",
            "   macro avg       0.49      0.50      0.49      1705\n",
            "weighted avg       0.95      0.97      0.96      1705\n",
            "\n"
          ],
          "name": "stdout"
        },
        {
          "output_type": "stream",
          "text": [
            "/usr/local/lib/python3.7/dist-packages/sklearn/metrics/_classification.py:1272: UndefinedMetricWarning: Precision and F-score are ill-defined and being set to 0.0 in labels with no predicted samples. Use `zero_division` parameter to control this behavior.\n",
            "  _warn_prf(average, modifier, msg_start, len(result))\n"
          ],
          "name": "stderr"
        }
      ]
    },
    {
      "cell_type": "markdown",
      "metadata": {
        "id": "PjbA5PlPzAvf"
      },
      "source": [
        "### SVM"
      ]
    },
    {
      "cell_type": "code",
      "metadata": {
        "id": "a9dTb2VTzFIa"
      },
      "source": [
        "def svm(X_train, X_test, Y_train, Y_test):\n",
        "    from sklearn.svm import SVC\n",
        "    classifier = SVC(kernel = 'linear')\n",
        "    classifier.fit(X_train,Y_train)\n",
        "    \n",
        "    y_pred = classifier.predict(X_test)\n",
        "    return(y_pred)\n",
        "\n",
        "y_pred = svm(X_trainS,X_testS,Y_train,Y_test).ravel()"
      ],
      "execution_count": null,
      "outputs": []
    },
    {
      "cell_type": "code",
      "metadata": {
        "colab": {
          "base_uri": "https://localhost:8080/"
        },
        "id": "dXCUlxk9zTJg",
        "outputId": "ed3b3aa7-9ac1-45e3-d4b1-c13fb0987057"
      },
      "source": [
        "result_table(Y_test, y_pred)"
      ],
      "execution_count": null,
      "outputs": [
        {
          "output_type": "stream",
          "text": [
            "[[1655    4]\n",
            " [  41    5]]\n",
            "              precision    recall  f1-score   support\n",
            "\n",
            "           0       0.98      1.00      0.99      1659\n",
            "           1       0.56      0.11      0.18        46\n",
            "\n",
            "    accuracy                           0.97      1705\n",
            "   macro avg       0.77      0.55      0.58      1705\n",
            "weighted avg       0.96      0.97      0.96      1705\n",
            "\n"
          ],
          "name": "stdout"
        }
      ]
    },
    {
      "cell_type": "markdown",
      "metadata": {
        "id": "Xw1VXqb-z67D"
      },
      "source": [
        "### Decision tree"
      ]
    },
    {
      "cell_type": "code",
      "metadata": {
        "id": "8oOus8uhz9jz"
      },
      "source": [
        "def tree(X_train, X_test, Y_train, Y_test):\n",
        "    from sklearn.tree import DecisionTreeClassifier\n",
        "    classifier = DecisionTreeClassifier(criterion = 'entropy')\n",
        "    classifier.fit(X_train, Y_train)\n",
        "    \n",
        "    y_pred = classifier.predict(X_test)\n",
        "    return(y_pred)\n",
        "\n",
        "y_pred = tree(X_trainS,X_testS,Y_train,Y_test).ravel()"
      ],
      "execution_count": null,
      "outputs": []
    },
    {
      "cell_type": "code",
      "metadata": {
        "colab": {
          "base_uri": "https://localhost:8080/"
        },
        "id": "Jdje6gxp0Wnw",
        "outputId": "9d992332-2858-4e80-9d02-77b01d058ed9"
      },
      "source": [
        "result_table(Y_test, y_pred)"
      ],
      "execution_count": null,
      "outputs": [
        {
          "output_type": "stream",
          "text": [
            "[[1612   47]\n",
            " [  36   10]]\n",
            "              precision    recall  f1-score   support\n",
            "\n",
            "           0       0.98      0.97      0.97      1659\n",
            "           1       0.18      0.22      0.19        46\n",
            "\n",
            "    accuracy                           0.95      1705\n",
            "   macro avg       0.58      0.59      0.58      1705\n",
            "weighted avg       0.96      0.95      0.95      1705\n",
            "\n"
          ],
          "name": "stdout"
        }
      ]
    },
    {
      "cell_type": "markdown",
      "metadata": {
        "id": "dAWzRQCD08jb"
      },
      "source": [
        "### Naive bayes"
      ]
    },
    {
      "cell_type": "code",
      "metadata": {
        "id": "TcioaMBA0750"
      },
      "source": [
        "def naive(X_train, X_test, Y_train, Y_test):\n",
        "    from sklearn.naive_bayes import GaussianNB\n",
        "    classifier = GaussianNB()\n",
        "    classifier.fit(X_train,Y_train)\n",
        "    \n",
        "    y_pred = classifier.predict(X_test)\n",
        "    return(y_pred)\n",
        "\n",
        "y_pred = naive(X_trainS,X_testS,Y_train,Y_test).ravel()"
      ],
      "execution_count": null,
      "outputs": []
    },
    {
      "cell_type": "code",
      "metadata": {
        "colab": {
          "base_uri": "https://localhost:8080/"
        },
        "id": "11R4AiZb1KmF",
        "outputId": "9e0dc3fb-66cc-40e4-a425-e047e4a92cad"
      },
      "source": [
        "result_table(Y_test, y_pred)"
      ],
      "execution_count": null,
      "outputs": [
        {
          "output_type": "stream",
          "text": [
            "[[ 353 1306]\n",
            " [   2   44]]\n",
            "              precision    recall  f1-score   support\n",
            "\n",
            "           0       0.99      0.21      0.35      1659\n",
            "           1       0.03      0.96      0.06        46\n",
            "\n",
            "    accuracy                           0.23      1705\n",
            "   macro avg       0.51      0.58      0.21      1705\n",
            "weighted avg       0.97      0.23      0.34      1705\n",
            "\n"
          ],
          "name": "stdout"
        }
      ]
    },
    {
      "cell_type": "markdown",
      "metadata": {
        "id": "IzpVCIdG10AL"
      },
      "source": [
        "### Neural Network"
      ]
    },
    {
      "cell_type": "code",
      "metadata": {
        "id": "dMw7-o-n13sn"
      },
      "source": [
        "from tensorflow.keras.models import Sequential\n",
        "from tensorflow.keras.layers import Dense\n",
        "from tensorflow.keras.callbacks import EarlyStopping\n",
        "from tensorflow.keras.layers import Dropout"
      ],
      "execution_count": null,
      "outputs": []
    },
    {
      "cell_type": "code",
      "metadata": {
        "colab": {
          "base_uri": "https://localhost:8080/"
        },
        "id": "CgmCNLB92AUj",
        "outputId": "0cffa5ef-25ad-4c3d-bca8-95ad34eb4270"
      },
      "source": [
        "model = Sequential()\n",
        "model.add(Dense(94,activation = 'relu'))\n",
        "model.add(Dropout(0.5))\n",
        "model.add(Dense(47,activation = 'relu'))\n",
        "model.add(Dropout(0.5)) \n",
        "model.add(Dense(23,activation = 'relu'))\n",
        "model.add(Dropout(0.5))\n",
        "model.add(Dense(11,activation = 'relu'))\n",
        "model.add(Dropout(0.5))\n",
        "model.add(Dense(1,activation = 'sigmoid'))\n",
        "model.compile(loss = 'binary_crossentropy',optimizer = 'adam')\n",
        "\n",
        "earstop = EarlyStopping(monitor = 'val_loss', mode ='min', verbose = 1, patience = 20)\n",
        "model.fit(x = X_trainS, y = Y_train, epochs = 100, validation_data=(X_testS,Y_test), callbacks = [earstop])"
      ],
      "execution_count": null,
      "outputs": [
        {
          "output_type": "stream",
          "text": [
            "Epoch 1/100\n",
            "160/160 [==============================] - 1s 4ms/step - loss: 0.8888 - val_loss: 22996870.0000\n",
            "Epoch 2/100\n",
            "160/160 [==============================] - 0s 2ms/step - loss: 0.4048 - val_loss: 25982150.0000\n",
            "Epoch 3/100\n",
            "160/160 [==============================] - 0s 3ms/step - loss: 0.3200 - val_loss: 20881620.0000\n",
            "Epoch 4/100\n",
            "160/160 [==============================] - 0s 3ms/step - loss: 0.2760 - val_loss: 15851916.0000\n",
            "Epoch 5/100\n",
            "160/160 [==============================] - 0s 3ms/step - loss: 0.2515 - val_loss: 13844223.0000\n",
            "Epoch 6/100\n",
            "160/160 [==============================] - 0s 2ms/step - loss: 0.2300 - val_loss: 12497919.0000\n",
            "Epoch 7/100\n",
            "160/160 [==============================] - 0s 2ms/step - loss: 0.2187 - val_loss: 12045623.0000\n",
            "Epoch 8/100\n",
            "160/160 [==============================] - 0s 3ms/step - loss: 0.2124 - val_loss: 10046326.0000\n",
            "Epoch 9/100\n",
            "160/160 [==============================] - 0s 2ms/step - loss: 0.1827 - val_loss: 11136092.0000\n",
            "Epoch 10/100\n",
            "160/160 [==============================] - 0s 2ms/step - loss: 0.1775 - val_loss: 5622569.5000\n",
            "Epoch 11/100\n",
            "160/160 [==============================] - 0s 3ms/step - loss: 0.1835 - val_loss: 5417502.5000\n",
            "Epoch 12/100\n",
            "160/160 [==============================] - 0s 2ms/step - loss: 0.1626 - val_loss: 4656130.5000\n",
            "Epoch 13/100\n",
            "160/160 [==============================] - 0s 3ms/step - loss: 0.1754 - val_loss: 3994438.7500\n",
            "Epoch 14/100\n",
            "160/160 [==============================] - 0s 3ms/step - loss: 0.1653 - val_loss: 3564445.7500\n",
            "Epoch 15/100\n",
            "160/160 [==============================] - 0s 3ms/step - loss: 0.1513 - val_loss: 4103484.0000\n",
            "Epoch 16/100\n",
            "160/160 [==============================] - 0s 3ms/step - loss: 0.1545 - val_loss: 3443825.5000\n",
            "Epoch 17/100\n",
            "160/160 [==============================] - 0s 3ms/step - loss: 0.1358 - val_loss: 3527050.2500\n",
            "Epoch 18/100\n",
            "160/160 [==============================] - 0s 3ms/step - loss: 0.1279 - val_loss: 3250184.7500\n",
            "Epoch 19/100\n",
            "160/160 [==============================] - 0s 2ms/step - loss: 0.1312 - val_loss: 3317301.2500\n",
            "Epoch 20/100\n",
            "160/160 [==============================] - 0s 3ms/step - loss: 0.1328 - val_loss: 4347027.0000\n",
            "Epoch 21/100\n",
            "160/160 [==============================] - 0s 3ms/step - loss: 0.1424 - val_loss: 3502221.7500\n",
            "Epoch 22/100\n",
            "160/160 [==============================] - 0s 3ms/step - loss: 0.1322 - val_loss: 6049213.0000\n",
            "Epoch 23/100\n",
            "160/160 [==============================] - 0s 3ms/step - loss: 0.1236 - val_loss: 5473271.5000\n",
            "Epoch 24/100\n",
            "160/160 [==============================] - 0s 3ms/step - loss: 0.1350 - val_loss: 5393162.0000\n",
            "Epoch 25/100\n",
            "160/160 [==============================] - 0s 3ms/step - loss: 0.1267 - val_loss: 4284276.0000\n",
            "Epoch 26/100\n",
            "160/160 [==============================] - 0s 3ms/step - loss: 0.1233 - val_loss: 4718102.0000\n",
            "Epoch 27/100\n",
            "160/160 [==============================] - 0s 3ms/step - loss: 0.1159 - val_loss: 4859486.5000\n",
            "Epoch 28/100\n",
            "160/160 [==============================] - 0s 3ms/step - loss: 0.1079 - val_loss: 6255935.5000\n",
            "Epoch 29/100\n",
            "160/160 [==============================] - 0s 3ms/step - loss: 0.1058 - val_loss: 7065407.0000\n",
            "Epoch 30/100\n",
            "160/160 [==============================] - 0s 3ms/step - loss: 0.0989 - val_loss: 7113922.0000\n",
            "Epoch 31/100\n",
            "160/160 [==============================] - 0s 3ms/step - loss: 0.1077 - val_loss: 7467822.0000\n",
            "Epoch 32/100\n",
            "160/160 [==============================] - 0s 3ms/step - loss: 0.0875 - val_loss: 6418539.5000\n",
            "Epoch 33/100\n",
            "160/160 [==============================] - 0s 3ms/step - loss: 0.0973 - val_loss: 5050970.0000\n",
            "Epoch 34/100\n",
            "160/160 [==============================] - 0s 3ms/step - loss: 0.0966 - val_loss: 5082072.0000\n",
            "Epoch 35/100\n",
            "160/160 [==============================] - 0s 3ms/step - loss: 0.0924 - val_loss: 6936437.5000\n",
            "Epoch 36/100\n",
            "160/160 [==============================] - 0s 3ms/step - loss: 0.0934 - val_loss: 9180604.0000\n",
            "Epoch 37/100\n",
            "160/160 [==============================] - 0s 3ms/step - loss: 0.1060 - val_loss: 9732001.0000\n",
            "Epoch 38/100\n",
            "160/160 [==============================] - 0s 3ms/step - loss: 0.0903 - val_loss: 10875606.0000\n",
            "Epoch 00038: early stopping\n"
          ],
          "name": "stdout"
        },
        {
          "output_type": "execute_result",
          "data": {
            "text/plain": [
              "<tensorflow.python.keras.callbacks.History at 0x7f85f90f6c50>"
            ]
          },
          "metadata": {
            "tags": []
          },
          "execution_count": 86
        }
      ]
    },
    {
      "cell_type": "code",
      "metadata": {
        "colab": {
          "base_uri": "https://localhost:8080/",
          "height": 293
        },
        "id": "qZ7EV-bs3Yu7",
        "outputId": "a58976ef-a04b-4a22-d099-409f4d20863e"
      },
      "source": [
        "loss = pd.DataFrame(model.history.history)\n",
        "loss.plot()"
      ],
      "execution_count": null,
      "outputs": [
        {
          "output_type": "execute_result",
          "data": {
            "text/plain": [
              "<matplotlib.axes._subplots.AxesSubplot at 0x7f85f7b30590>"
            ]
          },
          "metadata": {
            "tags": []
          },
          "execution_count": 87
        },
        {
          "output_type": "display_data",
          "data": {
            "image/png": "[encoded data removed]",
            "text/plain": [
              "<Figure size 432x288 with 1 Axes>"
            ]
          },
          "metadata": {
            "tags": [],
            "needs_background": "light"
          }
        }
      ]
    },
    {
      "cell_type": "code",
      "metadata": {
        "id": "HPAOqin43pZw"
      },
      "source": [
        "from sklearn.decomposition import PCA\n",
        "pca = PCA(n_components = 10)\n",
        "X_trainS = pca.fit_transform(X_trainS)\n",
        "X_testS = pca.transform(X_testS)"
      ],
      "execution_count": null,
      "outputs": []
    },
    {
      "cell_type": "code",
      "metadata": {
        "colab": {
          "base_uri": "https://localhost:8080/"
        },
        "id": "SM9jGu0V3-j7",
        "outputId": "a62bf02c-0c2d-4f53-ebdc-7091dbc6acad"
      },
      "source": [
        "model = Sequential()\n",
        "model.add(Dense(10,activation = 'relu'))\n",
        "model.add(Dropout(0.5))\n",
        "model.add(Dense(5,activation = 'relu'))\n",
        "model.add(Dropout(0.5)) \n",
        "model.add(Dense(1,activation = 'sigmoid'))\n",
        "model.compile(loss = 'binary_crossentropy',optimizer = 'adam')\n",
        "\n",
        "earstop = EarlyStopping(monitor = 'val_loss', mode ='min', verbose = 1, patience = 20)\n",
        "model.fit(x = X_trainS, y = Y_train, epochs = 100, validation_data=(X_testS,Y_test), callbacks = [earstop])"
      ],
      "execution_count": null,
      "outputs": [
        {
          "output_type": "stream",
          "text": [
            "Epoch 1/100\n",
            "160/160 [==============================] - 1s 3ms/step - loss: 0.7134 - val_loss: 5755656.0000\n",
            "Epoch 2/100\n",
            "160/160 [==============================] - 0s 2ms/step - loss: 0.5094 - val_loss: 7248323.0000\n",
            "Epoch 3/100\n",
            "160/160 [==============================] - 0s 2ms/step - loss: 0.4137 - val_loss: 8857832.0000\n",
            "Epoch 4/100\n",
            "160/160 [==============================] - 0s 2ms/step - loss: 0.3151 - val_loss: 9510699.0000\n",
            "Epoch 5/100\n",
            "160/160 [==============================] - 0s 2ms/step - loss: 0.2861 - val_loss: 10685102.0000\n",
            "Epoch 6/100\n",
            "160/160 [==============================] - 0s 2ms/step - loss: 0.2934 - val_loss: 10942251.0000\n",
            "Epoch 7/100\n",
            "160/160 [==============================] - 0s 2ms/step - loss: 0.2036 - val_loss: 11095305.0000\n",
            "Epoch 8/100\n",
            "160/160 [==============================] - 0s 2ms/step - loss: 0.1923 - val_loss: 10033714.0000\n",
            "Epoch 9/100\n",
            "160/160 [==============================] - 0s 2ms/step - loss: 0.1757 - val_loss: 9034948.0000\n",
            "Epoch 10/100\n",
            "160/160 [==============================] - 0s 2ms/step - loss: 0.1622 - val_loss: 9391276.0000\n",
            "Epoch 11/100\n",
            "160/160 [==============================] - 0s 2ms/step - loss: 0.1723 - val_loss: 8921875.0000\n",
            "Epoch 12/100\n",
            "160/160 [==============================] - 0s 2ms/step - loss: 0.1588 - val_loss: 9115275.0000\n",
            "Epoch 13/100\n",
            "160/160 [==============================] - 0s 2ms/step - loss: 0.1567 - val_loss: 8643229.0000\n",
            "Epoch 14/100\n",
            "160/160 [==============================] - 0s 2ms/step - loss: 0.1540 - val_loss: 8988949.0000\n",
            "Epoch 15/100\n",
            "160/160 [==============================] - 0s 2ms/step - loss: 0.1671 - val_loss: 9183547.0000\n",
            "Epoch 16/100\n",
            "160/160 [==============================] - 0s 2ms/step - loss: 0.1390 - val_loss: 9172274.0000\n",
            "Epoch 17/100\n",
            "160/160 [==============================] - 0s 2ms/step - loss: 0.1465 - val_loss: 8724777.0000\n",
            "Epoch 18/100\n",
            "160/160 [==============================] - 0s 2ms/step - loss: 0.1416 - val_loss: 8752311.0000\n",
            "Epoch 19/100\n",
            "160/160 [==============================] - 0s 2ms/step - loss: 0.1385 - val_loss: 9007534.0000\n",
            "Epoch 20/100\n",
            "160/160 [==============================] - 0s 2ms/step - loss: 0.1372 - val_loss: 9283524.0000\n",
            "Epoch 21/100\n",
            "160/160 [==============================] - 0s 2ms/step - loss: 0.1269 - val_loss: 9455594.0000\n",
            "Epoch 00021: early stopping\n"
          ],
          "name": "stdout"
        },
        {
          "output_type": "execute_result",
          "data": {
            "text/plain": [
              "<tensorflow.python.keras.callbacks.History at 0x7f85f48979d0>"
            ]
          },
          "metadata": {
            "tags": []
          },
          "execution_count": 89
        }
      ]
    },
    {
      "cell_type": "code",
      "metadata": {
        "colab": {
          "base_uri": "https://localhost:8080/",
          "height": 293
        },
        "id": "yExhck4y4Jpk",
        "outputId": "212dc1cc-7dfd-4434-e433-f197ad5a5314"
      },
      "source": [
        "loss = pd.DataFrame(model.history.history)\n",
        "loss.plot()"
      ],
      "execution_count": null,
      "outputs": [
        {
          "output_type": "execute_result",
          "data": {
            "text/plain": [
              "<matplotlib.axes._subplots.AxesSubplot at 0x7f85f47850d0>"
            ]
          },
          "metadata": {
            "tags": []
          },
          "execution_count": 90
        },
        {
          "output_type": "display_data",
          "data": {
            "image/png": "[encoded data removed]",
            "text/plain": [
              "<Figure size 432x288 with 1 Axes>"
            ]
          },
          "metadata": {
            "tags": [],
            "needs_background": "light"
          }
        }
      ]
    },
    {
      "cell_type": "code",
      "metadata": {
        "id": "1cFNiB7E5dYv"
      },
      "source": [
        "X = df.drop(columns = ['response','expense0_1'])\n",
        "Y = df['response']\n",
        "from sklearn.model_selection import train_test_split\n",
        "X_train, X_test, Y_train, Y_test = train_test_split(X,Y,test_size = 0.25)\n",
        "def scale(X_train,X_test):\n",
        "  from sklearn.preprocessing import StandardScaler\n",
        "  sc = StandardScaler()\n",
        "  X_trainS = sc.fit_transform(X_train)\n",
        "  X_testS = sc.transform(X_test)\n",
        "  return (X_trainS,X_testS)\n",
        "X_trainS,X_testS = scale(X_train,X_test)"
      ],
      "execution_count": null,
      "outputs": []
    },
    {
      "cell_type": "code",
      "metadata": {
        "colab": {
          "base_uri": "https://localhost:8080/"
        },
        "id": "hlhkdoxU4Ok-",
        "outputId": "2a013683-449a-4c1b-c355-640f05cc1840"
      },
      "source": [
        "encoder = Sequential()\n",
        "encoder.add(Dense(units = 20, activation = 'relu', input_shape = [95]))\n",
        "decoder = Sequential()\n",
        "decoder.add(Dense(units = 95, activation = 'relu', input_shape = [20]))\n",
        "autoen = Sequential([encoder,decoder])\n",
        "from tensorflow.keras.optimizers import SGD\n",
        "autoen.compile(loss=\"mse\")\n",
        "autoen.fit(x = X_trainS, y = X_trainS, epochs=20)"
      ],
      "execution_count": null,
      "outputs": [
        {
          "output_type": "stream",
          "text": [
            "Epoch 1/20\n",
            "160/160 [==============================] - 1s 1ms/step - loss: 0.9821\n",
            "Epoch 2/20\n",
            "160/160 [==============================] - 0s 1ms/step - loss: 1.0240\n",
            "Epoch 3/20\n",
            "160/160 [==============================] - 0s 1ms/step - loss: 0.7990\n",
            "Epoch 4/20\n",
            "160/160 [==============================] - 0s 945us/step - loss: 0.7877\n",
            "Epoch 5/20\n",
            "160/160 [==============================] - 0s 1ms/step - loss: 0.7414\n",
            "Epoch 6/20\n",
            "160/160 [==============================] - 0s 985us/step - loss: 0.6744\n",
            "Epoch 7/20\n",
            "160/160 [==============================] - 0s 917us/step - loss: 0.7094\n",
            "Epoch 8/20\n",
            "160/160 [==============================] - 0s 1ms/step - loss: 0.6323\n",
            "Epoch 9/20\n",
            "160/160 [==============================] - 0s 1ms/step - loss: 0.7365\n",
            "Epoch 10/20\n",
            "160/160 [==============================] - 0s 1ms/step - loss: 0.6990\n",
            "Epoch 11/20\n",
            "160/160 [==============================] - 0s 1ms/step - loss: 0.6807\n",
            "Epoch 12/20\n",
            "160/160 [==============================] - 0s 1ms/step - loss: 0.7055\n",
            "Epoch 13/20\n",
            "160/160 [==============================] - 0s 2ms/step - loss: 0.6465\n",
            "Epoch 14/20\n",
            "160/160 [==============================] - 1s 5ms/step - loss: 0.7589\n",
            "Epoch 15/20\n",
            "160/160 [==============================] - 0s 1ms/step - loss: 0.6722\n",
            "Epoch 16/20\n",
            "160/160 [==============================] - 0s 2ms/step - loss: 0.5683\n",
            "Epoch 17/20\n",
            "160/160 [==============================] - 0s 1ms/step - loss: 0.6739\n",
            "Epoch 18/20\n",
            "160/160 [==============================] - 0s 1ms/step - loss: 0.6395\n",
            "Epoch 19/20\n",
            "160/160 [==============================] - 0s 2ms/step - loss: 0.6190\n",
            "Epoch 20/20\n",
            "160/160 [==============================] - 0s 1ms/step - loss: 0.7305\n"
          ],
          "name": "stdout"
        },
        {
          "output_type": "execute_result",
          "data": {
            "text/plain": [
              "<tensorflow.python.keras.callbacks.History at 0x7f85f2ad8490>"
            ]
          },
          "metadata": {
            "tags": []
          },
          "execution_count": 97
        }
      ]
    },
    {
      "cell_type": "code",
      "metadata": {
        "id": "4FaFn9pY543Z"
      },
      "source": [
        "X_trainS = encoder.predict(X_trainS)\n",
        "X_testS = encoder.predict(X_testS)"
      ],
      "execution_count": null,
      "outputs": []
    },
    {
      "cell_type": "code",
      "metadata": {
        "colab": {
          "base_uri": "https://localhost:8080/"
        },
        "id": "DJJAZz__6Zjw",
        "outputId": "94338495-5212-4df2-9d91-454fc2f09f0e"
      },
      "source": [
        "model = Sequential()\n",
        "model.add(Dense(20,activation = 'relu'))\n",
        "model.add(Dropout(0.5))\n",
        "model.add(Dense(10,activation = 'relu'))\n",
        "model.add(Dropout(0.5))\n",
        "model.add(Dense(5,activation = 'relu'))\n",
        "model.add(Dropout(0.5)) \n",
        "model.add(Dense(1,activation = 'sigmoid'))\n",
        "model.compile(loss = 'binary_crossentropy',optimizer = 'adam')\n",
        "\n",
        "earstop = EarlyStopping(monitor = 'val_loss', mode ='min', verbose = 1, patience = 20)\n",
        "model.fit(x = X_trainS, y = Y_train, epochs = 100, validation_data=(X_testS,Y_test), callbacks = [earstop])"
      ],
      "execution_count": null,
      "outputs": [
        {
          "output_type": "stream",
          "text": [
            "Epoch 1/100\n",
            "160/160 [==============================] - 1s 3ms/step - loss: 0.7464 - val_loss: 0.2342\n",
            "Epoch 2/100\n",
            "160/160 [==============================] - 0s 2ms/step - loss: 0.4561 - val_loss: 0.1943\n",
            "Epoch 3/100\n",
            "160/160 [==============================] - 0s 2ms/step - loss: 0.3432 - val_loss: 0.1640\n",
            "Epoch 4/100\n",
            "160/160 [==============================] - 0s 2ms/step - loss: 0.2968 - val_loss: 0.1472\n",
            "Epoch 5/100\n",
            "160/160 [==============================] - 0s 2ms/step - loss: 0.2684 - val_loss: 0.1437\n",
            "Epoch 6/100\n",
            "160/160 [==============================] - 0s 2ms/step - loss: 0.2382 - val_loss: 0.1347\n",
            "Epoch 7/100\n",
            "160/160 [==============================] - 0s 2ms/step - loss: 0.2431 - val_loss: 0.1301\n",
            "Epoch 8/100\n",
            "160/160 [==============================] - 0s 2ms/step - loss: 0.2093 - val_loss: 0.1224\n",
            "Epoch 9/100\n",
            "160/160 [==============================] - 0s 2ms/step - loss: 0.2267 - val_loss: 0.1214\n",
            "Epoch 10/100\n",
            "160/160 [==============================] - 0s 2ms/step - loss: 0.2006 - val_loss: 0.1204\n",
            "Epoch 11/100\n",
            "160/160 [==============================] - 0s 2ms/step - loss: 0.1843 - val_loss: 0.1165\n",
            "Epoch 12/100\n",
            "160/160 [==============================] - 0s 2ms/step - loss: 0.1770 - val_loss: 0.1157\n",
            "Epoch 13/100\n",
            "160/160 [==============================] - 0s 2ms/step - loss: 0.1666 - val_loss: 0.1142\n",
            "Epoch 14/100\n",
            "160/160 [==============================] - 0s 2ms/step - loss: 0.1670 - val_loss: 0.1150\n",
            "Epoch 15/100\n",
            "160/160 [==============================] - 0s 2ms/step - loss: 0.1737 - val_loss: 0.1145\n",
            "Epoch 16/100\n",
            "160/160 [==============================] - 0s 2ms/step - loss: 0.1648 - val_loss: 0.1130\n",
            "Epoch 17/100\n",
            "160/160 [==============================] - 0s 2ms/step - loss: 0.1442 - val_loss: 0.1137\n",
            "Epoch 18/100\n",
            "160/160 [==============================] - 0s 2ms/step - loss: 0.1509 - val_loss: 0.1113\n",
            "Epoch 19/100\n",
            "160/160 [==============================] - 0s 2ms/step - loss: 0.1448 - val_loss: 0.1085\n",
            "Epoch 20/100\n",
            "160/160 [==============================] - 0s 2ms/step - loss: 0.1426 - val_loss: 0.1075\n",
            "Epoch 21/100\n",
            "160/160 [==============================] - 0s 2ms/step - loss: 0.1412 - val_loss: 0.1081\n",
            "Epoch 22/100\n",
            "160/160 [==============================] - 0s 2ms/step - loss: 0.1477 - val_loss: 0.1069\n",
            "Epoch 23/100\n",
            "160/160 [==============================] - 0s 2ms/step - loss: 0.1373 - val_loss: 0.1070\n",
            "Epoch 24/100\n",
            "160/160 [==============================] - 0s 2ms/step - loss: 0.1369 - val_loss: 0.1079\n",
            "Epoch 25/100\n",
            "160/160 [==============================] - 0s 2ms/step - loss: 0.1473 - val_loss: 0.1081\n",
            "Epoch 26/100\n",
            "160/160 [==============================] - 0s 2ms/step - loss: 0.1536 - val_loss: 0.1078\n",
            "Epoch 27/100\n",
            "160/160 [==============================] - 0s 2ms/step - loss: 0.1383 - val_loss: 0.1082\n",
            "Epoch 28/100\n",
            "160/160 [==============================] - 0s 2ms/step - loss: 0.1333 - val_loss: 0.1086\n",
            "Epoch 29/100\n",
            "160/160 [==============================] - 0s 2ms/step - loss: 0.1209 - val_loss: 0.1085\n",
            "Epoch 30/100\n",
            "160/160 [==============================] - 0s 2ms/step - loss: 0.1281 - val_loss: 0.1076\n",
            "Epoch 31/100\n",
            "160/160 [==============================] - 0s 2ms/step - loss: 0.1267 - val_loss: 0.1089\n",
            "Epoch 32/100\n",
            "160/160 [==============================] - 0s 2ms/step - loss: 0.1288 - val_loss: 0.1080\n",
            "Epoch 33/100\n",
            "160/160 [==============================] - 0s 2ms/step - loss: 0.1208 - val_loss: 0.1063\n",
            "Epoch 34/100\n",
            "160/160 [==============================] - 0s 2ms/step - loss: 0.1171 - val_loss: 0.1068\n",
            "Epoch 35/100\n",
            "160/160 [==============================] - 0s 2ms/step - loss: 0.1226 - val_loss: 0.1077\n",
            "Epoch 36/100\n",
            "160/160 [==============================] - 0s 2ms/step - loss: 0.1339 - val_loss: 0.1086\n",
            "Epoch 37/100\n",
            "160/160 [==============================] - 0s 2ms/step - loss: 0.1314 - val_loss: 0.1070\n",
            "Epoch 38/100\n",
            "160/160 [==============================] - 0s 2ms/step - loss: 0.1211 - val_loss: 0.1080\n",
            "Epoch 39/100\n",
            "160/160 [==============================] - 0s 2ms/step - loss: 0.1123 - val_loss: 0.1085\n",
            "Epoch 40/100\n",
            "160/160 [==============================] - 0s 2ms/step - loss: 0.1214 - val_loss: 0.1090\n",
            "Epoch 41/100\n",
            "160/160 [==============================] - 0s 2ms/step - loss: 0.1235 - val_loss: 0.1114\n",
            "Epoch 42/100\n",
            "160/160 [==============================] - 0s 2ms/step - loss: 0.1164 - val_loss: 0.1095\n",
            "Epoch 43/100\n",
            "160/160 [==============================] - 0s 2ms/step - loss: 0.1090 - val_loss: 0.1092\n",
            "Epoch 44/100\n",
            "160/160 [==============================] - 0s 2ms/step - loss: 0.1061 - val_loss: 0.1099\n",
            "Epoch 45/100\n",
            "160/160 [==============================] - 0s 2ms/step - loss: 0.1204 - val_loss: 0.1122\n",
            "Epoch 46/100\n",
            "160/160 [==============================] - 0s 2ms/step - loss: 0.1333 - val_loss: 0.1115\n",
            "Epoch 47/100\n",
            "160/160 [==============================] - 0s 2ms/step - loss: 0.1234 - val_loss: 0.1127\n",
            "Epoch 48/100\n",
            "160/160 [==============================] - 0s 2ms/step - loss: 0.1156 - val_loss: 0.1110\n",
            "Epoch 49/100\n",
            "160/160 [==============================] - 0s 2ms/step - loss: 0.1119 - val_loss: 0.1111\n",
            "Epoch 50/100\n",
            "160/160 [==============================] - 0s 2ms/step - loss: 0.1134 - val_loss: 0.1112\n",
            "Epoch 51/100\n",
            "160/160 [==============================] - 0s 2ms/step - loss: 0.1255 - val_loss: 0.1137\n",
            "Epoch 52/100\n",
            "160/160 [==============================] - 0s 2ms/step - loss: 0.1084 - val_loss: 0.1122\n",
            "Epoch 53/100\n",
            "160/160 [==============================] - 0s 2ms/step - loss: 0.1105 - val_loss: 0.1107\n",
            "Epoch 00053: early stopping\n"
          ],
          "name": "stdout"
        },
        {
          "output_type": "execute_result",
          "data": {
            "text/plain": [
              "<tensorflow.python.keras.callbacks.History at 0x7f85f297b1d0>"
            ]
          },
          "metadata": {
            "tags": []
          },
          "execution_count": 99
        }
      ]
    },
    {
      "cell_type": "code",
      "metadata": {
        "colab": {
          "base_uri": "https://localhost:8080/",
          "height": 282
        },
        "id": "VPKh-h6D6k4-",
        "outputId": "f27f6791-b57b-4664-d20a-3be7bdf917c0"
      },
      "source": [
        "loss = pd.DataFrame(model.history.history)\n",
        "loss.plot()"
      ],
      "execution_count": null,
      "outputs": [
        {
          "output_type": "execute_result",
          "data": {
            "text/plain": [
              "<matplotlib.axes._subplots.AxesSubplot at 0x7f85f299ac90>"
            ]
          },
          "metadata": {
            "tags": []
          },
          "execution_count": 100
        },
        {
          "output_type": "display_data",
          "data": {
            "image/png": "[encoded data removed]",
            "text/plain": [
              "<Figure size 432x288 with 1 Axes>"
            ]
          },
          "metadata": {
            "tags": [],
            "needs_background": "light"
          }
        }
      ]
    },
    {
      "cell_type": "code",
      "metadata": {
        "colab": {
          "base_uri": "https://localhost:8080/"
        },
        "id": "tryrn6Ex6ny2",
        "outputId": "6b012285-d24f-4041-deff-59be80f06a58"
      },
      "source": [
        "y_pred = model.predict_classes(X_testS)\n",
        "result_table(Y_test, y_pred)"
      ],
      "execution_count": null,
      "outputs": [
        {
          "output_type": "stream",
          "text": [
            "[[1649    0]\n",
            " [  55    1]]\n",
            "              precision    recall  f1-score   support\n",
            "\n",
            "           0       0.97      1.00      0.98      1649\n",
            "           1       1.00      0.02      0.04        56\n",
            "\n",
            "    accuracy                           0.97      1705\n",
            "   macro avg       0.98      0.51      0.51      1705\n",
            "weighted avg       0.97      0.97      0.95      1705\n",
            "\n"
          ],
          "name": "stdout"
        },
        {
          "output_type": "stream",
          "text": [
            "/usr/local/lib/python3.7/dist-packages/tensorflow/python/keras/engine/sequential.py:450: UserWarning: `model.predict_classes()` is deprecated and will be removed after 2021-01-01. Please use instead:* `np.argmax(model.predict(x), axis=-1)`,   if your model does multi-class classification   (e.g. if it uses a `softmax` last-layer activation).* `(model.predict(x) > 0.5).astype(\"int32\")`,   if your model does binary classification   (e.g. if it uses a `sigmoid` last-layer activation).\n",
            "  warnings.warn('`model.predict_classes()` is deprecated and '\n"
          ],
          "name": "stderr"
        }
      ]
    }
  ]
}