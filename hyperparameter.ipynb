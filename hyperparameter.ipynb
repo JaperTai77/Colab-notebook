{
  "nbformat": 4,
  "nbformat_minor": 0,
  "metadata": {
    "colab": {
      "name": "hyperparameter.ipynb",
      "provenance": [],
      "collapsed_sections": [
        "zmXqz5FgDg9C",
        "gPqqbJUUDb6Z",
        "KusOJnaBLxKf"
      ],
      "authorship_tag": "ABX9TyOruANX7jMbIxT6ItVAenUv",
      "include_colab_link": true
    },
    "kernelspec": {
      "name": "python3",
      "display_name": "Python 3"
    },
    "language_info": {
      "name": "python"
    }
  },
  "cells": [
    {
      "cell_type": "markdown",
      "metadata": {
        "id": "view-in-github",
        "colab_type": "text"
      },
      "source": [
        "<a href=\"https://colab.research.google.com/github/JaperTai77/Colab-notebook/blob/main/hyperparameter.ipynb\" target=\"_parent\"><img src=\"https://colab.research.google.com/assets/colab-badge.svg\" alt=\"Open In Colab\"/></a>"
      ]
    },
    {
      "cell_type": "markdown",
      "metadata": {
        "id": "zmXqz5FgDg9C"
      },
      "source": [
        "# Metrices"
      ]
    },
    {
      "cell_type": "code",
      "metadata": {
        "id": "_Xe5fYT_22LT"
      },
      "source": [
        "import pandas as pd\n",
        "import matplotlib.pyplot as plt\n",
        "import numpy as np\n",
        "from sklearn.datasets import load_breast_cancer\n",
        "from sklearn.ensemble import RandomForestClassifier\n",
        "from sklearn.model_selection import GridSearchCV\n",
        "from sklearn.metrics import confusion_matrix, make_scorer"
      ],
      "execution_count": null,
      "outputs": []
    },
    {
      "cell_type": "code",
      "metadata": {
        "id": "pwGxj_HgAI9o"
      },
      "source": [
        "breast_cancer_X, breast_cancer_y = load_breast_cancer(return_X_y=True)\n",
        "X = pd.DataFrame(breast_cancer_X)\n",
        "y = pd.Series(breast_cancer_y).map({0:1, 1:0})"
      ],
      "execution_count": null,
      "outputs": []
    },
    {
      "cell_type": "markdown",
      "metadata": {
        "id": "LUo1Z6PjBWmS"
      },
      "source": [
        "### Make own performance metric (grid search)"
      ]
    },
    {
      "cell_type": "code",
      "metadata": {
        "id": "dOmJKO7nAMx8"
      },
      "source": [
        "def fnr(ytrue, ypred):\n",
        "  yclass = np.where(ypred>0.5,1,0)\n",
        "  tn,fp,fn,tp = confusion_matrix(ytrue,yclass,labels = [0,1]).ravel()\n",
        "  FNR = fn/(tp+fn)\n",
        "  return FNR\n",
        "\n",
        "fnrScore = make_scorer(fnr,greater_is_better=False, \n",
        "                       needs_proba= True) # use probability\n",
        "\n",
        "model = RandomForestClassifier(n_estimators=100, max_depth=1)\n",
        "param = dict(n_estimators=[10, 50, 100, 500, 1000, ],\n",
        "             max_depth=[1, 2, 3, 4])"
      ],
      "execution_count": null,
      "outputs": []
    },
    {
      "cell_type": "code",
      "metadata": {
        "colab": {
          "base_uri": "https://localhost:8080/"
        },
        "id": "8cIQLKQgC2IK",
        "outputId": "73764c31-5f72-41ed-9b8b-c6be320bfc7c"
      },
      "source": [
        "clf = GridSearchCV(model,param,\n",
        "                   scoring=fnrScore,\n",
        "                   cv=3)\n",
        "search = clf.fit(X,y)\n",
        "print(search.best_params_)"
      ],
      "execution_count": null,
      "outputs": [
        {
          "output_type": "stream",
          "name": "stdout",
          "text": [
            "{'max_depth': 4, 'n_estimators': 100}\n"
          ]
        }
      ]
    },
    {
      "cell_type": "code",
      "metadata": {
        "colab": {
          "base_uri": "https://localhost:8080/",
          "height": 282
        },
        "id": "-eq6_120DvWV",
        "outputId": "95138209-f16e-4a21-fbdc-c6a493408be2"
      },
      "source": [
        "result = pd.DataFrame(search.cv_results_)[['params','mean_test_score', \n",
        "                      'std_test_score']].sort_values(by='mean_test_score', ascending=False).reset_index()\n",
        "\n",
        "result['mean_test_score'].plot(yerr=[result['std_test_score'], result['std_test_score']])"
      ],
      "execution_count": null,
      "outputs": [
        {
          "output_type": "execute_result",
          "data": {
            "text/plain": [
              "<matplotlib.axes._subplots.AxesSubplot at 0x7f15c6a66c50>"
            ]
          },
          "metadata": {},
          "execution_count": 19
        },
        {
          "output_type": "display_data",
          "data": {
            "image/png": "[encoded data removed]",
            "text/plain": [
              "<Figure size 432x288 with 1 Axes>"
            ]
          },
          "metadata": {
            "needs_background": "light"
          }
        }
      ]
    },
    {
      "cell_type": "markdown",
      "metadata": {
        "id": "gPqqbJUUDb6Z"
      },
      "source": [
        "## Use performance metric from sklearn"
      ]
    },
    {
      "cell_type": "code",
      "metadata": {
        "colab": {
          "base_uri": "https://localhost:8080/"
        },
        "id": "DKypVFkrDO1T",
        "outputId": "1918b01e-3e48-475f-fc28-250125cca37e"
      },
      "source": [
        "model = RandomForestClassifier(n_estimators=100, max_depth=1)\n",
        "param = dict(n_estimators=[10, 50, 100, 500, 1000, ],\n",
        "             max_depth=[1, 2, 3, 4])\n",
        "clf = GridSearchCV(model,param,\n",
        "                   scoring='roc_auc',\n",
        "                   cv=3)\n",
        "search = clf.fit(X,y)\n",
        "print(search.best_params_)"
      ],
      "execution_count": null,
      "outputs": [
        {
          "output_type": "stream",
          "name": "stdout",
          "text": [
            "{'max_depth': 4, 'n_estimators': 50}\n"
          ]
        }
      ]
    },
    {
      "cell_type": "code",
      "metadata": {
        "id": "5jnUll5Ks1u4"
      },
      "source": [
        "x = iter('Run')"
      ],
      "execution_count": null,
      "outputs": []
    },
    {
      "cell_type": "code",
      "metadata": {
        "colab": {
          "base_uri": "https://localhost:8080/",
          "height": 130
        },
        "id": "va9p0CAcvkug",
        "outputId": "bdd784b8-bac2-436e-e057-75ece7e855d5"
      },
      "source": [
        "[i*2 for i in range(5) i>3]"
      ],
      "execution_count": null,
      "outputs": [
        {
          "output_type": "error",
          "ename": "SyntaxError",
          "evalue": "ignored",
          "traceback": [
            "\u001b[0;36m  File \u001b[0;32m\"<ipython-input-21-62d14d79ec5f>\"\u001b[0;36m, line \u001b[0;32m1\u001b[0m\n\u001b[0;31m    [i*2 for i in range(5) i>3]\u001b[0m\n\u001b[0m                           ^\u001b[0m\n\u001b[0;31mSyntaxError\u001b[0m\u001b[0;31m:\u001b[0m invalid syntax\n"
          ]
        }
      ]
    },
    {
      "cell_type": "markdown",
      "metadata": {
        "id": "KusOJnaBLxKf"
      },
      "source": [
        "# Cross Validation"
      ]
    },
    {
      "cell_type": "code",
      "metadata": {
        "id": "EvjmiKt-LzRw"
      },
      "source": [
        "from scipy.special import comb\n",
        "from sklearn.model_selection import (\n",
        "    KFold,\n",
        "    RepeatedKFold,\n",
        "    LeaveOneOut,\n",
        "    LeavePOut,\n",
        "    StratifiedKFold,\n",
        "    cross_validate,\n",
        "    train_test_split,\n",
        ")"
      ],
      "execution_count": null,
      "outputs": []
    },
    {
      "cell_type": "code",
      "metadata": {
        "id": "kL7kMEu6cZb7"
      },
      "source": [
        "X_train, X_test, y_train, y_test = train_test_split(X, y, test_size=0.3)"
      ],
      "execution_count": null,
      "outputs": []
    },
    {
      "cell_type": "markdown",
      "metadata": {
        "id": "JEkgLL2FO6oY"
      },
      "source": [
        "#### K-fold (and repeated)"
      ]
    },
    {
      "cell_type": "code",
      "metadata": {
        "colab": {
          "base_uri": "https://localhost:8080/"
        },
        "id": "qDK4yUlKMlgR",
        "outputId": "4898bf6b-c88d-43a9-b657-4a61e6e630b1"
      },
      "source": [
        "from sklearn.linear_model import LogisticRegression\n",
        "logit = LogisticRegression(\n",
        "    penalty ='l2', C=10, solver='liblinear')\n",
        "\n",
        "k = KFold(n_splits=5, shuffle=True)\n",
        "# for repeated K-f: rkf = RepeatedKFold(n_splits=5,n_repeats=10)\n",
        "\n",
        "clf =  cross_validate(logit,X_train, y_train,\n",
        "                      scoring='accuracy',\n",
        "                      return_train_score=True,\n",
        "                      cv=k)\n",
        "\n",
        "clf['test_score']"
      ],
      "execution_count": null,
      "outputs": [
        {
          "output_type": "execute_result",
          "data": {
            "text/plain": [
              "array([1.        , 0.975     , 0.9125    , 0.89873418, 0.98734177])"
            ]
          },
          "metadata": {},
          "execution_count": 36
        }
      ]
    },
    {
      "cell_type": "code",
      "metadata": {
        "colab": {
          "base_uri": "https://localhost:8080/",
          "height": 204
        },
        "id": "xvP1Syy5eK1R",
        "outputId": "088bd18b-25c5-4a2f-ba79-3cd791f34a03"
      },
      "source": [
        "pd.DataFrame(clf).tail()"
      ],
      "execution_count": null,
      "outputs": [
        {
          "output_type": "execute_result",
          "data": {
            "text/html": [
              "<div>\n",
              "<style scoped>\n",
              "    .dataframe tbody tr th:only-of-type {\n",
              "        vertical-align: middle;\n",
              "    }\n",
              "\n",
              "    .dataframe tbody tr th {\n",
              "        vertical-align: top;\n",
              "    }\n",
              "\n",
              "    .dataframe thead th {\n",
              "        text-align: right;\n",
              "    }\n",
              "</style>\n",
              "<table border=\"1\" class=\"dataframe\">\n",
              "  <thead>\n",
              "    <tr style=\"text-align: right;\">\n",
              "      <th></th>\n",
              "      <th>fit_time</th>\n",
              "      <th>score_time</th>\n",
              "      <th>test_score</th>\n",
              "      <th>train_score</th>\n",
              "    </tr>\n",
              "  </thead>\n",
              "  <tbody>\n",
              "    <tr>\n",
              "      <th>0</th>\n",
              "      <td>0.012977</td>\n",
              "      <td>0.001245</td>\n",
              "      <td>1.000000</td>\n",
              "      <td>0.965409</td>\n",
              "    </tr>\n",
              "    <tr>\n",
              "      <th>1</th>\n",
              "      <td>0.008771</td>\n",
              "      <td>0.001631</td>\n",
              "      <td>0.975000</td>\n",
              "      <td>0.968553</td>\n",
              "    </tr>\n",
              "    <tr>\n",
              "      <th>2</th>\n",
              "      <td>0.008235</td>\n",
              "      <td>0.001564</td>\n",
              "      <td>0.912500</td>\n",
              "      <td>0.974843</td>\n",
              "    </tr>\n",
              "    <tr>\n",
              "      <th>3</th>\n",
              "      <td>0.007948</td>\n",
              "      <td>0.001521</td>\n",
              "      <td>0.898734</td>\n",
              "      <td>0.981191</td>\n",
              "    </tr>\n",
              "    <tr>\n",
              "      <th>4</th>\n",
              "      <td>0.007916</td>\n",
              "      <td>0.001704</td>\n",
              "      <td>0.987342</td>\n",
              "      <td>0.971787</td>\n",
              "    </tr>\n",
              "  </tbody>\n",
              "</table>\n",
              "</div>"
            ],
            "text/plain": [
              "   fit_time  score_time  test_score  train_score\n",
              "0  0.012977    0.001245    1.000000     0.965409\n",
              "1  0.008771    0.001631    0.975000     0.968553\n",
              "2  0.008235    0.001564    0.912500     0.974843\n",
              "3  0.007948    0.001521    0.898734     0.981191\n",
              "4  0.007916    0.001704    0.987342     0.971787"
            ]
          },
          "metadata": {},
          "execution_count": 37
        }
      ]
    },
    {
      "cell_type": "markdown",
      "metadata": {
        "id": "Gv_B_xBQdSvs"
      },
      "source": [
        "### Leave one out (and leave p out)"
      ]
    },
    {
      "cell_type": "code",
      "metadata": {
        "colab": {
          "base_uri": "https://localhost:8080/"
        },
        "id": "yaNp2hmOdSgt",
        "outputId": "7b9a114a-cd2c-43c1-9f9b-881654001b2a"
      },
      "source": [
        "l = LeaveOneOut()\n",
        "# for leave p out: lp = LeavePOut(p=2)\n",
        "\n",
        "clf =  cross_validate(logit,X_train, y_train,\n",
        "                      scoring='accuracy',\n",
        "                      return_train_score=True,\n",
        "                      cv=l)\n",
        "clf['test_score'].mean()"
      ],
      "execution_count": null,
      "outputs": [
        {
          "output_type": "execute_result",
          "data": {
            "text/plain": [
              "0.9547738693467337"
            ]
          },
          "metadata": {},
          "execution_count": 30
        }
      ]
    },
    {
      "cell_type": "code",
      "metadata": {
        "colab": {
          "base_uri": "https://localhost:8080/",
          "height": 204
        },
        "id": "sOXIv7Vrd7ho",
        "outputId": "8e1c0244-7ed4-498a-b053-0a885c9cdf0b"
      },
      "source": [
        "pd.DataFrame(clf).tail()"
      ],
      "execution_count": null,
      "outputs": [
        {
          "output_type": "execute_result",
          "data": {
            "text/html": [
              "<div>\n",
              "<style scoped>\n",
              "    .dataframe tbody tr th:only-of-type {\n",
              "        vertical-align: middle;\n",
              "    }\n",
              "\n",
              "    .dataframe tbody tr th {\n",
              "        vertical-align: top;\n",
              "    }\n",
              "\n",
              "    .dataframe thead th {\n",
              "        text-align: right;\n",
              "    }\n",
              "</style>\n",
              "<table border=\"1\" class=\"dataframe\">\n",
              "  <thead>\n",
              "    <tr style=\"text-align: right;\">\n",
              "      <th></th>\n",
              "      <th>fit_time</th>\n",
              "      <th>score_time</th>\n",
              "      <th>test_score</th>\n",
              "      <th>train_score</th>\n",
              "    </tr>\n",
              "  </thead>\n",
              "  <tbody>\n",
              "    <tr>\n",
              "      <th>393</th>\n",
              "      <td>0.008901</td>\n",
              "      <td>0.001517</td>\n",
              "      <td>1.0</td>\n",
              "      <td>0.967254</td>\n",
              "    </tr>\n",
              "    <tr>\n",
              "      <th>394</th>\n",
              "      <td>0.009781</td>\n",
              "      <td>0.001570</td>\n",
              "      <td>1.0</td>\n",
              "      <td>0.967254</td>\n",
              "    </tr>\n",
              "    <tr>\n",
              "      <th>395</th>\n",
              "      <td>0.009870</td>\n",
              "      <td>0.001511</td>\n",
              "      <td>1.0</td>\n",
              "      <td>0.967254</td>\n",
              "    </tr>\n",
              "    <tr>\n",
              "      <th>396</th>\n",
              "      <td>0.009444</td>\n",
              "      <td>0.001573</td>\n",
              "      <td>1.0</td>\n",
              "      <td>0.967254</td>\n",
              "    </tr>\n",
              "    <tr>\n",
              "      <th>397</th>\n",
              "      <td>0.009192</td>\n",
              "      <td>0.001558</td>\n",
              "      <td>1.0</td>\n",
              "      <td>0.967254</td>\n",
              "    </tr>\n",
              "  </tbody>\n",
              "</table>\n",
              "</div>"
            ],
            "text/plain": [
              "     fit_time  score_time  test_score  train_score\n",
              "393  0.008901    0.001517         1.0     0.967254\n",
              "394  0.009781    0.001570         1.0     0.967254\n",
              "395  0.009870    0.001511         1.0     0.967254\n",
              "396  0.009444    0.001573         1.0     0.967254\n",
              "397  0.009192    0.001558         1.0     0.967254"
            ]
          },
          "metadata": {},
          "execution_count": 35
        }
      ]
    },
    {
      "cell_type": "markdown",
      "metadata": {
        "id": "v7XOHGHyekZR"
      },
      "source": [
        "### Stratified K-Fold"
      ]
    },
    {
      "cell_type": "markdown",
      "metadata": {
        "id": "ORGyig8Levb-"
      },
      "source": [
        "only for classification and imbalanced data"
      ]
    },
    {
      "cell_type": "code",
      "metadata": {
        "colab": {
          "base_uri": "https://localhost:8080/"
        },
        "id": "069CVNGFd9gI",
        "outputId": "08af774b-26fc-45f4-f46b-a6d16894ee1e"
      },
      "source": [
        "sk = StratifiedKFold(n_splits=5, shuffle=True)\n",
        "clf =  cross_validate(logit,X_train, y_train,\n",
        "                      scoring='accuracy',\n",
        "                      return_train_score=True,\n",
        "                      cv=sk)\n",
        "clf['test_score']"
      ],
      "execution_count": null,
      "outputs": [
        {
          "output_type": "execute_result",
          "data": {
            "text/plain": [
              "array([0.9       , 0.975     , 0.9625    , 0.94936709, 0.92405063])"
            ]
          },
          "metadata": {},
          "execution_count": 38
        }
      ]
    },
    {
      "cell_type": "code",
      "metadata": {
        "colab": {
          "base_uri": "https://localhost:8080/",
          "height": 204
        },
        "id": "wW6zpigufH2n",
        "outputId": "398ec5a5-41e5-4a02-f58e-67df56fe1b45"
      },
      "source": [
        "pd.DataFrame(clf).tail()"
      ],
      "execution_count": null,
      "outputs": [
        {
          "output_type": "execute_result",
          "data": {
            "text/html": [
              "<div>\n",
              "<style scoped>\n",
              "    .dataframe tbody tr th:only-of-type {\n",
              "        vertical-align: middle;\n",
              "    }\n",
              "\n",
              "    .dataframe tbody tr th {\n",
              "        vertical-align: top;\n",
              "    }\n",
              "\n",
              "    .dataframe thead th {\n",
              "        text-align: right;\n",
              "    }\n",
              "</style>\n",
              "<table border=\"1\" class=\"dataframe\">\n",
              "  <thead>\n",
              "    <tr style=\"text-align: right;\">\n",
              "      <th></th>\n",
              "      <th>fit_time</th>\n",
              "      <th>score_time</th>\n",
              "      <th>test_score</th>\n",
              "      <th>train_score</th>\n",
              "    </tr>\n",
              "  </thead>\n",
              "  <tbody>\n",
              "    <tr>\n",
              "      <th>0</th>\n",
              "      <td>0.013335</td>\n",
              "      <td>0.001472</td>\n",
              "      <td>0.900000</td>\n",
              "      <td>0.974843</td>\n",
              "    </tr>\n",
              "    <tr>\n",
              "      <th>1</th>\n",
              "      <td>0.007782</td>\n",
              "      <td>0.001591</td>\n",
              "      <td>0.975000</td>\n",
              "      <td>0.974843</td>\n",
              "    </tr>\n",
              "    <tr>\n",
              "      <th>2</th>\n",
              "      <td>0.009041</td>\n",
              "      <td>0.001967</td>\n",
              "      <td>0.962500</td>\n",
              "      <td>0.974843</td>\n",
              "    </tr>\n",
              "    <tr>\n",
              "      <th>3</th>\n",
              "      <td>0.009002</td>\n",
              "      <td>0.001575</td>\n",
              "      <td>0.949367</td>\n",
              "      <td>0.978056</td>\n",
              "    </tr>\n",
              "    <tr>\n",
              "      <th>4</th>\n",
              "      <td>0.008946</td>\n",
              "      <td>0.001654</td>\n",
              "      <td>0.924051</td>\n",
              "      <td>0.984326</td>\n",
              "    </tr>\n",
              "  </tbody>\n",
              "</table>\n",
              "</div>"
            ],
            "text/plain": [
              "   fit_time  score_time  test_score  train_score\n",
              "0  0.013335    0.001472    0.900000     0.974843\n",
              "1  0.007782    0.001591    0.975000     0.974843\n",
              "2  0.009041    0.001967    0.962500     0.974843\n",
              "3  0.009002    0.001575    0.949367     0.978056\n",
              "4  0.008946    0.001654    0.924051     0.984326"
            ]
          },
          "metadata": {},
          "execution_count": 39
        }
      ]
    },
    {
      "cell_type": "markdown",
      "metadata": {
        "id": "_tMfCMAPiEUI"
      },
      "source": [
        "# Cross Validation with Grid Search"
      ]
    },
    {
      "cell_type": "markdown",
      "metadata": {
        "id": "o-CAmW9yiMCP"
      },
      "source": [
        "### Repeated K-fold"
      ]
    },
    {
      "cell_type": "code",
      "metadata": {
        "colab": {
          "base_uri": "https://localhost:8080/"
        },
        "id": "Zfms1fEPfJ7W",
        "outputId": "562e280d-59ae-424b-99a7-c8971bf9081e"
      },
      "source": [
        "logit = LogisticRegression(penalty ='l2', C=1, solver='liblinear',max_iter=10000)\n",
        "param_grid = dict(penalty=['l1', 'l2'],C=[0.1, 1, 10],)\n",
        "rkf = RepeatedKFold(n_splits=5,n_repeats=10)\n",
        "\n",
        "clf =  GridSearchCV(\n",
        "    logit,\n",
        "    param_grid,\n",
        "    scoring='accuracy',\n",
        "    cv=kf, \n",
        "    refit=True)\n",
        "\n",
        "search = clf.fit(X_train, y_train)\n",
        "search.best_params_"
      ],
      "execution_count": null,
      "outputs": [
        {
          "output_type": "execute_result",
          "data": {
            "text/plain": [
              "{'C': 10, 'penalty': 'l1'}"
            ]
          },
          "metadata": {},
          "execution_count": 51
        }
      ]
    },
    {
      "cell_type": "code",
      "metadata": {
        "colab": {
          "base_uri": "https://localhost:8080/",
          "height": 235
        },
        "id": "_4ZMu34qiyAc",
        "outputId": "e00b770b-125e-4b7c-9944-1b77a745fceb"
      },
      "source": [
        "pd.DataFrame(search.cv_results_)[['params', 'mean_test_score', 'std_test_score']]"
      ],
      "execution_count": null,
      "outputs": [
        {
          "output_type": "execute_result",
          "data": {
            "text/html": [
              "<div>\n",
              "<style scoped>\n",
              "    .dataframe tbody tr th:only-of-type {\n",
              "        vertical-align: middle;\n",
              "    }\n",
              "\n",
              "    .dataframe tbody tr th {\n",
              "        vertical-align: top;\n",
              "    }\n",
              "\n",
              "    .dataframe thead th {\n",
              "        text-align: right;\n",
              "    }\n",
              "</style>\n",
              "<table border=\"1\" class=\"dataframe\">\n",
              "  <thead>\n",
              "    <tr style=\"text-align: right;\">\n",
              "      <th></th>\n",
              "      <th>params</th>\n",
              "      <th>mean_test_score</th>\n",
              "      <th>std_test_score</th>\n",
              "    </tr>\n",
              "  </thead>\n",
              "  <tbody>\n",
              "    <tr>\n",
              "      <th>0</th>\n",
              "      <td>{'C': 0.1, 'penalty': 'l1'}</td>\n",
              "      <td>0.924684</td>\n",
              "      <td>0.019329</td>\n",
              "    </tr>\n",
              "    <tr>\n",
              "      <th>1</th>\n",
              "      <td>{'C': 0.1, 'penalty': 'l2'}</td>\n",
              "      <td>0.944715</td>\n",
              "      <td>0.015146</td>\n",
              "    </tr>\n",
              "    <tr>\n",
              "      <th>2</th>\n",
              "      <td>{'C': 1, 'penalty': 'l1'}</td>\n",
              "      <td>0.954778</td>\n",
              "      <td>0.012744</td>\n",
              "    </tr>\n",
              "    <tr>\n",
              "      <th>3</th>\n",
              "      <td>{'C': 1, 'penalty': 'l2'}</td>\n",
              "      <td>0.957342</td>\n",
              "      <td>0.012624</td>\n",
              "    </tr>\n",
              "    <tr>\n",
              "      <th>4</th>\n",
              "      <td>{'C': 10, 'penalty': 'l1'}</td>\n",
              "      <td>0.964842</td>\n",
              "      <td>0.016560</td>\n",
              "    </tr>\n",
              "    <tr>\n",
              "      <th>5</th>\n",
              "      <td>{'C': 10, 'penalty': 'l2'}</td>\n",
              "      <td>0.957278</td>\n",
              "      <td>0.010051</td>\n",
              "    </tr>\n",
              "  </tbody>\n",
              "</table>\n",
              "</div>"
            ],
            "text/plain": [
              "                        params  mean_test_score  std_test_score\n",
              "0  {'C': 0.1, 'penalty': 'l1'}         0.924684        0.019329\n",
              "1  {'C': 0.1, 'penalty': 'l2'}         0.944715        0.015146\n",
              "2    {'C': 1, 'penalty': 'l1'}         0.954778        0.012744\n",
              "3    {'C': 1, 'penalty': 'l2'}         0.957342        0.012624\n",
              "4   {'C': 10, 'penalty': 'l1'}         0.964842        0.016560\n",
              "5   {'C': 10, 'penalty': 'l2'}         0.957278        0.010051"
            ]
          },
          "metadata": {},
          "execution_count": 52
        }
      ]
    },
    {
      "cell_type": "markdown",
      "metadata": {
        "id": "IWu06SCn0fF0"
      },
      "source": [
        "### Leave P out"
      ]
    },
    {
      "cell_type": "code",
      "metadata": {
        "id": "_d_7zXPiv_4o"
      },
      "source": [
        "logit = LogisticRegression(penalty ='l2', C=1, solver='liblinear',max_iter=10000)\n",
        "param_grid = dict(penalty=['l1', 'l2'],C=[0.1, 1, 10],)\n",
        "lp = LeavePOut(p=2)\n",
        "\n",
        "clf =  GridSearchCV(\n",
        "    logit,\n",
        "    param_grid,\n",
        "    scoring='accuracy',\n",
        "    cv=lp, \n",
        "    refit=True)\n",
        "\n",
        "search = clf.fit(X_train, y_train)\n",
        "search.best_params_"
      ],
      "execution_count": null,
      "outputs": []
    },
    {
      "cell_type": "code",
      "metadata": {
        "id": "OxaGx3xJ0sVq"
      },
      "source": [
        "pd.DataFrame(search.cv_results_)[['params', 'mean_test_score', 'std_test_score']]"
      ],
      "execution_count": null,
      "outputs": []
    }
  ]
}