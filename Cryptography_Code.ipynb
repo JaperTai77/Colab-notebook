{
  "nbformat": 4,
  "nbformat_minor": 0,
  "metadata": {
    "colab": {
      "name": "Code.ipynb",
      "provenance": [],
      "collapsed_sections": [
        "-6x99AUf3-zm",
        "wBNs_Icy4C1t",
        "CpHKK37P4IJg",
        "v_T1NnLU5LJs",
        "I7aftaxw5lYS",
        "5n0lWF_s5pPY",
        "hLllv6zb6cRH",
        "NVs49aAX6sY9",
        "F-kBwEpL7Yc8",
        "d-3nL6mT7gkp",
        "0LXMkJ948V7S",
        "w3wd4X--8kXj",
        "38iOjd-39C7v",
        "2j45RBIH846P",
        "we3WBLMu-XNk",
        "lA_ZwGyr_0RR",
        "5nRRn9fO_VGg",
        "Zne2tWbIAK-r",
        "x6RmVpFZ0D1G",
        "-OyP7Kplg2_W",
        "GcFjAgEkhMdW"
      ],
      "authorship_tag": "ABX9TyN5HQ0KTQM0H3o5WQtnVTpF",
      "include_colab_link": true
    },
    "kernelspec": {
      "name": "python3",
      "display_name": "Python 3"
    },
    "language_info": {
      "name": "python"
    }
  },
  "cells": [
    {
      "cell_type": "markdown",
      "metadata": {
        "id": "view-in-github",
        "colab_type": "text"
      },
      "source": [
        "<a href=\"https://colab.research.google.com/github/JaperTai77/Colab-notebook/blob/main/Cryptography_Code.ipynb\" target=\"_parent\"><img src=\"https://colab.research.google.com/assets/colab-badge.svg\" alt=\"Open In Colab\"/></a>"
      ]
    },
    {
      "cell_type": "markdown",
      "metadata": {
        "id": "-6x99AUf3-zm"
      },
      "source": [
        "## Shift"
      ]
    },
    {
      "cell_type": "code",
      "metadata": {
        "id": "OD1BAKPI3tz6"
      },
      "source": [
        "from collections import Counter\n",
        "import numpy as np\n",
        "import math\n",
        "# Functions to encode/decode using a shift cipher\n",
        "\n",
        "def shift_encode(plaintext, shift):\n",
        "    alphabet = 'abcdefghijklmnopqrstuvwxyz'\n",
        "    ciphertext = ''\n",
        "    for char in plaintext:\n",
        "      old_index = alphabet.find(char)\n",
        "      new_index = (old_index + shift) % 26\n",
        "      ciphertext += alphabet[new_index]\n",
        "    return ciphertext\n",
        "\n",
        "def shift_decode(ciphertext, shift):\n",
        "  alphabet = 'abcdefghijklmnopqrstuvwxyz'\n",
        "  plaintext = ''\n",
        "  for char in ciphertext:\n",
        "      old_index = alphabet.find(char)\n",
        "      new_index = (old_index - shift) % 26\n",
        "      plaintext += alphabet[new_index]\n",
        "  return plaintext"
      ],
      "execution_count": null,
      "outputs": []
    },
    {
      "cell_type": "code",
      "metadata": {
        "colab": {
          "base_uri": "https://localhost:8080/"
        },
        "id": "Qb_vuQLtbUfP",
        "outputId": "f68d5752-8450-403e-d662-441cf9c8d8a1"
      },
      "source": [
        "m = \"djncjtz kmk,zaqt wng kj wg oqlnf, nld pjcznqlfg zaj wmtz qwemcznlz, fjzzjc q tjld.gmy wng kj zaj mlfg mlj bam pnl tnhj aywnlqzg.  ylomczylnzjfg, zajcj qt lmjtpnej omc yt.  jhj bnt zaj wntzjcwqld nff nfmli.  bj omyld ajc tjpcjzdqncg.  qz bnt taj bam kyqfz zaqt djojpz qlzm zaj hnppqlj bqzamyz nlg mo ytcjnfqxqli qz.  taj bnt zaj mlj bam eytajd zaj hnppqlj zacmyia pfqlqpnfzcqnft tm uyqpsfg.  taj fjd yt ntzcng nt bj omyiaz zm oqld n tmfyzqml.  zajmlfg immd ljbt – lmb zanz bj yldjctznld banz jhj dqd, bj nftm anhj nemzjlzqnf tmfyzqml.  n hnppqlj zm myc hnppqlj tamyfd kj emttqkfj, nld zajpmwemyldt ljjdjd zm pcjnzj mlj tamyfd nff kj nkyldnlzfg nhnqfnkfj zm gmy.banz gmy bqff ljjd qt zaj hjlmw mo n kncs tpmceqml, zaj teqljt mo n tniyncmpnpzyt, nld zaj znqf oyc mo n pmnzqwyldq.  znsj zaqt qlomcwnzqml zm wgpmffjniyj dc paqfdjct nz zaj ylqhjctqzg mo ncqxmln!  zmijzajc gmy pnl tzqfftnhj zaj bmcfd!tqlpjcjfg,nfqpj\"\n",
        "m = m.replace(' ','')\n",
        "m = m.replace(',','')\n",
        "m = m.replace('.','')\n",
        "for i in range(1,27):\n",
        "  print(shift_decode(m,i))"
      ],
      "execution_count": null,
      "outputs": [
        {
          "output_type": "stream",
          "text": [
            "cimbisyjljyzpsvmfjivfnpkmemkcoibympkefyzivlsypvdlbymkyeiyyibpsikcflxvmfjiyzilkeflkiazlomksmgizxvmkpyfxknlbyxkmyiefyzibipsklisomdinlbxsigiamsyzivmsyibvpkcmeemelkhainlxkczibsiobiycpmbfpyamssziazljxpeyyzpscinioypkylyzigmoopkiapyzlxymkflnxsbimepwpkhpysziamsyzilkiazldxszicyzigmoopkiyzblxhzoepkpomeybpmessltxporefszieicxsmsybmfmsainlxhzyylnpkcmslexyplkyzilkefhllckiasyklayzmyaixkcibsymkcazmyigicpcaimeslzmgimdlyikypmeslexyplkmgmoopkiyllxbgmoopkiszlxecjidlsspjeimkcyziolvdlxkcskiicicylobimyilkiszlxecmeejimjxkcmkyefmgmpemjeiylflxazmyflxapeekiicpsyzigiklvlnmjmbrsolbdplkyzisdpkislnmsmhxmblomoyxsmkcyziympenxblnmolmypvxkcpymriyzpspknlbvmyplkylvfoleeimhxicbozpecibsmyyzixkpgibspyflnmbpwlkmyylhiyzibflxomksypeesmgiyzialbecyspkoibiefmepoi\n",
            "bhlahrxikixyoruleihuemojldljbnhaxlojdexyhukrxouckaxljxdhxxhaorhjbekwuleihxyhkjdekjhzyknljrlfhywuljoxewjmkaxwjlxhdexyhahorjkhrnlchmkawrhfhzlrxyhulrxhauojblddldkjgzhmkwjbyharhnahxbolaeoxzlrryhzykiwodxxyorbhmhnxojxkxyhflnnojhzoxykwxljekmwrahldovojgoxryhzlrxyhkjhzykcwryhbxyhflnnojhxyakwgyndojonldxaoldrrkswonqderyhdhbwrlrxalelrzhmkwgyxxkmojblrkdwxokjxyhkjdegkkbjhzrxjkzxylxzhwjbharxljbzylxhfhbobzhldrkylfhlckxhjxoldrkdwxokjlflnnojhxkkwaflnnojhrykwdbihckrroidhljbxyhnkuckwjbrjhhbhbxknahlxhkjhrykwdblddihliwjbljxdelflodlidhxkekwzylxekwzoddjhhborxyhfhjkukmlilaqrnkacokjxyhrcojhrkmlrlgwlaknlnxwrljbxyhxlodmwakmlnklxouwjboxlqhxyorojmkaulxokjxkuenkddhlgwhbanyodbharlxxyhwjofharoxekmlaovkjlxxkghxyhaekwnljrxoddrlfhxyhzkadbxrojnhahdeldonh\n",
            "agkzgqwhjhwxnqtkdhgtdlnikckiamgzwknicdwxgtjqwntbjzwkiwcgwwgznqgiadjvtkdhgwxgjicdjigyxjmkiqkegxvtkinwdviljzwvikwgcdwxgzgnqijgqmkbgljzvqgegykqwxgtkqwgztniakcckcjifygljviaxgzqgmzgwankzdnwykqqxgyxjhvncwwxnqaglgmwniwjwxgekmmnigynwxjvwkidjlvqzgkcnunifnwqxgykqwxgjigyxjbvqxgawxgekmmnigwxzjvfxmcninmkcwznkcqqjrvnmpcdqxgcgavqkqwzkdkqygljvfxwwjlniakqjcvwnjiwxgjicdfjjaigyqwijywxkwygviagzqwkiayxkwgeganaygkcqjxkegkbjwgiwnkcqjcvwnjikekmmnigwjjvzekmmnigqxjvcahgbjqqnhcgkiawxgmjtbjviaqiggagawjmzgkwgjigqxjvcakcchgkhviakiwcdkeknckhcgwjdjvyxkwdjvynccigganqwxgegijtjlkhkzpqmjzbnjiwxgqbnigqjlkqkfvkzjmkmwvqkiawxgwknclvzjlkmjkwntvianwkpgwxnqniljztkwnjiwjtdmjccgkfvgazmxncagzqkwwxgvinegzqnwdjlkznujikwwjfgwxgzdjvmkiqwnccqkegwxgyjzcawqnimgzgcdkcnmg\n",
            "zfjyfpvgigvwmpsjcgfsckmhjbjhzlfyvjmhbcvwfsipvmsaiyvjhvbfvvfympfhzciusjcgfvwfihbcihfxwiljhpjdfwusjhmvcuhkiyvuhjvfbcvwfyfmphifpljafkiyupfdfxjpvwfsjpvfysmhzjbbjbihexfkiuhzwfypflyfvzmjycmvxjppwfxwigumbvvwmpzfkflvmhvivwfdjllmhfxmvwiuvjhcikupyfjbmtmhemvpwfxjpvwfihfxwiaupwfzvwfdjllmhfvwyiuewlbmhmljbvymjbppiqumlobcpwfbfzupjpvyjcjpxfkiuewvvikmhzjpibuvmihvwfihbceiizhfxpvhixvwjvxfuhzfypvjhzxwjvfdfzmzxfjbpiwjdfjaivfhvmjbpibuvmihjdjllmhfviiuydjllmhfpwiubzgfaippmgbfjhzvwflisaiuhzphffzfzvilyfjvfihfpwiubzjbbgfjguhzjhvbcjdjmbjgbfviciuxwjvciuxmbbhffzmpvwfdfhisikjgjyopliyamihvwfpamhfpikjpjeujyiljlvupjhzvwfvjmbkuyikjlijvmsuhzmvjofvwmpmhkiysjvmihvisclibbfjeufzylwmbzfypjvvwfuhmdfypmvcikjymtihjvviefvwfyciuljhpvmbbpjdfvwfxiybzvpmhlfyfbcjbmlf\n",
            "yeixeoufhfuvloribferbjlgiaigykexuilgabuverhoulrzhxuiguaeuuexloegybhtribfeuvehgabhgewvhkigoicevtriglubtgjhxutgiueabuvexelogheokizejhxtoecewiouveriouexrlgyiaaiahgdwejhtgyvexoekxeuylixbluwioovewvhftlauuvloyejekulguhuvecikklgewluvhtuigbhjtoxeialslgdluovewiouvehgewvhztoveyuvecikklgeuvxhtdvkalglkiauxliaoohptlknaboveaeytoiouxibiowejhtdvuuhjlgyiohatulhguvehgabdhhygewoughwuviuwetgyexouigywviueceylyweiaohviceizhueguliaohatulhgicikklgeuhhtxcikklgeovhtayfezhoolfaeigyuvekhrzhtgyogeeyeyuhkxeiuehgeovhtayiaafeiftgyiguabicilaifaeuhbhtwviubhtwlaageeylouveceghrhjifixnokhxzlhguveozlgeohjioidtixhkikutoigyuveuilajtxhjikhiulrtgyluineuvlolgjhxriulhguhrbkhaaeidteyxkvlayexoiuuvetglcexolubhjixlshgiuuhdeuvexbhtkigoulaaoiceuvewhxayuolgkexeabialke\n",
            "xdhwdntegetuknqhaedqaikfhzhfxjdwthkfzatudqgntkqygwthftzdttdwkndfxagsqhaedtudgfzagfdvugjhfnhbdusqhfktasfigwtsfhtdzatudwdknfgdnjhydigwsndbdvhntudqhntdwqkfxhzzhzgfcvdigsfxudwndjwdtxkhwaktvhnnudvugeskzttuknxdidjtkftgtudbhjjkfdvktugsthfagisnwdhzkrkfcktnudvhntudgfdvugysnudxtudbhjjkfdtuwgscujzkfkjhztwkhznngoskjmzanudzdxsnhntwhahnvdigscuttgikfxhngzstkgftudgfzacggxfdvntfgvtuhtvdsfxdwnthfxvuhtdbdxkxvdhznguhbdhygtdftkhzngzstkgfhbhjjkfdtggswbhjjkfdnugszxedygnnkezdhfxtudjgqygsfxnfddxdxtgjwdhtdgfdnugszxhzzedhesfxhftzahbhkzhezdtgagsvuhtagsvkzzfddxkntudbdfgqgihehwmnjgwykgftudnykfdngihnhcshwgjhjtsnhfxtudthkziswgihjghtkqsfxkthmdtuknkfigwqhtkgftgqajgzzdhcsdxwjukzxdwnhttudsfkbdwnktagihwkrgfhttgcdtudwagsjhfntkzznhbdtudvgwzxtnkfjdwdzahzkjd\n",
            "wcgvcmsdfdstjmpgzdcpzhjegygewicvsgjeyzstcpfmsjpxfvsgesycsscvjmcewzfrpgzdcstcfeyzfecutfigemgactrpgejszrehfvsregscyzstcvcjmefcmigxchfvrmcacugmstcpgmscvpjewgyygyfebuchfrewtcvmcivcswjgvzjsugmmtcutfdrjysstjmwchcisjesfstcagiijecujstfrsgezfhrmvcgyjqjebjsmtcugmstcfecutfxrmtcwstcagiijecstvfrbtiyjejigysvjgymmfnrjilyzmtcycwrmgmsvgzgmuchfrbtssfhjewgmfyrsjfestcfeyzbffwecumsefustgsucrewcvmsgewutgscacwjwucgymftgacgxfscesjgymfyrsjfegagiijecsffrvagiijecmtfrywdcxfmmjdycgewstcifpxfrewmeccwcwsfivcgscfecmtfrywgyydcgdrewgesyzgagjygdycsfzfrutgszfrujyyeccwjmstcacefpfhgdgvlmifvxjfestcmxjecmfhgmgbrgvfigisrmgewstcsgjyhrvfhgifgsjprewjsglcstjmjehfvpgsjfesfpzifyycgbrcwvitjywcvmgsstcrejacvmjszfhgvjqfegssfbcstcvzfrigemsjyymgacstcufvywsmjeicvcyzgyjic\n",
            "vbfublrcecrsilofycboygidfxfdvhburfidxyrsboelrioweurfdrxbrrbuilbdvyeqofycbrsbedxyedbtsehfdlfzbsqofdiryqdgeurqdfrbxyrsbubildeblhfwbgeuqlbzbtflrsboflrbuoidvfxxfxedatbgeqdvsbulbhubrvifuyirtfllsbtsecqixrrsilvbgbhridrersbzfhhidbtirseqrfdyegqlubfxipidairlsbtflrsbedbtsewqlsbvrsbzfhhidbrsueqashxidihfxruifxllemqihkxylsbxbvqlflrufyfltbgeqasrregidvflexqriedrsbedxyaeevdbtlrdetrsfrtbqdvbulrfdvtsfrbzbvivtbfxlesfzbfwerbdrifxlexqriedfzfhhidbreequzfhhidblseqxvcbwellicxbfdvrsbheoweqdvldbbvbvrehubfrbedblseqxvfxxcbfcqdvfdrxyfzfixfcxbreyeqtsfryeqtixxdbbvilrsbzbdeoegfcfuklheuwiedrsblwidblegflfaqfuehfhrqlfdvrsbrfixgquegfhefrioqdvirfkbrsilidgeuofriedreoyhexxbfaqbvuhsixvbulfrrsbqdizbuliryegfuipedfrreabrsbuyeqhfdlrixxlfzbrsbteuxvrlidhbubxyfxihb\n",
            "uaetakqbdbqrhknexbanxfhcewecugatqehcwxqrandkqhnvdtqecqwaqqathkacuxdpnexbaqradcwxdcasrdgeckeyarpnechqxpcfdtqpceqawxqratahkcdakgevafdtpkayasekqranekqatnhcuewwewdczsafdpcuratkagtaquhetxhqsekkrasrdbphwqqrhkuafagqhcqdqrayegghcashqrdpqecxdfpktaewhohczhqkrasekqradcasrdvpkrauqrayegghcaqrtdpzrgwhchgewqthewkkdlphgjwxkrawaupkekqtexeksafdpzrqqdfhcuekdwpqhdcqradcwxzdducaskqcdsqreqsapcuatkqecusreqayauhusaewkdreyaevdqacqhewkdwpqhdceyegghcaqddptyegghcakrdpwubavdkkhbwaecuqragdnvdpcukcaauauqdgtaeqadcakrdpwuewwbaebpcuecqwxeyehwebwaqdxdpsreqxdpshwwcaauhkqrayacdndfebetjkgdtvhdcqrakvhcakdfekezpetdgegqpkecuqraqehwfptdfegdeqhnpcuhqejaqrhkhcfdtneqhdcqdnxgdwwaezpautgrhwuatkeqqrapchyatkhqxdfethodceqqdzaqratxdpgeckqhwwkeyaqrasdtwuqkhcgatawxewhga\n",
            "tzdszjpacapqgjmdwazmwegbdvdbtfzspdgbvwpqzmcjpgmucspdbpvzppzsgjzbtwcomdwazpqzcbvwcbzrqcfdbjdxzqomdbgpwobecspobdpzvwpqzszgjbczjfduzecsojzxzrdjpqzmdjpzsmgbtdvvdvcbyrzecobtqzsjzfszptgdswgprdjjqzrqcaogvppqgjtzezfpgbpcpqzxdffgbzrgpqcopdbwceojszdvgngbygpjqzrdjpqzcbzrqcuojqztpqzxdffgbzpqscoyqfvgbgfdvpsgdvjjckogfivwjqzvztojdjpsdwdjrzecoyqppcegbtdjcvopgcbpqzcbvwycctbzrjpbcrpqdprzobtzsjpdbtrqdpzxztgtrzdvjcqdxzducpzbpgdvjcvopgcbdxdffgbzpccosxdffgbzjqcovtazucjjgavzdbtpqzfcmucobtjbzztztpcfszdpzcbzjqcovtdvvazdaobtdbpvwdxdgvdavzpcwcorqdpwcorgvvbzztgjpqzxzbcmcedadsijfcsugcbpqzjugbzjcedjdyodscfdfpojdbtpqzpdgveoscedfcdpgmobtgpdizpqgjgbecsmdpgcbpcmwfcvvzdyoztsfqgvtzsjdppqzobgxzsjgpwcedsgncbdppcyzpqzswcofdbjpgvvjdxzpqzrcsvtpjgbfzszvwdvgfz\n",
            "sycryiozbzopfilcvzylvdfacucaseyrocfauvopylbiofltbrocaouyooyrfiyasvbnlcvzyopybauvbayqpbecaicwypnlcafovnadbronacoyuvopyryfiabyiectydbrniywyqciopylcioyrlfascuucubaxqydbnaspyriyeryosfcrvfoqciipyqpbznfuoopfisydyeofaobopywceefayqfopbnocavbdnirycufmfaxfoipyqciopybayqpbtnipysopywceefayoprbnxpeufafecuorfcuiibjnfehuvipyuysniciorcvciqydbnxpoobdfascibunofbaopybauvxbbsayqioabqopcoqynasyriocasqpcoywysfsqycuibpcwyctboyaofcuibunofbacwceefayobbnrwceefayipbnuszytbiifzuycasopyebltbnasiayysysoberycoybayipbnuscuuzycznascaouvcwcfuczuyobvbnqpcovbnqfuuayysfiopywyablbdczcrhiebrtfbaopyitfayibdcicxncrbeceonicasopyocfudnrbdcebcoflnasfochyopfifadbrlcofbaoblvebuuycxnysrepfusyricoopynafwyrifovbdcrfmbacoobxyopyrvbnecaiofuuicwyopyqbrusoifaeyryuvcufey\n",
            "rxbqxhnyaynoehkbuyxkucezbtbzrdxqnbeztunoxkahneksaqnbzntxnnxqehxzruamkbuyxnoxaztuazxpoadbzhbvxomkbzenumzcaqnmzbnxtunoxqxehzaxhdbsxcaqmhxvxpbhnoxkbhnxqkezrbttbtazwpxcamzroxqhxdqxnrebquenpbhhoxpoaymetnnoehrxcxdneznanoxvbddezxpenoamnbzuacmhqxbtelezwenhoxpbhnoxazxpoasmhoxrnoxvbddezxnoqamwodtezedbtnqebthhaimedgtuhoxtxrmhbhnqbubhpxcamwonnacezrbhatmneaznoxaztuwaarzxphnzapnobnpxmzrxqhnbzrpobnxvxrerpxbthaobvxbsanxznebthatmneazbvbddezxnaamqvbddezxhoamtryxsahheytxbzrnoxdaksamzrhzxxrxrnadqxbnxazxhoamtrbttyxbymzrbzntubvbetbytxnauampobnuampettzxxrehnoxvxzakacbybqghdaqseaznoxhsezxhacbhbwmbqadbdnmhbzrnoxnbetcmqacbdabnekmzrenbgxnoehezcaqkbneaznakudattxbwmxrqdoetrxqhbnnoxmzevxqhenuacbqelazbnnawxnoxquamdbzhnetthbvxnoxpaqtrnhezdxqxtubtedx\n",
            "qwapwgmxzxmndgjatxwjtbdyasayqcwpmadystmnwjzgmdjrzpmaymswmmwpdgwyqtzljatxwmnwzystzywonzcaygauwnljaydmtlybzpmlyamwstmnwpwdgyzwgcarwbzplgwuwoagmnwjagmwpjdyqassaszyvowbzlyqnwpgwcpwmqdaptdmoaggnwonzxldsmmndgqwbwcmdymzmnwuaccdywodmnzlmaytzblgpwasdkdyvdmgnwoagmnwzywonzrlgnwqmnwuaccdywmnpzlvncsdydcasmpdasggzhldcfstgnwswqlgagmpatagowbzlvnmmzbdyqagzslmdzymnwzystvzzqywogmyzomnamowlyqwpgmayqonamwuwqdqowasgznauwarzmwymdasgzslmdzyauaccdywmzzlpuaccdywgnzlsqxwrzggdxswayqmnwczjrzlyqgywwqwqmzcpwamwzywgnzlsqassxwaxlyqaymstauadsaxswmztzlonamtzlodssywwqdgmnwuwyzjzbaxapfgczprdzymnwgrdywgzbagavlapzcacmlgayqmnwmadsblpzbaczamdjlyqdmafwmndgdybzpjamdzymzjtczsswavlwqpcndsqwpgammnwlyduwpgdmtzbapdkzyammzvwmnwptzlcaygmdssgauwmnwozpsqmgdycwpwstasdcw\n",
            "pvzovflwywlmcfizswvisacxzrzxpbvolzcxrslmviyflciqyolzxlrvllvocfvxpsykizswvlmvyxrsyxvnmybzxfztvmkizxclskxayolkxzlvrslmvovcfxyvfbzqvayokfvtvnzflmvizflvoicxpzrrzryxunvaykxpmvofvbovlpczosclnzffmvnmywkcrllmcfpvavblcxlylmvtzbbcxvnclmyklzxsyakfovzrcjcxuclfmvnzflmvyxvnmyqkfmvplmvtzbbcxvlmoykumbrcxcbzrloczrffygkcbersfmvrvpkfzflozszfnvaykumllyacxpzfyrklcyxlmvyxrsuyypxvnflxynlmzlnvkxpvoflzxpnmzlvtvpcpnvzrfymztvzqylvxlczrfyrklcyxztzbbcxvlyykotzbbcxvfmykrpwvqyffcwrvzxplmvbyiqykxpfxvvpvplybovzlvyxvfmykrpzrrwvzwkxpzxlrsztzcrzwrvlysyknmzlsykncrrxvvpcflmvtvxyiyazwzoefbyoqcyxlmvfqcxvfyazfzukzoybzblkfzxplmvlzcrakoyazbyzlcikxpclzevlmcfcxayoizlcyxlyisbyrrvzukvpobmcrpvofzllmvkxctvofclsyazocjyxzllyuvlmvosykbzxflcrrfztvlmvnyorplfcxbvovrszrcbv\n",
            "ouynuekvxvklbehyrvuhrzbwyqywoaunkybwqrkluhxekbhpxnkywkqukkunbeuworxjhyrvukluxwqrxwumlxayweysuljhywbkrjwzxnkjwykuqrklunubewxueaypuzxnjeusumyekluhyekunhbwoyqqyqxwtmuzxjwoluneuanukobynrbkmyeelumlxvjbqkklbeouzuakbwkxklusyaabwumbklxjkywrxzjenuyqbibwtbkelumyekluxwumlxpjeluoklusyaabwuklnxjtlaqbwbayqknbyqeexfjbadqreluquojeyeknyryemuzxjtlkkxzbwoyexqjkbxwkluxwqrtxxowumekwxmklykmujwounekywomlykusuobomuyqexlysuypxkuwkbyqexqjkbxwysyaabwukxxjnsyaabwuelxjqovupxeebvquywokluaxhpxjwoewuuouokxanuykuxwuelxjqoyqqvuyvjwoywkqrysybqyvqukxrxjmlykrxjmbqqwuuobeklusuwxhxzyvyndeaxnpbxwkluepbwuexzyeytjynxayakjeywoklukybqzjnxzyaxykbhjwobkyduklbebwzxnhykbxwkxhraxqquytjuonalbqouneykklujwbsunebkrxzynbixwykkxtuklunrxjaywekbqqeysuklumxnqokebwaunuqryqbau\n",
            "ntxmtdjuwujkadgxqutgqyavxpxvnztmjxavpqjktgwdjagowmjxvjptjjtmadtvnqwigxqutjktwvpqwvtlkwzxvdxrtkigxvajqivywmjivxjtpqjktmtadvwtdzxotywmidtrtlxdjktgxdjtmgavnxppxpwvsltywivnktmdtzmtjnaxmqajlxddktlkwuiapjjkadntytzjavjwjktrxzzavtlajkwijxvqwyidmtxpahavsajdktlxdjktwvtlkwoidktnjktrxzzavtjkmwiskzpavazxpjmaxpddweiazcpqdktptnidxdjmxqxdltywiskjjwyavnxdwpijawvjktwvpqswwnvtldjvwljkxjltivntmdjxvnlkxjtrtnanltxpdwkxrtxowjtvjaxpdwpijawvxrxzzavtjwwimrxzzavtdkwipnutowddauptxvnjktzwgowivndvttntnjwzmtxjtwvtdkwipnxpputxuivnxvjpqxrxapxuptjwqwilkxjqwilappvttnadjktrtvwgwyxuxmcdzwmoawvjktdoavtdwyxdxsixmwzxzjidxvnjktjxapyimwyxzwxjagivnajxctjkadavywmgxjawvjwgqzwpptxsitnmzkapntmdxjjktivartmdajqwyxmahwvxjjwstjktmqwizxvdjappdxrtjktlwmpnjdavztmtpqxpazt\n",
            "mswlscitvtijzcfwptsfpxzuwowumysliwzuopijsfvcizfnvliwuiosiislzcsumpvhfwptsijsvuopvuskjvywucwqsjhfwuziphuxvlihuwisopijslszcuvscywnsxvlhcsqskwcijsfwcislfzumwoowovurksxvhumjslcsylsimzwlpzikwccjskjvthzoiijzcmsxsyizuivijsqwyyzuskzijvhiwupvxhclswozgzurzicjskwcijsvuskjvnhcjsmijsqwyyzusijlvhrjyozuzywoilzwoccvdhzybopcjsosmhcwcilwpwcksxvhrjiivxzumwcvohizvuijsvuoprvvmuskciuvkijwikshumslciwumkjwisqsmzmkswocvjwqswnvisuizwocvohizvuwqwyyzusivvhlqwyyzuscjvhomtsnvccztoswumijsyvfnvhumcussmsmivylswisvuscjvhomwootswthumwuiopwqwzowtosivpvhkjwipvhkzooussmzcijsqsuvfvxwtwlbcyvlnzvuijscnzuscvxwcwrhwlvywyihcwumijsiwzoxhlvxwyvwizfhumziwbsijzczuxvlfwizvuivfpyvooswrhsmlyjzomslcwiijshuzqslczipvxwlzgvuwiivrsijslpvhywucizoocwqsijskvlomiczuyslsopwozys\n",
            "lrvkrbhsushiybevosreowytvnvtlxrkhvytnohireubhyemukhvthnrhhrkybrtlougevosrhirutnoutrjiuxvtbvprigevtyhogtwukhgtvhrnohirkrybturbxvmrwukgbrprjvbhirevbhrkeytlvnnvnutqjrwugtlirkbrxkrhlyvkoyhjvbbirjiusgynhhiyblrwrxhythuhirpvxxytrjyhiughvtouwgbkrvnyfytqyhbirjvbhirutrjiumgbirlhirpvxxytrhikugqixnytyxvnhkyvnbbucgyxanobirnrlgbvbhkvovbjrwugqihhuwytlvbunghyuthirutnoquultrjbhtujhivhjrgtlrkbhvtljivhrprlyljrvnbuivprvmuhrthyvnbunghyutvpvxxytrhuugkpvxxytrbiugnlsrmubbysnrvtlhirxuemugtlbtrrlrlhuxkrvhrutrbiugnlvnnsrvsgtlvthnovpvynvsnrhuougjivhougjynntrrlybhirprtueuwvsvkabxukmyuthirbmytrbuwvbvqgvkuxvxhgbvtlhirhvynwgkuwvxuvhyegtlyhvarhiybytwukevhyuthueoxunnrvqgrlkxiynlrkbvhhirgtyprkbyhouwvkyfutvhhuqrhirkougxvtbhynnbvprhirjuknlhbytxrkrnovnyxr\n",
            "kqujqagrtrghxadunrqdnvxsumuskwqjguxsmnghqdtagxdltjgusgmqggqjxaqskntfdunrqghqtsmntsqihtwusauoqhfdusxgnfsvtjgfsugqmnghqjqxastqawulqvtjfaqoqiuaghqduagqjdxskummumtspiqvtfskhqjaqwjqgkxujnxgiuaahqihtrfxmgghxakqvqwgxsgtghqouwwxsqixghtfgusntvfajqumxexspxgahqiuaghqtsqihtlfahqkghqouwwxsqghjtfphwmxsxwumgjxumaatbfxwzmnahqmqkfauagjunuaiqvtfphggtvxskuatmfgxtsghqtsmnpttksqiagstighugiqfskqjaguskihugqoqkxkiqumathuoqultgqsgxumatmfgxtsuouwwxsqgttfjouwwxsqahtfmkrqltaaxrmquskghqwtdltfskasqqkqkgtwjqugqtsqahtfmkummrqurfskusgmnuouxmurmqgtntfihugntfixmmsqqkxaghqoqstdtvurujzawtjlxtsghqalxsqatvuaupfujtwuwgfauskghqguxmvfjtvuwtugxdfskxguzqghxaxsvtjdugxtsgtdnwtmmqupfqkjwhxmkqjaugghqfsxoqjaxgntvujxetsuggtpqghqjntfwusagxmmauoqghqitjmkgaxswqjqmnumxwq\n",
            "jptipzfqsqfgwzctmqpcmuwrtltrjvpiftwrlmfgpcszfwcksiftrflpffpiwzprjmsectmqpfgpsrlmsrphgsvtrztnpgectrwfmerusifertfplmfgpipwzrspzvtkpusiezpnphtzfgpctzfpicwrjtlltlsrohpuserjgpizpvipfjwtimwfhtzzgphgsqewlffgwzjpupvfwrfsfgpntvvwrphwfgseftrmsueziptlwdwrowfzgphtzfgpsrphgskezgpjfgpntvvwrpfgiseogvlwrwvtlfiwtlzzsaewvylmzgplpjeztzfitmtzhpuseogffsuwrjtzslefwsrfgpsrlmossjrphzfrshfgtfhperjpizftrjhgtfpnpjwjhptlzsgtnptksfprfwtlzslefwsrtntvvwrpfsseintvvwrpzgseljqpkszzwqlptrjfgpvsckserjzrppjpjfsviptfpsrpzgseljtllqptqerjtrflmtntwltqlpfsmsehgtfmsehwllrppjwzfgpnprscsutqtiyzvsikwsrfgpzkwrpzsutztoetisvtvfeztrjfgpftwlueisutvstfwcerjwftypfgwzwrusictfwsrfscmvsllptoepjivgwljpiztffgperwnpizwfmsutiwdsrtffsopfgpimsevtrzfwllztnpfgphsiljfzwrvpiplmtlwvp\n",
            "ioshoyeprpefvybslpobltvqsksqiuohesvqklefobryevbjrhesqekoeeohvyoqilrdbslpoeforqklrqogfrusqysmofdbsqveldqtrhedqseoklefohovyqroyusjotrhdyomogsyefobsyeohbvqiskkskrqngotrdqifohyouhoeivshlvegsyyfogfrpdvkeefvyiotouevqerefomsuuvqogvefrdesqlrtdyhoskvcvqnveyfogsyeforqogfrjdyfoiefomsuuvqoefhrdnfukvqvuskehvskyyrzdvuxklyfokoidysyehslsygotrdnfeertvqisyrkdevrqeforqklnrriqogyeqrgefsegodqiohyesqigfseomoivigoskyrfsmosjreoqevskyrkdevrqsmsuuvqoerrdhmsuuvqoyfrdkipojryyvpkosqiefourbjrdqiyqooioieruhoseorqoyfrdkiskkpospdqisqeklsmsvkspkoerlrdgfselrdgvkkqooivyefomoqrbrtspshxyurhjvrqefoyjvqoyrtsysndshrusuedysqiefoesvktdhrtsursevbdqivesxoefvyvqtrhbsevrqerblurkkosndoihufvkiohyseefodqvmohyvelrtshvcrqseernoefohlrdusqyevkkysmoefogrhkieyvquohoklskvuo\n",
            "hnrgnxdoqodeuxarkonaksuprjrphtngdrupjkdenaqxduaiqgdrpdjnddnguxnphkqcarkondenqpjkqpnfeqtrpxrlnecarpudkcpsqgdcprdnjkdengnuxpqnxtrinsqgcxnlnfrxdenarxdngauphrjjrjqpmfnsqcphengxntgndhurgkudfrxxenfeqocujddeuxhnsntdupdqdenlrttupnfudeqcdrpkqscxgnrjubupmudxenfrxdenqpnfeqicxenhdenlrttupndegqcmetjuputrjdgurjxxqycutwjkxenjnhcxrxdgrkrxfnsqcmeddqsuphrxqjcduqpdenqpjkmqqhpnfxdpqfderdfncphngxdrphferdnlnhuhfnrjxqerlnriqdnpdurjxqjcduqprlrttupndqqcglrttupnxeqcjhoniqxxuojnrphdentqaiqcphxpnnhnhdqtgnrdnqpnxeqcjhrjjonrocphrpdjkrlrujrojndqkqcferdkqcfujjpnnhuxdenlnpqaqsrorgwxtqgiuqpdenxiupnxqsrxrmcrgqtrtdcxrphdendrujscgqsrtqrduacphudrwndeuxupsqgarduqpdqaktqjjnrmcnhgteujhngxrddencpulngxudkqsrgubqprddqmndengkqctrpxdujjxrlndenfqgjhdxuptngnjkrjutn\n",
            "gmqfmwcnpncdtwzqjnmzjrtoqiqogsmfcqtoijcdmzpwctzhpfcqocimccmftwmogjpbzqjnmcdmpoijpomedpsqowqkmdbzqotcjborpfcboqcmijcdmfmtwopmwsqhmrpfbwmkmeqwcdmzqwcmfztogqiiqipolemrpbogdmfwmsfmcgtqfjtceqwwdmedpnbticcdtwgmrmsctocpcdmkqsstometcdpbcqojprbwfmqitatoltcwdmeqwcdmpomedphbwdmgcdmkqsstomcdfpbldsitotsqicftqiwwpxbtsvijwdmimgbwqwcfqjqwemrpbldccprtogqwpibctpocdmpoijlppgomewcopecdqcembogmfwcqogedqcmkmgtgemqiwpdqkmqhpcmoctqiwpibctpoqkqsstomcppbfkqsstomwdpbignmhpwwtnimqogcdmspzhpbogwommgmgcpsfmqcmpomwdpbigqiinmqnbogqocijqkqtiqnimcpjpbedqcjpbetiiommgtwcdmkmopzprqnqfvwspfhtpocdmwhtomwprqwqlbqfpsqscbwqogcdmcqtirbfprqspqctzbogtcqvmcdtwtorpfzqctpocpzjspiimqlbmgfsdtigmfwqccdmbotkmfwtcjprqftapoqccplmcdmfjpbsqowctiiwqkmcdmepfigcwtosmfmijqitsm\n",
            "flpelvbmombcsvypimlyiqsnphpnfrlebpsnhibclyovbsygoebpnbhlbblesvlnfioaypimlbclonhionldcorpnvpjlcaypnsbianqoebanpblhibclelsvnolvrpglqoeavljldpvbclypvbleysnfphhphonkdlqoanfclevlrelbfspeisbdpvvcldcomashbbcsvflqlrbsnbobcljprrsnldsbcoabpnioqavelphszsnksbvcldpvbclonldcogavclfbcljprrsnlbceoakcrhsnsrphbesphvvowasruhivclhlfavpvbepipvdlqoakcbboqsnfpvohabsonbclonhikoofnldvbnodbcpbdlanflevbpnfdcpbljlfsfdlphvocpjlpgoblnbsphvohabsonpjprrsnlbooaejprrsnlvcoahfmlgovvsmhlpnfbclroygoanfvnllflfborelpblonlvcoahfphhmlpmanfpnbhipjpshpmhlboioadcpbioadshhnllfsvbcljlnoyoqpmpeuvroegsonbclvgsnlvoqpvpkapeorprbavpnfbclbpshqaeoqpropbsyanfsbpulbcsvsnqoeypbsonboyirohhlpkalfercshflevpbbclansjlevsbioqpeszonpbboklbcleioarpnvbshhvpjlbcldoehfbvsnrlelhiphsrl\n",
            "ekodkualnlabruxohlkxhprmogomeqkdaormghabkxnuarxfndaomagkaakdrukmehnzxohlkabknmghnmkcbnqomuoikbzxomrahzmpndazmoakghabkdkrumnkuqofkpndzukikcouabkxouakdxrmeoggognmjckpnzmebkdukqdkaerodhracouubkcbnlzrgaabruekpkqarmanabkioqqrmkcrabnzaomhnpzudkogryrmjraubkcouabknmkcbnfzubkeabkioqqrmkabdnzjbqgrmrqogadroguunvzrqtghubkgkezuouadohouckpnzjbaanprmeoungzarnmabknmghjnnemkcuamncaboackzmekduaomecboakikereckogunboikofnakmarogungzarnmoioqqrmkannzdioqqrmkubnzgelkfnuurlgkomeabkqnxfnzmeumkkekeanqdkoaknmkubnzgeogglkolzmeomaghoiorgolgkanhnzcboahnzcrggmkkeruabkikmnxnpolodtuqndfrnmabkufrmkunpouojzodnqoqazuomeabkaorgpzdnpoqnoarxzmeraotkabrurmpndxoarnmanxhqnggkojzkedqbrgekduoaabkzmrikdurahnpodrynmoaanjkabkdhnzqomuargguoikabkcndgeaurmqkdkghogrqk\n",
            "djncjtzkmkzaqtwngkjwgoqlnfnldpjcznqlfgzajwmtzqwemcznlzfjzzjcqtjldgmywngkjzajmlfgmljbampnltnhjaywnlqzgylomczylnzjfgzajcjqtlmjtpnejomcytjhjbntzajwntzjcwqldnffnfmlibjomyldajctjpcjzdqncgqzbnttajbamkyqfzzaqtdjojpzqlzmzajhnppqljbqzamyznlgmoytcjnfqxqliqztajbntzajmljbameytajdzajhnppqljzacmyiapfqlqpnfzcqnfttmuyqpsfgtajfjdytntzcngntbjomyiazzmoqldntmfyzqmlzajmlfgimmdljbtzlmbzanzbjyldjctznldbanzjhjdqdbjnftmanhjnemzjlzqnftmfyzqmlnhnppqljzmmychnppqljtamyfdkjemttqkfjnldzajpmwemyldtljjdjdzmpcjnzjmljtamyfdnffkjnkyldnlzfgnhnqfnkfjzmgmybanzgmybqffljjdqtzajhjlmwmonkncstpmceqmlzajteqljtmontniyncmpnpzytnldzajznqfoycmonpmnzqwyldqznsjzaqtqlomcwnzqmlzmwgpmffjniyjdcpaqfdjctnzzajylqhjctqzgmoncqxmlnzzmijzajcgmypnltzqfftnhjzajbmcfdztqlpjcjfgnfqpj\n"
          ],
          "name": "stdout"
        }
      ]
    },
    {
      "cell_type": "markdown",
      "metadata": {
        "id": "wBNs_Icy4C1t"
      },
      "source": [
        "## Sub"
      ]
    },
    {
      "cell_type": "code",
      "metadata": {
        "id": "kJT3ETsd395F"
      },
      "source": [
        "def print_for_analysis(ciphertext, plaintext):\n",
        "  for i in range(len(ciphertext) // 50 + 1):\n",
        "    print(ciphertext[i*50 : (i+1)*50])\n",
        "    print(plaintext[i*50 : (i+1)*50])\n",
        "    print()\n",
        "\n",
        "def replace(cipherchar, plainchar, ciphertext, plaintext):\n",
        "  text = ''\n",
        "  for i in range(len(ciphertext)):\n",
        "    if ciphertext[i] == cipherchar:\n",
        "      text += plainchar\n",
        "    else:\n",
        "      text += plaintext[i]\n",
        "  return text"
      ],
      "execution_count": null,
      "outputs": []
    },
    {
      "cell_type": "code",
      "metadata": {
        "colab": {
          "base_uri": "https://localhost:8080/"
        },
        "id": "-X2I--EghkPm",
        "outputId": "bd8c867a-f7d1-4249-be9d-e47cd5eab814"
      },
      "source": [
        "ciphertext = m\n",
        "plaintext = ''\n",
        "for i in range(len(m)):\n",
        "  plaintext += '-'\n",
        "\n",
        "cipherchar = 'd'\n",
        "plainchar = 'd'\n",
        "\n",
        "plaintext = replace(cipherchar, plainchar, ciphertext, plaintext)\n",
        "print_for_analysis(ciphertext, plaintext)"
      ],
      "execution_count": null,
      "outputs": [
        {
          "output_type": "stream",
          "text": [
            "djncjtzkmkzaqtwngkjwgoqlnfnldpjcznqlfgzajwmtzqwemc\n",
            "d---------------------------d---------------------\n",
            "\n",
            "znlzfjzzjcqtjldgmywngkjzajmlfgmljbampnltnhjaywnlqz\n",
            "--------------d-----------------------------------\n",
            "\n",
            "gylomczylnzjfgzajcjqtlmjtpnejomcytjhjbntzajwntzjcw\n",
            "--------------------------------------------------\n",
            "\n",
            "qldnffnfmlibjomyldajctjpcjzdqncgqzbnttajbamkyqfzza\n",
            "--d--------------d---------d----------------------\n",
            "\n",
            "qtdjojpzqlzmzajhnppqljbqzamyznlgmoytcjnfqxqliqztaj\n",
            "--d-----------------------------------------------\n",
            "\n",
            "bntzajmljbameytajdzajhnppqljzacmyiapfqlqpnfzcqnftt\n",
            "-----------------d--------------------------------\n",
            "\n",
            "muyqpsfgtajfjdytntzcngntbjomyiazzmoqldntmfyzqmlzaj\n",
            "-------------d-----------------------d------------\n",
            "\n",
            "mlfgimmdljbt–lmbzanzbjyldjctznldbanzjhjdqdbjnftman\n",
            "-------d----------------d------d-------d-d--------\n",
            "\n",
            "hjnemzjlzqnftmfyzqmlnhnppqljzmmychnppqljtamyfdkjem\n",
            "---------------------------------------------d----\n",
            "\n",
            "ttqkfjnldzajpmwemyldtljjdjdzmpcjnzjmljtamyfdnffkjn\n",
            "--------d----------d----d-d----------------d------\n",
            "\n",
            "kyldnlzfgnhnqfnkfjzmgmybanzgmybqffljjdqtzajhjlmwmo\n",
            "---d---------------------------------d------------\n",
            "\n",
            "nkncstpmceqmlzajteqljtmontniyncmpnpzytnldzajznqfoy\n",
            "----------------------------------------d---------\n",
            "\n",
            "cmonpmnzqwyldqznsjzaqtqlomcwnzqmlzmwgpmffjniyjdcpa\n",
            "------------d---------------------------------d---\n",
            "\n",
            "qfdjctnzzajylqhjctqzgmoncqxmln!zmijzajcgmypnltzqff\n",
            "--d-----------------------------------------------\n",
            "\n",
            "tnhjzajbmcfd!tqlpjcjfgnfqpj\n",
            "-----------d---------------\n",
            "\n"
          ],
          "name": "stdout"
        }
      ]
    },
    {
      "cell_type": "markdown",
      "metadata": {
        "id": "ckzTahsxz59Q"
      },
      "source": [
        "MAYBE MYFIN ALAND CERTA INLYT HEMOS TIMPO RTANT LETTE RISEN DYOUM AYBET HEONL YONEW HOCAN SAVEH UMANI TYUNF ORTUN ATELY THERE ISNOE SCAPE FORUS EVEWA STHEM ASTER MINDA LLALO NGWEF OUNDH ERSEC RETDI ARYIT WASSH EWHOB UILTT HISDE FECTI NTOTH EVACC INEWI THOUT ANYOF USREA LIZIN GITSH EWAST HEONE WHOPU SHEDT HEVAC CINET HROUG HCLIN ICALT RIALS SOQUI CKLYS HELED USAST RAYAS WEFOU GHTTO FINDA SOLUT IONTH EONLY GOODN EWSNO WTHAT WEUND ERSTA NDWHA TEVED IDWEA LSOHA VEAPO TENTI ALSOL UTION AVACC INETO OURVA CCINE SHOUL DBEPO SSIBL EANDT HECOM POUND SNEED EDTOC REATE ONESH OULDA LLBEA BUNDA NTLYA VAILA BLETO YOUWH ATYOU WILLN EEDIS THEVE NOMOF ABARK SCORP IONTH ESPIN ESOFA SAGUA ROCAC TUSAN DTHET AILFU ROFAC OATIM UNDIT AKETH ISINF ORMAT IONTO MYCOL LEAGU EDRCH ILDER SATTH EUNIV ERSIT YOFAR IZONA TOGET HERYO UCANS TILLS AVETH EWORLD"
      ]
    },
    {
      "cell_type": "code",
      "metadata": {
        "colab": {
          "base_uri": "https://localhost:8080/"
        },
        "id": "js_g4J50xwHK",
        "outputId": "2c1f731f-ddad-4152-b88a-db85213bb7ff"
      },
      "source": [
        "cipherchar = 's'\n",
        "plainchar = 'k'\n",
        "\n",
        "plaintext = replace(cipherchar, plainchar, ciphertext, plaintext)\n",
        "print_for_analysis(ciphertext, plaintext)"
      ],
      "execution_count": null,
      "outputs": [
        {
          "output_type": "stream",
          "text": [
            "djncjtzkmkzaqtwngkjwgoqlnfnldpjcznqlfgzajwmtzqwemc\n",
            "dearestbobthismaybemyfinalandcertainlythemostimpor\n",
            "\n",
            "znlzfjzzjcqtjldgmywngkjzajmlfgmljbampnltnhjaywnlqz\n",
            "tantletterisendyoumaybetheonlyonewhocansavehumanit\n",
            "\n",
            "gylomczylnzjfgzajcjqtlmjtpnejomcytjhjbntzajwntzjcw\n",
            "yunfortunatelythereisnoescapeforusevewasthemasterm\n",
            "\n",
            "qldnffnfmlibjomyldajctjpcjzdqncgqzbnttajbamkyqfzza\n",
            "indallalongwefoundhersecretdiaryitwasshewhobuiltth\n",
            "\n",
            "qtdjojpzqlzmzajhnppqljbqzamyznlgmoytcjnfqxqliqztaj\n",
            "isdefectintothevaccinewithoutanyofusrealizingitshe\n",
            "\n",
            "bntzajmljbameytajdzajhnppqljzacmyiapfqlqpnfzcqnftt\n",
            "wastheonewhopushedthevaccinethroughclinicaltrialss\n",
            "\n",
            "muyqpsfgtajfjdytntzcngntbjomyiazzmoqldntmfyzqmlzaj\n",
            "o-uicklysheledusastrayaswefoughttofindasolutionthe\n",
            "\n",
            "mlfgimmdljbt–lmbzanzbjyldjctznldbanzjhjdqdbjnftman\n",
            "onlygoodnews-nowthatweunderstandwhatevedidwealsoha\n",
            "\n",
            "hjnemzjlzqnftmfyzqmlnhnppqljzmmychnppqljtamyfdkjem\n",
            "veapotentialsolutionavaccinetoourvaccineshouldbepo\n",
            "\n",
            "ttqkfjnldzajpmwemyldtljjdjdzmpcjnzjmljtamyfdnffkjn\n",
            "ssibleandthecompoundsneededtocreateoneshouldallbea\n",
            "\n",
            "kyldnlzfgnhnqfnkfjzmgmybanzgmybqffljjdqtzajhjlmwmo\n",
            "bundantlyavailabletoyouwhatyouwillneedisthevenomof\n",
            "\n",
            "nkncstpmceqmlzajteqljtmontniyncmpnpzytnldzajznqfoy\n",
            "abarkscorpionthespinesofasaguarocactusandthetailfu\n",
            "\n",
            "cmonpmnzqwyldqznsjzaqtqlomcwnzqmlzmwgpmffjniyjdcpa\n",
            "rofacoatimunditakethisinformationtomycolleaguedrch\n",
            "\n",
            "qfdjctnzzajylqhjctqzgmoncqxmln!zmijzajcgmypnltzqff\n",
            "ildersattheuniversityofarizona-togetheryoucanstill\n",
            "\n",
            "tnhjzajbmcfd!tqlpjcjfgnfqpj\n",
            "savetheworld-sincerelyalice\n",
            "\n"
          ],
          "name": "stdout"
        }
      ]
    },
    {
      "cell_type": "markdown",
      "metadata": {
        "id": "CpHKK37P4IJg"
      },
      "source": [
        "## extend euclidean"
      ]
    },
    {
      "cell_type": "code",
      "metadata": {
        "id": "KE-XS3wQ4D8M"
      },
      "source": [
        "def ext_euclidean(a,b):\n",
        "  u = 1; g = a; x = 0; y = b\n",
        "  while True:\n",
        "    if y == 0:\n",
        "      v=(g-(a*u))/b\n",
        "      if u>0:\n",
        "        return (g,u,v)\n",
        "      else:\n",
        "        u = u+b/g\n",
        "        v = v-a/g\n",
        "        return (g,u,v)\n",
        "    else:\n",
        "      t = g%y\n",
        "      q = (g-t)/y\n",
        "      s=u-q*x\n",
        "      u=x; g=y\n",
        "      x=s; y=t"
      ],
      "execution_count": null,
      "outputs": []
    },
    {
      "cell_type": "code",
      "metadata": {
        "colab": {
          "base_uri": "https://localhost:8080/"
        },
        "id": "9Xsfb8Hj40G9",
        "outputId": "3ebc2c98-51aa-443c-e9f4-815ca65de3ed"
      },
      "source": [
        "ext_euclidean(5,7) # 5*3+7*(-2)=1"
      ],
      "execution_count": null,
      "outputs": [
        {
          "output_type": "execute_result",
          "data": {
            "text/plain": [
              "(1, 3.0, -2.0)"
            ]
          },
          "metadata": {
            "tags": []
          },
          "execution_count": 10
        }
      ]
    },
    {
      "cell_type": "code",
      "metadata": {
        "id": "6WjF9xGKO7RG"
      },
      "source": [
        "def extended_gcd(a, b):\n",
        "  u, g, x, y = 1, a, 0, b\n",
        "  while y != 0:\n",
        "    q, t = g // y, g % y\n",
        "    s = u - q*x\n",
        "    u, g, x, y = x, y, s, t\n",
        "  v = (g - a*u) // b \n",
        "  return g, u, v"
      ],
      "execution_count": null,
      "outputs": []
    },
    {
      "cell_type": "markdown",
      "metadata": {
        "id": "v_T1NnLU5LJs"
      },
      "source": [
        "## GCD and fast powering"
      ]
    },
    {
      "cell_type": "code",
      "metadata": {
        "id": "Mcd9R3895AzT"
      },
      "source": [
        "def gcd(a, b):\n",
        "  return a if b==0 else gcd(b, a%b)\n",
        "\n",
        "def binary(n):\n",
        "  binary_repn = []\n",
        "  if n > 1:\n",
        "    binary_repn = binary(n // 2)\n",
        "  binary_repn.append(n % 2)\n",
        "  return binary_repn\n",
        "\n",
        "def power(g, A, N): # g^(a) (mod n)\n",
        "  A = binary(A)\n",
        "  total=1\n",
        "  for i in range(len(A)):\n",
        "    if A[len(A)-i-1]:\n",
        "      total = total*g % N\n",
        "    g = (g*g) % N\n",
        "  return total"
      ],
      "execution_count": null,
      "outputs": []
    },
    {
      "cell_type": "markdown",
      "metadata": {
        "id": "I7aftaxw5lYS"
      },
      "source": [
        "## Divisor"
      ]
    },
    {
      "cell_type": "code",
      "metadata": {
        "id": "NILUtZhJ5nHV"
      },
      "source": [
        "def find_divisors(n):\n",
        "  divisors = []\n",
        "  for i in range(n):\n",
        "    if n % (i+1) == 0:\n",
        "      divisors.append(i+1)\n",
        "  return divisors"
      ],
      "execution_count": null,
      "outputs": []
    },
    {
      "cell_type": "code",
      "metadata": {
        "colab": {
          "base_uri": "https://localhost:8080/",
          "height": 283
        },
        "id": "4iz8vx-UjDH_",
        "outputId": "746bcf26-be89-404f-853e-45e15a65f822"
      },
      "source": [
        "print(find_divisors(11064661935495197978671))"
      ],
      "execution_count": null,
      "outputs": [
        {
          "output_type": "error",
          "ename": "KeyboardInterrupt",
          "evalue": "ignored",
          "traceback": [
            "\u001b[0;31m---------------------------------------------------------------------------\u001b[0m",
            "\u001b[0;31mKeyboardInterrupt\u001b[0m                         Traceback (most recent call last)",
            "\u001b[0;32m<ipython-input-88-76e7307b4229>\u001b[0m in \u001b[0;36m<module>\u001b[0;34m()\u001b[0m\n\u001b[0;32m----> 1\u001b[0;31m \u001b[0mprint\u001b[0m\u001b[0;34m(\u001b[0m\u001b[0mfind_divisors\u001b[0m\u001b[0;34m(\u001b[0m\u001b[0;36m11064661935495197978671\u001b[0m\u001b[0;34m)\u001b[0m\u001b[0;34m)\u001b[0m\u001b[0;34m\u001b[0m\u001b[0;34m\u001b[0m\u001b[0m\n\u001b[0m",
            "\u001b[0;32m<ipython-input-15-a8e250a0d0cb>\u001b[0m in \u001b[0;36mfind_divisors\u001b[0;34m(n)\u001b[0m\n\u001b[1;32m      2\u001b[0m   \u001b[0mdivisors\u001b[0m \u001b[0;34m=\u001b[0m \u001b[0;34m[\u001b[0m\u001b[0;34m]\u001b[0m\u001b[0;34m\u001b[0m\u001b[0;34m\u001b[0m\u001b[0m\n\u001b[1;32m      3\u001b[0m   \u001b[0;32mfor\u001b[0m \u001b[0mi\u001b[0m \u001b[0;32min\u001b[0m \u001b[0mrange\u001b[0m\u001b[0;34m(\u001b[0m\u001b[0mn\u001b[0m\u001b[0;34m)\u001b[0m\u001b[0;34m:\u001b[0m\u001b[0;34m\u001b[0m\u001b[0;34m\u001b[0m\u001b[0m\n\u001b[0;32m----> 4\u001b[0;31m     \u001b[0;32mif\u001b[0m \u001b[0mn\u001b[0m \u001b[0;34m%\u001b[0m \u001b[0;34m(\u001b[0m\u001b[0mi\u001b[0m\u001b[0;34m+\u001b[0m\u001b[0;36m1\u001b[0m\u001b[0;34m)\u001b[0m \u001b[0;34m==\u001b[0m \u001b[0;36m0\u001b[0m\u001b[0;34m:\u001b[0m\u001b[0;34m\u001b[0m\u001b[0;34m\u001b[0m\u001b[0m\n\u001b[0m\u001b[1;32m      5\u001b[0m       \u001b[0mdivisors\u001b[0m\u001b[0;34m.\u001b[0m\u001b[0mappend\u001b[0m\u001b[0;34m(\u001b[0m\u001b[0mi\u001b[0m\u001b[0;34m+\u001b[0m\u001b[0;36m1\u001b[0m\u001b[0;34m)\u001b[0m\u001b[0;34m\u001b[0m\u001b[0;34m\u001b[0m\u001b[0m\n\u001b[1;32m      6\u001b[0m   \u001b[0;32mreturn\u001b[0m \u001b[0mdivisors\u001b[0m\u001b[0;34m\u001b[0m\u001b[0;34m\u001b[0m\u001b[0m\n",
            "\u001b[0;31mKeyboardInterrupt\u001b[0m: "
          ]
        }
      ]
    },
    {
      "cell_type": "markdown",
      "metadata": {
        "id": "5n0lWF_s5pPY"
      },
      "source": [
        "## Primitive root"
      ]
    },
    {
      "cell_type": "code",
      "metadata": {
        "id": "A-ymDXuv5ob1"
      },
      "source": [
        "def primeRoot(mod):\n",
        "  root=[]\n",
        "  for j in range(1,mod):\n",
        "    list1 = []\n",
        "    for i in range(1,mod-1):\n",
        "      list1.append(j**i%mod)\n",
        "    if 1 not in list1:\n",
        "      root.append(j)\n",
        "  return root"
      ],
      "execution_count": null,
      "outputs": []
    },
    {
      "cell_type": "code",
      "metadata": {
        "colab": {
          "base_uri": "https://localhost:8080/"
        },
        "id": "V5hH_ILIF_Iz",
        "outputId": "4dfa5f98-aeca-434b-ebca-1a3b882ccebe"
      },
      "source": [
        "primeRoot(17)"
      ],
      "execution_count": null,
      "outputs": [
        {
          "output_type": "execute_result",
          "data": {
            "text/plain": [
              "[3, 5, 6, 7, 10, 11, 12, 14]"
            ]
          },
          "metadata": {
            "tags": []
          },
          "execution_count": 7
        }
      ]
    },
    {
      "cell_type": "markdown",
      "metadata": {
        "id": "hLllv6zb6cRH"
      },
      "source": [
        "## Discrete log"
      ]
    },
    {
      "cell_type": "code",
      "metadata": {
        "id": "zVs4mMw56eP-"
      },
      "source": [
        "def discrete_log(p,g,h):\n",
        "  x = 0\n",
        "  while True:\n",
        "    m = g**x%p\n",
        "    if m == h:\n",
        "      print(x) \n",
        "      break\n",
        "    else:\n",
        "      x = x+1\n",
        "\n",
        "import math\n",
        "def is_prime(x):\n",
        "  for i in range(2,round(x**1/2)+1):\n",
        "    if x%i == 0:\n",
        "      return False\n",
        "  return True\n",
        "\n",
        "def n_prime(X): \n",
        "  pi = []\n",
        "  for i in range(2,X):\n",
        "    if is_prime(i):\n",
        "      pi.append(i)\n",
        "  ratio = len(pi)/(X/math.log(X))\n",
        "  return (len(pi),ratio)\n",
        "\n",
        "def factorial(x):\n",
        "  n = 1\n",
        "  for i in range(1,x+1):\n",
        "    n = n*i\n",
        "  return n"
      ],
      "execution_count": null,
      "outputs": []
    },
    {
      "cell_type": "markdown",
      "metadata": {
        "id": "NVs49aAX6sY9"
      },
      "source": [
        "## Pollard p-1 factorization"
      ]
    },
    {
      "cell_type": "code",
      "metadata": {
        "id": "E5c037c06xGU"
      },
      "source": [
        "def gcd(a, b):\n",
        "  return a if b==0 else gcd(b, a%b)\n",
        "\n",
        "def power(a, b, n):\n",
        "  a = a%n\n",
        "  return 1 if b==0 else a**(b%2) * power(a**2, b//2, n) % n\n",
        "# Checks for a non-trivial gcd between a^n!-1 and N\n",
        "def pollard(N, a=2, maxn=100000):\n",
        "  for j in range(2, maxn):\n",
        "    a = power(a, j, N)\n",
        "    d = gcd(a-1, N)\n",
        "    if d != 1 and d != N:\n",
        "      return (j,a,d)\n",
        "  return None"
      ],
      "execution_count": null,
      "outputs": []
    },
    {
      "cell_type": "code",
      "metadata": {
        "colab": {
          "base_uri": "https://localhost:8080/"
        },
        "id": "af7YyqO5IevU",
        "outputId": "8aa5138e-c361-42ad-f51e-93cb1280b8d3"
      },
      "source": [
        "pollard(11064661935495197978671)"
      ],
      "execution_count": null,
      "outputs": [
        {
          "output_type": "execute_result",
          "data": {
            "text/plain": [
              "(21587, 7812493094811480735228, 101234567897)"
            ]
          },
          "metadata": {
            "tags": []
          },
          "execution_count": 100
        }
      ]
    },
    {
      "cell_type": "code",
      "metadata": {
        "colab": {
          "base_uri": "https://localhost:8080/"
        },
        "id": "aERPVz9avLav",
        "outputId": "4fd271e3-4177-4f46-c948-c93a4c583b7d"
      },
      "source": [
        "11064661935495197978671/101234567897"
      ],
      "execution_count": null,
      "outputs": [
        {
          "output_type": "execute_result",
          "data": {
            "text/plain": [
              "109297270343.0"
            ]
          },
          "metadata": {
            "tags": []
          },
          "execution_count": 101
        }
      ]
    },
    {
      "cell_type": "code",
      "metadata": {
        "colab": {
          "base_uri": "https://localhost:8080/"
        },
        "id": "O9tl__xJIkqr",
        "outputId": "ca2da815-ca88-43b9-b345-3ccbead7090f"
      },
      "source": [
        "8633/97"
      ],
      "execution_count": null,
      "outputs": [
        {
          "output_type": "execute_result",
          "data": {
            "text/plain": [
              "89.0"
            ]
          },
          "metadata": {
            "tags": []
          },
          "execution_count": 15
        }
      ]
    },
    {
      "cell_type": "markdown",
      "metadata": {
        "id": "F-kBwEpL7Yc8"
      },
      "source": [
        "## Baby step Giant Step"
      ]
    },
    {
      "cell_type": "code",
      "metadata": {
        "id": "hKvqUQA77a8g"
      },
      "source": [
        "def power(a, b, n):\n",
        "  a = a%n\n",
        "  return 1 if b==0 else a**(b%2) * power(a**2, b//2, n) % n\n",
        "\n",
        "def gcd(a, b):\n",
        "  return a if b==0 else gcd(b, a%b)\n",
        "\n",
        "def brute_dlp(g, h, p):\n",
        "  x=0\n",
        "  c=1\n",
        "  while c != h:\n",
        "    x += 1\n",
        "    c = (c*g) % p\n",
        "  return x\n",
        "\n",
        "\n",
        "def shank(g, h, p):\n",
        "  n = int(np.floor(np.sqrt(p-1))+1) # An iteger larger than sqrt(p-1)\n",
        "  a=1                               # First babystep\n",
        "  b=h                               # First giantstep\n",
        "  A = []                            # List of babysteps\n",
        "  B = []                            # List of giantsteps\n",
        "  u=power(g, p-1-n, p)              # g^(-n) for giantsteps\n",
        "\n",
        "  # Fill out lists of steps\n",
        "  for _ in range(n):\n",
        "    A.append(a)\n",
        "    B.append(b)\n",
        "    a = (a*g) % p\n",
        "    b = (b*u) % p\n",
        "\n",
        "  # Find a common value on the two lists\n",
        "  C = sorted(A + B)\n",
        "  C1 = C[1:] + [C[0]]\n",
        "  i=0\n",
        "  while C[i] != C1[i]:\n",
        "    i += 1\n",
        "  common = C[i]\n",
        "\n",
        "  # Find where this common value occus on each list\n",
        "  i=0\n",
        "  while A[i] != common:\n",
        "    i += 1\n",
        "  j=0\n",
        "  while B[j] != common:\n",
        "    j += 1\n",
        "\n",
        "  # Find a solutions to DLP\n",
        "  return i + n*j"
      ],
      "execution_count": null,
      "outputs": []
    },
    {
      "cell_type": "code",
      "metadata": {
        "colab": {
          "base_uri": "https://localhost:8080/"
        },
        "id": "7flIxtqtcetE",
        "outputId": "dea314b5-dcb9-48f5-ca69-f162f2f88227"
      },
      "source": [
        "shank(g,37761924,p)"
      ],
      "execution_count": null,
      "outputs": [
        {
          "output_type": "execute_result",
          "data": {
            "text/plain": [
              "43511493"
            ]
          },
          "metadata": {
            "tags": []
          },
          "execution_count": 76
        }
      ]
    },
    {
      "cell_type": "code",
      "metadata": {
        "colab": {
          "base_uri": "https://localhost:8080/"
        },
        "id": "g47UeqPJcvfQ",
        "outputId": "51d0f60a-5338-403b-d792-ea8f78931ba6"
      },
      "source": [
        "1434345459<1500450270"
      ],
      "execution_count": null,
      "outputs": [
        {
          "output_type": "execute_result",
          "data": {
            "text/plain": [
              "True"
            ]
          },
          "metadata": {
            "tags": []
          },
          "execution_count": 10
        }
      ]
    },
    {
      "cell_type": "markdown",
      "metadata": {
        "id": "d-3nL6mT7gkp"
      },
      "source": [
        "## Miller-Rabin"
      ]
    },
    {
      "cell_type": "code",
      "metadata": {
        "id": "-cWyqZ4N7j-n"
      },
      "source": [
        "def is_mrwitness(a, n):\n",
        "  # If a and n have a common factor, then n is composite\n",
        "  if gcd(a, n) != 1:\n",
        "    return True\n",
        "\n",
        "  # Write n-1 = 2^k*q with q odd\n",
        "  k=0\n",
        "  q=n-1\n",
        "  while q%2 == 0:\n",
        "    k += 1\n",
        "    q = q//2\n",
        "  \n",
        "  # If a^q == 1 (mod n) then a is not a Miller-Rabin witness for n\n",
        "  a = power(a, q, n)\n",
        "  if a == 1:\n",
        "    return False\n",
        "  \n",
        "  # If a^(2^iq) == -1 (mod n) for some i<k then a is not a Miller-Rabin witness for n\n",
        "  for i in range(k):\n",
        "    if a == n-1:\n",
        "      return False\n",
        "    a = power(a, 2, n)\n",
        "\n",
        "  return True # Otherwise a is a Miller-Rabin witness for n"
      ],
      "execution_count": null,
      "outputs": []
    },
    {
      "cell_type": "code",
      "metadata": {
        "colab": {
          "base_uri": "https://localhost:8080/"
        },
        "id": "UY-qQljo70Go",
        "outputId": "92991cae-4640-4593-c4d8-13845a5fb013"
      },
      "source": [
        "n = 18484783  # Prime number\n",
        "for i in range(10):\n",
        "  a = np.random.randint(0, n)\n",
        "  print(a, is_mrwitness(a, n))"
      ],
      "execution_count": null,
      "outputs": [
        {
          "output_type": "stream",
          "text": [
            "9078803 False\n",
            "6001343 False\n",
            "8607095 False\n",
            "9991528 False\n",
            "17703596 False\n",
            "11546809 False\n",
            "11087653 False\n",
            "14640906 False\n",
            "7503956 False\n",
            "13453742 False\n"
          ],
          "name": "stdout"
        }
      ]
    },
    {
      "cell_type": "code",
      "metadata": {
        "colab": {
          "base_uri": "https://localhost:8080/"
        },
        "id": "NjqN5LFjinKm",
        "outputId": "188b4b13-becc-417e-ac0c-8bce7b1620c2"
      },
      "source": [
        "7896879971+8278487999+1001735677"
      ],
      "execution_count": null,
      "outputs": [
        {
          "output_type": "execute_result",
          "data": {
            "text/plain": [
              "17177103647"
            ]
          },
          "metadata": {
            "tags": []
          },
          "execution_count": 47
        }
      ]
    },
    {
      "cell_type": "code",
      "metadata": {
        "colab": {
          "base_uri": "https://localhost:8080/"
        },
        "id": "2oOyAd2z7z7G",
        "outputId": "4c6f66ff-b996-4fe3-d662-96bb7b1df3da"
      },
      "source": [
        "n = 10 # composite\n",
        "for i in range(10):\n",
        "  a = np.random.randint(0, n)\n",
        "  print(a, is_mrwitness(a, n))"
      ],
      "execution_count": null,
      "outputs": [
        {
          "output_type": "stream",
          "text": [
            "6 True\n",
            "2 True\n",
            "0 True\n",
            "9 True\n",
            "6 True\n",
            "3 True\n",
            "7 True\n",
            "4 True\n",
            "1 False\n",
            "1 False\n"
          ],
          "name": "stdout"
        }
      ]
    },
    {
      "cell_type": "markdown",
      "metadata": {
        "id": "0LXMkJ948V7S"
      },
      "source": [
        "## Elgamal key"
      ]
    },
    {
      "cell_type": "code",
      "metadata": {
        "colab": {
          "base_uri": "https://localhost:8080/"
        },
        "id": "mUzpjkta8XxK",
        "outputId": "c0254f72-8aa2-4453-f6db-f1f631917568"
      },
      "source": [
        "# A small example of Elgamal PKC\n",
        "\n",
        "p = 467 # Public prime\n",
        "g = 2   # Public element of F_p\n",
        "print('p =', p)\n",
        "print('g =', g)\n",
        "\n",
        "a = 153             # Alice's secret key\n",
        "A = power(g, a, p)  # Published publicly\n",
        "print('A = ', A)\n",
        "\n",
        "# Bob wants to send the secret message m = 331\n",
        "m = 331\n",
        "print('(Secret message to be encrypted by Bob: ', m, ')')\n",
        "k = 197 # Chosen randomly in F_p\n",
        "c1 = power(g, k, p)\n",
        "c2 = (m * power(A, k, p)) % p\n",
        "print('Encrypted message: (', c1, ',', c2, ')')\n",
        "\n",
        "# Alice decrypts by computing c1^(-a)*c2 (mod p)\n",
        "message = (power(c1, p-1-a, p) * c2) % p\n",
        "print('(Secret message decoded by Alice: ', message, ')')"
      ],
      "execution_count": null,
      "outputs": [
        {
          "output_type": "stream",
          "text": [
            "p = 467\n",
            "g = 2\n",
            "A =  224\n",
            "(Secret message to be encrypted by Bob:  331 )\n",
            "Encrypted message: ( 87 , 57 )\n",
            "(Secret message decoded by Alice:  331 )\n"
          ],
          "name": "stdout"
        }
      ]
    },
    {
      "cell_type": "markdown",
      "metadata": {
        "id": "w3wd4X--8kXj"
      },
      "source": [
        "## Diffie-Helman key exchange"
      ]
    },
    {
      "cell_type": "code",
      "metadata": {
        "colab": {
          "base_uri": "https://localhost:8080/"
        },
        "id": "ve7adhUe8nkJ",
        "outputId": "d781de09-25e3-401f-d073-8476343411a8"
      },
      "source": [
        "# Example of Diffie-Hellman key exchange\n",
        "\n",
        "p=941 # Publicly agreed upon prime\n",
        "g=627 # Publicly agreed upon element of F_p\n",
        "print('p =', p)\n",
        "print('g =', g)\n",
        "\n",
        "a = 347 # Chosen secretly by Alice\n",
        "b = 781 # Chosen secretly by Bob\n",
        "\n",
        "# Exchanged publicly\n",
        "A = power(g, a, p)\n",
        "B = power(g, b, p)\n",
        "print('A =', A)\n",
        "print('B =', B)\n",
        "\n",
        "alice_key = power(B, a, p)  # Key as computed by Alice in secret\n",
        "bob_key = power(A, b, p)    # Key as computed by Bob is secret\n",
        "print('(Key according to Alice =', alice_key, ')')\n",
        "print('(Key according to Bob =', bob_key, ')')"
      ],
      "execution_count": null,
      "outputs": [
        {
          "output_type": "stream",
          "text": [
            "p = 941\n",
            "g = 627\n",
            "A = 390\n",
            "B = 691\n",
            "(Key according to Alice = 470 )\n",
            "(Key according to Bob = 470 )\n"
          ],
          "name": "stdout"
        }
      ]
    },
    {
      "cell_type": "code",
      "metadata": {
        "colab": {
          "base_uri": "https://localhost:8080/"
        },
        "id": "H1ZLuqMv8upl",
        "outputId": "520b78ef-ffa5-4b2a-ba3b-ed0070d55e4c"
      },
      "source": [
        "# Eve could attempt to solve 390 = 627^a (mod 941) to deduce the key\n",
        "# These numbers are much to small for security\n",
        "\n",
        "i=0\n",
        "c=1\n",
        "while c != A:\n",
        "  i += 1\n",
        "  c = power(g, i, p)\n",
        "print('a = ', i)\n",
        "print('secret key = ', power(B, a, p))"
      ],
      "execution_count": null,
      "outputs": [
        {
          "output_type": "stream",
          "text": [
            "a =  347\n",
            "secret key =  470\n"
          ],
          "name": "stdout"
        }
      ]
    },
    {
      "cell_type": "markdown",
      "metadata": {
        "id": "38iOjd-39C7v"
      },
      "source": [
        "## Inverse"
      ]
    },
    {
      "cell_type": "code",
      "metadata": {
        "colab": {
          "base_uri": "https://localhost:8080/"
        },
        "id": "dsS2aVLS9Edu",
        "outputId": "9a0a0ecc-0069-4e3e-98ee-49a2498708a1"
      },
      "source": [
        "def extended_gcd(a, b):\n",
        "  u, g, x, y = 1, a, 0, b\n",
        "  while y != 0:\n",
        "    q, t = g // y, g % y\n",
        "    s = u - q*x\n",
        "    u, g, x, y = x, y, s, t\n",
        "  v = (g - a*u) // b \n",
        "  return g, u, v\n",
        "\n",
        "def inverse(a, N):\n",
        "  g, u, v = extended_gcd(a, N)\n",
        "  if g==1:\n",
        "    return u % N\n",
        "\n",
        "inverse(3, 10) # 3^-1 mod 10 = 7"
      ],
      "execution_count": null,
      "outputs": [
        {
          "output_type": "execute_result",
          "data": {
            "text/plain": [
              "7"
            ]
          },
          "metadata": {
            "tags": []
          },
          "execution_count": 2
        }
      ]
    },
    {
      "cell_type": "markdown",
      "metadata": {
        "id": "2j45RBIH846P"
      },
      "source": [
        "## RSA digital signiture"
      ]
    },
    {
      "cell_type": "code",
      "metadata": {
        "colab": {
          "base_uri": "https://localhost:8080/"
        },
        "id": "AqxIKk-edW76",
        "outputId": "73540948-a09a-4f09-b5c4-1ce8b505b37a"
      },
      "source": [
        "find_divisors(5571)"
      ],
      "execution_count": null,
      "outputs": [
        {
          "output_type": "execute_result",
          "data": {
            "text/plain": [
              "[1, 3, 9, 619, 1857, 5571]"
            ]
          },
          "metadata": {
            "tags": []
          },
          "execution_count": 16
        }
      ]
    },
    {
      "cell_type": "code",
      "metadata": {
        "colab": {
          "base_uri": "https://localhost:8080/"
        },
        "id": "u0Rfokbxdti7",
        "outputId": "4f77ade0-0b64-459f-dd2c-182fedade58f"
      },
      "source": [
        "619*9"
      ],
      "execution_count": null,
      "outputs": [
        {
          "output_type": "execute_result",
          "data": {
            "text/plain": [
              "5571"
            ]
          },
          "metadata": {
            "tags": []
          },
          "execution_count": 18
        }
      ]
    },
    {
      "cell_type": "code",
      "metadata": {
        "id": "5IkIUJu_WWJN",
        "colab": {
          "base_uri": "https://localhost:8080/",
          "height": 402
        },
        "outputId": "483e5f61-8ea0-4a54-a4e5-f6fc85e5f890"
      },
      "source": [
        "p = 619                                 # Samantha's first secret prime\n",
        "q = 9                                     # Samantha's second secret prime\n",
        "N = p*q                                             # Samantha's public modulus\n",
        "print('N =', N)\n",
        "e = 5108                             # Samantha's public verification exponent\n",
        "print('e =', e)\n",
        "d = inverse(e, (p-1)*(q-1)//gcd(p-1, q-1))  # Samantha's secret signing exponent, computed using the trapdoor information p and q\n",
        "15441\n",
        "D = 337385465                              # Document to be signed\n",
        "print('D = ', D)\n",
        "S = power(D, d, N)                                  # Signiture computed by Samantha using her secret exponent\n",
        "print('S =', S)\n",
        "\n",
        "print('Sent by Samantha?:', D == power(S, e, N))    # Verification conducted by Victor (or anyone else)"
      ],
      "execution_count": null,
      "outputs": [
        {
          "output_type": "stream",
          "text": [
            "N = 5571\n",
            "e = 5108\n",
            "D =  337385465\n"
          ],
          "name": "stdout"
        },
        {
          "output_type": "error",
          "ename": "TypeError",
          "evalue": "ignored",
          "traceback": [
            "\u001b[0;31m---------------------------------------------------------------------------\u001b[0m",
            "\u001b[0;31mTypeError\u001b[0m                                 Traceback (most recent call last)",
            "\u001b[0;32m<ipython-input-20-eb213cd7139d>\u001b[0m in \u001b[0;36m<module>\u001b[0;34m()\u001b[0m\n\u001b[1;32m      9\u001b[0m \u001b[0mD\u001b[0m \u001b[0;34m=\u001b[0m \u001b[0;36m337385465\u001b[0m                              \u001b[0;31m# Document to be signed\u001b[0m\u001b[0;34m\u001b[0m\u001b[0;34m\u001b[0m\u001b[0m\n\u001b[1;32m     10\u001b[0m \u001b[0mprint\u001b[0m\u001b[0;34m(\u001b[0m\u001b[0;34m'D = '\u001b[0m\u001b[0;34m,\u001b[0m \u001b[0mD\u001b[0m\u001b[0;34m)\u001b[0m\u001b[0;34m\u001b[0m\u001b[0;34m\u001b[0m\u001b[0m\n\u001b[0;32m---> 11\u001b[0;31m \u001b[0mS\u001b[0m \u001b[0;34m=\u001b[0m \u001b[0mpower\u001b[0m\u001b[0;34m(\u001b[0m\u001b[0mD\u001b[0m\u001b[0;34m,\u001b[0m \u001b[0md\u001b[0m\u001b[0;34m,\u001b[0m \u001b[0mN\u001b[0m\u001b[0;34m)\u001b[0m                                  \u001b[0;31m# Signiture computed by Samantha using her secret exponent\u001b[0m\u001b[0;34m\u001b[0m\u001b[0;34m\u001b[0m\u001b[0m\n\u001b[0m\u001b[1;32m     12\u001b[0m \u001b[0mprint\u001b[0m\u001b[0;34m(\u001b[0m\u001b[0;34m'S ='\u001b[0m\u001b[0;34m,\u001b[0m \u001b[0mS\u001b[0m\u001b[0;34m)\u001b[0m\u001b[0;34m\u001b[0m\u001b[0;34m\u001b[0m\u001b[0m\n\u001b[1;32m     13\u001b[0m \u001b[0;34m\u001b[0m\u001b[0m\n",
            "\u001b[0;32m<ipython-input-12-617e9cc7d85f>\u001b[0m in \u001b[0;36mpower\u001b[0;34m(a, b, n)\u001b[0m\n\u001b[1;32m      4\u001b[0m \u001b[0;32mdef\u001b[0m \u001b[0mpower\u001b[0m\u001b[0;34m(\u001b[0m\u001b[0ma\u001b[0m\u001b[0;34m,\u001b[0m \u001b[0mb\u001b[0m\u001b[0;34m,\u001b[0m \u001b[0mn\u001b[0m\u001b[0;34m)\u001b[0m\u001b[0;34m:\u001b[0m\u001b[0;34m\u001b[0m\u001b[0;34m\u001b[0m\u001b[0m\n\u001b[1;32m      5\u001b[0m   \u001b[0ma\u001b[0m \u001b[0;34m=\u001b[0m \u001b[0ma\u001b[0m\u001b[0;34m%\u001b[0m\u001b[0mn\u001b[0m\u001b[0;34m\u001b[0m\u001b[0;34m\u001b[0m\u001b[0m\n\u001b[0;32m----> 6\u001b[0;31m   \u001b[0;32mreturn\u001b[0m \u001b[0;36m1\u001b[0m \u001b[0;32mif\u001b[0m \u001b[0mb\u001b[0m\u001b[0;34m==\u001b[0m\u001b[0;36m0\u001b[0m \u001b[0;32melse\u001b[0m \u001b[0ma\u001b[0m\u001b[0;34m**\u001b[0m\u001b[0;34m(\u001b[0m\u001b[0mb\u001b[0m\u001b[0;34m%\u001b[0m\u001b[0;36m2\u001b[0m\u001b[0;34m)\u001b[0m \u001b[0;34m*\u001b[0m \u001b[0mpower\u001b[0m\u001b[0;34m(\u001b[0m\u001b[0ma\u001b[0m\u001b[0;34m**\u001b[0m\u001b[0;36m2\u001b[0m\u001b[0;34m,\u001b[0m \u001b[0mb\u001b[0m\u001b[0;34m//\u001b[0m\u001b[0;36m2\u001b[0m\u001b[0;34m,\u001b[0m \u001b[0mn\u001b[0m\u001b[0;34m)\u001b[0m \u001b[0;34m%\u001b[0m \u001b[0mn\u001b[0m\u001b[0;34m\u001b[0m\u001b[0;34m\u001b[0m\u001b[0m\n\u001b[0m\u001b[1;32m      7\u001b[0m \u001b[0;31m# Checks for a non-trivial gcd between a^n!-1 and N\u001b[0m\u001b[0;34m\u001b[0m\u001b[0;34m\u001b[0m\u001b[0;34m\u001b[0m\u001b[0m\n\u001b[1;32m      8\u001b[0m \u001b[0;32mdef\u001b[0m \u001b[0mpollard\u001b[0m\u001b[0;34m(\u001b[0m\u001b[0mN\u001b[0m\u001b[0;34m,\u001b[0m \u001b[0ma\u001b[0m\u001b[0;34m=\u001b[0m\u001b[0;36m2\u001b[0m\u001b[0;34m,\u001b[0m \u001b[0mmaxn\u001b[0m\u001b[0;34m=\u001b[0m\u001b[0;36m100\u001b[0m\u001b[0;34m)\u001b[0m\u001b[0;34m:\u001b[0m\u001b[0;34m\u001b[0m\u001b[0;34m\u001b[0m\u001b[0m\n",
            "\u001b[0;31mTypeError\u001b[0m: unsupported operand type(s) for %: 'NoneType' and 'int'"
          ]
        }
      ]
    },
    {
      "cell_type": "code",
      "metadata": {
        "colab": {
          "base_uri": "https://localhost:8080/"
        },
        "id": "2u50K5eS87mj",
        "outputId": "d4610bc8-a44d-4a63-98b2-61a13c1b3586"
      },
      "source": [
        "# An example of Samantha sending a signed document to Victor for verification\n",
        "\n",
        "p = 991                                     # Samantha's first secret prime\n",
        "q = 1231                                      # Samantha's second secret prime\n",
        "N = p*q                                             # Samantha's public modulus\n",
        "print('N =', N)\n",
        "e = 512371                            # Samantha's public verification exponent\n",
        "print('e =', e)\n",
        "d = inverse(e, (p-1)*(q-1)//gcd(p-1, q-1))  # Samantha's secret signing exponent, computed using the trapdoor information p and q\n",
        "\n",
        "D = 333333                             # Document to be signed\n",
        "print('D = ', D)\n",
        "S = power(D, d, N)                                  # Signiture computed by Samantha using her secret exponent\n",
        "print('S =', S)\n",
        "\n",
        "print('Sent by Samantha?:', D == power(S, e, N))    # Verification conducted by Victor (or anyone else)"
      ],
      "execution_count": null,
      "outputs": [
        {
          "output_type": "stream",
          "text": [
            "N = 1219921\n",
            "e = 512371\n",
            "D =  333333\n",
            "S = 454303\n",
            "Sent by Samantha?: True\n"
          ],
          "name": "stdout"
        }
      ]
    },
    {
      "cell_type": "markdown",
      "metadata": {
        "id": "we3WBLMu-XNk"
      },
      "source": [
        "## Elgamal sign"
      ]
    },
    {
      "cell_type": "code",
      "metadata": {
        "id": "b7Jk3mfj-oks"
      },
      "source": [
        "def order(a, p):\n",
        "  n = 1\n",
        "  x = a\n",
        "  while power(a, n, p) != 1:\n",
        "    x = (x * a) % p\n",
        "    n += 1\n",
        "  return n\n",
        "\n",
        "def is_primitive(a, p):\n",
        "  return order(a, p) == p-1\n",
        "  \n",
        "def find_primitive(p):\n",
        "  a = 2\n",
        "  while not is_primitive(a, p):\n",
        "    a += 1\n",
        "  return a"
      ],
      "execution_count": null,
      "outputs": []
    },
    {
      "cell_type": "code",
      "metadata": {
        "colab": {
          "base_uri": "https://localhost:8080/"
        },
        "id": "elTuhJFh-W6e",
        "outputId": "5d22cce1-04ef-4deb-ef0e-cea615cf541c"
      },
      "source": [
        "import random\n",
        "# Find a large prime p and a primitive root a in F_p\n",
        "p =  17\n",
        "print('p =', p)\n",
        "g = find_primitive(p)\n",
        "print('g =', g)\n",
        "\n",
        "# Samantha's chosen private exponent a, and her public key A\n",
        "a = random.randint(2, p-1)\n",
        "A = power(g, a, p)\n",
        "print('A =', A)\n",
        "\n",
        "# Document to be signed\n",
        "D = random.randint(2, p)\n",
        "print('D =', D)\n",
        "\n",
        "# Using a random k prime to p-1 and her secret exponent a, Samantha creates a signiture (S1, S2)\n",
        "k = random.randint(2, p)\n",
        "while gcd(k, p-1) != 1:\n",
        "  k = random.randint(2, p)\n",
        "S1 = power(g, k, p)\n",
        "S2 = ( (D - a*S1) * inverse(k, p-1) ) % (p-1)\n",
        "print('(S1, S2) =', (S1, S2))\n",
        "\n",
        "# Victor verifies the message is Samantha by checking that A^S1*S1^S2 = g^D mod p\n",
        "print('From Samantha?:', ((power(A, S1, p) * power(S1, S2, p) * power(g, p-1-D, p)) % p) == 1)"
      ],
      "execution_count": null,
      "outputs": [
        {
          "output_type": "stream",
          "text": [
            "p = 17\n",
            "g = 3\n",
            "A = 14\n",
            "D = 11\n",
            "(S1, S2) = (6, 11)\n",
            "From Samantha?: True\n"
          ],
          "name": "stdout"
        }
      ]
    },
    {
      "cell_type": "markdown",
      "metadata": {
        "id": "lA_ZwGyr_0RR"
      },
      "source": [
        "## DFA sign"
      ]
    },
    {
      "cell_type": "code",
      "metadata": {
        "colab": {
          "base_uri": "https://localhost:8080/"
        },
        "id": "Ts7ADIU6sDJ9",
        "outputId": "a3a5c8cd-6454-4368-d9d3-7d03d74d6c49"
      },
      "source": [
        "g"
      ],
      "execution_count": null,
      "outputs": [
        {
          "output_type": "execute_result",
          "data": {
            "text/plain": [
              "1874161"
            ]
          },
          "metadata": {
            "tags": []
          },
          "execution_count": 75
        }
      ]
    },
    {
      "cell_type": "code",
      "metadata": {
        "colab": {
          "base_uri": "https://localhost:8080/"
        },
        "id": "ZNf5pe9Q-7dF",
        "outputId": "cabdf074-ccdc-453c-da71-50b88d1dedc7"
      },
      "source": [
        "# We will use the prime p from the previous computation.\n",
        "# Recall that g1=7 was a primitive root modulo p\n",
        "import random\n",
        "p = 73939133\n",
        "g1 = 37\n",
        "\n",
        "q= 18484783\n",
        "g = power(g1, (p-1)//q, p)\n",
        "\n",
        "print('p =', p)\n",
        "print('q =', q)\n",
        "print('g =', g)\n",
        "\n",
        "# Samantha chooses a secret signing exponent, and publishes A = g^a mod p\n",
        "a = 43511493\n",
        "A = power(g, a, p)\n",
        "print('A =', A)\n",
        "\n",
        "# Document to be signed\n",
        "D = 7797611\n",
        "print('D =', D)\n",
        "\n",
        "# Samantha's signiture, using a random k\n",
        "# k = random.randint(2, q-1)\n",
        "S1 = 15518443\n",
        "S2 = 8714909\n",
        "print('(S1, S2) =', (S1, S2))\n",
        "\n",
        "# Victor verifies:\n",
        "V1 = (D * inverse(S2, q)) % q\n",
        "V2 = (S1 * inverse(S2, q)) % q\n",
        "print('Verified?:', S1 == ((power(g, V1, p)*power(A, V2, p))%p)%q )"
      ],
      "execution_count": null,
      "outputs": [
        {
          "output_type": "stream",
          "text": [
            "p = 73939133\n",
            "q = 18484783\n",
            "g = 1874161\n",
            "A = 37761924\n",
            "D = 7797611\n",
            "(S1, S2) = (15518443, 8714909)\n",
            "Verified?: False\n"
          ],
          "name": "stdout"
        }
      ]
    },
    {
      "cell_type": "code",
      "metadata": {
        "colab": {
          "base_uri": "https://localhost:8080/"
        },
        "id": "Uvk2DIOGrkiU",
        "outputId": "22143c28-2787-42d0-d978-b3c5e3f681b4"
      },
      "source": [
        "V1+V2"
      ],
      "execution_count": null,
      "outputs": [
        {
          "output_type": "execute_result",
          "data": {
            "text/plain": [
              "26732835"
            ]
          },
          "metadata": {
            "tags": []
          },
          "execution_count": 82
        }
      ]
    },
    {
      "cell_type": "code",
      "metadata": {
        "id": "DiW2qVMVrkUG"
      },
      "source": [
        ""
      ],
      "execution_count": null,
      "outputs": []
    },
    {
      "cell_type": "markdown",
      "metadata": {
        "id": "5nRRn9fO_VGg"
      },
      "source": [
        "## Vigenare cipher"
      ]
    },
    {
      "cell_type": "code",
      "metadata": {
        "id": "4axkhy4U_UgN"
      },
      "source": [
        "import numpy as np\n",
        "from collections import Counter\n",
        "def ind_co(s):\n",
        "  counter = Counter(s)\n",
        "  frequencies = np.array(list(counter.values()))\n",
        "  n = len(s)\n",
        "  return np.sum(frequencies * (frequencies -1)) / n / (n-1)\n",
        "\n",
        "def shift(s, sigma):\n",
        "  alphabet = 'abcdefghijklmnopqrstuvwxyz'\n",
        "  t=''\n",
        "  for i in range(len(s)):\n",
        "    t = t + alphabet[(alphabet.find(s[i])+sigma) % 26]\n",
        "  return t\n",
        "\n",
        "def mut_ind_co(s, t):\n",
        "  cs = Counter(s)\n",
        "  n = len(s)\n",
        "  ct = Counter(t)\n",
        "  m = len(t)\n",
        "  return np.sum([cs[key] * ct[key] for key in (cs+ct).keys()]) / n / m\n",
        "\n",
        "m = \"qwhtg nbcmn prdrg maasl editq cfeqi gjscf mzbwu sgqwe vvzae pvuqz aeqag benym jpoev zvpqb nrtdr fwyyt jrthj nylqg rtplb rfhzg smctc abdqg kcygs igczw zpvnt snepi ggrpd fiypc hjpie gsytl orfwy nrzrc hnvgq yyocg pagkb rjsmg jscgs igpoe vzvbt oylyi gkcyf zkbpq pvgmq cbofz lrfwn nemqe oyyzv tgboh cmjgo crxmg qbltc mnvpl getrh wpyow svvlg hieys sngmp qapgz lrfwn nemnr ccgtw aqteu lbsks wqlan hwynw zruht arxyc qpszz gjcdr hpbjs crrii ghsrt zykjp fepnv hsnev nvwza xqtjh wvgmv vwdnw bbise upzsk hevyo nprae zxrth sneer uvzhw lqqhs vd\"\n",
        "m = m.replace(' ','')"
      ],
      "execution_count": null,
      "outputs": []
    },
    {
      "cell_type": "code",
      "metadata": {
        "id": "jFsThTYrhYcy"
      },
      "source": [
        "m = 'sruizhsrfpyvhtafplrn hf zers ls jycd wlpg elkohddvl plw ma xlvx dwco rvh vqh avv ksyrv dw ds rui ucn feszzqk ph ydw aobhr vjvu ibffsi jcdsplhvoc phj pepb wrgbg jhitg kr fl hf jia hyh zhqtlrl glstsm nh lhjv peuoxhh acvyejirwi liirtl hf d wlqihx sctdxpce kswswxpsm kkea plbw bg r iid kvhoz azuejicryzzp d qlashv vt db xlod qetsu hzl pvomljvv wos ydw kwjfscsihh dvrwalbk zvvbx  hzlb zi wos zv vpuyw m qijw lvdv wllfv lw zcdhxowej al qrq hvosrya wk'\n",
        "m = m.replace(' ','')"
      ],
      "execution_count": null,
      "outputs": []
    },
    {
      "cell_type": "code",
      "metadata": {
        "colab": {
          "base_uri": "https://localhost:8080/"
        },
        "id": "vNFaq1wQhbWU",
        "outputId": "6dba6d99-ac46-429a-ef03-1e5fc2a9cc82"
      },
      "source": [
        "for k in range(3, 11):\n",
        "  for i in range(k):\n",
        "    print('length',k,':',ind_co(m[i::k]))"
      ],
      "execution_count": null,
      "outputs": [
        {
          "output_type": "stream",
          "text": [
            "length 3 : 0.04559228650137741\n",
            "length 3 : 0.049035812672176306\n",
            "length 3 : 0.03879551820728291\n",
            "length 4 : 0.04981684981684982\n",
            "length 4 : 0.04908424908424909\n",
            "length 4 : 0.038202247191011236\n",
            "length 4 : 0.04269662921348314\n",
            "length 5 : 0.0547945205479452\n",
            "length 5 : 0.062024353120243535\n",
            "length 5 : 0.06807511737089202\n",
            "length 5 : 0.0528169014084507\n",
            "length 5 : 0.0794209702660407\n",
            "length 6 : 0.058469945355191254\n",
            "length 6 : 0.055191256830601096\n",
            "length 6 : 0.03728813559322034\n",
            "length 6 : 0.03841807909604519\n",
            "length 6 : 0.04632768361581921\n",
            "length 6 : 0.04463276836158192\n",
            "length 7 : 0.03619909502262444\n",
            "length 7 : 0.049019607843137254\n",
            "length 7 : 0.04524886877828054\n",
            "length 7 : 0.05580693815987934\n",
            "length 7 : 0.03996983408748114\n",
            "length 7 : 0.04784313725490196\n",
            "length 7 : 0.04470588235294118\n",
            "length 8 : 0.03671497584541063\n",
            "length 8 : 0.04057971014492753\n",
            "length 8 : 0.048484848484848485\n",
            "length 8 : 0.051515151515151514\n",
            "length 8 : 0.07474747474747474\n",
            "length 8 : 0.05353535353535354\n",
            "length 8 : 0.03333333333333333\n",
            "length 8 : 0.0404040404040404\n",
            "length 9 : 0.04390243902439024\n",
            "length 9 : 0.04878048780487805\n",
            "length 9 : 0.04487179487179487\n",
            "length 9 : 0.04358974358974359\n",
            "length 9 : 0.04871794871794872\n",
            "length 9 : 0.041025641025641026\n",
            "length 9 : 0.04487179487179487\n",
            "length 9 : 0.05256410256410256\n",
            "length 9 : 0.03717948717948718\n",
            "length 10 : 0.06306306306306306\n",
            "length 10 : 0.06756756756756757\n",
            "length 10 : 0.08571428571428572\n",
            "length 10 : 0.07619047619047618\n",
            "length 10 : 0.0746031746031746\n",
            "length 10 : 0.044444444444444446\n",
            "length 10 : 0.050793650793650794\n",
            "length 10 : 0.05555555555555555\n",
            "length 10 : 0.03809523809523809\n",
            "length 10 : 0.0746031746031746\n"
          ],
          "name": "stdout"
        }
      ]
    },
    {
      "cell_type": "code",
      "metadata": {
        "colab": {
          "base_uri": "https://localhost:8080/"
        },
        "id": "-n9R1ims_fob",
        "outputId": "96fdd5e5-0545-4e66-c5b2-c9b4d000c01b"
      },
      "source": [
        "for k in range(3, 9):\n",
        "  for i in range(k):\n",
        "    print('length',k,':',ind_co(m[i::k]))"
      ],
      "execution_count": null,
      "outputs": [
        {
          "output_type": "stream",
          "text": [
            "length 3 : 0.043758043758043756\n",
            "length 3 : 0.03755474792656789\n",
            "length 3 : 0.042680085732923305\n",
            "length 4 : 0.040294840294840296\n",
            "length 4 : 0.04095004095004095\n",
            "length 4 : 0.03969974979149291\n",
            "length 4 : 0.044537114261884905\n",
            "length 5 : 0.042390194075587334\n",
            "length 5 : 0.05132788559754852\n",
            "length 5 : 0.03761755485893417\n",
            "length 5 : 0.04179728317659352\n",
            "length 5 : 0.04493207941483804\n",
            "length 6 : 0.045168456127360236\n",
            "length 6 : 0.039244724176231024\n",
            "length 6 : 0.041836356904850054\n",
            "length 6 : 0.041836356904850054\n",
            "length 6 : 0.034627092846270933\n",
            "length 6 : 0.04147640791476408\n",
            "length 7 : 0.05803571428571429\n",
            "length 7 : 0.08960573476702509\n",
            "length 7 : 0.08448540706605223\n",
            "length 7 : 0.06502816180235535\n",
            "length 7 : 0.08806963645673323\n",
            "length 7 : 0.06554019457245264\n",
            "length 7 : 0.07322068612391193\n",
            "length 8 : 0.04220779220779221\n",
            "length 8 : 0.04350649350649351\n",
            "length 8 : 0.03771043771043771\n",
            "length 8 : 0.04781144781144781\n",
            "length 8 : 0.0404040404040404\n",
            "length 8 : 0.03838383838383838\n",
            "length 8 : 0.049158249158249165\n",
            "length 8 : 0.04579124579124579\n"
          ],
          "name": "stdout"
        }
      ]
    },
    {
      "cell_type": "code",
      "metadata": {
        "colab": {
          "base_uri": "https://localhost:8080/"
        },
        "id": "Dc0sF2Jp_6mW",
        "outputId": "5d0bf1b4-b0db-4bca-8152-952e2c19fe07"
      },
      "source": [
        "# 7 is good\n",
        "k = 5\n",
        "for i in range(k-1):\n",
        "  for j in range(i+1,k):\n",
        "    for sigma in range(26):\n",
        "      mic = mut_ind_co(shift(m[i::k], sigma), m[j::k])\n",
        "      if mic > 0.06:\n",
        "        print('i',i,',j', j, ', shift', sigma, ':', mic)"
      ],
      "execution_count": null,
      "outputs": [
        {
          "output_type": "stream",
          "text": [
            "i 0 ,j 1 , shift 3 : 0.060799399512103586\n",
            "i 0 ,j 2 , shift 15 : 0.06582952815829529\n",
            "i 0 ,j 4 , shift 19 : 0.06944444444444445\n",
            "i 1 ,j 2 , shift 12 : 0.07039573820395738\n",
            "i 1 ,j 4 , shift 16 : 0.07382039573820395\n",
            "i 2 ,j 3 , shift 1 : 0.0640432098765432\n",
            "i 2 ,j 4 , shift 4 : 0.07889660493827161\n",
            "i 2 ,j 4 , shift 8 : 0.06076388888888889\n",
            "i 3 ,j 4 , shift 3 : 0.06153549382716049\n",
            "i 3 ,j 4 , shift 7 : 0.06037808641975309\n"
          ],
          "name": "stdout"
        }
      ]
    },
    {
      "cell_type": "code",
      "metadata": {
        "colab": {
          "base_uri": "https://localhost:8080/"
        },
        "id": "DVquxYGkAAOs",
        "outputId": "dcb31874-e2cf-4dfe-fd9c-4dd809ff941e"
      },
      "source": [
        "# Looking at the shift when i = 0, we know the shift is (0,23,2,17,3,0,2) and 26 possibilities for the base letter.\n",
        "alp = 'abcdefghijklmnopqrstuvwxyz'\n",
        "base = alp[3] + alp[15] + alp[4] + alp[19]\n",
        "for i in range(26):\n",
        "  print(shift(base,i))"
      ],
      "execution_count": null,
      "outputs": [
        {
          "output_type": "stream",
          "text": [
            "dpet\n",
            "eqfu\n",
            "frgv\n",
            "gshw\n",
            "htix\n",
            "iujy\n",
            "jvkz\n",
            "kwla\n",
            "lxmb\n",
            "mync\n",
            "nzod\n",
            "oape\n",
            "pbqf\n",
            "qcrg\n",
            "rdsh\n",
            "seti\n",
            "tfuj\n",
            "ugvk\n",
            "vhwl\n",
            "wixm\n",
            "xjyn\n",
            "ykzo\n",
            "zlap\n",
            "ambq\n",
            "bncr\n",
            "cods\n"
          ],
          "name": "stdout"
        }
      ]
    },
    {
      "cell_type": "code",
      "metadata": {
        "id": "LpK-bnwQoEp0"
      },
      "source": [
        "m = 'xos gdwzkfuh ac db rllk oiahvu mz hyh olmnrvk tfu xos mlklbvui jwgkiy'\n"
      ],
      "execution_count": null,
      "outputs": []
    },
    {
      "cell_type": "markdown",
      "metadata": {
        "id": "Zne2tWbIAK-r"
      },
      "source": [
        "## Collisoin algorithm (log)"
      ]
    },
    {
      "cell_type": "code",
      "metadata": {
        "id": "gtGMlaohARAS"
      },
      "source": [
        "# A probabilistic collision algorithm for the discrete log problem g^x = h mod p, where g has order ord\n",
        "\n",
        "def collision_dlp(g, h, p, ord=None):\n",
        "  if ord==None:\n",
        "    ord = p-1\n",
        "\n",
        "  Y = [random.randint(1,ord) for _ in range(int(3*math.sqrt(ord)))]  # Random exponents y\n",
        "  gY = [power(g, y, p) for y in Y]                                  # g^y\n",
        "  Z = [random.randint(1,ord) for _ in range(int(3*math.sqrt(ord)))]  # Random exponents z\n",
        "  gZh = [(power(g, z, p)*h)%p for z in Z]                           # g^z*h\n",
        "\n",
        "  # Find a common element of gY and gZh\n",
        "  A = sorted(list(set(gY))+list(set(gZh)))\n",
        "  i=0\n",
        "  while A[i] != A[i+1]:\n",
        "    i += 1\n",
        "  common = A[i]\n",
        "\n",
        "  # Find g^y = g^z*h\n",
        "  i=0\n",
        "  while gY[i] != common:\n",
        "    i += 1\n",
        "  j=0\n",
        "  while gZh[j] != common:\n",
        "    j += 1\n",
        "\n",
        "  return (Y[i] - Z[j])%(ord)  # Return y-z"
      ],
      "execution_count": null,
      "outputs": []
    },
    {
      "cell_type": "code",
      "metadata": {
        "colab": {
          "base_uri": "https://localhost:8080/"
        },
        "id": "711L0dBKAZO1",
        "outputId": "eefb6b45-b1e0-4f91-9c33-ad45ab7753a7"
      },
      "source": [
        "p = 3267000013\n",
        "g = 2\n",
        "q = 272250001\n",
        "# Let's take a random h so that g^x = h (mod p) has a solution\n",
        "# g has order 4*q = (p-1)/3\n",
        "h = power(g, random.randint(1, 4*q), p)\n",
        "\n",
        "x = collision_dlp(g, h, p, 4*q)\n",
        "x"
      ],
      "execution_count": null,
      "outputs": [
        {
          "output_type": "execute_result",
          "data": {
            "text/plain": [
              "182316366"
            ]
          },
          "metadata": {
            "tags": []
          },
          "execution_count": 39
        }
      ]
    },
    {
      "cell_type": "code",
      "metadata": {
        "id": "SkGwLnQHAzsc",
        "colab": {
          "base_uri": "https://localhost:8080/"
        },
        "outputId": "cea61b5e-507d-4ede-c79b-23c6dc49e50a"
      },
      "source": [
        "# Double check our solution\n",
        "power(g, x, p) == h"
      ],
      "execution_count": null,
      "outputs": [
        {
          "output_type": "execute_result",
          "data": {
            "text/plain": [
              "True"
            ]
          },
          "metadata": {
            "tags": []
          },
          "execution_count": 40
        }
      ]
    },
    {
      "cell_type": "markdown",
      "metadata": {
        "id": "x6RmVpFZ0D1G"
      },
      "source": [
        "## Elipse curve"
      ]
    },
    {
      "cell_type": "code",
      "metadata": {
        "id": "iyUAQikCNklc"
      },
      "source": [
        "def inverse(a, N):\n",
        "  a = a%N\n",
        "  g, u, v = extended_gcd(a, N)\n",
        "  if g==1:\n",
        "    return u % N\n",
        "    \n",
        "def ecp_add(P, Q, A, B, p):\n",
        "  if P == 'O':\n",
        "    return Q\n",
        "  if Q == 'O':\n",
        "    return P\n",
        "  x1, y1 = P\n",
        "  x2, y2 = Q\n",
        "  x1, y1, x2, y2 = x1%p, y1%p, x2%p, y2%p\n",
        "  if x1 == x2:\n",
        "    if y1 == (-1 * y2) % p:\n",
        "      return 'O' \n",
        "    slope = ((3*x1*x1 + A)*inverse(2*y1,p)) % p\n",
        "  else:\n",
        "    slope = ((y2 - y1)*inverse(x2 - x1, p)) % p\n",
        "  x3 = (slope**2 - x1 - x2) % p\n",
        "  y3 = (slope*(x1 - x3) - y1) % p\n",
        "  return (x3, y3)"
      ],
      "execution_count": null,
      "outputs": []
    },
    {
      "cell_type": "code",
      "metadata": {
        "colab": {
          "base_uri": "https://localhost:8080/"
        },
        "id": "0kKgUGxlNviN",
        "outputId": "febce7e0-10ce-418f-ae65-c1efddca5f07"
      },
      "source": [
        "p = (24 , 14)\n",
        "print(ecp_add(P = p, Q = p, A = 23, B = 13, p = 83)) # 2P"
      ],
      "execution_count": null,
      "outputs": [
        {
          "output_type": "stream",
          "text": [
            "(30, 8)\n"
          ],
          "name": "stdout"
        }
      ]
    },
    {
      "cell_type": "code",
      "metadata": {
        "colab": {
          "base_uri": "https://localhost:8080/"
        },
        "id": "H-ot-nbGWgLJ",
        "outputId": "a5851c25-3d8f-4699-9a47-ad5ff59b4d44"
      },
      "source": [
        "p = (30, 8)\n",
        "print(ecp_add(P = p, Q = p, A = 23, B = 13, p = 83)) # 4P"
      ],
      "execution_count": null,
      "outputs": [
        {
          "output_type": "stream",
          "text": [
            "(24, 69)\n"
          ],
          "name": "stdout"
        }
      ]
    },
    {
      "cell_type": "code",
      "metadata": {
        "id": "UCrgwVMaz-ew"
      },
      "source": [
        "def binary(n):\n",
        "  binary_repn = []\n",
        "  if n > 1:\n",
        "    binary_repn = binary(n // 2)\n",
        "  binary_repn.append(n % 2)\n",
        "  return binary_repn\n",
        "\n",
        "def power(g, A, N):\n",
        "  A = binary(A)\n",
        "  total=1\n",
        "  for i in range(len(A)):\n",
        "    if A[len(A)-i-1]:\n",
        "      total = (total*g) % N\n",
        "    g = (g*g) % N\n",
        "  return total\n",
        "\n",
        "# Written more compactly\n",
        "\n",
        "def power(a, b, n):\n",
        "  a = a%n\n",
        "  return 1 if b==0 else a**(b%2) * power(a**2, b//2, n) % n\n",
        "\n",
        "def ecp_multiple(P, n, A, B, p):\n",
        "  if n==0: return 'O'\n",
        "  if n==1: return P\n",
        "  return ecp_add(ecp_multiple(P, n%2, A, B, p), ecp_multiple(ecp_add(P, P, A, B, p), n//2, A, B, p), A, B, p)\n",
        "\n",
        "def ecp_multiple(P, n, A, B, p):\n",
        "  n = binary(n)\n",
        "  total = 'O'\n",
        "  for i in range(len(n)):\n",
        "    if n[len(n)-i-1]:\n",
        "      total = ecp_add(total, P, A, B, p)\n",
        "    P = ecp_add(P, P, A, B, p)\n",
        "  return total"
      ],
      "execution_count": null,
      "outputs": []
    },
    {
      "cell_type": "code",
      "metadata": {
        "colab": {
          "base_uri": "https://localhost:8080/"
        },
        "id": "-R6ZnrrH4sjL",
        "outputId": "fc1f1b16-b434-4ad9-9e82-4eb4b88da9ef"
      },
      "source": [
        "# 6.14 a)\n",
        "ecp_multiple((1980,431),1943, 171,853,2671)"
      ],
      "execution_count": null,
      "outputs": [
        {
          "output_type": "execute_result",
          "data": {
            "text/plain": [
              "(1432, 667)"
            ]
          },
          "metadata": {
            "tags": []
          },
          "execution_count": 12
        }
      ]
    },
    {
      "cell_type": "code",
      "metadata": {
        "colab": {
          "base_uri": "https://localhost:8080/"
        },
        "id": "BgiAC5rH6rXS",
        "outputId": "707fa3b2-2fee-4a83-bf0e-15089644e62f"
      },
      "source": [
        "# 6.14 b)\n",
        "ecp_multiple((2110,543),1943, 171,853,2671)"
      ],
      "execution_count": null,
      "outputs": [
        {
          "output_type": "stream",
          "text": [
            "(2424, 911)\n"
          ],
          "name": "stdout"
        }
      ]
    },
    {
      "cell_type": "code",
      "metadata": {
        "colab": {
          "base_uri": "https://localhost:8080/"
        },
        "id": "C50ZEyO3la9v",
        "outputId": "55568c3e-d85c-4df5-a864-eccaf5ffcd10"
      },
      "source": [
        "ecp_multiple((2,20212),22,-4,3,283501)"
      ],
      "execution_count": null,
      "outputs": [
        {
          "output_type": "execute_result",
          "data": {
            "text/plain": [
              "(62486, 134578)"
            ]
          },
          "metadata": {
            "tags": []
          },
          "execution_count": 51
        }
      ]
    },
    {
      "cell_type": "code",
      "metadata": {
        "colab": {
          "base_uri": "https://localhost:8080/"
        },
        "id": "0LU_WTZMlsgG",
        "outputId": "fa07596a-2f1d-44ee-fd4e-20e8909c248f"
      },
      "source": [
        "ecp_multiple((220876,95455),22,-4,3,283501)"
      ],
      "execution_count": null,
      "outputs": [
        {
          "output_type": "execute_result",
          "data": {
            "text/plain": [
              "(93565, 5053)"
            ]
          },
          "metadata": {
            "tags": []
          },
          "execution_count": 54
        }
      ]
    },
    {
      "cell_type": "code",
      "metadata": {
        "colab": {
          "base_uri": "https://localhost:8080/"
        },
        "id": "PofLcSorl2gk",
        "outputId": "1675f03c-e9dd-473a-a4f7-60c035c83cce"
      },
      "source": [
        "ecp_add((11,162735),(93565, 5053),-4,3,283501)"
      ],
      "execution_count": null,
      "outputs": [
        {
          "output_type": "execute_result",
          "data": {
            "text/plain": [
              "(213021, 74266)"
            ]
          },
          "metadata": {
            "tags": []
          },
          "execution_count": 55
        }
      ]
    },
    {
      "cell_type": "code",
      "metadata": {
        "colab": {
          "base_uri": "https://localhost:8080/"
        },
        "id": "OxhSEAtEmJkF",
        "outputId": "94cc2953-9f18-4168-e42b-bf5855267d96"
      },
      "source": [
        "134578+74266"
      ],
      "execution_count": null,
      "outputs": [
        {
          "output_type": "execute_result",
          "data": {
            "text/plain": [
              "208844"
            ]
          },
          "metadata": {
            "tags": []
          },
          "execution_count": 56
        }
      ]
    },
    {
      "cell_type": "code",
      "metadata": {
        "colab": {
          "base_uri": "https://localhost:8080/"
        },
        "id": "yPrYDxOQ6-GB",
        "outputId": "9046eee6-0bb2-422c-dac5-596f529944d6"
      },
      "source": [
        "# 6.14 c)\n",
        "i = 1\n",
        "while True:\n",
        "   x = ecp_multiple((1980,431),i, 171,853,2671)\n",
        "   i = i+1 \n",
        "   if x == (2110 , 543):\n",
        "     print(i)\n",
        "     break"
      ],
      "execution_count": null,
      "outputs": [
        {
          "output_type": "stream",
          "text": [
            "727\n"
          ],
          "name": "stdout"
        }
      ]
    },
    {
      "cell_type": "code",
      "metadata": {
        "colab": {
          "base_uri": "https://localhost:8080/"
        },
        "id": "KIfXCPWq_P3b",
        "outputId": "dfdd49c0-3d8e-4eb5-9bd0-c10e65510a3f"
      },
      "source": [
        "# 6.20 a)\n",
        "ecp_multiple((11259,11278),542,231,473,17389)"
      ],
      "execution_count": null,
      "outputs": [
        {
          "output_type": "execute_result",
          "data": {
            "text/plain": [
              "(8689, 1726)"
            ]
          },
          "metadata": {
            "tags": []
          },
          "execution_count": 22
        }
      ]
    },
    {
      "cell_type": "code",
      "metadata": {
        "colab": {
          "base_uri": "https://localhost:8080/"
        },
        "id": "edx20ptYARgc",
        "outputId": "bebc38b5-39df-47f4-df1c-5bbd186bbe34"
      },
      "source": [
        "ecp_multiple((11259,11278),847,231,473,17389)"
      ],
      "execution_count": null,
      "outputs": [
        {
          "output_type": "execute_result",
          "data": {
            "text/plain": [
              "(8417, 8276)"
            ]
          },
          "metadata": {
            "tags": []
          },
          "execution_count": 30
        }
      ]
    },
    {
      "cell_type": "code",
      "metadata": {
        "id": "2ZLhqh3jEp6O"
      },
      "source": [
        "# 6.20 b)\n",
        "a = ecp_multiple((11259,11278),106,231,473,17389)\n",
        "b = ecp_multiple((11017,14637),331,231,473,17389)"
      ],
      "execution_count": null,
      "outputs": []
    },
    {
      "cell_type": "markdown",
      "metadata": {
        "id": "-OyP7Kplg2_W"
      },
      "source": [
        "# Eclipe curve factorization"
      ]
    },
    {
      "cell_type": "code",
      "metadata": {
        "id": "NtmzhbmRG0IW"
      },
      "source": [
        "def inverse(a, N):\n",
        "  a = a%N\n",
        "  g, u, v = extended_gcd(a, N)\n",
        "  if g==1:\n",
        "    return u % N"
      ],
      "execution_count": null,
      "outputs": []
    },
    {
      "cell_type": "code",
      "metadata": {
        "id": "KJbfVsGShfLS"
      },
      "source": [
        "def ec_factor(N, maxn=10000):\n",
        "  A = random.randint(1,N)\n",
        "  P = (random.randint(1,N), random.randint(1,N))\n",
        "  B = (P[1]**2 - P[0]**3 - A*P[0]) % N          # Chosen so that P is on E: Y^2 = X^3 + AX + B\n",
        "  try:\n",
        "    for j in range(2, maxn):\n",
        "      P = ecp_multiple(P, j, A, B, N)           # Computing j!P\n",
        "    print('Test failed, try a larger maxn.')\n",
        "  except:\n",
        "    return\n",
        "\n",
        "def pollard(N, a=2, maxn=100000):\n",
        "  for j in range(2, maxn):\n",
        "    a = power(a, j, N)\n",
        "    d = gcd(a-1, N)\n",
        "    if d != 1 and d != N:\n",
        "      return d\n",
        "  print('Test failed, try a larger maxn.')"
      ],
      "execution_count": null,
      "outputs": []
    },
    {
      "cell_type": "code",
      "metadata": {
        "id": "frKRL2bihtUV"
      },
      "source": [
        "def ecp_add(P, Q, A, B, p):\n",
        "  try:\n",
        "    if P == 'O':\n",
        "      return Q\n",
        "    if Q == 'O':\n",
        "      return P\n",
        "    x1, y1 = P\n",
        "    x2, y2 = Q\n",
        "    x1, y1, x2, y2 = x1%p, y1%p, x2%p, y2%p\n",
        "    if x1 == x2:\n",
        "      if y1 == (-1 * y2) % p:\n",
        "        return 'O' \n",
        "      slope = ((3*x1*x1 + A)*inverse(2*y1,p)) % p\n",
        "    else:\n",
        "      slope = ((y2 - y1)*inverse(x2 - x1, p)) % p\n",
        "    x3 = (slope**2 - x1 - x2) % p\n",
        "    y3 = (slope*(x1 - x3) - y1) % p\n",
        "    return (x3, y3)\n",
        "  except:\n",
        "    return gcd(x2-x1, p)\n",
        "\n",
        "def ecp_multiple(P, n, A, B, p):\n",
        "  try:\n",
        "    n = binary(n)\n",
        "    total = 'O'\n",
        "    for i in range(len(n)):\n",
        "      if n[len(n)-i-1]:\n",
        "        total = ecp_add(total, P, A, B, p)\n",
        "      P = ecp_add(P, P, A, B, p)\n",
        "    return total\n",
        "  except:\n",
        "    return total\n",
        "\n",
        "def ec_factor(N, maxn=10000):\n",
        "  A = random.randint(1,N)\n",
        "  P = (random.randint(1,N), random.randint(1,N))\n",
        "  B = (P[1]**2 - P[0]**3 - A*P[0]) % N\n",
        "  for j in range(2, maxn):\n",
        "    P = ecp_multiple(P, j, A, B, N)\n",
        "    if type(P) is int:\n",
        "      return P\n",
        "  print('Test failed, try a larger maxn.')\n",
        "\n",
        "def inverse(a, p):\n",
        "  a = a%p\n",
        "  g, u, v = extended_gcd(a, p)\n",
        "  if g==1:\n",
        "    return u"
      ],
      "execution_count": null,
      "outputs": []
    },
    {
      "cell_type": "code",
      "metadata": {
        "id": "5xpStGRVhwac"
      },
      "source": [
        "def factor(N):\n",
        "  if is_mrprime(N):\n",
        "    return [N]\n",
        "  small_primes = {2, 3, 5, 7, 11, 13, 17, 19, 23, 29, 31}\n",
        "  for p in small_primes:\n",
        "    if N % p == 0:\n",
        "      return [p] + factor(N // p)\n",
        "  try:\n",
        "    print('Trying Pollard on', N)\n",
        "    p = pollard(N)\n",
        "    return sorted(factor(p) + factor(N // p))\n",
        "  except:\n",
        "    try:\n",
        "      print('Trying elliptic curves on', N)\n",
        "      p = ec_factor(N)\n",
        "      return sorted(factor(p) + factor(N // p))\n",
        "    except:\n",
        "      print('Partial factorization found:')\n",
        "      return [N]"
      ],
      "execution_count": null,
      "outputs": []
    },
    {
      "cell_type": "code",
      "metadata": {
        "colab": {
          "base_uri": "https://localhost:8080/",
          "height": 426
        },
        "id": "MAXfszzB7ZiD",
        "outputId": "bc1fa536-a4dc-42d5-f806-92f60f7a0815"
      },
      "source": [
        "# 6.21 a)\n",
        "def factorial(x):\n",
        "  a = 1\n",
        "  for i in range(1,x+1):\n",
        "    a = a*i\n",
        "  return a\n",
        "  \n",
        "for i in range(1,10):\n",
        "  print('P'+str(i),ecp_multiple((2,5),i,4,9,589))"
      ],
      "execution_count": null,
      "outputs": [
        {
          "output_type": "stream",
          "text": [
            "P1 (2, 5)\n",
            "P2 (564, 156)\n",
            "P3 (148, 48)\n",
            "P4 (303, 572)\n",
            "P5 (285, 92)\n",
            "P6 (33, 460)\n"
          ],
          "name": "stdout"
        },
        {
          "output_type": "error",
          "ename": "TypeError",
          "evalue": "ignored",
          "traceback": [
            "\u001b[0;31m---------------------------------------------------------------------------\u001b[0m",
            "\u001b[0;31mTypeError\u001b[0m                                 Traceback (most recent call last)",
            "\u001b[0;32m<ipython-input-37-ffc78b6b09ad>\u001b[0m in \u001b[0;36m<module>\u001b[0;34m()\u001b[0m\n\u001b[1;32m      1\u001b[0m \u001b[0;32mfor\u001b[0m \u001b[0mi\u001b[0m \u001b[0;32min\u001b[0m \u001b[0mrange\u001b[0m\u001b[0;34m(\u001b[0m\u001b[0;36m1\u001b[0m\u001b[0;34m,\u001b[0m\u001b[0;36m10\u001b[0m\u001b[0;34m)\u001b[0m\u001b[0;34m:\u001b[0m\u001b[0;34m\u001b[0m\u001b[0;34m\u001b[0m\u001b[0m\n\u001b[0;32m----> 2\u001b[0;31m   \u001b[0mprint\u001b[0m\u001b[0;34m(\u001b[0m\u001b[0;34m'P'\u001b[0m\u001b[0;34m+\u001b[0m\u001b[0mstr\u001b[0m\u001b[0;34m(\u001b[0m\u001b[0mi\u001b[0m\u001b[0;34m)\u001b[0m\u001b[0;34m,\u001b[0m\u001b[0mecp_multiple\u001b[0m\u001b[0;34m(\u001b[0m\u001b[0;34m(\u001b[0m\u001b[0;36m2\u001b[0m\u001b[0;34m,\u001b[0m\u001b[0;36m5\u001b[0m\u001b[0;34m)\u001b[0m\u001b[0;34m,\u001b[0m\u001b[0mi\u001b[0m\u001b[0;34m,\u001b[0m\u001b[0;36m4\u001b[0m\u001b[0;34m,\u001b[0m\u001b[0;36m9\u001b[0m\u001b[0;34m,\u001b[0m\u001b[0;36m589\u001b[0m\u001b[0;34m)\u001b[0m\u001b[0;34m)\u001b[0m\u001b[0;34m\u001b[0m\u001b[0;34m\u001b[0m\u001b[0m\n\u001b[0m",
            "\u001b[0;32m<ipython-input-6-34732af73431>\u001b[0m in \u001b[0;36mecp_multiple\u001b[0;34m(P, n, A, B, p)\u001b[0m\n\u001b[1;32m     31\u001b[0m   \u001b[0;32mfor\u001b[0m \u001b[0mi\u001b[0m \u001b[0;32min\u001b[0m \u001b[0mrange\u001b[0m\u001b[0;34m(\u001b[0m\u001b[0mlen\u001b[0m\u001b[0;34m(\u001b[0m\u001b[0mn\u001b[0m\u001b[0;34m)\u001b[0m\u001b[0;34m)\u001b[0m\u001b[0;34m:\u001b[0m\u001b[0;34m\u001b[0m\u001b[0;34m\u001b[0m\u001b[0m\n\u001b[1;32m     32\u001b[0m     \u001b[0;32mif\u001b[0m \u001b[0mn\u001b[0m\u001b[0;34m[\u001b[0m\u001b[0mlen\u001b[0m\u001b[0;34m(\u001b[0m\u001b[0mn\u001b[0m\u001b[0;34m)\u001b[0m\u001b[0;34m-\u001b[0m\u001b[0mi\u001b[0m\u001b[0;34m-\u001b[0m\u001b[0;36m1\u001b[0m\u001b[0;34m]\u001b[0m\u001b[0;34m:\u001b[0m\u001b[0;34m\u001b[0m\u001b[0;34m\u001b[0m\u001b[0m\n\u001b[0;32m---> 33\u001b[0;31m       \u001b[0mtotal\u001b[0m \u001b[0;34m=\u001b[0m \u001b[0mecp_add\u001b[0m\u001b[0;34m(\u001b[0m\u001b[0mtotal\u001b[0m\u001b[0;34m,\u001b[0m \u001b[0mP\u001b[0m\u001b[0;34m,\u001b[0m \u001b[0mA\u001b[0m\u001b[0;34m,\u001b[0m \u001b[0mB\u001b[0m\u001b[0;34m,\u001b[0m \u001b[0mp\u001b[0m\u001b[0;34m)\u001b[0m\u001b[0;34m\u001b[0m\u001b[0;34m\u001b[0m\u001b[0m\n\u001b[0m\u001b[1;32m     34\u001b[0m     \u001b[0mP\u001b[0m \u001b[0;34m=\u001b[0m \u001b[0mecp_add\u001b[0m\u001b[0;34m(\u001b[0m\u001b[0mP\u001b[0m\u001b[0;34m,\u001b[0m \u001b[0mP\u001b[0m\u001b[0;34m,\u001b[0m \u001b[0mA\u001b[0m\u001b[0;34m,\u001b[0m \u001b[0mB\u001b[0m\u001b[0;34m,\u001b[0m \u001b[0mp\u001b[0m\u001b[0;34m)\u001b[0m\u001b[0;34m\u001b[0m\u001b[0;34m\u001b[0m\u001b[0m\n\u001b[1;32m     35\u001b[0m   \u001b[0;32mreturn\u001b[0m \u001b[0mtotal\u001b[0m\u001b[0;34m\u001b[0m\u001b[0;34m\u001b[0m\u001b[0m\n",
            "\u001b[0;32m<ipython-input-7-b36a14a1a97c>\u001b[0m in \u001b[0;36mecp_add\u001b[0;34m(P, Q, A, B, p)\u001b[0m\n\u001b[1;32m     18\u001b[0m     \u001b[0mslope\u001b[0m \u001b[0;34m=\u001b[0m \u001b[0;34m(\u001b[0m\u001b[0;34m(\u001b[0m\u001b[0;36m3\u001b[0m\u001b[0;34m*\u001b[0m\u001b[0mx1\u001b[0m\u001b[0;34m*\u001b[0m\u001b[0mx1\u001b[0m \u001b[0;34m+\u001b[0m \u001b[0mA\u001b[0m\u001b[0;34m)\u001b[0m\u001b[0;34m*\u001b[0m\u001b[0minverse\u001b[0m\u001b[0;34m(\u001b[0m\u001b[0;36m2\u001b[0m\u001b[0;34m*\u001b[0m\u001b[0my1\u001b[0m\u001b[0;34m,\u001b[0m\u001b[0mp\u001b[0m\u001b[0;34m)\u001b[0m\u001b[0;34m)\u001b[0m \u001b[0;34m%\u001b[0m \u001b[0mp\u001b[0m\u001b[0;34m\u001b[0m\u001b[0;34m\u001b[0m\u001b[0m\n\u001b[1;32m     19\u001b[0m   \u001b[0;32melse\u001b[0m\u001b[0;34m:\u001b[0m\u001b[0;34m\u001b[0m\u001b[0;34m\u001b[0m\u001b[0m\n\u001b[0;32m---> 20\u001b[0;31m     \u001b[0mslope\u001b[0m \u001b[0;34m=\u001b[0m \u001b[0;34m(\u001b[0m\u001b[0;34m(\u001b[0m\u001b[0my2\u001b[0m \u001b[0;34m-\u001b[0m \u001b[0my1\u001b[0m\u001b[0;34m)\u001b[0m\u001b[0;34m*\u001b[0m\u001b[0minverse\u001b[0m\u001b[0;34m(\u001b[0m\u001b[0mx2\u001b[0m \u001b[0;34m-\u001b[0m \u001b[0mx1\u001b[0m\u001b[0;34m,\u001b[0m \u001b[0mp\u001b[0m\u001b[0;34m)\u001b[0m\u001b[0;34m)\u001b[0m \u001b[0;34m%\u001b[0m \u001b[0mp\u001b[0m\u001b[0;34m\u001b[0m\u001b[0;34m\u001b[0m\u001b[0m\n\u001b[0m\u001b[1;32m     21\u001b[0m   \u001b[0mx3\u001b[0m \u001b[0;34m=\u001b[0m \u001b[0;34m(\u001b[0m\u001b[0mslope\u001b[0m\u001b[0;34m**\u001b[0m\u001b[0;36m2\u001b[0m \u001b[0;34m-\u001b[0m \u001b[0mx1\u001b[0m \u001b[0;34m-\u001b[0m \u001b[0mx2\u001b[0m\u001b[0;34m)\u001b[0m \u001b[0;34m%\u001b[0m \u001b[0mp\u001b[0m\u001b[0;34m\u001b[0m\u001b[0;34m\u001b[0m\u001b[0m\n\u001b[1;32m     22\u001b[0m   \u001b[0my3\u001b[0m \u001b[0;34m=\u001b[0m \u001b[0;34m(\u001b[0m\u001b[0mslope\u001b[0m\u001b[0;34m*\u001b[0m\u001b[0;34m(\u001b[0m\u001b[0mx1\u001b[0m \u001b[0;34m-\u001b[0m \u001b[0mx3\u001b[0m\u001b[0;34m)\u001b[0m \u001b[0;34m-\u001b[0m \u001b[0my1\u001b[0m\u001b[0;34m)\u001b[0m \u001b[0;34m%\u001b[0m \u001b[0mp\u001b[0m\u001b[0;34m\u001b[0m\u001b[0;34m\u001b[0m\u001b[0m\n",
            "\u001b[0;31mTypeError\u001b[0m: unsupported operand type(s) for *: 'int' and 'NoneType'"
          ]
        }
      ]
    },
    {
      "cell_type": "code",
      "metadata": {
        "id": "DotDAvce7E9-"
      },
      "source": [
        "# P7 does not exist\n",
        "inverse(303-148,589) # x(P4)-x(P3) = 303-148, no inverse"
      ],
      "execution_count": null,
      "outputs": []
    },
    {
      "cell_type": "code",
      "metadata": {
        "colab": {
          "base_uri": "https://localhost:8080/"
        },
        "id": "Zgk2S-ne3JC3",
        "outputId": "f63557aa-13ad-4d45-b268-a42779992426"
      },
      "source": [
        "gcd(303-148,589)"
      ],
      "execution_count": null,
      "outputs": [
        {
          "output_type": "execute_result",
          "data": {
            "text/plain": [
              "31"
            ]
          },
          "metadata": {
            "tags": []
          },
          "execution_count": 41
        }
      ]
    },
    {
      "cell_type": "code",
      "metadata": {
        "colab": {
          "base_uri": "https://localhost:8080/"
        },
        "id": "ek2_iHkT9sim",
        "outputId": "d9516e0d-a14d-47be-f747-8704ca30ca0a"
      },
      "source": [
        "589/31"
      ],
      "execution_count": null,
      "outputs": [
        {
          "output_type": "execute_result",
          "data": {
            "text/plain": [
              "19.0"
            ]
          },
          "metadata": {
            "tags": []
          },
          "execution_count": 42
        }
      ]
    },
    {
      "cell_type": "markdown",
      "metadata": {
        "id": "JPGMaYoPtm-1"
      },
      "source": [
        "# Find point"
      ]
    },
    {
      "cell_type": "code",
      "metadata": {
        "id": "Y1t9C9wXtmot"
      },
      "source": [
        "# An algorithm for finding all points on a curve Y^2 = X^3 + A*X + B over F_p\n",
        "\n",
        "def ecp_find_points(A, B, p):\n",
        "  roots = {0:[0]}\n",
        "  for i in range(1,(p+1)//2):\n",
        "    roots[power(i, 2, p)] = [i, (-1*i)%p]\n",
        "  E = []\n",
        "  for x in range(p):\n",
        "    y_squared = (x**3 + A*x + B) % p\n",
        "    if y_squared in roots.keys():\n",
        "      for y in roots[y_squared]:\n",
        "        E = E + [(x, y)]\n",
        "  return E + ['O']"
      ],
      "execution_count": null,
      "outputs": []
    },
    {
      "cell_type": "code",
      "metadata": {
        "colab": {
          "base_uri": "https://localhost:8080/"
        },
        "id": "wn6UzQ-zts16",
        "outputId": "0fe59e17-168a-451d-cdfa-5a71c4da472f"
      },
      "source": [
        "ecp_find_points(2, 2, 13)"
      ],
      "execution_count": null,
      "outputs": [
        {
          "output_type": "execute_result",
          "data": {
            "text/plain": [
              "[(2, 1),\n",
              " (2, 12),\n",
              " (3, 3),\n",
              " (3, 10),\n",
              " (4, 3),\n",
              " (4, 10),\n",
              " (6, 3),\n",
              " (6, 10),\n",
              " (8, 6),\n",
              " (8, 7),\n",
              " (11, 4),\n",
              " (11, 9),\n",
              " (12, 5),\n",
              " (12, 8),\n",
              " 'O']"
            ]
          },
          "metadata": {
            "tags": []
          },
          "execution_count": 36
        }
      ]
    },
    {
      "cell_type": "markdown",
      "metadata": {
        "id": "GcFjAgEkhMdW"
      },
      "source": [
        "# Formulas"
      ]
    },
    {
      "cell_type": "code",
      "metadata": {
        "id": "_JNyDF_MhN7y"
      },
      "source": [
        "def power(a, b, n):\n",
        "  a = a%n\n",
        "  return 1 if b==0 else a**(b%2) * power(a**2, b//2, n) % n\n",
        "\n",
        "def gcd(a, b):\n",
        "  return a if b==0 else gcd(b, a%b)\n",
        "\n",
        "def extended_gcd(a, b):\n",
        "  u, g, x, y = 1, a, 0, b\n",
        "  while y != 0:\n",
        "    q, t = g // y, g % y\n",
        "    s = u - q*x\n",
        "    u, g, x, y = x, y, s, t\n",
        "  v = (g - a*u) // b \n",
        "  return g, u, v\n",
        "\n",
        "def inverse(a, N):\n",
        "  a = a%N\n",
        "  g, u, v = extended_gcd(a, N)\n",
        "  if g==1:\n",
        "    return u % N\n",
        "    \n",
        "def order(a, p):\n",
        "  n = 1\n",
        "  x = a\n",
        "  while power(a, n, p) != 1:\n",
        "    x = (x * a) % p\n",
        "    n += 1\n",
        "  return n\n",
        "\n",
        "def is_primitive(a, p):\n",
        "  return order(a, p) == p-1\n",
        "\n",
        "def is_mrprime(n, trials=50):\n",
        "  for i in range(trials):\n",
        "    a = random.randint(1, n-1)\n",
        "    if is_mrwitness(a, n):\n",
        "      return False\n",
        "  return True\n",
        "\n",
        "def generate_prime(digits, attempts=100):\n",
        "  N = 2 * 3 * 5\n",
        "  for K in range(int(10**(digits)/N), int(10**(digits)/N)+attempts):\n",
        "    if is_mrprime(N*K + 1):\n",
        "      return N*K + 1\n",
        "  print('No primes found. Try more attempts.')\n",
        "  return None\n",
        "\n",
        "def is_mrwitness(a, n):\n",
        "  # If a and n have a common factor, then n is composite\n",
        "  if gcd(a, n) != 1:\n",
        "    return True\n",
        "\n",
        "  # Write n-1 = 2^k*q with q odd\n",
        "  k=0\n",
        "  q=n-1\n",
        "  while q%2 == 0:\n",
        "    k += 1\n",
        "    q = q//2\n",
        "  \n",
        "  # If a^q == 1 (mod n) then a is not a Miller-Rabin witness for n\n",
        "  a = power(a, q, n)\n",
        "  if a == 1:\n",
        "    return False\n",
        "  \n",
        "  # If a^(2^iq) == -1 (mod n) for some i<k then a is not a Miller-Rabin witness for n\n",
        "  for i in range(k):\n",
        "    if a == n-1:\n",
        "      return False\n",
        "    a = power(a, 2, n)\n",
        "\n",
        "  return True # Otherwise a is a Miller-Rabin witness for n\n",
        "\n",
        "def pollard(N, a=2, maxn=1000000):\n",
        "  for j in range(2, maxn):\n",
        "    a = power(a, j, N)\n",
        "    d = gcd(a-1, N)\n",
        "    if d != 1 and d != N:\n",
        "      return d\n",
        "  print('Test failed, try a larger maxn.')\n",
        "  return None\n",
        "\n",
        "def find_primitive(p):\n",
        "  a = 2\n",
        "  while not is_primitive(a, p):\n",
        "    a += 1\n",
        "  return a\n",
        "\n",
        "def collision_dlp(g, h, p, ord=None):\n",
        "  if ord==None:\n",
        "    ord = p-1\n",
        "\n",
        "  Y = [random.randint(1,ord) for _ in range(int(3*math.sqrt(ord)))]  # Random exponents y\n",
        "  gY = [power(g, y, p) for y in Y]                                  # g^y\n",
        "  Z = [random.randint(1,ord) for _ in range(int(3*math.sqrt(ord)))]  # Random exponents z\n",
        "  gZh = [(power(g, z, p)*h)%p for z in Z]                           # g^z*h\n",
        "\n",
        "  # Find a common element of gY and gZh\n",
        "  A = sorted(list(set(gY))+list(set(gZh)))\n",
        "  i=0\n",
        "  while A[i] != A[i+1]:\n",
        "    i += 1\n",
        "  common = A[i]\n",
        "\n",
        "  # Find g^y = g^z*h\n",
        "  i=0\n",
        "  while gY[i] != common:\n",
        "    i += 1\n",
        "  j=0\n",
        "  while gZh[j] != common:\n",
        "    j += 1\n",
        "\n",
        "  return (Y[i] - Z[j])%(ord)  # Return y-z"
      ],
      "execution_count": null,
      "outputs": []
    },
    {
      "cell_type": "code",
      "metadata": {
        "colab": {
          "base_uri": "https://localhost:8080/"
        },
        "id": "wii0Va-VKERH",
        "outputId": "25e5ec0f-8b23-42ee-d886-35729a3a4b8c"
      },
      "source": [
        "# 5\n",
        "p = 97; q = 89; e = 511\n",
        "d = inverse(e, (p-1)*(q-1)//gcd(p-1, q-1)) \n",
        "print(d)"
      ],
      "execution_count": null,
      "outputs": [
        {
          "output_type": "stream",
          "text": [
            "31\n"
          ],
          "name": "stdout"
        }
      ]
    },
    {
      "cell_type": "code",
      "metadata": {
        "colab": {
          "base_uri": "https://localhost:8080/"
        },
        "id": "T742hGIVXL7p",
        "outputId": "a24bc91d-a6d6-4f90-ab84-e2427f6f54b8"
      },
      "source": [
        "1-(5/6)*(4/6)*(3/6)*(2/6)"
      ],
      "execution_count": null,
      "outputs": [
        {
          "output_type": "execute_result",
          "data": {
            "text/plain": [
              "0.9074074074074074"
            ]
          },
          "metadata": {
            "tags": []
          },
          "execution_count": 10
        }
      ]
    },
    {
      "cell_type": "code",
      "metadata": {
        "colab": {
          "base_uri": "https://localhost:8080/"
        },
        "id": "58Y4qF5EbxHd",
        "outputId": "5d074494-5b3d-4f18-d476-fee0d4284379"
      },
      "source": [
        "1-(1/6)*(5/6)**9"
      ],
      "execution_count": null,
      "outputs": [
        {
          "output_type": "execute_result",
          "data": {
            "text/plain": [
              "0.9676988834220308"
            ]
          },
          "metadata": {
            "tags": []
          },
          "execution_count": 11
        }
      ]
    }
  ]
}