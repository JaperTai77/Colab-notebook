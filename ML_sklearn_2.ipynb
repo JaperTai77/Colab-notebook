{
  "nbformat": 4,
  "nbformat_minor": 0,
  "metadata": {
    "colab": {
      "name": "ML_sklearn_2.ipynb",
      "provenance": [],
      "authorship_tag": "ABX9TyO3AgjpnyMT04myvOW6u0a6",
      "include_colab_link": true
    },
    "kernelspec": {
      "name": "python3",
      "display_name": "Python 3"
    }
  },
  "cells": [
    {
      "cell_type": "markdown",
      "metadata": {
        "id": "view-in-github",
        "colab_type": "text"
      },
      "source": [
        "<a href=\"https://colab.research.google.com/github/JaperTai77/Colab-notebook/blob/main/ML_sklearn_2.ipynb\" target=\"_parent\"><img src=\"https://colab.research.google.com/assets/colab-badge.svg\" alt=\"Open In Colab\"/></a>"
      ]
    },
    {
      "cell_type": "markdown",
      "metadata": {
        "id": "pk_4E7czfT7B"
      },
      "source": [
        "# Logistic Regression"
      ]
    },
    {
      "cell_type": "code",
      "metadata": {
        "id": "dizUPj2oexcl"
      },
      "source": [
        "import numpy as np\n",
        "import pandas as pd\n",
        "data_web_address = data_web_address =\"https://archive.ics.uci.edu/ml/machine-learning-databases/breast-cancer-wisconsin/breast-cancer-wisconsin.data\"\n",
        "column_names = ['radius','texture',\n",
        "                            'perimeter','area',\n",
        "                            'smoothness','compactness',\n",
        "                            'concavity','concave points',\n",
        "                            'symmetry','malignant']\n",
        "feature_names = column_names[:-1]\n",
        "all_data = pd.read_csv(data_web_address , names=column_names)"
      ],
      "execution_count": null,
      "outputs": []
    },
    {
      "cell_type": "code",
      "metadata": {
        "id": "cKyd2vjaibKQ"
      },
      "source": [
        "# Binary response\n",
        "all_data['malignant'] = all_data['malignant'].astype(np.int)\n",
        "all_data['malignant'] = np.where(all_data['malignant'] == 4, 1,0)\n",
        "X = all_data[[col for col in feature_names if col !='compactness']]\n",
        "y = all_data.malignant"
      ],
      "execution_count": null,
      "outputs": []
    },
    {
      "cell_type": "code",
      "metadata": {
        "id": "7TLp_6DGlCkh"
      },
      "source": [
        "from sklearn.model_selection import train_test_split\n",
        "X_train, X_test, y_train, y_test = train_test_split(X, y,test_size=0.2, random_state=7,stratify=y)\n",
        "from sklearn.linear_model import LogisticRegression\n",
        "lr = LogisticRegression()\n",
        "lr.fit(X_train,y_train)\n",
        "y_pred_proba = lr.predict_proba(X_test)"
      ],
      "execution_count": null,
      "outputs": []
    },
    {
      "cell_type": "code",
      "metadata": {
        "colab": {
          "base_uri": "https://localhost:8080/",
          "height": 71
        },
        "id": "s_xWosfjlT6K",
        "outputId": "f6ddf4ac-9a0e-4583-ca7a-49849ae68295"
      },
      "source": [
        "import matplotlib.pyplot as plt\n",
        "from sklearn.metrics import roc_curve, auc, roc_auc_score\n",
        "fpr, tpr, ths = roc_curve(y_test, y_pred_proba[:,1])\n",
        "auc_score = auc(fpr,tpr)\n",
        "plt.plot(fpr,tpr,label=\"AUC Score:\" + str(auc_score))\n",
        "plt.xlabel('fpr',fontsize='15')\n",
        "plt.ylabel('tpr',fontsize='15')\n",
        "plt.legend(loc='best')"
      ],
      "execution_count": null,
      "outputs": [
        {
          "output_type": "execute_result",
          "data": {
            "text/plain": [
              "<matplotlib.legend.Legend at 0x7f262df83310>"
            ]
          },
          "metadata": {
            "tags": []
          },
          "execution_count": 10
        },
        {
          "output_type": "display_data",
          "data": {
            "image/png": "[encoded data removed]",
            "text/plain": [
              "<Figure size 432x288 with 1 Axes>"
            ]
          },
          "metadata": {
            "tags": [],
            "needs_background": "light"
          }
        }
      ]
    },
    {
      "cell_type": "markdown",
      "metadata": {
        "id": "CFE7SKiEmTUf"
      },
      "source": [
        "# Clustering"
      ]
    },
    {
      "cell_type": "markdown",
      "metadata": {
        "id": "ASvXcS79zevq"
      },
      "source": [
        "## K-mean"
      ]
    },
    {
      "cell_type": "code",
      "metadata": {
        "id": "yd1n6Q4imWdI"
      },
      "source": [
        "from sklearn.datasets import make_blobs\n",
        "blobs, classes = make_blobs(500, centers=3)"
      ],
      "execution_count": null,
      "outputs": []
    },
    {
      "cell_type": "code",
      "metadata": {
        "colab": {
          "base_uri": "https://localhost:8080/"
        },
        "id": "xPkNTFt7zlsq",
        "outputId": "b80cf2f6-7f48-4171-e712-4ead00ddaf02"
      },
      "source": [
        "from sklearn.cluster import KMeans\n",
        "kmean = KMeans(n_clusters=3)\n",
        "kmean.fit(blobs)\n",
        "kmean.cluster_centers_"
      ],
      "execution_count": null,
      "outputs": [
        {
          "output_type": "execute_result",
          "data": {
            "text/plain": [
              "array([[ 3.3325502 , -1.91157216],\n",
              "       [-1.7732744 , -0.8010296 ],\n",
              "       [ 3.15068322, -6.59238461]])"
            ]
          },
          "metadata": {
            "tags": []
          },
          "execution_count": 12
        }
      ]
    },
    {
      "cell_type": "code",
      "metadata": {
        "colab": {
          "base_uri": "https://localhost:8080/",
          "height": 489
        },
        "id": "5o9jg9nV0Mny",
        "outputId": "15f45435-1971-4c45-debb-f841e17c1eaf"
      },
      "source": [
        "f, ax = plt.subplots(figsize=(7.5, 7.5))\n",
        "ax.scatter(blobs[:, 0], blobs[:, 1])\n",
        "ax.scatter(kmean.cluster_centers_[:, 0],kmean.cluster_centers_[:,1], marker='*', s=250,color='black', label='Centers')\n",
        "ax.set_title(\"Blobs\")\n",
        "ax.legend(loc='best')"
      ],
      "execution_count": null,
      "outputs": [
        {
          "output_type": "execute_result",
          "data": {
            "text/plain": [
              "<matplotlib.legend.Legend at 0x7f2625bd76d0>"
            ]
          },
          "metadata": {
            "tags": []
          },
          "execution_count": 17
        },
        {
          "output_type": "display_data",
          "data": {
            "image/png": "[encoded data removed]",
            "text/plain": [
              "<Figure size 540x540 with 1 Axes>"
            ]
          },
          "metadata": {
            "tags": [],
            "needs_background": "light"
          }
        }
      ]
    },
    {
      "cell_type": "code",
      "metadata": {
        "colab": {
          "base_uri": "https://localhost:8080/"
        },
        "id": "G6dw0BPS1C9z",
        "outputId": "3e2ede79-5179-4111-e342-39f6deec46a9"
      },
      "source": [
        "kmean.transform(blobs)[:5]"
      ],
      "execution_count": null,
      "outputs": [
        {
          "output_type": "execute_result",
          "data": {
            "text/plain": [
              "array([[5.11071603, 7.45777911, 0.7825032 ],\n",
              "       [5.03224625, 6.11216239, 2.28712221],\n",
              "       [5.07757046, 0.77171101, 7.92481236],\n",
              "       [5.72094192, 1.32312946, 8.69213148],\n",
              "       [4.11241296, 2.1257705 , 7.72012282]])"
            ]
          },
          "metadata": {
            "tags": []
          },
          "execution_count": 18
        }
      ]
    },
    {
      "cell_type": "code",
      "metadata": {
        "colab": {
          "base_uri": "https://localhost:8080/"
        },
        "id": "BLgnVvA-GSzZ",
        "outputId": "76973f17-ca1b-4d1b-a039-abbc07476283"
      },
      "source": [
        "from sklearn import metrics\n",
        "silhouette_samples = metrics.silhouette_samples(blobs,kmean.labels_) # look at how seperate the distance from the cluster are\n",
        "np.column_stack((classes[:5], silhouette_samples[:5]))"
      ],
      "execution_count": null,
      "outputs": [
        {
          "output_type": "execute_result",
          "data": {
            "text/plain": [
              "array([[0.        , 0.73200094],\n",
              "       [0.        , 0.5136415 ],\n",
              "       [2.        , 0.73149721],\n",
              "       [2.        , 0.70476218],\n",
              "       [2.        , 0.44463207]])"
            ]
          },
          "metadata": {
            "tags": []
          },
          "execution_count": 19
        }
      ]
    },
    {
      "cell_type": "code",
      "metadata": {
        "colab": {
          "base_uri": "https://localhost:8080/"
        },
        "id": "ChkpSTDNGuXU",
        "outputId": "a1cffbda-2640-40a0-fd51-cfe16fcd70d5"
      },
      "source": [
        "silhouette_samples.mean()"
      ],
      "execution_count": null,
      "outputs": [
        {
          "output_type": "execute_result",
          "data": {
            "text/plain": [
              "0.6217827332635147"
            ]
          },
          "metadata": {
            "tags": []
          },
          "execution_count": 20
        }
      ]
    },
    {
      "cell_type": "code",
      "metadata": {
        "colab": {
          "base_uri": "https://localhost:8080/",
          "height": 337
        },
        "id": "vVjHB62gH94k",
        "outputId": "d3d832ee-5dad-4d06-d560-70a57c0d80d6"
      },
      "source": [
        "blobs, classes = make_blobs(500, centers=10)\n",
        "silhouette_avgs = []\n",
        "for k in range(2, 20):\n",
        "  kmean = KMeans(n_clusters=k).fit(blobs)\n",
        "  silhouette_avgs.append(metrics.silhouette_score(blobs, kmean.labels_))\n",
        "f, ax = plt.subplots(figsize=(7, 5))\n",
        "ax.plot(silhouette_avgs)"
      ],
      "execution_count": null,
      "outputs": [
        {
          "output_type": "execute_result",
          "data": {
            "text/plain": [
              "[<matplotlib.lines.Line2D at 0x7f261d2f3110>]"
            ]
          },
          "metadata": {
            "tags": []
          },
          "execution_count": 22
        },
        {
          "output_type": "display_data",
          "data": {
            "image/png": "[encoded data removed]",
            "text/plain": [
              "<Figure size 504x360 with 1 Axes>"
            ]
          },
          "metadata": {
            "tags": [],
            "needs_background": "light"
          }
        }
      ]
    },
    {
      "cell_type": "markdown",
      "metadata": {
        "id": "iQQN0iYxIRHW"
      },
      "source": [
        "## MiniBatch k-mean"
      ]
    },
    {
      "cell_type": "markdown",
      "metadata": {
        "id": "BansUmkwItx4"
      },
      "source": [
        "With large data, less computation time"
      ]
    },
    {
      "cell_type": "code",
      "metadata": {
        "id": "nhDsdUgsIVWe"
      },
      "source": [
        "from sklearn.datasets import make_blobs\n",
        "blobs, labels = make_blobs(int(1e6), 3)\n",
        "from sklearn.cluster import KMeans, MiniBatchKMeans"
      ],
      "execution_count": null,
      "outputs": []
    },
    {
      "cell_type": "code",
      "metadata": {
        "id": "L4um0j5nIiKn"
      },
      "source": [
        "minibatch = MiniBatchKMeans(batch_size=len(blobs))\n",
        "cluster = minibatch.fit_predict(blobs)"
      ],
      "execution_count": null,
      "outputs": []
    },
    {
      "cell_type": "markdown",
      "metadata": {
        "id": "GW0xPNDUJ1PH"
      },
      "source": [
        "## Clustering with Gaussian"
      ]
    },
    {
      "cell_type": "markdown",
      "metadata": {
        "id": "oVgsFo0bLP72"
      },
      "source": [
        "Normal distributed variance instead of uniform."
      ]
    },
    {
      "cell_type": "code",
      "metadata": {
        "colab": {
          "base_uri": "https://localhost:8080/"
        },
        "id": "JVkYtcdyOWcv",
        "outputId": "337bb1c3-32a7-4e68-fade-d172d51341c6"
      },
      "source": [
        "from sklearn.mixture import GaussianMixture\n",
        "gmm = GaussianMixture(n_components=2)\n",
        "X = np.row_stack((class_A, class_B))\n",
        "y = np.hstack((np.ones(100), np.zeros(100)))\n",
        "train = np.random.choice([True, False], 200)\n",
        "\n",
        "gmm.fit(X[train])\n",
        "gmm.predict(X[train])[:5]"
      ],
      "execution_count": null,
      "outputs": [
        {
          "output_type": "execute_result",
          "data": {
            "text/plain": [
              "array([0, 0, 0, 0, 0])"
            ]
          },
          "metadata": {
            "tags": []
          },
          "execution_count": 31
        }
      ]
    },
    {
      "cell_type": "markdown",
      "metadata": {
        "id": "HBmFOuWzO5So"
      },
      "source": [
        "## Use cluster to detect outliers"
      ]
    },
    {
      "cell_type": "code",
      "metadata": {
        "colab": {
          "base_uri": "https://localhost:8080/"
        },
        "id": "RLF8IoVcO9XK",
        "outputId": "7888b2ed-86b6-486f-ebe7-a30144a53906"
      },
      "source": [
        "from sklearn.datasets import make_blobs\n",
        "X, labels = make_blobs(100, centers=1)\n",
        "import numpy as np\n",
        "from sklearn.cluster import KMeans\n",
        "kmeans = KMeans(n_clusters=1)\n",
        "kmeans.fit(X)"
      ],
      "execution_count": null,
      "outputs": [
        {
          "output_type": "execute_result",
          "data": {
            "text/plain": [
              "KMeans(algorithm='auto', copy_x=True, init='k-means++', max_iter=300,\n",
              "       n_clusters=1, n_init=10, n_jobs=None, precompute_distances='auto',\n",
              "       random_state=None, tol=0.0001, verbose=0)"
            ]
          },
          "metadata": {
            "tags": []
          },
          "execution_count": 32
        }
      ]
    },
    {
      "cell_type": "code",
      "metadata": {
        "id": "u0K7SNrhPOG3"
      },
      "source": [
        "distances = kmeans.transform(X)\n",
        "sorted_idx = np.argsort(distances.ravel())[::-1][:5] # sort 5 outliers"
      ],
      "execution_count": null,
      "outputs": []
    },
    {
      "cell_type": "code",
      "metadata": {
        "id": "8SsJQhruP1YC",
        "colab": {
          "base_uri": "https://localhost:8080/"
        },
        "outputId": "fd6c1154-b553-4457-a5e6-b57fbad870f9"
      },
      "source": [
        "sorted_idx"
      ],
      "execution_count": null,
      "outputs": [
        {
          "output_type": "execute_result",
          "data": {
            "text/plain": [
              "array([ 7, 89, 62, 65, 41])"
            ]
          },
          "metadata": {
            "tags": []
          },
          "execution_count": 34
        }
      ]
    },
    {
      "cell_type": "markdown",
      "metadata": {
        "id": "0jGfCXAhRuBd"
      },
      "source": [
        "# Cross-validation"
      ]
    },
    {
      "cell_type": "markdown",
      "metadata": {
        "id": "aneQP2agUM45"
      },
      "source": [
        "## K-fold cross-validation"
      ]
    },
    {
      "cell_type": "code",
      "metadata": {
        "id": "GUjxqXWEUQyO"
      },
      "source": [
        "import numpy as np\n",
        "X = np.array([[1, 2], [3, 4], [5, 6], [7, 8],[1, 2], [3, 4], [5, 6], [7,8]])\n",
        "y = np.array([1, 2, 1, 2, 1, 2, 1, 2])\n"
      ],
      "execution_count": 7,
      "outputs": []
    },
    {
      "cell_type": "code",
      "metadata": {
        "colab": {
          "base_uri": "https://localhost:8080/"
        },
        "id": "j5MBv5UyUb2M",
        "outputId": "a7aad890-e742-47bf-dcbd-cbf66810fc8a"
      },
      "source": [
        "from sklearn.model_selection import KFold \n",
        "kf= KFold(n_splits = 4)\n",
        "\n",
        "cc = 1\n",
        "for train_index, test_index in kf.split(X):\n",
        "  print(\"Round : \",cc,\": \",)\n",
        "  print(\"Training indices :\", train_index,)\n",
        "  print(\"Testing indices :\", test_index)\n",
        "  cc += 1"
      ],
      "execution_count": 17,
      "outputs": [
        {
          "output_type": "stream",
          "text": [
            "Round :  1 : \n",
            "Training indices : [2 3 4 5 6 7]\n",
            "Testing indices : [0 1]\n",
            "Round :  2 : \n",
            "Training indices : [0 1 4 5 6 7]\n",
            "Testing indices : [2 3]\n",
            "Round :  3 : \n",
            "Training indices : [0 1 2 3 6 7]\n",
            "Testing indices : [4 5]\n",
            "Round :  4 : \n",
            "Training indices : [0 1 2 3 4 5]\n",
            "Testing indices : [6 7]\n"
          ],
          "name": "stdout"
        }
      ]
    },
    {
      "cell_type": "code",
      "metadata": {
        "colab": {
          "base_uri": "https://localhost:8080/"
        },
        "id": "dQz4GtMWXSWQ",
        "outputId": "21e241fd-e87e-4da4-cd9a-61c1bdc25060"
      },
      "source": [
        "indices_list = list(kf.split(X))\n",
        "train_indices, test_indices = indices_list[3]\n",
        "X[train_indices]"
      ],
      "execution_count": 12,
      "outputs": [
        {
          "output_type": "execute_result",
          "data": {
            "text/plain": [
              "array([[1, 2],\n",
              "       [3, 4],\n",
              "       [5, 6],\n",
              "       [7, 8],\n",
              "       [1, 2],\n",
              "       [3, 4]])"
            ]
          },
          "metadata": {
            "tags": []
          },
          "execution_count": 12
        }
      ]
    },
    {
      "cell_type": "markdown",
      "metadata": {
        "id": "Bt13A0HHYKD6"
      },
      "source": [
        "## Blanced cross validation"
      ]
    },
    {
      "cell_type": "markdown",
      "metadata": {
        "id": "Scgx23LeYicb"
      },
      "source": [
        "Adjust to the equal amount of different responses"
      ]
    },
    {
      "cell_type": "code",
      "metadata": {
        "id": "cXBEwrvfZI5L"
      },
      "source": [
        "import numpy as np\n",
        "X = np.array([[1, 2], [3, 4], [5, 6], [7, 8],[1, 2], [3, 4], [5, 6], [7,8]])\n",
        "y = np.array([1, 1, 1, 1, 2, 2, 2, 2])"
      ],
      "execution_count": 19,
      "outputs": []
    },
    {
      "cell_type": "code",
      "metadata": {
        "colab": {
          "base_uri": "https://localhost:8080/"
        },
        "id": "qh75BGZTX2e_",
        "outputId": "4d62890b-8686-4c45-df47-10379eaaae1a"
      },
      "source": [
        "from sklearn.model_selection import StratifiedKFold\n",
        "skf = StratifiedKFold(n_splits = 4)\n",
        "cc = 1\n",
        "for train_index, test_index in skf.split(X,y):\n",
        "  print(\"Round : \",cc,\": \",)\n",
        "  print(\"Training indices :\", train_index,)\n",
        "  print(\"Testing indices :\", test_index)\n",
        "  cc += 1"
      ],
      "execution_count": 20,
      "outputs": [
        {
          "output_type": "stream",
          "text": [
            "Round :  1 : \n",
            "Training indices : [1 2 3 5 6 7]\n",
            "Testing indices : [0 4]\n",
            "Round :  2 : \n",
            "Training indices : [0 2 3 4 6 7]\n",
            "Testing indices : [1 5]\n",
            "Round :  3 : \n",
            "Training indices : [0 1 3 4 5 7]\n",
            "Testing indices : [2 6]\n",
            "Round :  4 : \n",
            "Training indices : [0 1 2 4 5 6]\n",
            "Testing indices : [3 7]\n"
          ],
          "name": "stdout"
        }
      ]
    },
    {
      "cell_type": "code",
      "metadata": {
        "colab": {
          "base_uri": "https://localhost:8080/"
        },
        "id": "tlXtX98aZL1n",
        "outputId": "a6d84940-4277-47aa-832b-edb11bbdb17b"
      },
      "source": [
        "# shuffled\n",
        "from sklearn.model_selection import StratifiedShuffleSplit\n",
        "sss = StratifiedShuffleSplit(n_splits = 5,test_size=0.25)\n",
        "cc = 1\n",
        "for train_index, test_index in sss.split(X,y):\n",
        "        print (\"Round\",cc,\":\",)\n",
        "        print (\"Training indices :\", train_index,)\n",
        "        print (\"Testing indices :\", test_index)\n",
        "        cc += 1"
      ],
      "execution_count": 21,
      "outputs": [
        {
          "output_type": "stream",
          "text": [
            "Round 1 :\n",
            "Training indices : [5 0 1 6 7 3]\n",
            "Testing indices : [2 4]\n",
            "Round 2 :\n",
            "Training indices : [5 3 0 4 7 2]\n",
            "Testing indices : [6 1]\n",
            "Round 3 :\n",
            "Training indices : [5 1 3 6 2 4]\n",
            "Testing indices : [7 0]\n",
            "Round 4 :\n",
            "Training indices : [5 4 0 1 7 2]\n",
            "Testing indices : [3 6]\n",
            "Round 5 :\n",
            "Training indices : [2 4 5 3 6 0]\n",
            "Testing indices : [1 7]\n"
          ],
          "name": "stdout"
        }
      ]
    },
    {
      "cell_type": "markdown",
      "metadata": {
        "id": "6XW9n9JGfGs6"
      },
      "source": [
        "## Time series cv"
      ]
    },
    {
      "cell_type": "code",
      "metadata": {
        "id": "tTHwS3HTfLDD"
      },
      "source": [
        "from sklearn.model_selection import TimeSeriesSplit\n",
        "X = np.array([[1, 2], [3, 4], [1, 2], [3, 4],[1, 2], [3, 4], [1, 2], [3,4]])\n",
        "y = np.array([1, 2, 3, 4, 1, 2, 3, 4])\n",
        "tscv = TimeSeriesSplit(n_splits=7)"
      ],
      "execution_count": 23,
      "outputs": []
    },
    {
      "cell_type": "code",
      "metadata": {
        "colab": {
          "base_uri": "https://localhost:8080/"
        },
        "id": "fwDtRNVsfZ_F",
        "outputId": "b0f00969-593f-4487-842d-df426a12bb66"
      },
      "source": [
        "for train_index, test_index in tscv.split(X):\n",
        "  X_train, X_test = X[train_index], X[test_index]\n",
        "  y_train, y_test = y[train_index], y[test_index]\n",
        "  print(\"Training indices:\", train_index, \"Testing indices:\",test_index)\n"
      ],
      "execution_count": 24,
      "outputs": [
        {
          "output_type": "stream",
          "text": [
            "Training indices: [0] Testing indices: [1]\n",
            "Training indices: [0 1] Testing indices: [2]\n",
            "Training indices: [0 1 2] Testing indices: [3]\n",
            "Training indices: [0 1 2 3] Testing indices: [4]\n",
            "Training indices: [0 1 2 3 4] Testing indices: [5]\n",
            "Training indices: [0 1 2 3 4 5] Testing indices: [6]\n",
            "Training indices: [0 1 2 3 4 5 6] Testing indices: [7]\n"
          ],
          "name": "stdout"
        }
      ]
    },
    {
      "cell_type": "markdown",
      "metadata": {
        "id": "gqxDyCcDfzHt"
      },
      "source": [
        "# Optimize Parameter"
      ]
    },
    {
      "cell_type": "markdown",
      "metadata": {
        "id": "Zpw7YeQahVFV"
      },
      "source": [
        "## Grid search"
      ]
    },
    {
      "cell_type": "code",
      "metadata": {
        "id": "2Saow9V2gLjA"
      },
      "source": [
        "from sklearn import datasets\n",
        "iris = datasets.load_iris()\n",
        "X = iris.data[:,2:]\n",
        "y = iris.target\n",
        "from sklearn.model_selection import train_test_split,cross_val_score\n",
        "X_train, X_test, y_train, y_test = train_test_split(X, y, stratify= y)\n",
        "from sklearn.neighbors import KNeighborsClassifier\n",
        "knn_clf = KNeighborsClassifier()\n",
        "# parameter range\n",
        "param_grid = {'n_neighbors': list(range(3,9,1))}"
      ],
      "execution_count": 25,
      "outputs": []
    },
    {
      "cell_type": "code",
      "metadata": {
        "colab": {
          "base_uri": "https://localhost:8080/"
        },
        "id": "Mg1K0As2ggFt",
        "outputId": "bd7ad4c3-8ad1-4c42-d7ba-3eb36c61a924"
      },
      "source": [
        "from sklearn.model_selection import GridSearchCV\n",
        "gs = GridSearchCV(knn_clf,param_grid,cv=10) #cross-validation type: cv=10\n",
        "gs.fit(X_train, y_train)\n",
        "print(gs.best_params_)\n",
        "gs.cv_results_['mean_test_score'] #k = (3,4,5,6,7,8)"
      ],
      "execution_count": 28,
      "outputs": [
        {
          "output_type": "stream",
          "text": [
            "{'n_neighbors': 6}\n"
          ],
          "name": "stdout"
        },
        {
          "output_type": "execute_result",
          "data": {
            "text/plain": [
              "array([0.97272727, 0.97272727, 0.98181818, 0.99090909, 0.97272727,\n",
              "       0.97272727])"
            ]
          },
          "metadata": {
            "tags": []
          },
          "execution_count": 28
        }
      ]
    },
    {
      "cell_type": "markdown",
      "metadata": {
        "id": "1V1EpNhmhUIA"
      },
      "source": [
        "## Randomized search"
      ]
    },
    {
      "cell_type": "code",
      "metadata": {
        "colab": {
          "base_uri": "https://localhost:8080/"
        },
        "id": "GcXzAf-2g8i9",
        "outputId": "16f51ca1-bfad-4217-9b50-7ee8a9745fbd"
      },
      "source": [
        "param_dist = {'n_neighbors': list(range(3,9,1))}\n",
        "from sklearn.model_selection import RandomizedSearchCV\n",
        "rs = RandomizedSearchCV(knn_clf,param_dist,cv=10,n_iter=6) # num of time runs: n_iter=6\n",
        "rs.fit(X_train, y_train)\n",
        "rs.best_params_"
      ],
      "execution_count": 29,
      "outputs": [
        {
          "output_type": "execute_result",
          "data": {
            "text/plain": [
              "{'n_neighbors': 6}"
            ]
          },
          "metadata": {
            "tags": []
          },
          "execution_count": 29
        }
      ]
    },
    {
      "cell_type": "code",
      "metadata": {
        "colab": {
          "base_uri": "https://localhost:8080/"
        },
        "id": "pwgdDRIMijnu",
        "outputId": "f16a315a-5891-4b5e-ff76-f7105c4c95e9"
      },
      "source": [
        "print(rs.cv_results_['params'],rs.cv_results_['mean_test_score'])"
      ],
      "execution_count": 34,
      "outputs": [
        {
          "output_type": "stream",
          "text": [
            "[{'n_neighbors': 3}, {'n_neighbors': 4}, {'n_neighbors': 5}, {'n_neighbors': 6}, {'n_neighbors': 7}, {'n_neighbors': 8}] [0.97272727 0.97272727 0.98181818 0.99090909 0.97272727 0.97272727]\n"
          ],
          "name": "stdout"
        }
      ]
    },
    {
      "cell_type": "markdown",
      "metadata": {
        "id": "5Ih5uBCQkd8b"
      },
      "source": [
        "# Feature Selection"
      ]
    },
    {
      "cell_type": "code",
      "metadata": {
        "id": "r4hbA1hUiyMT"
      },
      "source": [
        "from sklearn import datasets\n",
        "X, y = datasets.make_regression(1000, 10000)\n",
        "from sklearn import feature_selection\n",
        "f, p = feature_selection.f_regression(X, y)"
      ],
      "execution_count": 36,
      "outputs": []
    },
    {
      "cell_type": "code",
      "metadata": {
        "colab": {
          "base_uri": "https://localhost:8080/"
        },
        "id": "Mpa4GkBgk_40",
        "outputId": "bf364cb4-ddbd-43fd-fc59-0c7fe5fe6fbb"
      },
      "source": [
        "print(f) # f-stat\n",
        "print(p) # p-value"
      ],
      "execution_count": 37,
      "outputs": [
        {
          "output_type": "stream",
          "text": [
            "[0.30082528 0.2826405  5.80827292 ... 1.68395158 2.00593327 0.10469728]\n",
            "[0.58348818 0.59509405 0.01613101 ... 0.19470006 0.15699687 0.7463317 ]\n"
          ],
          "name": "stdout"
        }
      ]
    },
    {
      "cell_type": "code",
      "metadata": {
        "colab": {
          "base_uri": "https://localhost:8080/"
        },
        "id": "_3elQhI5lJuu",
        "outputId": "1d88a923-5535-4b20-9d91-c1c3137fb9fc"
      },
      "source": [
        "idx = np.arange(0, X.shape[1])\n",
        "features_to_keep = idx[p < .05]\n",
        "len(features_to_keep)"
      ],
      "execution_count": 38,
      "outputs": [
        {
          "output_type": "execute_result",
          "data": {
            "text/plain": [
              "493"
            ]
          },
          "metadata": {
            "tags": []
          },
          "execution_count": 38
        }
      ]
    },
    {
      "cell_type": "code",
      "metadata": {
        "id": "cjcRaTKSnNol"
      },
      "source": [
        "import sklearn.datasets as ds\n",
        "diabetes = ds.load_diabetes()\n",
        "X = diabetes.data\n",
        "y = diabetes.target"
      ],
      "execution_count": 39,
      "outputs": []
    }
  ]
}