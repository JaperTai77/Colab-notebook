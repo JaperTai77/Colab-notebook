{
  "nbformat": 4,
  "nbformat_minor": 0,
  "metadata": {
    "colab": {
      "name": "A/B testing.ipynb",
      "provenance": [],
      "collapsed_sections": [],
      "include_colab_link": true
    },
    "kernelspec": {
      "name": "python3",
      "display_name": "Python 3"
    }
  },
  "cells": [
    {
      "cell_type": "markdown",
      "metadata": {
        "id": "view-in-github",
        "colab_type": "text"
      },
      "source": [
        "<a href=\"https://colab.research.google.com/github/JaperTai77/Colab-notebook/blob/main/CI_Testing.ipynb\" target=\"_parent\"><img src=\"https://colab.research.google.com/assets/colab-badge.svg\" alt=\"Open In Colab\"/></a>"
      ]
    },
    {
      "cell_type": "code",
      "metadata": {
        "id": "4UKl_3af3k5Q"
      },
      "source": [
        "import numpy as np\n",
        "from scipy.stats import norm, t\n",
        "import pandas as pd\n",
        "import matplotlib.pyplot as plt"
      ],
      "execution_count": 2,
      "outputs": []
    },
    {
      "cell_type": "code",
      "metadata": {
        "id": "df_CLxBlBQxR"
      },
      "source": [
        "df = pd.read_csv('https://raw.githubusercontent.com/JaperTai77/data-modified/main/Alcohol_Sales.csv')\n",
        "df.columns = ['year','sales']"
      ],
      "execution_count": null,
      "outputs": []
    },
    {
      "cell_type": "code",
      "metadata": {
        "id": "pGKJA0KIA_aa"
      },
      "source": [
        "# Z-confidence interval\n",
        "\n",
        "def CI_Z(data, level = 0.95):\n",
        "  l = 1 - (1-level)/2 \n",
        "  N = len(data)\n",
        "  mu = data.mean()\n",
        "  sigma = np.sqrt(data.var(ddof = 1))\n",
        "  z = norm.ppf(l)\n",
        "  lower = mu-z*(sigma/np.sqrt(N))\n",
        "  upper = mu+z*(sigma/np.sqrt(N))\n",
        "  return (lower, mu, upper)\n",
        "\n",
        "def CI_Z_proportion(data, level = 0.95):\n",
        "  l = 1 - (1-level)/2 \n",
        "  N = len(data)\n",
        "  p = data.sum()/N\n",
        "  z = norm.ppf(l)\n",
        "  lower = mu-z*np.sqrt((p*(1-p))/N)\n",
        "  upper = mu+z*np.sqrt((p*(1-p))/N)\n",
        "  return (lower, mu, upper)"
      ],
      "execution_count": null,
      "outputs": []
    },
    {
      "cell_type": "code",
      "metadata": {
        "colab": {
          "base_uri": "https://localhost:8080/"
        },
        "id": "lG1DC8I7KIRE",
        "outputId": "f97f1f7c-af35-4fb0-e409-04cd86e95b50"
      },
      "source": [
        "CI_Z(df.sales,level = 0.95)"
      ],
      "execution_count": null,
      "outputs": [
        {
          "output_type": "execute_result",
          "data": {
            "text/plain": [
              "(7569.562880534357, 7886.4, 8203.237119465643)"
            ]
          },
          "metadata": {},
          "execution_count": 16
        }
      ]
    },
    {
      "cell_type": "code",
      "metadata": {
        "id": "wjxj-WhKJ580"
      },
      "source": [
        "# t-confidence interval\n",
        "\n",
        "def CI_t(data, level = 0.95):\n",
        "  l = 1 - (1-level)/2 \n",
        "  N = len(data)\n",
        "  mu = data.mean()\n",
        "  sigma = np.sqrt(data.var(ddof = 1))\n",
        "  z = t.ppf(l,df=N - 1)\n",
        "  lower = mu-z*(sigma/np.sqrt(N))\n",
        "  upper = mu+z*(sigma/np.sqrt(N))\n",
        "  return (lower, mu, upper)"
      ],
      "execution_count": null,
      "outputs": []
    },
    {
      "cell_type": "code",
      "metadata": {
        "colab": {
          "base_uri": "https://localhost:8080/"
        },
        "id": "QrWdlDgCLAg_",
        "outputId": "29216881-21bb-40a9-8527-17bdd46851c7"
      },
      "source": [
        "CI_t(df.sales,level = 0.95)"
      ],
      "execution_count": null,
      "outputs": [
        {
          "output_type": "execute_result",
          "data": {
            "text/plain": [
              "(7568.374915564909, 7886.4, 8204.42508443509)"
            ]
          },
          "metadata": {},
          "execution_count": 18
        }
      ]
    },
    {
      "cell_type": "code",
      "metadata": {
        "id": "rJ2i1twl2tF9"
      },
      "source": [
        "url = 'https://raw.githubusercontent.com/JaperTai77/data-modified/main/sales.csv'\n",
        "df2 = pd.read_csv(url)"
      ],
      "execution_count": 3,
      "outputs": []
    },
    {
      "cell_type": "code",
      "metadata": {
        "id": "-HA9vu0O24k0"
      },
      "source": [
        "# two sided test\n",
        "def two_side_test(data, mu0):\n",
        "  N = len(data)\n",
        "  mu = data.mean()\n",
        "  sigma = np.sqrt(data.var(ddof = 1))\n",
        "  z = (mu-mu0)/(sigma/np.sqrt(N)) #(p-p0)/sqrt(p0*(1-p0)/n)\n",
        "  p1 = 1-norm.cdf(np.abs(z))\n",
        "  p2 = norm.cdf(-np.abs(z))\n",
        "  p = p1+p2\n",
        "  return z,p\n",
        "\n",
        "def two_side_test_twosample(data1, data2):\n",
        "  N1 = len(data1)\n",
        "  N2 = len(data2)\n",
        "  mu1 = data1.mean()\n",
        "  mu2 = data2.mean()\n",
        "  sigma1 = data1.var(ddof=1)\n",
        "  sigma2 = data2.var(ddof=1)\n",
        "\n",
        "  s_hat = np.sqrt(sigma1/N1 + sigma2/N2)\n",
        "  z = (mu2 - m1)/s_hat   #(p1-p2)/sqrt(p*(1-p)*(1/n1 + 1/n2)), p = (p1+p2)/2\n",
        "  p1 = 1-norm.cdf(np.abs(z))\n",
        "  p2 = norm.cdf(-np.abs(z))\n",
        "  p = p1+p2\n",
        "  return z,p\n"
      ],
      "execution_count": 4,
      "outputs": []
    },
    {
      "cell_type": "code",
      "metadata": {
        "id": "DRxxYap-3oz6",
        "colab": {
          "base_uri": "https://localhost:8080/"
        },
        "outputId": "8316d11d-246b-4f38-a1d6-1cafe1498565"
      },
      "source": [
        "two_side_test(df2.Rating, 3)"
      ],
      "execution_count": 7,
      "outputs": [
        {
          "output_type": "execute_result",
          "data": {
            "text/plain": [
              "(-0.6200436101655578, 0.5352290757920708)"
            ]
          },
          "metadata": {},
          "execution_count": 7
        }
      ]
    },
    {
      "cell_type": "code",
      "metadata": {
        "id": "LO05sCh1rJYE"
      },
      "source": [
        "# one sided test\n",
        "def one_sided_test(data, mu0):\n",
        "  N = len(data)\n",
        "  mu = data.mean()\n",
        "  sigma = np.sqrt(data.var(ddof = 1))\n",
        "  z = (mu-mu0)/(sigma/np.sqrt(N)) #(p-p0)/sqrt(p0*(1-p0)/n)\n",
        "  p = 1-norm.cdf(np.abs(z))\n",
        "  return z,p\n",
        "\n",
        "def one_side_test_twosample(data1, data2):\n",
        "  N1 = len(data1)\n",
        "  N2 = len(data2)\n",
        "  mu1 = data1.mean()\n",
        "  mu2 = data2.mean()\n",
        "  sigma1 = data1.var(ddof=1)\n",
        "  sigma2 = data2.var(ddof=1)\n",
        "\n",
        "  s_hat = np.sqrt(sigma1/N1 + sigma2/N2)\n",
        "  z = (mu2 - m1)/s_hat    #(p1-p2)/sqrt(p*(1-p)*(1/n1 + 1/n2)), p = (p1+p2)/2\n",
        "  p = 1-norm.cdf(np.abs(z))\n",
        "  return z,p"
      ],
      "execution_count": 9,
      "outputs": []
    },
    {
      "cell_type": "code",
      "metadata": {
        "colab": {
          "base_uri": "https://localhost:8080/",
          "height": 142
        },
        "id": "tTPCCqrDwIv3",
        "outputId": "e0755b69-5780-4e27-dea7-79b52bf3b23c"
      },
      "source": [
        "url = 'https://raw.githubusercontent.com/JaperTai77/data-modified/main/ab_data.csv'\n",
        "df3 = pd.read_csv(url)\n",
        "pd.crosstab(df3.group, df3.converted)"
      ],
      "execution_count": 41,
      "outputs": [
        {
          "output_type": "execute_result",
          "data": {
            "text/html": [
              "<div>\n",
              "<style scoped>\n",
              "    .dataframe tbody tr th:only-of-type {\n",
              "        vertical-align: middle;\n",
              "    }\n",
              "\n",
              "    .dataframe tbody tr th {\n",
              "        vertical-align: top;\n",
              "    }\n",
              "\n",
              "    .dataframe thead th {\n",
              "        text-align: right;\n",
              "    }\n",
              "</style>\n",
              "<table border=\"1\" class=\"dataframe\">\n",
              "  <thead>\n",
              "    <tr style=\"text-align: right;\">\n",
              "      <th>converted</th>\n",
              "      <th>0</th>\n",
              "      <th>1</th>\n",
              "    </tr>\n",
              "    <tr>\n",
              "      <th>group</th>\n",
              "      <th></th>\n",
              "      <th></th>\n",
              "    </tr>\n",
              "  </thead>\n",
              "  <tbody>\n",
              "    <tr>\n",
              "      <th>control</th>\n",
              "      <td>129479</td>\n",
              "      <td>17723</td>\n",
              "    </tr>\n",
              "    <tr>\n",
              "      <th>treatment</th>\n",
              "      <td>129762</td>\n",
              "      <td>17514</td>\n",
              "    </tr>\n",
              "  </tbody>\n",
              "</table>\n",
              "</div>"
            ],
            "text/plain": [
              "converted       0      1\n",
              "group                   \n",
              "control    129479  17723\n",
              "treatment  129762  17514"
            ]
          },
          "metadata": {},
          "execution_count": 41
        }
      ]
    },
    {
      "cell_type": "code",
      "metadata": {
        "colab": {
          "base_uri": "https://localhost:8080/"
        },
        "id": "1VS634BpzPxu",
        "outputId": "a7f39c78-0d11-43ca-95f5-ba2514c31d83"
      },
      "source": [
        "T = np.array(pd.crosstab(df3.group, df3.converted))\n",
        "T"
      ],
      "execution_count": 35,
      "outputs": [
        {
          "output_type": "execute_result",
          "data": {
            "text/plain": [
              "array([[129479,  17723],\n",
              "       [129762,  17514]])"
            ]
          },
          "metadata": {},
          "execution_count": 35
        }
      ]
    },
    {
      "cell_type": "code",
      "metadata": {
        "colab": {
          "base_uri": "https://localhost:8080/"
        },
        "id": "FbgLKXhSsaMe",
        "outputId": "0e4385bb-834b-4121-a6fe-a3ac9c6dcf84"
      },
      "source": [
        "# Chi-square test (contingency)\n",
        "\n",
        "from scipy.stats import chi2\n",
        "# sum of rows and columns\n",
        "R1 = T[0].sum()\n",
        "R2 = T[1].sum()\n",
        "B1 = T[0][0]+T[1][0]\n",
        "B2 = T[0][1]+T[1][1]\n",
        "total = R1+R2 #or B1+B2\n",
        "\n",
        "# Expected table\n",
        "E = T.copy()\n",
        "E[0][0] = R1*B1/total\n",
        "E[0][1] = R1*B2/total\n",
        "E[1][0] = R2*B1/total\n",
        "E[1][1] = R2*B2/total\n",
        "\n",
        "# (Observe-Expected)^2/Expected\n",
        "X = ((T[0][0]-E[0][0])**2)/E[0][0]+((T[0][1]-E[0][1])**2)/E[0][1]+((T[1][0]-E[1][0])**2)/E[1][0]+((T[1][1]-E[1][1])**2)/E[1][1]\n",
        "degree = (2-1)*(2-1)\n",
        "print(X,1-chi2.cdf(X,df=degree))"
      ],
      "execution_count": 40,
      "outputs": [
        {
          "output_type": "stream",
          "name": "stdout",
          "text": [
            "1.5180661022531088 0.21791238435460514\n"
          ]
        }
      ]
    },
    {
      "cell_type": "code",
      "metadata": {
        "id": "wgaZR-NP4G1Z"
      },
      "source": [
        "# Chi-square test\n",
        "def chi2_test(obs,exp):\n",
        "  l = len(obs)\n",
        "  X = 0\n",
        "  for i in range(l):\n",
        "    X = X + (obs[i]-exp[i])**2/exp[i]\n",
        "  p = 1-chi2.cdf(X,df=l-1)\n",
        "\n",
        "  resid = [round((x-y)/np.sqrt(y),3) for x,y in zip(obs,exp)]\n",
        "  print('Residuals are',resid)\n",
        "  return X,p"
      ],
      "execution_count": 66,
      "outputs": []
    },
    {
      "cell_type": "code",
      "metadata": {
        "colab": {
          "base_uri": "https://localhost:8080/"
        },
        "id": "RYXfxZpK-6W_",
        "outputId": "365793b9-b19a-407a-988c-f7ababb0a771"
      },
      "source": [
        "chi2_test([200, 200, 250, 140, 120], [205, 203, 251, 149, 124])"
      ],
      "execution_count": 67,
      "outputs": [
        {
          "output_type": "stream",
          "name": "stdout",
          "text": [
            "Residuals are [-0.349, -0.211, -0.063, -0.737, -0.359]\n"
          ]
        },
        {
          "output_type": "execute_result",
          "data": {
            "text/plain": [
              "(0.8429266777650147, 0.932602254149896)"
            ]
          },
          "metadata": {},
          "execution_count": 67
        }
      ]
    }
  ]
}