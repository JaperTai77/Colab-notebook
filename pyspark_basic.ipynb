{
  "nbformat": 4,
  "nbformat_minor": 0,
  "metadata": {
    "colab": {
      "provenance": [],
      "authorship_tag": "ABX9TyPYpvyeEcZ2vNj6ODDCAnTJ",
      "include_colab_link": true
    },
    "kernelspec": {
      "name": "python3",
      "display_name": "Python 3"
    },
    "language_info": {
      "name": "python"
    }
  },
  "cells": [
    {
      "cell_type": "markdown",
      "metadata": {
        "id": "view-in-github",
        "colab_type": "text"
      },
      "source": [
        "<a href=\"https://colab.research.google.com/github/JaperTai77/Colab-notebook/blob/main/pyspark_basic.ipynb\" target=\"_parent\"><img src=\"https://colab.research.google.com/assets/colab-badge.svg\" alt=\"Open In Colab\"/></a>"
      ]
    },
    {
      "cell_type": "markdown",
      "metadata": {
        "id": "cQLIzQxEyvVN"
      },
      "source": [
        "# Pyspark DataFrame"
      ]
    },
    {
      "cell_type": "code",
      "metadata": {
        "colab": {
          "base_uri": "https://localhost:8080/"
        },
        "id": "SsvJlm7-nYAq",
        "outputId": "2c564973-abca-4a5b-fdd3-6ec529010e8f"
      },
      "source": [
        "!pip install pyspark"
      ],
      "execution_count": null,
      "outputs": [
        {
          "output_type": "stream",
          "name": "stdout",
          "text": [
            "Collecting pyspark\n",
            "  Downloading pyspark-3.2.0.tar.gz (281.3 MB)\n",
            "\u001b[K     |████████████████████████████████| 281.3 MB 31 kB/s \n",
            "\u001b[?25hCollecting py4j==0.10.9.2\n",
            "  Downloading py4j-0.10.9.2-py2.py3-none-any.whl (198 kB)\n",
            "\u001b[K     |████████████████████████████████| 198 kB 33.1 MB/s \n",
            "\u001b[?25hBuilding wheels for collected packages: pyspark\n",
            "  Building wheel for pyspark (setup.py) ... \u001b[?25l\u001b[?25hdone\n",
            "  Created wheel for pyspark: filename=pyspark-3.2.0-py2.py3-none-any.whl size=281805912 sha256=334e718c93de10e13fa77d67c79bcb43da246d51b8a5d7ce50924fceb3ba1671\n",
            "  Stored in directory: /root/.cache/pip/wheels/0b/de/d2/9be5d59d7331c6c2a7c1b6d1a4f463ce107332b1ecd4e80718\n",
            "Successfully built pyspark\n",
            "Installing collected packages: py4j, pyspark\n",
            "Successfully installed py4j-0.10.9.2 pyspark-3.2.0\n"
          ]
        }
      ]
    },
    {
      "cell_type": "code",
      "metadata": {
        "colab": {
          "base_uri": "https://localhost:8080/",
          "height": 216
        },
        "id": "CasF8lrzn7zm",
        "outputId": "f67c3ff7-14a5-4f51-cf10-80f533e2f438"
      },
      "source": [
        "import pyspark\n",
        "from pyspark.sql import SparkSession\n",
        "spark = SparkSession.builder.appName(\"PySpark\").getOrCreate()\n",
        "spark"
      ],
      "execution_count": null,
      "outputs": [
        {
          "output_type": "execute_result",
          "data": {
            "text/html": [
              "\n",
              "            <div>\n",
              "                <p><b>SparkSession - in-memory</b></p>\n",
              "                \n",
              "        <div>\n",
              "            <p><b>SparkContext</b></p>\n",
              "\n",
              "            <p><a href=\"http://7cdd4c35bf20:4040\">Spark UI</a></p>\n",
              "\n",
              "            <dl>\n",
              "              <dt>Version</dt>\n",
              "                <dd><code>v3.2.0</code></dd>\n",
              "              <dt>Master</dt>\n",
              "                <dd><code>local[*]</code></dd>\n",
              "              <dt>AppName</dt>\n",
              "                <dd><code>PySpark</code></dd>\n",
              "            </dl>\n",
              "        </div>\n",
              "        \n",
              "            </div>\n",
              "        "
            ],
            "text/plain": [
              "<pyspark.sql.session.SparkSession at 0x7fa056db0f50>"
            ]
          },
          "metadata": {},
          "execution_count": 2
        }
      ]
    },
    {
      "cell_type": "code",
      "metadata": {
        "colab": {
          "base_uri": "https://localhost:8080/"
        },
        "id": "Ztzn86gKpVfi",
        "outputId": "fe6082d7-676a-4eff-df3a-b3b7bcfea4dc"
      },
      "source": [
        "cores = spark._jsc.sc().getExecutorMemoryStatus().keySet().size()\n",
        "cores"
      ],
      "execution_count": null,
      "outputs": [
        {
          "output_type": "execute_result",
          "data": {
            "text/plain": [
              "1"
            ]
          },
          "metadata": {},
          "execution_count": 6
        }
      ]
    },
    {
      "cell_type": "markdown",
      "metadata": {
        "id": "gtcA7WiczX1t"
      },
      "source": [
        "### Read files"
      ]
    },
    {
      "cell_type": "code",
      "metadata": {
        "id": "BqkHeps0so01"
      },
      "source": [
        "student = spark.read.csv('students.csv',inferSchema=True, header = True)"
      ],
      "execution_count": null,
      "outputs": []
    },
    {
      "cell_type": "code",
      "metadata": {
        "colab": {
          "base_uri": "https://localhost:8080/"
        },
        "id": "HbxvV5pVtFfM",
        "outputId": "85bb60f5-e56e-46bf-9acf-75af655d3e6a"
      },
      "source": [
        "student.limit(5).show()"
      ],
      "execution_count": null,
      "outputs": [
        {
          "output_type": "stream",
          "name": "stdout",
          "text": [
            "+------+--------------+---------------------------+------------+-----------------------+----------+-------------+-------------+\n",
            "|gender|race/ethnicity|parental level of education|       lunch|test preparation course|math score|reading score|writing score|\n",
            "+------+--------------+---------------------------+------------+-----------------------+----------+-------------+-------------+\n",
            "|female|       group B|          bachelor's degree|    standard|                   none|        72|           72|           74|\n",
            "|female|       group C|               some college|    standard|              completed|        69|           90|           88|\n",
            "|female|       group B|            master's degree|    standard|                   none|        90|           95|           93|\n",
            "|  male|       group A|         associate's degree|free/reduced|                   none|        47|           57|           44|\n",
            "|  male|       group C|               some college|    standard|                   none|        76|           78|           75|\n",
            "+------+--------------+---------------------------+------------+-----------------------+----------+-------------+-------------+\n",
            "\n"
          ]
        }
      ]
    },
    {
      "cell_type": "code",
      "metadata": {
        "id": "bfVuTYlStPtm"
      },
      "source": [
        "parquet = spark.read.parquet('users1.parquet')"
      ],
      "execution_count": null,
      "outputs": []
    },
    {
      "cell_type": "code",
      "metadata": {
        "colab": {
          "base_uri": "https://localhost:8080/",
          "height": 343
        },
        "id": "87oUKCbWto3V",
        "outputId": "c086f6b6-5422-4f9a-b2e7-f56c3f609476"
      },
      "source": [
        "student.limit(5).toPandas()"
      ],
      "execution_count": null,
      "outputs": [
        {
          "output_type": "execute_result",
          "data": {
            "text/html": [
              "<div>\n",
              "<style scoped>\n",
              "    .dataframe tbody tr th:only-of-type {\n",
              "        vertical-align: middle;\n",
              "    }\n",
              "\n",
              "    .dataframe tbody tr th {\n",
              "        vertical-align: top;\n",
              "    }\n",
              "\n",
              "    .dataframe thead th {\n",
              "        text-align: right;\n",
              "    }\n",
              "</style>\n",
              "<table border=\"1\" class=\"dataframe\">\n",
              "  <thead>\n",
              "    <tr style=\"text-align: right;\">\n",
              "      <th></th>\n",
              "      <th>gender</th>\n",
              "      <th>race/ethnicity</th>\n",
              "      <th>parental level of education</th>\n",
              "      <th>lunch</th>\n",
              "      <th>test preparation course</th>\n",
              "      <th>math score</th>\n",
              "      <th>reading score</th>\n",
              "      <th>writing score</th>\n",
              "    </tr>\n",
              "  </thead>\n",
              "  <tbody>\n",
              "    <tr>\n",
              "      <th>0</th>\n",
              "      <td>female</td>\n",
              "      <td>group B</td>\n",
              "      <td>bachelor's degree</td>\n",
              "      <td>standard</td>\n",
              "      <td>none</td>\n",
              "      <td>72</td>\n",
              "      <td>72</td>\n",
              "      <td>74</td>\n",
              "    </tr>\n",
              "    <tr>\n",
              "      <th>1</th>\n",
              "      <td>female</td>\n",
              "      <td>group C</td>\n",
              "      <td>some college</td>\n",
              "      <td>standard</td>\n",
              "      <td>completed</td>\n",
              "      <td>69</td>\n",
              "      <td>90</td>\n",
              "      <td>88</td>\n",
              "    </tr>\n",
              "    <tr>\n",
              "      <th>2</th>\n",
              "      <td>female</td>\n",
              "      <td>group B</td>\n",
              "      <td>master's degree</td>\n",
              "      <td>standard</td>\n",
              "      <td>none</td>\n",
              "      <td>90</td>\n",
              "      <td>95</td>\n",
              "      <td>93</td>\n",
              "    </tr>\n",
              "    <tr>\n",
              "      <th>3</th>\n",
              "      <td>male</td>\n",
              "      <td>group A</td>\n",
              "      <td>associate's degree</td>\n",
              "      <td>free/reduced</td>\n",
              "      <td>none</td>\n",
              "      <td>47</td>\n",
              "      <td>57</td>\n",
              "      <td>44</td>\n",
              "    </tr>\n",
              "    <tr>\n",
              "      <th>4</th>\n",
              "      <td>male</td>\n",
              "      <td>group C</td>\n",
              "      <td>some college</td>\n",
              "      <td>standard</td>\n",
              "      <td>none</td>\n",
              "      <td>76</td>\n",
              "      <td>78</td>\n",
              "      <td>75</td>\n",
              "    </tr>\n",
              "  </tbody>\n",
              "</table>\n",
              "</div>"
            ],
            "text/plain": [
              "   gender race/ethnicity  ... reading score writing score\n",
              "0  female        group B  ...            72            74\n",
              "1  female        group C  ...            90            88\n",
              "2  female        group B  ...            95            93\n",
              "3    male        group A  ...            57            44\n",
              "4    male        group C  ...            78            75\n",
              "\n",
              "[5 rows x 8 columns]"
            ]
          },
          "metadata": {},
          "execution_count": 11
        }
      ]
    },
    {
      "cell_type": "code",
      "metadata": {
        "colab": {
          "base_uri": "https://localhost:8080/"
        },
        "id": "gcTiknJltsO5",
        "outputId": "76c768a5-c808-4593-917d-bb6e755418ff"
      },
      "source": [
        "partitioned = spark.read.parquet('users*') # all files start with users\n",
        "partitioned.limit(5).show()"
      ],
      "execution_count": null,
      "outputs": [
        {
          "output_type": "stream",
          "name": "stdout",
          "text": [
            "+-------------------+---+----------+---------+--------------------+------+--------------+----------------+------------+---------+---------+--------------------+--------+\n",
            "|  registration_dttm| id|first_name|last_name|               email|gender|    ip_address|              cc|     country|birthdate|   salary|               title|comments|\n",
            "+-------------------+---+----------+---------+--------------------+------+--------------+----------------+------------+---------+---------+--------------------+--------+\n",
            "|2016-02-03 07:55:29|  1|    Amanda|   Jordan|    ajordan0@com.com|Female|   1.197.201.2|6759521864920116|   Indonesia| 3/8/1971| 49756.53|    Internal Auditor|   1E+02|\n",
            "|2016-02-03 17:04:03|  2|    Albert|  Freeman|     afreeman1@is.gd|  Male|218.111.175.34|                |      Canada|1/16/1968|150280.17|       Accountant IV|        |\n",
            "|2016-02-03 01:09:31|  3|    Evelyn|   Morgan|emorgan2@altervis...|Female|  7.161.136.94|6767119071901597|      Russia| 2/1/1960|144972.51| Structural Engineer|        |\n",
            "|2016-02-03 00:36:21|  4|    Denise|    Riley|    driley3@gmpg.org|Female| 140.35.109.83|3576031598965625|       China| 4/8/1997| 90263.05|Senior Cost Accou...|        |\n",
            "|2016-02-03 05:05:31|  5|    Carlos|    Burns|cburns4@miitbeian...|      |169.113.235.40|5602256255204850|South Africa|         |     null|                    |        |\n",
            "+-------------------+---+----------+---------+--------------------+------+--------------+----------------+------------+---------+---------+--------------------+--------+\n",
            "\n"
          ]
        }
      ]
    },
    {
      "cell_type": "code",
      "metadata": {
        "id": "1hSopdjqt9Y9"
      },
      "source": [
        "user1_2 = spark.read.option('basePath','/content/').parquet('users1.parquet', 'users2.parquet')"
      ],
      "execution_count": null,
      "outputs": []
    },
    {
      "cell_type": "markdown",
      "metadata": {
        "id": "hEy0_aFGzc48"
      },
      "source": [
        "### Dataframe info"
      ]
    },
    {
      "cell_type": "code",
      "metadata": {
        "colab": {
          "base_uri": "https://localhost:8080/"
        },
        "id": "TyHTdUngyRrE",
        "outputId": "6a9c98bf-e3da-4ed0-8738-6490edc342be"
      },
      "source": [
        "student.printSchema()"
      ],
      "execution_count": null,
      "outputs": [
        {
          "output_type": "stream",
          "name": "stdout",
          "text": [
            "root\n",
            " |-- gender: string (nullable = true)\n",
            " |-- race/ethnicity: string (nullable = true)\n",
            " |-- parental level of education: string (nullable = true)\n",
            " |-- lunch: string (nullable = true)\n",
            " |-- test preparation course: string (nullable = true)\n",
            " |-- math score: integer (nullable = true)\n",
            " |-- reading score: integer (nullable = true)\n",
            " |-- writing score: integer (nullable = true)\n",
            "\n"
          ]
        }
      ]
    },
    {
      "cell_type": "code",
      "metadata": {
        "colab": {
          "base_uri": "https://localhost:8080/"
        },
        "id": "sCdSiR2JyT3a",
        "outputId": "b7517f5c-6dfc-4da1-8fac-7967f374b912"
      },
      "source": [
        "student.schema['math score'].dataType"
      ],
      "execution_count": null,
      "outputs": [
        {
          "output_type": "execute_result",
          "data": {
            "text/plain": [
              "IntegerType"
            ]
          },
          "metadata": {},
          "execution_count": 20
        }
      ]
    },
    {
      "cell_type": "code",
      "metadata": {
        "colab": {
          "base_uri": "https://localhost:8080/"
        },
        "id": "SJm3GoBzyal_",
        "outputId": "64b36b2d-15fd-4ca3-ba89-07c1ed8ad4ac"
      },
      "source": [
        "student.select('math score', 'reading score').summary('min','max').show()"
      ],
      "execution_count": null,
      "outputs": [
        {
          "output_type": "stream",
          "name": "stdout",
          "text": [
            "+-------+----------+-------------+\n",
            "|summary|math score|reading score|\n",
            "+-------+----------+-------------+\n",
            "|    min|         0|           17|\n",
            "|    max|       100|          100|\n",
            "+-------+----------+-------------+\n",
            "\n"
          ]
        }
      ]
    },
    {
      "cell_type": "code",
      "metadata": {
        "id": "nA5diceVydMl"
      },
      "source": [
        "from pyspark.sql.types import *"
      ],
      "execution_count": null,
      "outputs": []
    },
    {
      "cell_type": "markdown",
      "metadata": {
        "id": "KZ9NCL93zP9M"
      },
      "source": [
        "### Custom dataframe type"
      ]
    },
    {
      "cell_type": "code",
      "metadata": {
        "colab": {
          "base_uri": "https://localhost:8080/"
        },
        "id": "QNikX0HyytcQ",
        "outputId": "822a4eb8-891e-481c-f0eb-6b9fb5544c4e"
      },
      "source": [
        "data_schema = [StructField(\"name\", StringType(), True),\n",
        "               StructField(\"email\", StringType(), True),\n",
        "               StructField(\"city\", StringType(), True),\n",
        "               StructField(\"mac\", StringType(), True),\n",
        "               StructField(\"timestamp\", DateType(), True),\n",
        "               StructField(\"creditcard\", StringType(), True)]\n",
        "final_struc = StructType(fields= data_schema)\n",
        "\n",
        "people = spark.read.json('people.json', schema = final_struc)\n",
        "\n",
        "people.limit(5).show()"
      ],
      "execution_count": null,
      "outputs": [
        {
          "output_type": "stream",
          "name": "stdout",
          "text": [
            "+--------------------+--------------------+---------------+-----------------+----------+-------------------+\n",
            "|                name|               email|           city|              mac| timestamp|         creditcard|\n",
            "+--------------------+--------------------+---------------+-----------------+----------+-------------------+\n",
            "|                null|                null|           null|             null|      null|               null|\n",
            "|        Keeley Bosco|katlyn@jenkinsmag...|Lake Gladysberg|08:fd:0b:cd:77:f7|2015-04-25|1228-1221-1221-1431|\n",
            "|         Rubye Jerde|juvenal@johnston....|           null|90:4d:fa:42:63:a2|2015-04-25|1228-1221-1221-1431|\n",
            "|Miss Darian Breit...|                null|           null|f9:0e:d3:40:cb:e9|2015-04-25|               null|\n",
            "|    Celine Ankunding|emery_kunze@rogah...|           null|3a:af:c9:0b:5c:08|2015-04-25|1228-1221-1221-1431|\n",
            "+--------------------+--------------------+---------------+-----------------+----------+-------------------+\n",
            "\n"
          ]
        }
      ]
    },
    {
      "cell_type": "markdown",
      "metadata": {
        "id": "YAyYEywv0b4o"
      },
      "source": [
        "### Write in data"
      ]
    },
    {
      "cell_type": "code",
      "metadata": {
        "id": "oblHJvqE0RsE"
      },
      "source": [
        "student.write.mode('overwrite').csv('test.csv')\n",
        "# have weird filename"
      ],
      "execution_count": null,
      "outputs": []
    },
    {
      "cell_type": "code",
      "metadata": {
        "id": "MlWQ9nSO0yL0"
      },
      "source": [
        "# create dataframe\n",
        "df = spark.createDataFrame(values, columns)"
      ],
      "execution_count": null,
      "outputs": []
    },
    {
      "cell_type": "markdown",
      "metadata": {
        "id": "jtIma1oL7QMZ"
      },
      "source": [
        "### Parquet"
      ]
    },
    {
      "cell_type": "code",
      "metadata": {
        "id": "bslA8lux7SdG"
      },
      "source": [
        "pga = spark.read.csv('pga_tour_historical.csv', schema=final_struc)\n",
        "df = pga.select(\"Season\",\"Value\")\n",
        "df.write.mode(\"overwrite\").parquet(\"partition_parquet/\")\n",
        "\n",
        "dataframe = spark.read.option(\"basePath\", path).parquet('Season=2010/','Season=2011/')\n",
        "# 2010 and 2011 will be in column"
      ],
      "execution_count": null,
      "outputs": []
    },
    {
      "cell_type": "markdown",
      "metadata": {
        "id": "xGYEjS6V-IBI"
      },
      "source": [
        "# Search and Filter"
      ]
    },
    {
      "cell_type": "code",
      "metadata": {
        "id": "acO8k2C2-O4-"
      },
      "source": [
        "fifa = spark.read.csv('fifa19.csv', inferSchema = True, header = True)"
      ],
      "execution_count": null,
      "outputs": []
    },
    {
      "cell_type": "code",
      "metadata": {
        "id": "YK2MRGK8-kF_"
      },
      "source": [
        "from pyspark.sql.functions import *"
      ],
      "execution_count": null,
      "outputs": []
    },
    {
      "cell_type": "markdown",
      "metadata": {
        "id": "mCiT6osXUC0q"
      },
      "source": [
        "### Select dataframe"
      ]
    },
    {
      "cell_type": "code",
      "metadata": {
        "colab": {
          "base_uri": "https://localhost:8080/"
        },
        "id": "ApNhReU4-yeO",
        "outputId": "79b60a88-8e71-4aa1-9c56-26a940f45c71"
      },
      "source": [
        "fifa.select(['Nationality','Name','Age','Photo']).show(5, False) # no truncate"
      ],
      "execution_count": null,
      "outputs": [
        {
          "output_type": "stream",
          "name": "stdout",
          "text": [
            "+-----------+-----------------+---+----------------------------------------------+\n",
            "|Nationality|Name             |Age|Photo                                         |\n",
            "+-----------+-----------------+---+----------------------------------------------+\n",
            "|Argentina  |L. Messi         |31 |https://cdn.sofifa.org/players/4/19/158023.png|\n",
            "|Portugal   |Cristiano Ronaldo|33 |https://cdn.sofifa.org/players/4/19/20801.png |\n",
            "|Brazil     |Neymar Jr        |26 |https://cdn.sofifa.org/players/4/19/190871.png|\n",
            "|Spain      |De Gea           |27 |https://cdn.sofifa.org/players/4/19/193080.png|\n",
            "|Belgium    |K. De Bruyne     |27 |https://cdn.sofifa.org/players/4/19/192985.png|\n",
            "+-----------+-----------------+---+----------------------------------------------+\n",
            "only showing top 5 rows\n",
            "\n"
          ]
        }
      ]
    },
    {
      "cell_type": "markdown",
      "metadata": {
        "id": "-IKAG0BsUNSF"
      },
      "source": [
        "### Orderby"
      ]
    },
    {
      "cell_type": "code",
      "metadata": {
        "colab": {
          "base_uri": "https://localhost:8080/"
        },
        "id": "EHJ5fwoA-57O",
        "outputId": "3c46221d-6a08-40cd-8ec5-f836a13829fe"
      },
      "source": [
        "fifa.select(['Name', 'Age','Nationality']).orderBy(fifa['Age'].desc()).show(5)"
      ],
      "execution_count": null,
      "outputs": [
        {
          "output_type": "stream",
          "name": "stdout",
          "text": [
            "+-------------+---+-----------------+\n",
            "|         Name|Age|      Nationality|\n",
            "+-------------+---+-----------------+\n",
            "|     O. Pérez| 45|           Mexico|\n",
            "|K. Pilkington| 44|          England|\n",
            "|    T. Warner| 44|Trinidad & Tobago|\n",
            "|  S. Narazaki| 42|            Japan|\n",
            "|     M. Tyler| 41|          England|\n",
            "+-------------+---+-----------------+\n",
            "only showing top 5 rows\n",
            "\n"
          ]
        }
      ]
    },
    {
      "cell_type": "markdown",
      "metadata": {
        "id": "g7arwEeYUPkH"
      },
      "source": [
        "### Where"
      ]
    },
    {
      "cell_type": "code",
      "metadata": {
        "colab": {
          "base_uri": "https://localhost:8080/"
        },
        "id": "jy2qS2mDAGru",
        "outputId": "e3aaae31-a6b4-456a-b3ea-d1b9444d989c"
      },
      "source": [
        "fifa.select(['Name','Club']).where(fifa.Club.like('%Barc%')).show(5,False)"
      ],
      "execution_count": null,
      "outputs": [
        {
          "output_type": "stream",
          "name": "stdout",
          "text": [
            "+---------------+------------+\n",
            "|Name           |Club        |\n",
            "+---------------+------------+\n",
            "|L. Messi       |FC Barcelona|\n",
            "|L. Suárez      |FC Barcelona|\n",
            "|M. ter Stegen  |FC Barcelona|\n",
            "|Sergio Busquets|FC Barcelona|\n",
            "|Coutinho       |FC Barcelona|\n",
            "+---------------+------------+\n",
            "only showing top 5 rows\n",
            "\n"
          ]
        }
      ]
    },
    {
      "cell_type": "code",
      "metadata": {
        "colab": {
          "base_uri": "https://localhost:8080/"
        },
        "id": "d5RmrQkrA5-8",
        "outputId": "dbeb8817-bc3d-4700-d572-80bfe0af1772"
      },
      "source": [
        "fifa.select('Name','Club').where(fifa.Name.startswith('L')).show(5)"
      ],
      "execution_count": null,
      "outputs": [
        {
          "output_type": "stream",
          "name": "stdout",
          "text": [
            "+----------+---------------+\n",
            "|      Name|           Club|\n",
            "+----------+---------------+\n",
            "|  L. Messi|   FC Barcelona|\n",
            "| L. Modrić|    Real Madrid|\n",
            "| L. Suárez|   FC Barcelona|\n",
            "|L. Insigne|         Napoli|\n",
            "|   L. Sané|Manchester City|\n",
            "+----------+---------------+\n",
            "only showing top 5 rows\n",
            "\n"
          ]
        }
      ]
    },
    {
      "cell_type": "markdown",
      "metadata": {
        "id": "rKeWwqo-USDz"
      },
      "source": [
        "### Substr (select letters in string)"
      ]
    },
    {
      "cell_type": "code",
      "metadata": {
        "colab": {
          "base_uri": "https://localhost:8080/"
        },
        "id": "XmYjhnSVAbeE",
        "outputId": "dd510065-2cff-482d-97a6-b083bb9a1d36"
      },
      "source": [
        "fifa.select('Photo', fifa.Photo.substr(-4,4)).show(5)"
      ],
      "execution_count": null,
      "outputs": [
        {
          "output_type": "stream",
          "name": "stdout",
          "text": [
            "+--------------------+-----------------------+\n",
            "|               Photo|substring(Photo, -4, 4)|\n",
            "+--------------------+-----------------------+\n",
            "|https://cdn.sofif...|                   .png|\n",
            "|https://cdn.sofif...|                   .png|\n",
            "|https://cdn.sofif...|                   .png|\n",
            "|https://cdn.sofif...|                   .png|\n",
            "|https://cdn.sofif...|                   .png|\n",
            "+--------------------+-----------------------+\n",
            "only showing top 5 rows\n",
            "\n"
          ]
        }
      ]
    },
    {
      "cell_type": "markdown",
      "metadata": {
        "id": "SyfkK3HcUYJa"
      },
      "source": [
        "### Isin"
      ]
    },
    {
      "cell_type": "code",
      "metadata": {
        "colab": {
          "base_uri": "https://localhost:8080/"
        },
        "id": "I7Ov03HaAogh",
        "outputId": "320ee2fc-16f1-4d0e-8060-3a5b9f474600"
      },
      "source": [
        "fifa[fifa.Club.isin('FC Barcelona','Juventus')].show(5)"
      ],
      "execution_count": null,
      "outputs": [
        {
          "output_type": "stream",
          "name": "stdout",
          "text": [
            "+---+------+-----------------+---+--------------------+-----------+--------------------+-------+---------+------------+--------------------+-------+-----+-------+--------------+------------------------+---------+-----------+--------------+----------+---------+--------+-------------+------------+-----------+--------------------+------+------+----+----+----+----+----+----+----+----+----+----+----+----+----+----+----+----+----+----+----+----+----+----+----+----+----+----+--------+---------+---------------+------------+-------+---------+-----+----------+-----------+-----------+------------+-----------+-------+---------+-------+---------+-------+-------+--------+---------+----------+-------------+-----------+------+---------+---------+-------+--------------+-------------+--------+----------+---------+-------------+----------+--------------+\n",
            "|_c0|    ID|             Name|Age|               Photo|Nationality|                Flag|Overall|Potential|        Club|           Club Logo|  Value| Wage|Special|Preferred Foot|International Reputation|Weak Foot|Skill Moves|     Work Rate| Body Type|Real Face|Position|Jersey Number|      Joined|Loaned From|Contract Valid Until|Height|Weight|  LS|  ST|  RS|  LW|  LF|  CF|  RF|  RW| LAM| CAM| RAM|  LM| LCM|  CM| RCM|  RM| LWB| LDM| CDM| RDM| RWB|  LB| LCB|  CB| RCB|  RB|Crossing|Finishing|HeadingAccuracy|ShortPassing|Volleys|Dribbling|Curve|FKAccuracy|LongPassing|BallControl|Acceleration|SprintSpeed|Agility|Reactions|Balance|ShotPower|Jumping|Stamina|Strength|LongShots|Aggression|Interceptions|Positioning|Vision|Penalties|Composure|Marking|StandingTackle|SlidingTackle|GKDiving|GKHandling|GKKicking|GKPositioning|GKReflexes|Release Clause|\n",
            "+---+------+-----------------+---+--------------------+-----------+--------------------+-------+---------+------------+--------------------+-------+-----+-------+--------------+------------------------+---------+-----------+--------------+----------+---------+--------+-------------+------------+-----------+--------------------+------+------+----+----+----+----+----+----+----+----+----+----+----+----+----+----+----+----+----+----+----+----+----+----+----+----+----+----+--------+---------+---------------+------------+-------+---------+-----+----------+-----------+-----------+------------+-----------+-------+---------+-------+---------+-------+-------+--------+---------+----------+-------------+-----------+------+---------+---------+-------+--------------+-------------+--------+----------+---------+-------------+----------+--------------+\n",
            "|  0|158023|         L. Messi| 31|https://cdn.sofif...|  Argentina|https://cdn.sofif...|     94|       94|FC Barcelona|https://cdn.sofif...|€110.5M|€565K|   2202|          Left|                       5|        4|          4|Medium/ Medium|     Messi|      Yes|      RF|           10| Jul 1, 2004|       null|                2021|   5'7|159lbs|88+2|88+2|88+2|92+2|93+2|93+2|93+2|92+2|93+2|93+2|93+2|91+2|84+2|84+2|84+2|91+2|64+2|61+2|61+2|61+2|64+2|59+2|47+2|47+2|47+2|59+2|      84|       95|             70|          90|     86|       97|   93|        94|         87|         96|          91|         86|     91|       95|     95|       85|     68|     72|      59|       94|        48|           22|         94|    94|       75|       96|     33|            28|           26|       6|        11|       15|           14|         8|       €226.5M|\n",
            "|  1| 20801|Cristiano Ronaldo| 33|https://cdn.sofif...|   Portugal|https://cdn.sofif...|     94|       94|    Juventus|https://cdn.sofif...|   €77M|€405K|   2228|         Right|                       5|        4|          5|     High/ Low|C. Ronaldo|      Yes|      ST|            7|Jul 10, 2018|       null|                2022|   6'2|183lbs|91+3|91+3|91+3|89+3|90+3|90+3|90+3|89+3|88+3|88+3|88+3|88+3|81+3|81+3|81+3|88+3|65+3|61+3|61+3|61+3|65+3|61+3|53+3|53+3|53+3|61+3|      84|       94|             89|          81|     87|       88|   81|        76|         77|         94|          89|         91|     87|       96|     70|       95|     95|     88|      79|       93|        63|           29|         95|    82|       85|       95|     28|            31|           23|       7|        11|       15|           14|        11|       €127.1M|\n",
            "|  7|176580|        L. Suárez| 31|https://cdn.sofif...|    Uruguay|https://cdn.sofif...|     91|       91|FC Barcelona|https://cdn.sofif...|   €80M|€455K|   2346|         Right|                       5|        4|          3|  High/ Medium|    Normal|      Yes|      RS|            9|Jul 11, 2014|       null|                2021|   6'0|190lbs|87+5|87+5|87+5|86+5|87+5|87+5|87+5|86+5|85+5|85+5|85+5|84+5|79+5|79+5|79+5|84+5|69+5|68+5|68+5|68+5|69+5|66+5|63+5|63+5|63+5|66+5|      77|       93|             77|          82|     88|       87|   86|        84|         64|         90|          86|         75|     82|       92|     83|       86|     69|     90|      83|       85|        87|           41|         92|    84|       85|       85|     62|            45|           38|      27|        25|       31|           33|        37|         €164M|\n",
            "| 15|211110|        P. Dybala| 24|https://cdn.sofif...|  Argentina|https://cdn.sofif...|     89|       94|    Juventus|https://cdn.sofif...|   €89M|€205K|   2092|          Left|                       3|        3|          4|  High/ Medium|    Normal|      Yes|      LF|           21| Jul 1, 2015|       null|                2022|  5'10|165lbs|83+3|83+3|83+3|87+3|86+3|86+3|86+3|87+3|87+3|87+3|87+3|86+3|79+3|79+3|79+3|86+3|62+3|58+3|58+3|58+3|62+3|56+3|45+3|45+3|45+3|56+3|      82|       84|             68|          87|     88|       92|   88|        88|         75|         92|          87|         83|     91|       86|     85|       82|     75|     80|      65|       88|        48|           32|         84|    87|       86|       84|     23|            20|           20|       5|         4|        4|            5|         8|       €153.5M|\n",
            "| 18|192448|    M. ter Stegen| 26|https://cdn.sofif...|    Germany|https://cdn.sofif...|     89|       92|FC Barcelona|https://cdn.sofif...|   €58M|€240K|   1328|         Right|                       3|        4|          1|Medium/ Medium|    Normal|      Yes|      GK|           22| Jul 1, 2014|       null|                2022|   6'2|187lbs|null|null|null|null|null|null|null|null|null|null|null|null|null|null|null|null|null|null|null|null|null|null|null|null|null|null|      15|       14|             11|          36|     14|       17|   18|        12|         42|         18|          38|         50|     37|       85|     43|       22|     79|     35|      79|       10|        43|           22|         11|    69|       25|       69|     25|            13|           10|      87|        85|       88|           85|        90|       €123.3M|\n",
            "+---+------+-----------------+---+--------------------+-----------+--------------------+-------+---------+------------+--------------------+-------+-----+-------+--------------+------------------------+---------+-----------+--------------+----------+---------+--------+-------------+------------+-----------+--------------------+------+------+----+----+----+----+----+----+----+----+----+----+----+----+----+----+----+----+----+----+----+----+----+----+----+----+----+----+--------+---------+---------------+------------+-------+---------+-----+----------+-----------+-----------+------------+-----------+-------+---------+-------+---------+-------+-------+--------+---------+----------+-------------+-----------+------+---------+---------+-------+--------------+-------------+--------+----------+---------+-------------+----------+--------------+\n",
            "only showing top 5 rows\n",
            "\n"
          ]
        }
      ]
    },
    {
      "cell_type": "code",
      "metadata": {
        "colab": {
          "base_uri": "https://localhost:8080/"
        },
        "id": "cnrvWpWZBWuP",
        "outputId": "580a5929-3a4c-478d-eaf6-0bf7ec5719ca"
      },
      "source": [
        "fifa.filter('Overall<50').select(['Name']).show(10)"
      ],
      "execution_count": null,
      "outputs": [
        {
          "output_type": "stream",
          "name": "stdout",
          "text": [
            "+--------------+\n",
            "|          Name|\n",
            "+--------------+\n",
            "|    D. Collins|\n",
            "|       J. Egan|\n",
            "|   Xie Xiaofan|\n",
            "|    B. Buckley|\n",
            "|  G. Figliuzzi|\n",
            "|     O. Finney|\n",
            "|  G. Hollywood|\n",
            "|     Zhu Jiayi|\n",
            "|B. Sass-Davies|\n",
            "|    N. Stephan|\n",
            "+--------------+\n",
            "only showing top 10 rows\n",
            "\n"
          ]
        }
      ]
    },
    {
      "cell_type": "markdown",
      "metadata": {
        "id": "JDsrrlRaUeXr"
      },
      "source": [
        "### Multiple operations"
      ]
    },
    {
      "cell_type": "code",
      "metadata": {
        "id": "wbSYJxDACOM8"
      },
      "source": [
        "result = fifa.filter('Overall>80').select(['Name','Age','Overall']).orderBy(fifa['Overall'].desc()).collect()"
      ],
      "execution_count": null,
      "outputs": []
    },
    {
      "cell_type": "code",
      "metadata": {
        "colab": {
          "base_uri": "https://localhost:8080/"
        },
        "id": "D3okv2tqElC0",
        "outputId": "0a7689e6-2979-43df-d33f-d91d83a2af10"
      },
      "source": [
        "result[-1]"
      ],
      "execution_count": null,
      "outputs": [
        {
          "output_type": "execute_result",
          "data": {
            "text/plain": [
              "Row(Name='Joaquín', Age=36, Overall=81)"
            ]
          },
          "metadata": {},
          "execution_count": 58
        }
      ]
    },
    {
      "cell_type": "markdown",
      "metadata": {
        "id": "MZ2GklrfYqjj"
      },
      "source": [
        "### Spark SQL Options"
      ]
    },
    {
      "cell_type": "code",
      "metadata": {
        "id": "rtSI7gtcEsob"
      },
      "source": [
        "crime = spark.read.csv('/content/rec-crime-pfa.csv', header = True, inferSchema=True)"
      ],
      "execution_count": null,
      "outputs": []
    },
    {
      "cell_type": "code",
      "metadata": {
        "colab": {
          "base_uri": "https://localhost:8080/"
        },
        "id": "dur9d7JCcRmr",
        "outputId": "b4fb9551-e174-44df-fc83-23b5b57225cb"
      },
      "source": [
        "crime.printSchema()"
      ],
      "execution_count": null,
      "outputs": [
        {
          "output_type": "stream",
          "name": "stdout",
          "text": [
            "root\n",
            " |-- 12 months ending: string (nullable = true)\n",
            " |-- PFA: string (nullable = true)\n",
            " |-- Region: string (nullable = true)\n",
            " |-- Offence: string (nullable = true)\n",
            " |-- Rolling year total number of offences: integer (nullable = true)\n",
            "\n"
          ]
        }
      ]
    },
    {
      "cell_type": "code",
      "metadata": {
        "colab": {
          "base_uri": "https://localhost:8080/"
        },
        "id": "QA9Afd8SckWt",
        "outputId": "48a64f6f-9239-49c0-d696-1d80bf85e18d"
      },
      "source": [
        "crime = crime.withColumnRenamed('Rolling year total number of offences', 'Count')\n",
        "crime.show(5)"
      ],
      "execution_count": null,
      "outputs": [
        {
          "output_type": "stream",
          "name": "stdout",
          "text": [
            "+----------------+-----------------+----------+--------------------+-----+\n",
            "|12 months ending|              PFA|    Region|             Offence|Count|\n",
            "+----------------+-----------------+----------+--------------------+-----+\n",
            "|      31/03/2003|Avon and Somerset|South West|All other theft o...|25959|\n",
            "|      31/03/2003|Avon and Somerset|South West|       Bicycle theft| 3090|\n",
            "|      31/03/2003|Avon and Somerset|South West|Criminal damage a...|26202|\n",
            "|      31/03/2003|Avon and Somerset|South West|Death or serious ...|    2|\n",
            "|      31/03/2003|Avon and Somerset|South West|   Domestic burglary|14561|\n",
            "+----------------+-----------------+----------+--------------------+-----+\n",
            "only showing top 5 rows\n",
            "\n"
          ]
        }
      ]
    },
    {
      "cell_type": "markdown",
      "metadata": {
        "id": "xzA5iqOFdgmy"
      },
      "source": [
        "Use SQL language"
      ]
    },
    {
      "cell_type": "code",
      "metadata": {
        "id": "TG2ankd-c1Kp"
      },
      "source": [
        "crime.createOrReplaceTempView('tempview')"
      ],
      "execution_count": null,
      "outputs": []
    },
    {
      "cell_type": "code",
      "metadata": {
        "colab": {
          "base_uri": "https://localhost:8080/",
          "height": 306
        },
        "id": "lO5OjXPhdOFH",
        "outputId": "14e5e8a2-ec3d-4af6-bb6c-ec540c502522"
      },
      "source": [
        "spark.sql(\"SELECT * FROM tempview\").limit(5).toPandas()"
      ],
      "execution_count": null,
      "outputs": [
        {
          "output_type": "execute_result",
          "data": {
            "text/html": [
              "<div>\n",
              "<style scoped>\n",
              "    .dataframe tbody tr th:only-of-type {\n",
              "        vertical-align: middle;\n",
              "    }\n",
              "\n",
              "    .dataframe tbody tr th {\n",
              "        vertical-align: top;\n",
              "    }\n",
              "\n",
              "    .dataframe thead th {\n",
              "        text-align: right;\n",
              "    }\n",
              "</style>\n",
              "<table border=\"1\" class=\"dataframe\">\n",
              "  <thead>\n",
              "    <tr style=\"text-align: right;\">\n",
              "      <th></th>\n",
              "      <th>12 months ending</th>\n",
              "      <th>PFA</th>\n",
              "      <th>Region</th>\n",
              "      <th>Offence</th>\n",
              "      <th>Count</th>\n",
              "    </tr>\n",
              "  </thead>\n",
              "  <tbody>\n",
              "    <tr>\n",
              "      <th>0</th>\n",
              "      <td>31/03/2003</td>\n",
              "      <td>Avon and Somerset</td>\n",
              "      <td>South West</td>\n",
              "      <td>All other theft offences</td>\n",
              "      <td>25959</td>\n",
              "    </tr>\n",
              "    <tr>\n",
              "      <th>1</th>\n",
              "      <td>31/03/2003</td>\n",
              "      <td>Avon and Somerset</td>\n",
              "      <td>South West</td>\n",
              "      <td>Bicycle theft</td>\n",
              "      <td>3090</td>\n",
              "    </tr>\n",
              "    <tr>\n",
              "      <th>2</th>\n",
              "      <td>31/03/2003</td>\n",
              "      <td>Avon and Somerset</td>\n",
              "      <td>South West</td>\n",
              "      <td>Criminal damage and arson</td>\n",
              "      <td>26202</td>\n",
              "    </tr>\n",
              "    <tr>\n",
              "      <th>3</th>\n",
              "      <td>31/03/2003</td>\n",
              "      <td>Avon and Somerset</td>\n",
              "      <td>South West</td>\n",
              "      <td>Death or serious injury caused by illegal driving</td>\n",
              "      <td>2</td>\n",
              "    </tr>\n",
              "    <tr>\n",
              "      <th>4</th>\n",
              "      <td>31/03/2003</td>\n",
              "      <td>Avon and Somerset</td>\n",
              "      <td>South West</td>\n",
              "      <td>Domestic burglary</td>\n",
              "      <td>14561</td>\n",
              "    </tr>\n",
              "  </tbody>\n",
              "</table>\n",
              "</div>"
            ],
            "text/plain": [
              "  12 months ending  ...  Count\n",
              "0       31/03/2003  ...  25959\n",
              "1       31/03/2003  ...   3090\n",
              "2       31/03/2003  ...  26202\n",
              "3       31/03/2003  ...      2\n",
              "4       31/03/2003  ...  14561\n",
              "\n",
              "[5 rows x 5 columns]"
            ]
          },
          "metadata": {},
          "execution_count": 9
        }
      ]
    },
    {
      "cell_type": "code",
      "metadata": {
        "colab": {
          "base_uri": "https://localhost:8080/"
        },
        "id": "gfcYrskwddBv",
        "outputId": "86425ce6-fe71-4913-ea93-6b7c01128782"
      },
      "source": [
        "result = spark.sql(\"SELECT Region, sum(Count) AS Total FROM tempview WHERE Count >5000 GROUP BY Region\")\n",
        "result.show(5)"
      ],
      "execution_count": null,
      "outputs": [
        {
          "output_type": "stream",
          "name": "stdout",
          "text": [
            "+--------------------+--------+\n",
            "|              Region|   Total|\n",
            "+--------------------+--------+\n",
            "|        Fraud: CIFAS| 7678981|\n",
            "|          North West|25198186|\n",
            "|British Transport...| 1985365|\n",
            "|               Wales| 6320225|\n",
            "|          South East|25246265|\n",
            "+--------------------+--------+\n",
            "only showing top 5 rows\n",
            "\n"
          ]
        }
      ]
    },
    {
      "cell_type": "code",
      "metadata": {
        "id": "JcO5j9TKfauy"
      },
      "source": [
        "from pyspark.ml.feature import SQLTransformer"
      ],
      "execution_count": null,
      "outputs": []
    },
    {
      "cell_type": "code",
      "metadata": {
        "colab": {
          "base_uri": "https://localhost:8080/"
        },
        "id": "0BHJhgy9hCvW",
        "outputId": "0b764e96-358a-4b6b-d1e7-765ecb8cb8e2"
      },
      "source": [
        "sqltrans = SQLTransformer(statement= 'SELECT PFA, offence FROM __THIS__')\n",
        "sqltrans.transform(crime).show(5, False)"
      ],
      "execution_count": null,
      "outputs": [
        {
          "output_type": "stream",
          "name": "stdout",
          "text": [
            "+-----------------+-------------------------------------------------+\n",
            "|PFA              |offence                                          |\n",
            "+-----------------+-------------------------------------------------+\n",
            "|Avon and Somerset|All other theft offences                         |\n",
            "|Avon and Somerset|Bicycle theft                                    |\n",
            "|Avon and Somerset|Criminal damage and arson                        |\n",
            "|Avon and Somerset|Death or serious injury caused by illegal driving|\n",
            "|Avon and Somerset|Domestic burglary                                |\n",
            "+-----------------+-------------------------------------------------+\n",
            "only showing top 5 rows\n",
            "\n"
          ]
        }
      ]
    },
    {
      "cell_type": "code",
      "metadata": {
        "id": "gWeOOW3RhwsL"
      },
      "source": [
        "from pyspark.sql.functions import expr"
      ],
      "execution_count": null,
      "outputs": []
    },
    {
      "cell_type": "code",
      "metadata": {
        "colab": {
          "base_uri": "https://localhost:8080/"
        },
        "id": "-spYOxzRkKU-",
        "outputId": "476e81b7-584b-427a-ac0f-ea6d84b4d295"
      },
      "source": [
        "crime.withColumn('percent',expr('(count/24472098)*100')).show(5)"
      ],
      "execution_count": null,
      "outputs": [
        {
          "output_type": "stream",
          "name": "stdout",
          "text": [
            "+----------------+-----------------+----------+--------------------+-----+--------------------+\n",
            "|12 months ending|              PFA|    Region|             Offence|Count|             percent|\n",
            "+----------------+-----------------+----------+--------------------+-----+--------------------+\n",
            "|      31/03/2003|Avon and Somerset|South West|All other theft o...|25959|  0.1060759073455819|\n",
            "|      31/03/2003|Avon and Somerset|South West|       Bicycle theft| 3090| 0.01262662481982542|\n",
            "|      31/03/2003|Avon and Somerset|South West|Criminal damage a...|26202|  0.1070688749285002|\n",
            "|      31/03/2003|Avon and Somerset|South West|Death or serious ...|    2|8.172572698916128E-6|\n",
            "|      31/03/2003|Avon and Somerset|South West|   Domestic burglary|14561|0.059500415534458874|\n",
            "+----------------+-----------------+----------+--------------------+-----+--------------------+\n",
            "only showing top 5 rows\n",
            "\n"
          ]
        }
      ]
    },
    {
      "cell_type": "code",
      "metadata": {
        "colab": {
          "base_uri": "https://localhost:8080/"
        },
        "id": "jVyP29hBkeNy",
        "outputId": "3f7c2358-add7-43af-c1e1-6313ecb82f0e"
      },
      "source": [
        "crime.select('*',expr('(count/24472098)*100 AS Percent')).show(5)"
      ],
      "execution_count": null,
      "outputs": [
        {
          "output_type": "stream",
          "name": "stdout",
          "text": [
            "+----------------+-----------------+----------+--------------------+-----+--------------------+\n",
            "|12 months ending|              PFA|    Region|             Offence|Count|             Percent|\n",
            "+----------------+-----------------+----------+--------------------+-----+--------------------+\n",
            "|      31/03/2003|Avon and Somerset|South West|All other theft o...|25959|  0.1060759073455819|\n",
            "|      31/03/2003|Avon and Somerset|South West|       Bicycle theft| 3090| 0.01262662481982542|\n",
            "|      31/03/2003|Avon and Somerset|South West|Criminal damage a...|26202|  0.1070688749285002|\n",
            "|      31/03/2003|Avon and Somerset|South West|Death or serious ...|    2|8.172572698916128E-6|\n",
            "|      31/03/2003|Avon and Somerset|South West|   Domestic burglary|14561|0.059500415534458874|\n",
            "+----------------+-----------------+----------+--------------------+-----+--------------------+\n",
            "only showing top 5 rows\n",
            "\n"
          ]
        }
      ]
    },
    {
      "cell_type": "code",
      "metadata": {
        "colab": {
          "base_uri": "https://localhost:8080/"
        },
        "id": "nOgm__Rfkq89",
        "outputId": "7c1e75ca-a316-4494-aaf8-6457c3ee9a55"
      },
      "source": [
        "crime.select('*',expr('(count/24472098)*100 AS Percent')).filter(\"Region = 'South West'\").show(5)"
      ],
      "execution_count": null,
      "outputs": [
        {
          "output_type": "stream",
          "name": "stdout",
          "text": [
            "+----------------+-----------------+----------+--------------------+-----+--------------------+\n",
            "|12 months ending|              PFA|    Region|             Offence|Count|             Percent|\n",
            "+----------------+-----------------+----------+--------------------+-----+--------------------+\n",
            "|      31/03/2003|Avon and Somerset|South West|All other theft o...|25959|  0.1060759073455819|\n",
            "|      31/03/2003|Avon and Somerset|South West|       Bicycle theft| 3090| 0.01262662481982542|\n",
            "|      31/03/2003|Avon and Somerset|South West|Criminal damage a...|26202|  0.1070688749285002|\n",
            "|      31/03/2003|Avon and Somerset|South West|Death or serious ...|    2|8.172572698916128E-6|\n",
            "|      31/03/2003|Avon and Somerset|South West|   Domestic burglary|14561|0.059500415534458874|\n",
            "+----------------+-----------------+----------+--------------------+-----+--------------------+\n",
            "only showing top 5 rows\n",
            "\n"
          ]
        }
      ]
    },
    {
      "cell_type": "code",
      "metadata": {
        "id": "bvapND-slp7n"
      },
      "source": [
        "googlep = spark.read.csv(\"googleplaystore.csv\",header=True,inferSchema=True)"
      ],
      "execution_count": null,
      "outputs": []
    },
    {
      "cell_type": "code",
      "metadata": {
        "colab": {
          "base_uri": "https://localhost:8080/",
          "height": 564
        },
        "id": "bJkUluLRbLxp",
        "outputId": "ef2c58eb-f487-4d00-b009-88d4da7d6e7e"
      },
      "source": [
        "googlep.limit(5).toPandas()"
      ],
      "execution_count": null,
      "outputs": [
        {
          "output_type": "execute_result",
          "data": {
            "text/html": [
              "<div>\n",
              "<style scoped>\n",
              "    .dataframe tbody tr th:only-of-type {\n",
              "        vertical-align: middle;\n",
              "    }\n",
              "\n",
              "    .dataframe tbody tr th {\n",
              "        vertical-align: top;\n",
              "    }\n",
              "\n",
              "    .dataframe thead th {\n",
              "        text-align: right;\n",
              "    }\n",
              "</style>\n",
              "<table border=\"1\" class=\"dataframe\">\n",
              "  <thead>\n",
              "    <tr style=\"text-align: right;\">\n",
              "      <th></th>\n",
              "      <th>App</th>\n",
              "      <th>Category</th>\n",
              "      <th>Rating</th>\n",
              "      <th>Reviews</th>\n",
              "      <th>Size</th>\n",
              "      <th>Installs</th>\n",
              "      <th>Type</th>\n",
              "      <th>Price</th>\n",
              "      <th>Content Rating</th>\n",
              "      <th>Genres</th>\n",
              "      <th>Last Updated</th>\n",
              "      <th>Current Ver</th>\n",
              "      <th>Android Ver</th>\n",
              "    </tr>\n",
              "  </thead>\n",
              "  <tbody>\n",
              "    <tr>\n",
              "      <th>0</th>\n",
              "      <td>Photo Editor &amp; Candy Camera &amp; Grid &amp; ScrapBook</td>\n",
              "      <td>ART_AND_DESIGN</td>\n",
              "      <td>4.1</td>\n",
              "      <td>159</td>\n",
              "      <td>19M</td>\n",
              "      <td>10,000+</td>\n",
              "      <td>Free</td>\n",
              "      <td>0</td>\n",
              "      <td>Everyone</td>\n",
              "      <td>Art &amp; Design</td>\n",
              "      <td>January 7, 2018</td>\n",
              "      <td>1.0.0</td>\n",
              "      <td>4.0.3 and up</td>\n",
              "    </tr>\n",
              "    <tr>\n",
              "      <th>1</th>\n",
              "      <td>Coloring book moana</td>\n",
              "      <td>ART_AND_DESIGN</td>\n",
              "      <td>3.9</td>\n",
              "      <td>967</td>\n",
              "      <td>14M</td>\n",
              "      <td>500,000+</td>\n",
              "      <td>Free</td>\n",
              "      <td>0</td>\n",
              "      <td>Everyone</td>\n",
              "      <td>Art &amp; Design;Pretend Play</td>\n",
              "      <td>January 15, 2018</td>\n",
              "      <td>2.0.0</td>\n",
              "      <td>4.0.3 and up</td>\n",
              "    </tr>\n",
              "    <tr>\n",
              "      <th>2</th>\n",
              "      <td>U Launcher Lite – FREE Live Cool Themes, Hide ...</td>\n",
              "      <td>ART_AND_DESIGN</td>\n",
              "      <td>4.7</td>\n",
              "      <td>87510</td>\n",
              "      <td>8.7M</td>\n",
              "      <td>5,000,000+</td>\n",
              "      <td>Free</td>\n",
              "      <td>0</td>\n",
              "      <td>Everyone</td>\n",
              "      <td>Art &amp; Design</td>\n",
              "      <td>August 1, 2018</td>\n",
              "      <td>1.2.4</td>\n",
              "      <td>4.0.3 and up</td>\n",
              "    </tr>\n",
              "    <tr>\n",
              "      <th>3</th>\n",
              "      <td>Sketch - Draw &amp; Paint</td>\n",
              "      <td>ART_AND_DESIGN</td>\n",
              "      <td>4.5</td>\n",
              "      <td>215644</td>\n",
              "      <td>25M</td>\n",
              "      <td>50,000,000+</td>\n",
              "      <td>Free</td>\n",
              "      <td>0</td>\n",
              "      <td>Teen</td>\n",
              "      <td>Art &amp; Design</td>\n",
              "      <td>June 8, 2018</td>\n",
              "      <td>Varies with device</td>\n",
              "      <td>4.2 and up</td>\n",
              "    </tr>\n",
              "    <tr>\n",
              "      <th>4</th>\n",
              "      <td>Pixel Draw - Number Art Coloring Book</td>\n",
              "      <td>ART_AND_DESIGN</td>\n",
              "      <td>4.3</td>\n",
              "      <td>967</td>\n",
              "      <td>2.8M</td>\n",
              "      <td>100,000+</td>\n",
              "      <td>Free</td>\n",
              "      <td>0</td>\n",
              "      <td>Everyone</td>\n",
              "      <td>Art &amp; Design;Creativity</td>\n",
              "      <td>June 20, 2018</td>\n",
              "      <td>1.1</td>\n",
              "      <td>4.4 and up</td>\n",
              "    </tr>\n",
              "  </tbody>\n",
              "</table>\n",
              "</div>"
            ],
            "text/plain": [
              "                                                 App  ...   Android Ver\n",
              "0     Photo Editor & Candy Camera & Grid & ScrapBook  ...  4.0.3 and up\n",
              "1                                Coloring book moana  ...  4.0.3 and up\n",
              "2  U Launcher Lite – FREE Live Cool Themes, Hide ...  ...  4.0.3 and up\n",
              "3                              Sketch - Draw & Paint  ...    4.2 and up\n",
              "4              Pixel Draw - Number Art Coloring Book  ...    4.4 and up\n",
              "\n",
              "[5 rows x 13 columns]"
            ]
          },
          "metadata": {},
          "execution_count": 5
        }
      ]
    },
    {
      "cell_type": "code",
      "metadata": {
        "id": "NpX7G0-tbQ3p"
      },
      "source": [
        "from pyspark.sql.types import IntegerType, FloatType\n",
        "df = googlep.withColumn('Rating', googlep['Rating'].cast(FloatType())).withColumn(\"Reviews\", googlep[\"Reviews\"].cast(IntegerType())).withColumn(\"Price\", googlep[\"Price\"].cast(IntegerType()))"
      ],
      "execution_count": null,
      "outputs": []
    },
    {
      "cell_type": "code",
      "metadata": {
        "id": "K3isRFrqcCjb"
      },
      "source": [
        "df.createOrReplaceTempView('tempview')"
      ],
      "execution_count": null,
      "outputs": []
    },
    {
      "cell_type": "code",
      "metadata": {
        "colab": {
          "base_uri": "https://localhost:8080/"
        },
        "id": "m9w1sQkLdXrx",
        "outputId": "db2c72cb-0470-4dc7-a75f-8a16f7678287"
      },
      "source": [
        "spark.sql('SELECT * FROM tempview WHERE Rating>4.1').show(10)"
      ],
      "execution_count": null,
      "outputs": [
        {
          "output_type": "stream",
          "name": "stdout",
          "text": [
            "+--------------------+--------------+------+-------+----+-----------+----+-----+--------------+--------------------+------------------+------------------+------------+\n",
            "|                 App|      Category|Rating|Reviews|Size|   Installs|Type|Price|Content Rating|              Genres|      Last Updated|       Current Ver| Android Ver|\n",
            "+--------------------+--------------+------+-------+----+-----------+----+-----+--------------+--------------------+------------------+------------------+------------+\n",
            "|U Launcher Lite –...|ART_AND_DESIGN|   4.7|  87510|8.7M| 5,000,000+|Free|    0|      Everyone|        Art & Design|    August 1, 2018|             1.2.4|4.0.3 and up|\n",
            "|Sketch - Draw & P...|ART_AND_DESIGN|   4.5| 215644| 25M|50,000,000+|Free|    0|          Teen|        Art & Design|      June 8, 2018|Varies with device|  4.2 and up|\n",
            "|Pixel Draw - Numb...|ART_AND_DESIGN|   4.3|    967|2.8M|   100,000+|Free|    0|      Everyone|Art & Design;Crea...|     June 20, 2018|               1.1|  4.4 and up|\n",
            "|Paper flowers ins...|ART_AND_DESIGN|   4.4|    167|5.6M|    50,000+|Free|    0|      Everyone|        Art & Design|    March 26, 2017|               1.0|  2.3 and up|\n",
            "|Garden Coloring Book|ART_AND_DESIGN|   4.4|  13791| 33M| 1,000,000+|Free|    0|      Everyone|        Art & Design|September 20, 2017|             2.9.2|  3.0 and up|\n",
            "|Kids Paint Free -...|ART_AND_DESIGN|   4.7|    121|3.1M|    10,000+|Free|    0|      Everyone|Art & Design;Crea...|      July 3, 2018|               2.8|4.0.3 and up|\n",
            "|Text on Photo - F...|ART_AND_DESIGN|   4.4|  13880| 28M| 1,000,000+|Free|    0|      Everyone|        Art & Design|  October 27, 2017|             1.0.4|  4.1 and up|\n",
            "|Name Art Photo Ed...|ART_AND_DESIGN|   4.4|   8788| 12M| 1,000,000+|Free|    0|      Everyone|        Art & Design|     July 31, 2018|            1.0.15|  4.0 and up|\n",
            "|Tattoo Name On My...|ART_AND_DESIGN|   4.2|  44829| 20M|10,000,000+|Free|    0|          Teen|        Art & Design|     April 2, 2018|               3.8|  4.1 and up|\n",
            "|Mandala Coloring ...|ART_AND_DESIGN|   4.6|   4326| 21M|   100,000+|Free|    0|      Everyone|        Art & Design|     June 26, 2018|             1.0.4|  4.4 and up|\n",
            "+--------------------+--------------+------+-------+----+-----------+----+-----+--------------+--------------------+------------------+------------------+------------+\n",
            "only showing top 10 rows\n",
            "\n"
          ]
        }
      ]
    },
    {
      "cell_type": "code",
      "metadata": {
        "colab": {
          "base_uri": "https://localhost:8080/"
        },
        "id": "d5onkhc7donw",
        "outputId": "099357d7-886d-4187-d856-da473c10d89b"
      },
      "source": [
        "spark.sql('SELECT Category, sum(Reviews) AS Total_reviews FROM tempview GROUP BY Category ORDER BY Total_Reviews DESC').show(10)"
      ],
      "execution_count": null,
      "outputs": [
        {
          "output_type": "stream",
          "name": "stdout",
          "text": [
            "+---------------+-------------+\n",
            "|       Category|Total_reviews|\n",
            "+---------------+-------------+\n",
            "|           GAME|   1585422349|\n",
            "|  COMMUNICATION|    815462260|\n",
            "|         SOCIAL|    621241422|\n",
            "|         FAMILY|    410226330|\n",
            "|          TOOLS|    273185044|\n",
            "|    PHOTOGRAPHY|    213516650|\n",
            "|       SHOPPING|    115041222|\n",
            "|   PRODUCTIVITY|    114116975|\n",
            "|  VIDEO_PLAYERS|    110380188|\n",
            "|PERSONALIZATION|     89346140|\n",
            "+---------------+-------------+\n",
            "only showing top 10 rows\n",
            "\n"
          ]
        }
      ]
    },
    {
      "cell_type": "code",
      "metadata": {
        "colab": {
          "base_uri": "https://localhost:8080/"
        },
        "id": "xuDXQamDeF-2",
        "outputId": "d642dd27-c204-4f95-f4d2-7483c117bd8b"
      },
      "source": [
        "spark.sql(\"SELECT * FROM tempview WHERE App LIKE '%dating%'\").show(5, False)"
      ],
      "execution_count": null,
      "outputs": [
        {
          "output_type": "stream",
          "name": "stdout",
          "text": [
            "+--------------------------------------------------+---------+------+-------+------------------+-----------+----+-----+--------------+----------+-------------+------------------+------------------+\n",
            "|App                                               |Category |Rating|Reviews|Size              |Installs   |Type|Price|Content Rating|Genres    |Last Updated |Current Ver       |Android Ver       |\n",
            "+--------------------------------------------------+---------+------+-------+------------------+-----------+----+-----+--------------+----------+-------------+------------------+------------------+\n",
            "|Meet, chat & date. Free dating app - Chocolate app|DATING   |3.9   |8661   |9.5M              |1,000,000+ |Free|0    |Mature 17+    |Dating    |April 3, 2018|0.1.11            |4.0 and up        |\n",
            "|Friend Find: free chat + flirt dating app         |DATING   |NaN   |23     |11M               |100+       |Free|0    |Mature 17+    |Dating    |July 31, 2018|1.0               |4.4 and up        |\n",
            "|Spine- The dating app                             |DATING   |5.0   |5      |9.3M              |500+       |Free|0    |Teen          |Dating    |July 14, 2018|4.0               |4.0.3 and up      |\n",
            "|Princess Closet : Otome games free dating sim     |FAMILY   |4.5   |29495  |56M               |1,000,000+ |Free|0    |Teen          |Simulation|May 24, 2018 |1.11.0            |4.0.3 and up      |\n",
            "|happn – Local dating app                          |LIFESTYLE|4.3   |1118201|Varies with device|10,000,000+|Free|0    |Mature 17+    |Lifestyle |July 24, 2018|Varies with device|Varies with device|\n",
            "+--------------------------------------------------+---------+------+-------+------------------+-----------+----+-----+--------------+----------+-------------+------------------+------------------+\n",
            "\n"
          ]
        }
      ]
    },
    {
      "cell_type": "markdown",
      "metadata": {
        "id": "8Q5zYwwKgGUP"
      },
      "source": [
        "# Manipulate Data"
      ]
    },
    {
      "cell_type": "code",
      "metadata": {
        "colab": {
          "base_uri": "https://localhost:8080/",
          "height": 216
        },
        "id": "-35DvEUrfGB_",
        "outputId": "3c02be01-b7f2-4747-a8b4-088dec258f74"
      },
      "source": [
        "import pyspark\n",
        "from pyspark.sql import SparkSession\n",
        "spark = SparkSession.builder.appName(\"PySpark\").getOrCreate()\n",
        "spark"
      ],
      "execution_count": null,
      "outputs": [
        {
          "output_type": "execute_result",
          "data": {
            "text/html": [
              "\n",
              "            <div>\n",
              "                <p><b>SparkSession - in-memory</b></p>\n",
              "                \n",
              "        <div>\n",
              "            <p><b>SparkContext</b></p>\n",
              "\n",
              "            <p><a href=\"http://dd478739d426:4040\">Spark UI</a></p>\n",
              "\n",
              "            <dl>\n",
              "              <dt>Version</dt>\n",
              "                <dd><code>v3.2.0</code></dd>\n",
              "              <dt>Master</dt>\n",
              "                <dd><code>local[*]</code></dd>\n",
              "              <dt>AppName</dt>\n",
              "                <dd><code>PySpark</code></dd>\n",
              "            </dl>\n",
              "        </div>\n",
              "        \n",
              "            </div>\n",
              "        "
            ],
            "text/plain": [
              "<pyspark.sql.session.SparkSession at 0x7f799d386750>"
            ]
          },
          "metadata": {},
          "execution_count": 20
        }
      ]
    },
    {
      "cell_type": "markdown",
      "metadata": {
        "id": "AjzVo3b_Up9b"
      },
      "source": [
        "### Create dataframe"
      ]
    },
    {
      "cell_type": "code",
      "metadata": {
        "colab": {
          "base_uri": "https://localhost:8080/"
        },
        "id": "9lAHbJcAgO93",
        "outputId": "870a4f70-bc74-4cda-d3cd-5ba84c04db4a"
      },
      "source": [
        "names = spark.createDataFrame([('J','A')], ['firstn','last'])\n",
        "names.show()"
      ],
      "execution_count": null,
      "outputs": [
        {
          "output_type": "stream",
          "name": "stdout",
          "text": [
            "+------+----+\n",
            "|firstn|last|\n",
            "+------+----+\n",
            "|     J|   A|\n",
            "+------+----+\n",
            "\n"
          ]
        }
      ]
    },
    {
      "cell_type": "markdown",
      "metadata": {
        "id": "qy7VXXxAUtvO"
      },
      "source": [
        "### Concat columns"
      ]
    },
    {
      "cell_type": "code",
      "metadata": {
        "colab": {
          "base_uri": "https://localhost:8080/"
        },
        "id": "sU17kNe2mmYE",
        "outputId": "1c9e54a6-176d-45d6-8a85-0b8b05bada46"
      },
      "source": [
        "from pyspark.sql.functions import *\n",
        "names = names.select(names.firstn,names.last,concat_ws(' ', names.firstn, names.last).alias('full'))\n",
        "names.show()"
      ],
      "execution_count": null,
      "outputs": [
        {
          "output_type": "stream",
          "name": "stdout",
          "text": [
            "+------+----+----+\n",
            "|firstn|last|full|\n",
            "+------+----+----+\n",
            "|     J|   A| J A|\n",
            "+------+----+----+\n",
            "\n"
          ]
        }
      ]
    },
    {
      "cell_type": "code",
      "metadata": {
        "colab": {
          "base_uri": "https://localhost:8080/"
        },
        "id": "Ov29GKK7nzqV",
        "outputId": "5def5c2f-bf45-4071-cf94-c997e734aad9"
      },
      "source": [
        "names.rdd.id()"
      ],
      "execution_count": null,
      "outputs": [
        {
          "output_type": "execute_result",
          "data": {
            "text/plain": [
              "56"
            ]
          },
          "metadata": {},
          "execution_count": 31
        }
      ]
    },
    {
      "cell_type": "markdown",
      "metadata": {
        "id": "fy53jiJpU5_d"
      },
      "source": [
        "### Read file and transform"
      ]
    },
    {
      "cell_type": "code",
      "metadata": {
        "colab": {
          "base_uri": "https://localhost:8080/",
          "height": 448
        },
        "id": "DS7xosjIo3Zd",
        "outputId": "df3985d5-1504-4006-c9c7-35474c8ba065"
      },
      "source": [
        "videos = spark.read.csv('youtubevideos.csv',inferSchema=True, header = True)\n",
        "videos.limit(4).toPandas()"
      ],
      "execution_count": null,
      "outputs": [
        {
          "output_type": "execute_result",
          "data": {
            "text/html": [
              "<div>\n",
              "<style scoped>\n",
              "    .dataframe tbody tr th:only-of-type {\n",
              "        vertical-align: middle;\n",
              "    }\n",
              "\n",
              "    .dataframe tbody tr th {\n",
              "        vertical-align: top;\n",
              "    }\n",
              "\n",
              "    .dataframe thead th {\n",
              "        text-align: right;\n",
              "    }\n",
              "</style>\n",
              "<table border=\"1\" class=\"dataframe\">\n",
              "  <thead>\n",
              "    <tr style=\"text-align: right;\">\n",
              "      <th></th>\n",
              "      <th>video_id</th>\n",
              "      <th>trending_date</th>\n",
              "      <th>title</th>\n",
              "      <th>channel_title</th>\n",
              "      <th>category_id</th>\n",
              "      <th>publish_time</th>\n",
              "      <th>tags</th>\n",
              "      <th>views</th>\n",
              "      <th>likes</th>\n",
              "      <th>dislikes</th>\n",
              "      <th>comment_count</th>\n",
              "      <th>thumbnail_link</th>\n",
              "      <th>comments_disabled</th>\n",
              "      <th>ratings_disabled</th>\n",
              "      <th>video_error_or_removed</th>\n",
              "      <th>description</th>\n",
              "    </tr>\n",
              "  </thead>\n",
              "  <tbody>\n",
              "    <tr>\n",
              "      <th>0</th>\n",
              "      <td>2kyS6SvSYSE</td>\n",
              "      <td>17.14.11</td>\n",
              "      <td>WE WANT TO TALK ABOUT OUR MARRIAGE</td>\n",
              "      <td>CaseyNeistat</td>\n",
              "      <td>22</td>\n",
              "      <td>2017-11-13T17:13:01.000Z</td>\n",
              "      <td>SHANtell martin</td>\n",
              "      <td>748374</td>\n",
              "      <td>57527</td>\n",
              "      <td>2966</td>\n",
              "      <td>15954</td>\n",
              "      <td>https://i.ytimg.com/vi/2kyS6SvSYSE/default.jpg</td>\n",
              "      <td>False</td>\n",
              "      <td>False</td>\n",
              "      <td>False</td>\n",
              "      <td>SHANTELL'S CHANNEL - https://www.youtube.com/s...</td>\n",
              "    </tr>\n",
              "    <tr>\n",
              "      <th>1</th>\n",
              "      <td>1ZAPwfrtAFY</td>\n",
              "      <td>17.14.11</td>\n",
              "      <td>The Trump Presidency: Last Week Tonight with J...</td>\n",
              "      <td>LastWeekTonight</td>\n",
              "      <td>24</td>\n",
              "      <td>2017-11-13T07:30:00.000Z</td>\n",
              "      <td>\"last week tonight trump presidency\"|\"last wee...</td>\n",
              "      <td>2418783</td>\n",
              "      <td>97185</td>\n",
              "      <td>6146</td>\n",
              "      <td>12703</td>\n",
              "      <td>https://i.ytimg.com/vi/1ZAPwfrtAFY/default.jpg</td>\n",
              "      <td>False</td>\n",
              "      <td>False</td>\n",
              "      <td>False</td>\n",
              "      <td>One year after the presidential election, John...</td>\n",
              "    </tr>\n",
              "    <tr>\n",
              "      <th>2</th>\n",
              "      <td>5qpjK5DgCt4</td>\n",
              "      <td>17.14.11</td>\n",
              "      <td>Racist Superman | Rudy Mancuso, King Bach &amp; Le...</td>\n",
              "      <td>Rudy Mancuso</td>\n",
              "      <td>23</td>\n",
              "      <td>2017-11-12T19:05:24.000Z</td>\n",
              "      <td>\"racist superman\"|\"rudy\"|\"mancuso\"|\"king\"|\"bac...</td>\n",
              "      <td>3191434</td>\n",
              "      <td>146033</td>\n",
              "      <td>5339</td>\n",
              "      <td>8181</td>\n",
              "      <td>https://i.ytimg.com/vi/5qpjK5DgCt4/default.jpg</td>\n",
              "      <td>False</td>\n",
              "      <td>False</td>\n",
              "      <td>False</td>\n",
              "      <td>WATCH MY PREVIOUS VIDEO ▶ \\n\\nSUBSCRIBE ► http...</td>\n",
              "    </tr>\n",
              "    <tr>\n",
              "      <th>3</th>\n",
              "      <td>puqaWrEC7tY</td>\n",
              "      <td>17.14.11</td>\n",
              "      <td>Nickelback Lyrics: Real or Fake?</td>\n",
              "      <td>Good Mythical Morning</td>\n",
              "      <td>24</td>\n",
              "      <td>2017-11-13T11:00:04.000Z</td>\n",
              "      <td>\"rhett and link\"|\"gmm\"|\"good mythical morning\"...</td>\n",
              "      <td>343168</td>\n",
              "      <td>10172</td>\n",
              "      <td>666</td>\n",
              "      <td>2146</td>\n",
              "      <td>https://i.ytimg.com/vi/puqaWrEC7tY/default.jpg</td>\n",
              "      <td>False</td>\n",
              "      <td>False</td>\n",
              "      <td>False</td>\n",
              "      <td>Today we find out if Link is a Nickelback amat...</td>\n",
              "    </tr>\n",
              "  </tbody>\n",
              "</table>\n",
              "</div>"
            ],
            "text/plain": [
              "      video_id  ...                                        description\n",
              "0  2kyS6SvSYSE  ...  SHANTELL'S CHANNEL - https://www.youtube.com/s...\n",
              "1  1ZAPwfrtAFY  ...  One year after the presidential election, John...\n",
              "2  5qpjK5DgCt4  ...  WATCH MY PREVIOUS VIDEO ▶ \\n\\nSUBSCRIBE ► http...\n",
              "3  puqaWrEC7tY  ...  Today we find out if Link is a Nickelback amat...\n",
              "\n",
              "[4 rows x 16 columns]"
            ]
          },
          "metadata": {},
          "execution_count": 32
        }
      ]
    },
    {
      "cell_type": "code",
      "metadata": {
        "id": "DC4rP4K7q0Zn"
      },
      "source": [
        "from pyspark.sql.types import *\n",
        "df = videos.withColumn('views', videos['views'].cast(IntegerType())).withColumn(\"likes\", videos[\"likes\"].cast(IntegerType())).withColumn(\"dislikes\", videos[\"dislikes\"].cast(IntegerType())).withColumn(\"trending_date\", to_date(videos.trending_date, 'dd.mm.yy'))"
      ],
      "execution_count": null,
      "outputs": []
    },
    {
      "cell_type": "code",
      "metadata": {
        "colab": {
          "base_uri": "https://localhost:8080/"
        },
        "id": "4WPDmS0pr33v",
        "outputId": "eb0a6931-7fa4-49ce-c5db-2f0c03584d3d"
      },
      "source": [
        "df.printSchema()"
      ],
      "execution_count": null,
      "outputs": [
        {
          "output_type": "stream",
          "name": "stdout",
          "text": [
            "root\n",
            " |-- video_id: string (nullable = true)\n",
            " |-- trending_date: date (nullable = true)\n",
            " |-- title: string (nullable = true)\n",
            " |-- channel_title: string (nullable = true)\n",
            " |-- category_id: string (nullable = true)\n",
            " |-- publish_time: string (nullable = true)\n",
            " |-- tags: string (nullable = true)\n",
            " |-- views: integer (nullable = true)\n",
            " |-- likes: integer (nullable = true)\n",
            " |-- dislikes: integer (nullable = true)\n",
            " |-- comment_count: string (nullable = true)\n",
            " |-- thumbnail_link: string (nullable = true)\n",
            " |-- comments_disabled: string (nullable = true)\n",
            " |-- ratings_disabled: string (nullable = true)\n",
            " |-- video_error_or_removed: string (nullable = true)\n",
            " |-- description: string (nullable = true)\n",
            "\n"
          ]
        }
      ]
    },
    {
      "cell_type": "markdown",
      "metadata": {
        "id": "-1RxVMC6VGqs"
      },
      "source": [
        "### Replace"
      ]
    },
    {
      "cell_type": "code",
      "metadata": {
        "id": "QcSIpmOer4sz"
      },
      "source": [
        "from pyspark.sql.functions import *"
      ],
      "execution_count": null,
      "outputs": []
    },
    {
      "cell_type": "code",
      "metadata": {
        "colab": {
          "base_uri": "https://localhost:8080/"
        },
        "id": "wDtJ4i03sMHJ",
        "outputId": "7a3e1a25-7482-4a02-df10-ec99568d85a0"
      },
      "source": [
        "df = df.withColumn('publish_time_2', regexp_replace(df.publish_time,'T',' '))\n",
        "df = df.withColumn('publish_time_2', regexp_replace(df.publish_time_2,'Z',' '))\n",
        "df.select('publish_time_2').show(5,False)"
      ],
      "execution_count": null,
      "outputs": [
        {
          "output_type": "stream",
          "name": "stdout",
          "text": [
            "+------------------------+\n",
            "|publish_time_2          |\n",
            "+------------------------+\n",
            "|2017-11-13 17:13:01.000 |\n",
            "|2017-11-13 07:30:00.000 |\n",
            "|2017-11-12 19:05:24.000 |\n",
            "|2017-11-13 11:00:04.000 |\n",
            "|2017-11-12 18:01:41.000 |\n",
            "+------------------------+\n",
            "only showing top 5 rows\n",
            "\n"
          ]
        }
      ]
    },
    {
      "cell_type": "markdown",
      "metadata": {
        "id": "WQwjfWFrVLSZ"
      },
      "source": [
        "### To datetime"
      ]
    },
    {
      "cell_type": "code",
      "metadata": {
        "id": "BGGl2ib8sprD"
      },
      "source": [
        "df = df.withColumn(\"publish_time_3\", to_timestamp(df.publish_time_2, 'yyyy-MM-dd HH:mm:ss.SSS'))"
      ],
      "execution_count": null,
      "outputs": []
    },
    {
      "cell_type": "code",
      "metadata": {
        "colab": {
          "base_uri": "https://localhost:8080/"
        },
        "id": "PSRvHs6ms5UK",
        "outputId": "a28dc4bc-8e71-492a-f53c-fe199432970b"
      },
      "source": [
        "df.printSchema()"
      ],
      "execution_count": null,
      "outputs": [
        {
          "output_type": "stream",
          "name": "stdout",
          "text": [
            "root\n",
            " |-- video_id: string (nullable = true)\n",
            " |-- trending_date: date (nullable = true)\n",
            " |-- title: string (nullable = true)\n",
            " |-- channel_title: string (nullable = true)\n",
            " |-- category_id: string (nullable = true)\n",
            " |-- publish_time: string (nullable = true)\n",
            " |-- tags: string (nullable = true)\n",
            " |-- views: integer (nullable = true)\n",
            " |-- likes: integer (nullable = true)\n",
            " |-- dislikes: integer (nullable = true)\n",
            " |-- comment_count: string (nullable = true)\n",
            " |-- thumbnail_link: string (nullable = true)\n",
            " |-- comments_disabled: string (nullable = true)\n",
            " |-- ratings_disabled: string (nullable = true)\n",
            " |-- video_error_or_removed: string (nullable = true)\n",
            " |-- description: string (nullable = true)\n",
            " |-- publish_time_2: string (nullable = true)\n",
            " |-- publish_time_3: timestamp (nullable = true)\n",
            "\n"
          ]
        }
      ]
    },
    {
      "cell_type": "markdown",
      "metadata": {
        "id": "KWf0QEsrtmgZ"
      },
      "source": [
        "### Translate function"
      ]
    },
    {
      "cell_type": "code",
      "metadata": {
        "colab": {
          "base_uri": "https://localhost:8080/"
        },
        "id": "ib2Q3QBXs-wH",
        "outputId": "5816041a-67a9-4b01-a7d3-071e491e835d"
      },
      "source": [
        "df.select('publish_time', translate(col('publish_time'), 'TZ', ' ').alias('trans')).show(3,False)"
      ],
      "execution_count": null,
      "outputs": [
        {
          "output_type": "stream",
          "name": "stdout",
          "text": [
            "+------------------------+-----------------------+\n",
            "|publish_time            |trans                  |\n",
            "+------------------------+-----------------------+\n",
            "|2017-11-13T17:13:01.000Z|2017-11-13 17:13:01.000|\n",
            "|2017-11-13T07:30:00.000Z|2017-11-13 07:30:00.000|\n",
            "|2017-11-12T19:05:24.000Z|2017-11-12 19:05:24.000|\n",
            "+------------------------+-----------------------+\n",
            "only showing top 3 rows\n",
            "\n"
          ]
        }
      ]
    },
    {
      "cell_type": "markdown",
      "metadata": {
        "id": "xnZydMx-VT8q"
      },
      "source": [
        "### Trim"
      ]
    },
    {
      "cell_type": "code",
      "metadata": {
        "colab": {
          "base_uri": "https://localhost:8080/"
        },
        "id": "KLjFwiBwuIQi",
        "outputId": "606e3e12-caad-41b2-bfe0-3e4bde0530fb"
      },
      "source": [
        "df = df.withColumn('title', trim(df.title))\n",
        "df.select('title').show(2)"
      ],
      "execution_count": null,
      "outputs": [
        {
          "output_type": "stream",
          "name": "stdout",
          "text": [
            "+--------------------+\n",
            "|               title|\n",
            "+--------------------+\n",
            "|WE WANT TO TALK A...|\n",
            "|The Trump Preside...|\n",
            "+--------------------+\n",
            "only showing top 2 rows\n",
            "\n"
          ]
        }
      ]
    },
    {
      "cell_type": "markdown",
      "metadata": {
        "id": "x1EO9bdAVXVW"
      },
      "source": [
        "### String lower"
      ]
    },
    {
      "cell_type": "code",
      "metadata": {
        "colab": {
          "base_uri": "https://localhost:8080/"
        },
        "id": "6tEykX01ucbZ",
        "outputId": "79a38b17-10eb-4407-a563-608990e0b92e"
      },
      "source": [
        "df.select('title', lower(df.title)).show(5)"
      ],
      "execution_count": null,
      "outputs": [
        {
          "output_type": "stream",
          "name": "stdout",
          "text": [
            "+--------------------+--------------------+\n",
            "|               title|        lower(title)|\n",
            "+--------------------+--------------------+\n",
            "|WE WANT TO TALK A...|we want to talk a...|\n",
            "|The Trump Preside...|the trump preside...|\n",
            "|Racist Superman |...|racist superman |...|\n",
            "|Nickelback Lyrics...|nickelback lyrics...|\n",
            "|I Dare You: GOING...|i dare you: going...|\n",
            "+--------------------+--------------------+\n",
            "only showing top 5 rows\n",
            "\n"
          ]
        }
      ]
    },
    {
      "cell_type": "markdown",
      "metadata": {
        "id": "WRV46d6WVaxI"
      },
      "source": [
        "### when-otherwise 1"
      ]
    },
    {
      "cell_type": "code",
      "metadata": {
        "colab": {
          "base_uri": "https://localhost:8080/"
        },
        "id": "bBxO8jICurl9",
        "outputId": "1187870e-9ad8-4e12-816f-d748f052d844"
      },
      "source": [
        "df.select('likes','dislikes',  (when(df.likes> df.dislikes,'Good').when(df.likes<df.dislikes, 'Bad').otherwise('ND')).alias('Favor')).show(5)"
      ],
      "execution_count": null,
      "outputs": [
        {
          "output_type": "stream",
          "name": "stdout",
          "text": [
            "+------+--------+-----+\n",
            "| likes|dislikes|Favor|\n",
            "+------+--------+-----+\n",
            "| 57527|    2966| Good|\n",
            "| 97185|    6146| Good|\n",
            "|146033|    5339| Good|\n",
            "| 10172|     666| Good|\n",
            "|132235|    1989| Good|\n",
            "+------+--------+-----+\n",
            "only showing top 5 rows\n",
            "\n"
          ]
        }
      ]
    },
    {
      "cell_type": "markdown",
      "metadata": {
        "id": "sP5Uh7buVeet"
      },
      "source": [
        "### when-otherwise 2"
      ]
    },
    {
      "cell_type": "code",
      "metadata": {
        "colab": {
          "base_uri": "https://localhost:8080/"
        },
        "id": "o1KqLJMtvUx5",
        "outputId": "1cea6533-14ce-4bfb-b44b-a448fd54fba1"
      },
      "source": [
        "df.select('likes','dislikes', expr(\"CASE WHEN likes > dislikes THEN 'Good' WHEN dislikes > likes THEN 'Bad' ELSE 'UN' END AS favor\")).show(3)"
      ],
      "execution_count": null,
      "outputs": [
        {
          "output_type": "stream",
          "name": "stdout",
          "text": [
            "+------+--------+-----+\n",
            "| likes|dislikes|favor|\n",
            "+------+--------+-----+\n",
            "| 57527|    2966| Good|\n",
            "| 97185|    6146| Good|\n",
            "|146033|    5339| Good|\n",
            "+------+--------+-----+\n",
            "only showing top 3 rows\n",
            "\n"
          ]
        }
      ]
    },
    {
      "cell_type": "markdown",
      "metadata": {
        "id": "fxD5-3PHViGJ"
      },
      "source": [
        "### Concate columns"
      ]
    },
    {
      "cell_type": "code",
      "metadata": {
        "colab": {
          "base_uri": "https://localhost:8080/"
        },
        "id": "GLK6SgqgwPP8",
        "outputId": "70ecbb1b-5342-49d6-a18a-b3a0281a7af2"
      },
      "source": [
        "df.select(concat_ws(' ',df.title, df.channel_title).alias('text')).show(2,False)"
      ],
      "execution_count": null,
      "outputs": [
        {
          "output_type": "stream",
          "name": "stdout",
          "text": [
            "+------------------------------------------------------------------------------+\n",
            "|text                                                                          |\n",
            "+------------------------------------------------------------------------------+\n",
            "|WE WANT TO TALK ABOUT OUR MARRIAGE CaseyNeistat                               |\n",
            "|The Trump Presidency: Last Week Tonight with John Oliver (HBO) LastWeekTonight|\n",
            "+------------------------------------------------------------------------------+\n",
            "only showing top 2 rows\n",
            "\n"
          ]
        }
      ]
    },
    {
      "cell_type": "markdown",
      "metadata": {
        "id": "-m8-akofVpFT"
      },
      "source": [
        "### Select year, month, day"
      ]
    },
    {
      "cell_type": "code",
      "metadata": {
        "colab": {
          "base_uri": "https://localhost:8080/"
        },
        "id": "PsHsEq2BxRDJ",
        "outputId": "1aeacbda-80da-471a-9994-a1d0e92afebc"
      },
      "source": [
        "df.select('trending_date', year('trending_date'),month('trending_date')).show(3)"
      ],
      "execution_count": null,
      "outputs": [
        {
          "output_type": "stream",
          "name": "stdout",
          "text": [
            "+-------------+-------------------+--------------------+\n",
            "|trending_date|year(trending_date)|month(trending_date)|\n",
            "+-------------+-------------------+--------------------+\n",
            "|   2011-01-17|               2011|                   1|\n",
            "|   2011-01-17|               2011|                   1|\n",
            "|   2011-01-17|               2011|                   1|\n",
            "+-------------+-------------------+--------------------+\n",
            "only showing top 3 rows\n",
            "\n"
          ]
        }
      ]
    },
    {
      "cell_type": "code",
      "metadata": {
        "colab": {
          "base_uri": "https://localhost:8080/"
        },
        "id": "XW4w7SHLy5SD",
        "outputId": "58859443-a3c6-4da3-bba4-bbf1070da918"
      },
      "source": [
        "df.printSchema()"
      ],
      "execution_count": null,
      "outputs": [
        {
          "output_type": "stream",
          "name": "stdout",
          "text": [
            "root\n",
            " |-- video_id: string (nullable = true)\n",
            " |-- trending_date: date (nullable = true)\n",
            " |-- title: string (nullable = true)\n",
            " |-- channel_title: string (nullable = true)\n",
            " |-- category_id: string (nullable = true)\n",
            " |-- publish_time: string (nullable = true)\n",
            " |-- tags: string (nullable = true)\n",
            " |-- views: integer (nullable = true)\n",
            " |-- likes: integer (nullable = true)\n",
            " |-- dislikes: integer (nullable = true)\n",
            " |-- comment_count: string (nullable = true)\n",
            " |-- thumbnail_link: string (nullable = true)\n",
            " |-- comments_disabled: string (nullable = true)\n",
            " |-- ratings_disabled: string (nullable = true)\n",
            " |-- video_error_or_removed: string (nullable = true)\n",
            " |-- description: string (nullable = true)\n",
            " |-- publish_time_2: string (nullable = true)\n",
            " |-- publish_time_3: timestamp (nullable = true)\n",
            "\n"
          ]
        }
      ]
    },
    {
      "cell_type": "markdown",
      "metadata": {
        "id": "t0XBpEh8VwjZ"
      },
      "source": [
        "### Date difference"
      ]
    },
    {
      "cell_type": "code",
      "metadata": {
        "colab": {
          "base_uri": "https://localhost:8080/"
        },
        "id": "NUyH_fMmxhCP",
        "outputId": "4b3e0794-64fc-46ea-c027-c7b4bc5dda13"
      },
      "source": [
        "df.select('trending_date','publish_time_3', (datediff(df.trending_date,df.publish_time_3)/365).alias('diff')).show(3)"
      ],
      "execution_count": null,
      "outputs": [
        {
          "output_type": "execute_result",
          "data": {
            "text/plain": [
              "DataFrame[trending_date: date, publish_time_3: timestamp]"
            ]
          },
          "metadata": {},
          "execution_count": 57
        }
      ]
    },
    {
      "cell_type": "markdown",
      "metadata": {
        "id": "JBQ7gpU2Vzfk"
      },
      "source": [
        "### Create array of each word"
      ]
    },
    {
      "cell_type": "code",
      "metadata": {
        "colab": {
          "base_uri": "https://localhost:8080/"
        },
        "id": "F4IFc183yqra",
        "outputId": "a3a9fdc3-3091-4559-c3c6-d6e522fe124e"
      },
      "source": [
        "df.select(\"title\",split(df.title, ' ').alias('title_array')).show(3)"
      ],
      "execution_count": null,
      "outputs": [
        {
          "output_type": "stream",
          "name": "stdout",
          "text": [
            "+--------------------+--------------------+\n",
            "|               title|         title_array|\n",
            "+--------------------+--------------------+\n",
            "|WE WANT TO TALK A...|[WE, WANT, TO, TA...|\n",
            "|The Trump Preside...|[The, Trump, Pres...|\n",
            "|Racist Superman |...|[Racist, Superman...|\n",
            "+--------------------+--------------------+\n",
            "only showing top 3 rows\n",
            "\n"
          ]
        }
      ]
    },
    {
      "cell_type": "code",
      "metadata": {
        "colab": {
          "base_uri": "https://localhost:8080/"
        },
        "id": "D1rmA4S4zw7t",
        "outputId": "7c18710b-b15c-401c-a8d1-68b21854b4ea"
      },
      "source": [
        "array = df.select(\"title\",split(df.title, ' ').alias('title_array'))\n",
        "array.select('title',array_contains(array.title_array, 'MARRIAGE')).show(3,False)"
      ],
      "execution_count": null,
      "outputs": [
        {
          "output_type": "stream",
          "name": "stdout",
          "text": [
            "+--------------------------------------------------------------+-------------------------------------+\n",
            "|title                                                         |array_contains(title_array, MARRIAGE)|\n",
            "+--------------------------------------------------------------+-------------------------------------+\n",
            "|WE WANT TO TALK ABOUT OUR MARRIAGE                            |true                                 |\n",
            "|The Trump Presidency: Last Week Tonight with John Oliver (HBO)|false                                |\n",
            "|Racist Superman | Rudy Mancuso, King Bach & Lele Pons         |false                                |\n",
            "+--------------------------------------------------------------+-------------------------------------+\n",
            "only showing top 3 rows\n",
            "\n"
          ]
        }
      ]
    },
    {
      "cell_type": "markdown",
      "metadata": {
        "id": "YYXuakY2WSmu"
      },
      "source": [
        "### Get rid of repeat values/ Remove certian values"
      ]
    },
    {
      "cell_type": "code",
      "metadata": {
        "colab": {
          "base_uri": "https://localhost:8080/"
        },
        "id": "NMcmwwp80KlO",
        "outputId": "b49d6d10-2e45-4b63-a701-a84a689a2863"
      },
      "source": [
        "array.select(array_distinct(array.title_array)).show(1, False)\n",
        "\n",
        "array.select(array_remove(array.title_array, \"we\")).show(1, False)"
      ],
      "execution_count": null,
      "outputs": [
        {
          "output_type": "stream",
          "name": "stdout",
          "text": [
            "+------------------------------------------+\n",
            "|array_distinct(title_array)               |\n",
            "+------------------------------------------+\n",
            "|[WE, WANT, TO, TALK, ABOUT, OUR, MARRIAGE]|\n",
            "+------------------------------------------+\n",
            "only showing top 1 row\n",
            "\n",
            "+------------------------------------------+\n",
            "|array_remove(title_array, we)             |\n",
            "+------------------------------------------+\n",
            "|[WE, WANT, TO, TALK, ABOUT, OUR, MARRIAGE]|\n",
            "+------------------------------------------+\n",
            "only showing top 1 row\n",
            "\n"
          ]
        }
      ]
    },
    {
      "cell_type": "markdown",
      "metadata": {
        "id": "x-z3lCNe1CRj"
      },
      "source": [
        "### Creating functions"
      ]
    },
    {
      "cell_type": "code",
      "metadata": {
        "id": "IZnHsK-s0gXz"
      },
      "source": [
        "from pyspark.sql.functions import udf\n",
        "from pyspark.sql.types import IntegerType"
      ],
      "execution_count": null,
      "outputs": []
    },
    {
      "cell_type": "code",
      "metadata": {
        "id": "TuzslAaB08RX"
      },
      "source": [
        "def square(x):\n",
        "  return int(x**2)"
      ],
      "execution_count": null,
      "outputs": []
    },
    {
      "cell_type": "code",
      "metadata": {
        "id": "8p_L7E6u1B3t"
      },
      "source": [
        "square_udf = udf(lambda z: square(z), IntegerType())"
      ],
      "execution_count": null,
      "outputs": []
    },
    {
      "cell_type": "code",
      "metadata": {
        "colab": {
          "base_uri": "https://localhost:8080/"
        },
        "id": "YRblcQQ41MIW",
        "outputId": "7005bc89-4134-4013-f7d7-e69151eb38fd"
      },
      "source": [
        "df.select('dislikes', square_udf('dislikes')).where(col('dislikes').isNotNull()).show()"
      ],
      "execution_count": null,
      "outputs": [
        {
          "output_type": "stream",
          "name": "stdout",
          "text": [
            "+--------+------------------+\n",
            "|dislikes|<lambda>(dislikes)|\n",
            "+--------+------------------+\n",
            "|    2966|           8797156|\n",
            "|    6146|          37773316|\n",
            "|    5339|          28504921|\n",
            "|     666|            443556|\n",
            "|    1989|           3956121|\n",
            "|     511|            261121|\n",
            "|    2445|           5978025|\n",
            "|     778|            605284|\n",
            "|     119|             14161|\n",
            "|    1363|           1857769|\n",
            "|      25|               625|\n",
            "|     303|             91809|\n",
            "|    1333|           1776889|\n",
            "|    1171|           1371241|\n",
            "|     246|             60516|\n",
            "|      52|              2704|\n",
            "|     638|            407044|\n",
            "|      53|              2809|\n",
            "|      36|              1296|\n",
            "|     191|             36481|\n",
            "+--------+------------------+\n",
            "only showing top 20 rows\n",
            "\n"
          ]
        }
      ]
    },
    {
      "cell_type": "markdown",
      "metadata": {
        "id": "BgZBRobz4dr8"
      },
      "source": [
        "# Aggregating"
      ]
    },
    {
      "cell_type": "code",
      "metadata": {
        "id": "Xld82dXV1VE1"
      },
      "source": [
        "air = spark.read.csv('nyc_air_bnb.csv', inferSchema=True, header = True)"
      ],
      "execution_count": null,
      "outputs": []
    },
    {
      "cell_type": "code",
      "metadata": {
        "id": "7POo5g4FadV6"
      },
      "source": [
        "from pyspark.sql.types import *\n",
        "from pyspark.sql.functions import *"
      ],
      "execution_count": null,
      "outputs": []
    },
    {
      "cell_type": "code",
      "metadata": {
        "colab": {
          "base_uri": "https://localhost:8080/"
        },
        "id": "I74tv0_G6Rg-",
        "outputId": "b546daff-c64a-4227-b5a9-061872aa07dc"
      },
      "source": [
        "air.show(4)"
      ],
      "execution_count": null,
      "outputs": [
        {
          "output_type": "stream",
          "name": "stdout",
          "text": [
            "+----+--------------------+-------+-----------+-------------------+-------------+--------+---------+---------------+-----+--------------+-----------------+-----------+-----------------+------------------------------+----------------+\n",
            "|  id|                name|host_id|  host_name|neighbourhood_group|neighbourhood|latitude|longitude|      room_type|price|minimum_nights|number_of_reviews|last_review|reviews_per_month|calculated_host_listings_count|availability_365|\n",
            "+----+--------------------+-------+-----------+-------------------+-------------+--------+---------+---------------+-----+--------------+-----------------+-----------+-----------------+------------------------------+----------------+\n",
            "|2539|Clean & quiet apt...|   2787|       John|           Brooklyn|   Kensington|40.64749|-73.97237|   Private room|  149|             1|                9| 2018-10-19|             0.21|                             6|             365|\n",
            "|2595|Skylit Midtown Ca...|   2845|   Jennifer|          Manhattan|      Midtown|40.75362|-73.98377|Entire home/apt|  225|             1|               45| 2019-05-21|             0.38|                             2|             355|\n",
            "|3647|THE VILLAGE OF HA...|   4632|  Elisabeth|          Manhattan|       Harlem|40.80902| -73.9419|   Private room|  150|             3|                0|       null|             null|                             1|             365|\n",
            "|3831|Cozy Entire Floor...|   4869|LisaRoxanne|           Brooklyn| Clinton Hill|40.68514|-73.95976|Entire home/apt|   89|             1|              270| 2019-07-05|             4.64|                             1|             194|\n",
            "+----+--------------------+-------+-----------+-------------------+-------------+--------+---------+---------------+-----+--------------+-----------------+-----------+-----------------+------------------------------+----------------+\n",
            "only showing top 4 rows\n",
            "\n"
          ]
        }
      ]
    },
    {
      "cell_type": "code",
      "metadata": {
        "id": "eFG6ZRwE7Is4"
      },
      "source": [
        "df = air.withColumn(\"price\", air[\"price\"].cast(IntegerType())).withColumn(\"minimum_nights\", air[\"minimum_nights\"].cast(IntegerType())).withColumn(\"number_of_reviews\", air[\"number_of_reviews\"].cast(IntegerType())).withColumn(\"reviews_per_month\", air[\"reviews_per_month\"].cast(IntegerType())).withColumn(\"calculated_host_listings_count\", air[\"calculated_host_listings_count\"].cast(IntegerType()))"
      ],
      "execution_count": null,
      "outputs": []
    },
    {
      "cell_type": "markdown",
      "metadata": {
        "id": "fB0rRzCtY72I"
      },
      "source": [
        "### Groupby"
      ]
    },
    {
      "cell_type": "code",
      "metadata": {
        "colab": {
          "base_uri": "https://localhost:8080/"
        },
        "id": "_9w1uAVC7o85",
        "outputId": "19f5d885-f7ae-46d7-f11f-89257e6638eb"
      },
      "source": [
        "df.groupBy('neighbourhood_group').count().show(3)"
      ],
      "execution_count": null,
      "outputs": [
        {
          "output_type": "stream",
          "name": "stdout",
          "text": [
            "+-------------------+-----+\n",
            "|neighbourhood_group|count|\n",
            "+-------------------+-----+\n",
            "|         Douglaston|    1|\n",
            "|             Queens| 5630|\n",
            "|              Nadia|    1|\n",
            "+-------------------+-----+\n",
            "only showing top 3 rows\n",
            "\n"
          ]
        }
      ]
    },
    {
      "cell_type": "code",
      "metadata": {
        "colab": {
          "base_uri": "https://localhost:8080/"
        },
        "id": "PUxfxAKT71Nk",
        "outputId": "f20a7581-5a9a-4c61-cafc-a5454e103fbc"
      },
      "source": [
        "df.groupBy('neighbourhood_group').min('price').show(10)"
      ],
      "execution_count": null,
      "outputs": [
        {
          "output_type": "stream",
          "name": "stdout",
          "text": [
            "+-------------------+----------+\n",
            "|neighbourhood_group|min(price)|\n",
            "+-------------------+----------+\n",
            "|         Douglaston|         1|\n",
            "|             Queens|        10|\n",
            "|              Nadia|      null|\n",
            "|            Midtown|         2|\n",
            "|    Jackson Heights|         2|\n",
            "|     Hell's Kitchen|         1|\n",
            "|  Greenwich Village|        31|\n",
            "|       Clinton Hill|        14|\n",
            "| Washington Heights|         2|\n",
            "|   Ditmars Steinway|         1|\n",
            "+-------------------+----------+\n",
            "only showing top 10 rows\n",
            "\n"
          ]
        }
      ]
    },
    {
      "cell_type": "code",
      "metadata": {
        "colab": {
          "base_uri": "https://localhost:8080/"
        },
        "id": "PTCisWPL76pw",
        "outputId": "6a0e18a0-6d9c-4234-cc68-9c7a0e3e1a21"
      },
      "source": [
        "df.groupBy('neighbourhood').agg(min(df.price), max(df.price)).show(10)"
      ],
      "execution_count": null,
      "outputs": [
        {
          "output_type": "stream",
          "name": "stdout",
          "text": [
            "+-------------+----------+----------+\n",
            "|neighbourhood|min(price)|max(price)|\n",
            "+-------------+----------+----------+\n",
            "|       Corona|        23|       359|\n",
            "| Richmondtown|        78|        78|\n",
            "| Prince's Bay|        85|      1250|\n",
            "|  Westerleigh|        40|       103|\n",
            "|   Mill Basin|        85|       299|\n",
            "|     40.76199|         1|         1|\n",
            "| Civic Center|        50|       950|\n",
            "|     40.83166|         1|         1|\n",
            "|   Douglaston|        40|       178|\n",
            "|   Mount Hope|        24|       250|\n",
            "+-------------+----------+----------+\n",
            "only showing top 10 rows\n",
            "\n"
          ]
        }
      ]
    },
    {
      "cell_type": "markdown",
      "metadata": {
        "id": "q9_qM_2lZCcS"
      },
      "source": [
        "### Summary"
      ]
    },
    {
      "cell_type": "code",
      "metadata": {
        "colab": {
          "base_uri": "https://localhost:8080/",
          "height": 196
        },
        "id": "nlCzB73S8UaZ",
        "outputId": "0135b59d-307d-4159-9035-308aee8172e1"
      },
      "source": [
        "sum = df.summary('count','min',\"25%\")\n",
        "sum.toPandas()"
      ],
      "execution_count": null,
      "outputs": [
        {
          "output_type": "execute_result",
          "data": {
            "text/html": [
              "<div>\n",
              "<style scoped>\n",
              "    .dataframe tbody tr th:only-of-type {\n",
              "        vertical-align: middle;\n",
              "    }\n",
              "\n",
              "    .dataframe tbody tr th {\n",
              "        vertical-align: top;\n",
              "    }\n",
              "\n",
              "    .dataframe thead th {\n",
              "        text-align: right;\n",
              "    }\n",
              "</style>\n",
              "<table border=\"1\" class=\"dataframe\">\n",
              "  <thead>\n",
              "    <tr style=\"text-align: right;\">\n",
              "      <th></th>\n",
              "      <th>summary</th>\n",
              "      <th>id</th>\n",
              "      <th>name</th>\n",
              "      <th>host_id</th>\n",
              "      <th>host_name</th>\n",
              "      <th>neighbourhood_group</th>\n",
              "      <th>neighbourhood</th>\n",
              "      <th>latitude</th>\n",
              "      <th>longitude</th>\n",
              "      <th>room_type</th>\n",
              "      <th>price</th>\n",
              "      <th>minimum_nights</th>\n",
              "      <th>number_of_reviews</th>\n",
              "      <th>last_review</th>\n",
              "      <th>reviews_per_month</th>\n",
              "      <th>calculated_host_listings_count</th>\n",
              "      <th>availability_365</th>\n",
              "    </tr>\n",
              "  </thead>\n",
              "  <tbody>\n",
              "    <tr>\n",
              "      <th>0</th>\n",
              "      <td>count</td>\n",
              "      <td>49079</td>\n",
              "      <td>49047</td>\n",
              "      <td>48894</td>\n",
              "      <td>48873</td>\n",
              "      <td>48894</td>\n",
              "      <td>48894</td>\n",
              "      <td>48894</td>\n",
              "      <td>48894</td>\n",
              "      <td>48894</td>\n",
              "      <td>48887</td>\n",
              "      <td>48891</td>\n",
              "      <td>48738</td>\n",
              "      <td>38845</td>\n",
              "      <td>38858</td>\n",
              "      <td>48891</td>\n",
              "      <td>48737</td>\n",
              "    </tr>\n",
              "    <tr>\n",
              "      <th>1</th>\n",
              "      <td>min</td>\n",
              "      <td>12 mins Manhattan\"</td>\n",
              "      <td>1 Bed Apt in Utopic Williamsburg</td>\n",
              "      <td>Heart of Greenwich Village\"</td>\n",
              "      <td>very clean studio app\"</td>\n",
              "      <td>194716858</td>\n",
              "      <td>2</td>\n",
              "      <td>-73.72247</td>\n",
              "      <td>-73.71299</td>\n",
              "      <td>-73.90783</td>\n",
              "      <td>-74</td>\n",
              "      <td>0</td>\n",
              "      <td>0</td>\n",
              "      <td>-73.94134</td>\n",
              "      <td>0</td>\n",
              "      <td>0</td>\n",
              "      <td>0</td>\n",
              "    </tr>\n",
              "    <tr>\n",
              "      <th>2</th>\n",
              "      <td>25%</td>\n",
              "      <td>9470677.0</td>\n",
              "      <td>2.4544724E7</td>\n",
              "      <td>7795299.0</td>\n",
              "      <td>475.0</td>\n",
              "      <td>1.94716858E8</td>\n",
              "      <td>40.68771</td>\n",
              "      <td>40.68982</td>\n",
              "      <td>-73.9831</td>\n",
              "      <td>56.0</td>\n",
              "      <td>69</td>\n",
              "      <td>1</td>\n",
              "      <td>1</td>\n",
              "      <td>0.76</td>\n",
              "      <td>0</td>\n",
              "      <td>1</td>\n",
              "      <td>0</td>\n",
              "    </tr>\n",
              "  </tbody>\n",
              "</table>\n",
              "</div>"
            ],
            "text/plain": [
              "  summary                   id  ... calculated_host_listings_count availability_365\n",
              "0   count                49079  ...                          48891            48737\n",
              "1     min   12 mins Manhattan\"  ...                              0                0\n",
              "2     25%            9470677.0  ...                              1                0\n",
              "\n",
              "[3 rows x 17 columns]"
            ]
          },
          "metadata": {},
          "execution_count": 84
        }
      ]
    },
    {
      "cell_type": "markdown",
      "metadata": {
        "id": "1ATpZI-EZEzF"
      },
      "source": [
        "### Descriptive stat"
      ]
    },
    {
      "cell_type": "code",
      "metadata": {
        "colab": {
          "base_uri": "https://localhost:8080/"
        },
        "id": "gR3xKmU58hLi",
        "outputId": "cdbf67eb-2b3c-4b66-9a0c-afb7712e9c15"
      },
      "source": [
        "df.agg(min(df.price).alias('min'), max(df.price).alias('max')).show()"
      ],
      "execution_count": null,
      "outputs": [
        {
          "output_type": "stream",
          "name": "stdout",
          "text": [
            "+---+-----+\n",
            "|min|  max|\n",
            "+---+-----+\n",
            "|-74|10000|\n",
            "+---+-----+\n",
            "\n"
          ]
        }
      ]
    },
    {
      "cell_type": "code",
      "metadata": {
        "colab": {
          "base_uri": "https://localhost:8080/"
        },
        "id": "kwVGKJha9GBM",
        "outputId": "0ed3663a-49fe-4cff-e116-f8d86d3a44a9"
      },
      "source": [
        "df.select(min(\"neighbourhood_group\").alias('CountD'),avg('price').alias('avg'),stddev(\"price\").alias('std')).show()"
      ],
      "execution_count": null,
      "outputs": [
        {
          "output_type": "stream",
          "name": "stdout",
          "text": [
            "+---------+------------------+-----------------+\n",
            "|   CountD|               avg|              std|\n",
            "+---------+------------------+-----------------+\n",
            "|194716858|152.22298361527604|238.5414668883949|\n",
            "+---------+------------------+-----------------+\n",
            "\n"
          ]
        }
      ]
    },
    {
      "cell_type": "code",
      "metadata": {
        "colab": {
          "base_uri": "https://localhost:8080/"
        },
        "id": "5NF_7UJH-Osp",
        "outputId": "472a1f0f-4757-4560-ba9f-6981b16d8eef"
      },
      "source": [
        "df.groupBy(\"neighbourhood\").pivot('neighbourhood_group',['Queens','Brooklyn']).agg(min(df.price),max(df.price)).show(10)"
      ],
      "execution_count": null,
      "outputs": [
        {
          "output_type": "stream",
          "name": "stdout",
          "text": [
            "+-------------+-----------------+-----------------+-------------------+-------------------+\n",
            "|neighbourhood|Queens_min(price)|Queens_max(price)|Brooklyn_min(price)|Brooklyn_max(price)|\n",
            "+-------------+-----------------+-----------------+-------------------+-------------------+\n",
            "|       Corona|               23|              359|               null|               null|\n",
            "| Prince's Bay|             null|             null|               null|               null|\n",
            "| Richmondtown|             null|             null|               null|               null|\n",
            "|   Mill Basin|             null|             null|                 85|                299|\n",
            "|  Westerleigh|             null|             null|               null|               null|\n",
            "|     40.76199|             null|             null|               null|               null|\n",
            "| Civic Center|             null|             null|               null|               null|\n",
            "|   Douglaston|               40|              178|               null|               null|\n",
            "|     40.83166|             null|             null|               null|               null|\n",
            "|   Mount Hope|             null|             null|               null|               null|\n",
            "+-------------+-----------------+-----------------+-------------------+-------------------+\n",
            "only showing top 10 rows\n",
            "\n"
          ]
        }
      ]
    },
    {
      "cell_type": "markdown",
      "metadata": {
        "id": "1fcnY-r5drAl"
      },
      "source": [
        "# Joining Appending"
      ]
    },
    {
      "cell_type": "code",
      "metadata": {
        "id": "s6nQ0fC6-jpH"
      },
      "source": [
        "valuesP = [('koala',1,'yes'),('caterpillar',2,'yes'),('deer',3,'yes'),('human',4,'yes')]\n",
        "eats_plants = spark.createDataFrame(valuesP,['name','id','eats_plants'])\n",
        "valuesM = [('shark',5,'yes'),('lion',6,'yes'),('tiger',7,'yes'),('human',4,'yes')]\n",
        "eats_meat = spark.createDataFrame(valuesM,['name','id','eats_meat'])"
      ],
      "execution_count": null,
      "outputs": []
    },
    {
      "cell_type": "markdown",
      "metadata": {
        "id": "NxEG01UlebVq"
      },
      "source": [
        "### Appending"
      ]
    },
    {
      "cell_type": "code",
      "metadata": {
        "colab": {
          "base_uri": "https://localhost:8080/"
        },
        "id": "TtlXUBjpeasj",
        "outputId": "390e9265-e9aa-4403-dc09-8ff97c37e196"
      },
      "source": [
        "new_df = eats_plants\n",
        "df_append = eats_plants.union(new_df)\n",
        "df_append.show(8)"
      ],
      "execution_count": null,
      "outputs": [
        {
          "output_type": "stream",
          "name": "stdout",
          "text": [
            "+-----------+---+-----------+\n",
            "|       name| id|eats_plants|\n",
            "+-----------+---+-----------+\n",
            "|      koala|  1|        yes|\n",
            "|caterpillar|  2|        yes|\n",
            "|       deer|  3|        yes|\n",
            "|      human|  4|        yes|\n",
            "|      koala|  1|        yes|\n",
            "|caterpillar|  2|        yes|\n",
            "|       deer|  3|        yes|\n",
            "|      human|  4|        yes|\n",
            "+-----------+---+-----------+\n",
            "\n"
          ]
        }
      ]
    },
    {
      "cell_type": "markdown",
      "metadata": {
        "id": "rrYnLVTDewya"
      },
      "source": [
        "### Inner join"
      ]
    },
    {
      "cell_type": "code",
      "metadata": {
        "colab": {
          "base_uri": "https://localhost:8080/"
        },
        "id": "Zycg1GPBfC2N",
        "outputId": "6f40f165-c949-4768-8b21-2e710a5bfdfc"
      },
      "source": [
        "eats_plants.join(eats_meat,['name'], 'inner').show()"
      ],
      "execution_count": null,
      "outputs": [
        {
          "output_type": "stream",
          "name": "stdout",
          "text": [
            "+-----+---+-----------+---+---------+\n",
            "| name| id|eats_plants| id|eats_meat|\n",
            "+-----+---+-----------+---+---------+\n",
            "|human|  4|        yes|  4|      yes|\n",
            "+-----+---+-----------+---+---------+\n",
            "\n"
          ]
        }
      ]
    },
    {
      "cell_type": "code",
      "metadata": {
        "colab": {
          "base_uri": "https://localhost:8080/"
        },
        "id": "FApvUaJDep6O",
        "outputId": "282dbfbd-8d00-45d5-fc09-27449cbe82b1"
      },
      "source": [
        "inner_join = eats_plants.join(eats_meat,['name','id'], 'inner')\n",
        "inner_join.show()"
      ],
      "execution_count": null,
      "outputs": [
        {
          "output_type": "stream",
          "name": "stdout",
          "text": [
            "+-----+---+-----------+---------+\n",
            "| name| id|eats_plants|eats_meat|\n",
            "+-----+---+-----------+---------+\n",
            "|human|  4|        yes|      yes|\n",
            "+-----+---+-----------+---------+\n",
            "\n"
          ]
        }
      ]
    },
    {
      "cell_type": "markdown",
      "metadata": {
        "id": "4Pn83k9sfJNe"
      },
      "source": [
        "### Left join"
      ]
    },
    {
      "cell_type": "code",
      "metadata": {
        "colab": {
          "base_uri": "https://localhost:8080/"
        },
        "id": "Zi-nIk1Te83w",
        "outputId": "2f09df85-6a37-4037-ed78-4b4488328f3c"
      },
      "source": [
        "left_join = eats_plants.join(eats_meat,['name','id'], 'left')\n",
        "left_join.show()"
      ],
      "execution_count": null,
      "outputs": [
        {
          "output_type": "stream",
          "name": "stdout",
          "text": [
            "+-----------+---+-----------+---------+\n",
            "|       name| id|eats_plants|eats_meat|\n",
            "+-----------+---+-----------+---------+\n",
            "|caterpillar|  2|        yes|     null|\n",
            "|       deer|  3|        yes|     null|\n",
            "|      human|  4|        yes|      yes|\n",
            "|      koala|  1|        yes|     null|\n",
            "+-----------+---+-----------+---------+\n",
            "\n"
          ]
        }
      ]
    },
    {
      "cell_type": "markdown",
      "metadata": {
        "id": "U_Cti_ksfZ7X"
      },
      "source": [
        "### Conditional join"
      ]
    },
    {
      "cell_type": "code",
      "metadata": {
        "colab": {
          "base_uri": "https://localhost:8080/"
        },
        "id": "6NIUgcsMfQpT",
        "outputId": "9aa781db-c9b7-4d28-b8ce-0e16bcb057da"
      },
      "source": [
        "con_join = eats_plants.join(eats_meat,['name','id'], 'left').filter(eats_meat.name.isNull())\n",
        "con_join.show()"
      ],
      "execution_count": null,
      "outputs": [
        {
          "output_type": "stream",
          "name": "stdout",
          "text": [
            "+-----------+---+-----------+---------+\n",
            "|       name| id|eats_plants|eats_meat|\n",
            "+-----------+---+-----------+---------+\n",
            "|caterpillar|  2|        yes|     null|\n",
            "|       deer|  3|        yes|     null|\n",
            "|      koala|  1|        yes|     null|\n",
            "+-----------+---+-----------+---------+\n",
            "\n"
          ]
        }
      ]
    },
    {
      "cell_type": "markdown",
      "metadata": {
        "id": "0Hlp93SAf_0U"
      },
      "source": [
        "### Full join"
      ]
    },
    {
      "cell_type": "code",
      "metadata": {
        "colab": {
          "base_uri": "https://localhost:8080/"
        },
        "id": "73dmsK6kfm3f",
        "outputId": "1b65ef01-a2e7-468a-83a7-caab77bdcda7"
      },
      "source": [
        "join = eats_plants.join(eats_meat,['name','id'], 'full')\n",
        "join.show()"
      ],
      "execution_count": null,
      "outputs": [
        {
          "output_type": "stream",
          "name": "stdout",
          "text": [
            "+-----------+---+-----------+---------+\n",
            "|       name| id|eats_plants|eats_meat|\n",
            "+-----------+---+-----------+---------+\n",
            "|caterpillar|  2|        yes|     null|\n",
            "|       deer|  3|        yes|     null|\n",
            "|      human|  4|        yes|      yes|\n",
            "|      koala|  1|        yes|     null|\n",
            "|       lion|  6|       null|      yes|\n",
            "|      shark|  5|       null|      yes|\n",
            "|      tiger|  7|       null|      yes|\n",
            "+-----------+---+-----------+---------+\n",
            "\n"
          ]
        }
      ]
    },
    {
      "cell_type": "markdown",
      "metadata": {
        "id": "zCl6js_AgXMH"
      },
      "source": [
        "### Import data from a file"
      ]
    },
    {
      "cell_type": "code",
      "metadata": {
        "id": "wvuhCNDfgEFG"
      },
      "source": [
        "import os\n",
        "path='/content/'"
      ],
      "execution_count": null,
      "outputs": []
    },
    {
      "cell_type": "code",
      "metadata": {
        "id": "EBG_-QIwgho0"
      },
      "source": [
        "df_list = []\n",
        "for f in os.listdir(path):\n",
        "  if f.endswith('.csv'):\n",
        "    filelist = f.split('.')\n",
        "    df_name = filelist[0]\n",
        "    df = spark.read.csv(path+f,inferSchema=True,header=True)\n",
        "    df.name = df_name\n",
        "    df_list.append(df_name)\n",
        "    exec(df_name + ' = df')"
      ],
      "execution_count": null,
      "outputs": []
    },
    {
      "cell_type": "markdown",
      "metadata": {
        "id": "5DMRSNF1n-FN"
      },
      "source": [
        "### Joining real data"
      ]
    },
    {
      "cell_type": "code",
      "metadata": {
        "colab": {
          "base_uri": "https://localhost:8080/"
        },
        "id": "xqvIjPDOhNUR",
        "outputId": "9f297c31-d849-4911-a73f-85479a40fe69"
      },
      "source": [
        "step1 = teachings.join(instructors,teachings.instructor_id == instructors.id, 'left')\n",
        "step1 = step1.select(['instructor_id','name','section_uuid'])\n",
        "step1.show(5)"
      ],
      "execution_count": null,
      "outputs": [
        {
          "output_type": "stream",
          "name": "stdout",
          "text": [
            "+-------------+----------------+--------------------+\n",
            "|instructor_id|            name|        section_uuid|\n",
            "+-------------+----------------+--------------------+\n",
            "|       761703|JOHN ARCHAMBAULT|45adf63c-48c9-365...|\n",
            "|       761703|JOHN ARCHAMBAULT|c6280e23-5e43-385...|\n",
            "|       761703|JOHN ARCHAMBAULT|9395dc21-15d1-3fa...|\n",
            "|      3677061|  STEPHANIE KANN|b99e440b-39db-350...|\n",
            "|       761703|JOHN ARCHAMBAULT|ca1c841f-41d5-329...|\n",
            "+-------------+----------------+--------------------+\n",
            "only showing top 5 rows\n",
            "\n"
          ]
        }
      ]
    },
    {
      "cell_type": "code",
      "metadata": {
        "colab": {
          "base_uri": "https://localhost:8080/",
          "height": 173
        },
        "id": "1-B8_ED3jQDf",
        "outputId": "60624f90-81bb-4243-bdfe-edbd3f23332f"
      },
      "source": [
        "step2 = step1.join(sections, step1.section_uuid == sections.uuid, 'left').select(['name','course_offering_uuid'])\n",
        "step2.limit(4).toPandas()"
      ],
      "execution_count": null,
      "outputs": [
        {
          "output_type": "execute_result",
          "data": {
            "text/html": [
              "<div>\n",
              "<style scoped>\n",
              "    .dataframe tbody tr th:only-of-type {\n",
              "        vertical-align: middle;\n",
              "    }\n",
              "\n",
              "    .dataframe tbody tr th {\n",
              "        vertical-align: top;\n",
              "    }\n",
              "\n",
              "    .dataframe thead th {\n",
              "        text-align: right;\n",
              "    }\n",
              "</style>\n",
              "<table border=\"1\" class=\"dataframe\">\n",
              "  <thead>\n",
              "    <tr style=\"text-align: right;\">\n",
              "      <th></th>\n",
              "      <th>name</th>\n",
              "      <th>course_offering_uuid</th>\n",
              "    </tr>\n",
              "  </thead>\n",
              "  <tbody>\n",
              "    <tr>\n",
              "      <th>0</th>\n",
              "      <td>JAMES CLEARY</td>\n",
              "      <td>051f4e0c-983c-322c-a28b-51f461c662c8</td>\n",
              "    </tr>\n",
              "    <tr>\n",
              "      <th>1</th>\n",
              "      <td>JAMES CLEARY</td>\n",
              "      <td>051f4e0c-983c-322c-a28b-51f461c662c8</td>\n",
              "    </tr>\n",
              "    <tr>\n",
              "      <th>2</th>\n",
              "      <td>STEPHANIE KANN</td>\n",
              "      <td>ea3b717c-d66b-30dc-8b37-964d9688295f</td>\n",
              "    </tr>\n",
              "    <tr>\n",
              "      <th>3</th>\n",
              "      <td>JOHN ARCHAMBAULT</td>\n",
              "      <td>f718e6cd-33f0-3c14-a9a6-834d9c3610a8</td>\n",
              "    </tr>\n",
              "  </tbody>\n",
              "</table>\n",
              "</div>"
            ],
            "text/plain": [
              "               name                  course_offering_uuid\n",
              "0      JAMES CLEARY  051f4e0c-983c-322c-a28b-51f461c662c8\n",
              "1      JAMES CLEARY  051f4e0c-983c-322c-a28b-51f461c662c8\n",
              "2    STEPHANIE KANN  ea3b717c-d66b-30dc-8b37-964d9688295f\n",
              "3  JOHN ARCHAMBAULT  f718e6cd-33f0-3c14-a9a6-834d9c3610a8"
            ]
          },
          "metadata": {},
          "execution_count": 37
        }
      ]
    },
    {
      "cell_type": "code",
      "metadata": {
        "colab": {
          "base_uri": "https://localhost:8080/"
        },
        "id": "1IaGDdMsjyj9",
        "outputId": "1a189bc2-1873-4d91-d1f5-16b504f8c66f"
      },
      "source": [
        "step3 = step2.withColumnRenamed('name','instructor').join(course_offerings, step2.course_offering_uuid == course_offerings.uuid,'left')\n",
        "step3.show(3)"
      ],
      "execution_count": null,
      "outputs": [
        {
          "output_type": "stream",
          "name": "stdout",
          "text": [
            "+--------------+--------------------+--------------------+--------------------+---------+--------------------+\n",
            "|    instructor|course_offering_uuid|                uuid|         course_uuid|term_code|                name|\n",
            "+--------------+--------------------+--------------------+--------------------+---------+--------------------+\n",
            "|  JAMES CLEARY|051f4e0c-983c-322...|051f4e0c-983c-322...|9cad7b15-65ce-343...|     1122|Palliative Care (...|\n",
            "|  JAMES CLEARY|051f4e0c-983c-322...|051f4e0c-983c-322...|9cad7b15-65ce-343...|     1122|Palliative Care (...|\n",
            "|STEPHANIE KANN|ea3b717c-d66b-30d...|ea3b717c-d66b-30d...|a3e3e1c3-543d-3bb...|     1172|Cooperative Educa...|\n",
            "+--------------+--------------------+--------------------+--------------------+---------+--------------------+\n",
            "only showing top 3 rows\n",
            "\n"
          ]
        }
      ]
    },
    {
      "cell_type": "markdown",
      "metadata": {
        "id": "_o916utNqlSk"
      },
      "source": [
        "# Missing Value"
      ]
    },
    {
      "cell_type": "code",
      "metadata": {
        "id": "ypZFksiIn3E-"
      },
      "source": [
        "zomato = spark.read.csv('zomato.csv',inferSchema=True,header=True)"
      ],
      "execution_count": null,
      "outputs": []
    },
    {
      "cell_type": "code",
      "metadata": {
        "colab": {
          "base_uri": "https://localhost:8080/"
        },
        "id": "nl5jWLKYq_GW",
        "outputId": "1e7e2f6e-ecd3-4815-ec26-d61500be2bc0"
      },
      "source": [
        "zomato.printSchema()"
      ],
      "execution_count": null,
      "outputs": [
        {
          "output_type": "stream",
          "name": "stdout",
          "text": [
            "root\n",
            " |-- url: string (nullable = true)\n",
            " |-- address: string (nullable = true)\n",
            " |-- name: string (nullable = true)\n",
            " |-- online_order: string (nullable = true)\n",
            " |-- book_table: string (nullable = true)\n",
            " |-- rate: string (nullable = true)\n",
            " |-- votes: string (nullable = true)\n",
            " |-- phone: string (nullable = true)\n",
            " |-- location: string (nullable = true)\n",
            " |-- rest_type: string (nullable = true)\n",
            " |-- dish_liked: string (nullable = true)\n",
            " |-- cuisines: string (nullable = true)\n",
            " |-- approx_cost(for two people): string (nullable = true)\n",
            " |-- reviews_list: string (nullable = true)\n",
            " |-- menu_item: string (nullable = true)\n",
            " |-- listed_in(type): string (nullable = true)\n",
            " |-- listed_in(city): string (nullable = true)\n",
            "\n"
          ]
        }
      ]
    },
    {
      "cell_type": "code",
      "metadata": {
        "id": "XDjQdaVcrKNH"
      },
      "source": [
        "df = zomato.withColumn(\"approx_cost(for two people)\", zomato[\"approx_cost(for two people)\"].cast(IntegerType())).withColumn(\"votes\", zomato[\"votes\"].cast(IntegerType()))"
      ],
      "execution_count": null,
      "outputs": []
    },
    {
      "cell_type": "markdown",
      "metadata": {
        "id": "OtL7RoOEreKG"
      },
      "source": [
        "### Filter Null"
      ]
    },
    {
      "cell_type": "code",
      "metadata": {
        "colab": {
          "base_uri": "https://localhost:8080/"
        },
        "id": "714TR5tRra8A",
        "outputId": "c7d56e76-8a28-4501-deb9-c3e8d8764aa5"
      },
      "source": [
        "df.filter(df.cuisines.isNull()).select(['name','cuisines']).show(5)"
      ],
      "execution_count": null,
      "outputs": [
        {
          "output_type": "stream",
          "name": "stdout",
          "text": [
            "+---------------+--------+\n",
            "|           name|cuisines|\n",
            "+---------------+--------+\n",
            "|          Jalsa|    null|\n",
            "|  Grand Village|    null|\n",
            "|  Casual Dining|    null|\n",
            "|Timepass Dinner|    null|\n",
            "|  Casual Dining|    null|\n",
            "+---------------+--------+\n",
            "only showing top 5 rows\n",
            "\n"
          ]
        }
      ]
    },
    {
      "cell_type": "markdown",
      "metadata": {
        "id": "r8oP0c0kr8DL"
      },
      "source": [
        "### Calculate null function"
      ]
    },
    {
      "cell_type": "code",
      "metadata": {
        "id": "eE5W44Ocrq40"
      },
      "source": [
        "def nul_value_cal(df):\n",
        "  null_columns_counts = []\n",
        "  numRows = df.count()\n",
        "\n",
        "  for k in df.columns:\n",
        "    nullRows = df.where(col(k).isNull()).count()\n",
        "    if (nullRows>0):\n",
        "      temp = k,nullRows,(nullRows/numRows)*100\n",
        "      null_columns_counts.append(temp)\n",
        "  return null_columns_counts"
      ],
      "execution_count": null,
      "outputs": []
    },
    {
      "cell_type": "code",
      "metadata": {
        "colab": {
          "base_uri": "https://localhost:8080/"
        },
        "id": "tp8ac6htuAz3",
        "outputId": "225f4dba-a978-4912-e5bb-8f98b62a4c97"
      },
      "source": [
        "nul_col_list = nul_value_cal(df)\n",
        "nul_col_list"
      ],
      "execution_count": null,
      "outputs": [
        {
          "output_type": "execute_result",
          "data": {
            "text/plain": [
              "[('name', 9, 0.17311021350259664),\n",
              " ('online_order', 636, 12.233121754183497),\n",
              " ('book_table', 2, 0.03846893633391037),\n",
              " ('rate', 504, 9.694171956145412),\n",
              " ('votes', 1436, 27.62069628774764),\n",
              " ('phone', 58, 1.1155991536834007),\n",
              " ('location', 1439, 27.67839969224851),\n",
              " ('rest_type', 1442, 27.736103096749375),\n",
              " ('dish_liked', 3539, 68.0707828428544),\n",
              " ('cuisines', 1985, 38.18041931140604),\n",
              " ('approx_cost(for two people)', 2974, 57.20330832852471),\n",
              " ('reviews_list', 2064, 39.699942296595495),\n",
              " ('menu_item', 2093, 40.2577418734372),\n",
              " ('listed_in(type)', 2119, 40.75783804577803),\n",
              " ('listed_in(city)', 2147, 41.29640315445278)]"
            ]
          },
          "metadata": {},
          "execution_count": 48
        }
      ]
    },
    {
      "cell_type": "markdown",
      "metadata": {
        "id": "2qHe3sZ9uSVV"
      },
      "source": [
        "### Dropping NA"
      ]
    },
    {
      "cell_type": "code",
      "metadata": {
        "colab": {
          "base_uri": "https://localhost:8080/"
        },
        "id": "PX-9fHB9uFw4",
        "outputId": "559dd693-f494-49f6-f2ff-5fe0d38bcd27"
      },
      "source": [
        "df.na.drop().show(4)"
      ],
      "execution_count": null,
      "outputs": [
        {
          "output_type": "stream",
          "name": "stdout",
          "text": [
            "+--------------------+--------------------+--------------------+------------+----------+-----+-----+--------------+------------+-------------------+--------------------+--------------------+---------------------------+--------------------+--------------------+--------------------+--------------------+\n",
            "|                 url|             address|                name|online_order|book_table| rate|votes|         phone|    location|          rest_type|          dish_liked|            cuisines|approx_cost(for two people)|        reviews_list|           menu_item|     listed_in(type)|     listed_in(city)|\n",
            "+--------------------+--------------------+--------------------+------------+----------+-----+-----+--------------+------------+-------------------+--------------------+--------------------+---------------------------+--------------------+--------------------+--------------------+--------------------+\n",
            "|https://www.zomat...|2nd Floor, 80 Fee...|      Spice Elephant|         Yes|        No|4.1/5|  787|  080 41714161|Banashankari|      Casual Dining|Momos, Lunch Buff...|Chinese, North In...|                        800|\"[('Rated 4.0', '...|rice was well coo...|        ('Rated 5.0'| 'RATED\\n  This p...|\n",
            "|https://www.zomat...|1112, Next to KIM...|     San Churro Cafe|         Yes|        No|3.8/5|  918|+91 9663487993|Banashankari|Cafe, Casual Dining|Churros, Cannello...|Cafe, Mexican, It...|                        800|\"[('Rated 3.0', \"...|        ('Rated 3.0'| \"\"RATED\\n \\nWent...| pasta churros an...|\n",
            "|https://www.zomat...|1st Floor, Annaku...|Addhuri Udupi Bho...|          No|        No|3.7/5|   88|+91 9620009302|Banashankari|        Quick Bites|         Masala Dosa|South Indian, Nor...|                        300|\"[('Rated 4.0', \"...|        ('Rated 2.0'| 'RATED\\n  Reache...|        ('Rated 4.0'|\n",
            "|https://www.zomat...|941, 3rd FLOOR, 2...|        Cafe Shuffle|         Yes|       Yes|4.2/5|  150|+91 9742166777|Banashankari|               Cafe|Mocktails, Peri F...|Cafe, Italian, Co...|                        600|\"[('Rated 1.0', \"...| you get it liter...|        ('Rated 4.0'| \"\"RATED\\n  While...|\n",
            "+--------------------+--------------------+--------------------+------------+----------+-----+-----+--------------+------------+-------------------+--------------------+--------------------+---------------------------+--------------------+--------------------+--------------------+--------------------+\n",
            "only showing top 4 rows\n",
            "\n"
          ]
        }
      ]
    },
    {
      "cell_type": "code",
      "metadata": {
        "colab": {
          "base_uri": "https://localhost:8080/"
        },
        "id": "KI4I388XuXis",
        "outputId": "30313313-c54e-4ec1-e01d-6d15fa5e986e"
      },
      "source": [
        "df.na.drop().count()/df.count()"
      ],
      "execution_count": null,
      "outputs": [
        {
          "output_type": "execute_result",
          "data": {
            "text/plain": [
              "0.12598576649355644"
            ]
          },
          "metadata": {},
          "execution_count": 51
        }
      ]
    },
    {
      "cell_type": "code",
      "metadata": {
        "colab": {
          "base_uri": "https://localhost:8080/"
        },
        "id": "x-Ol4vYruoV7",
        "outputId": "1ce46501-4b9a-4a23-8f86-2d4bae78baf2"
      },
      "source": [
        "df.na.drop(thresh = 8).count()/df.count() # does not drop all"
      ],
      "execution_count": null,
      "outputs": [
        {
          "output_type": "execute_result",
          "data": {
            "text/plain": [
              "0.9780727062896711"
            ]
          },
          "metadata": {},
          "execution_count": 53
        }
      ]
    },
    {
      "cell_type": "code",
      "metadata": {
        "colab": {
          "base_uri": "https://localhost:8080/"
        },
        "id": "T2z_c2Ciu2y3",
        "outputId": "d87eaa48-b11a-42a8-b6b1-920245ca6cb0"
      },
      "source": [
        "df.na.drop(subset=['votes']).count()/df.count()"
      ],
      "execution_count": null,
      "outputs": [
        {
          "output_type": "execute_result",
          "data": {
            "text/plain": [
              "0.7237930371225235"
            ]
          },
          "metadata": {},
          "execution_count": 54
        }
      ]
    },
    {
      "cell_type": "code",
      "metadata": {
        "colab": {
          "base_uri": "https://localhost:8080/"
        },
        "id": "chbrBu9OvP37",
        "outputId": "dee75a47-010f-409f-9f5d-868d64ce3c30"
      },
      "source": [
        "df.na.drop(how = 'all').count()/df.count() # when all columns are null"
      ],
      "execution_count": null,
      "outputs": [
        {
          "output_type": "execute_result",
          "data": {
            "text/plain": [
              "1.0"
            ]
          },
          "metadata": {},
          "execution_count": 55
        }
      ]
    },
    {
      "cell_type": "markdown",
      "metadata": {
        "id": "CBUdEVO1vlTV"
      },
      "source": [
        "### Fill NA"
      ]
    },
    {
      "cell_type": "code",
      "metadata": {
        "colab": {
          "base_uri": "https://localhost:8080/"
        },
        "id": "rEyujH05vdQx",
        "outputId": "73abe81c-f97c-445e-99be-7e2af1bf79f8"
      },
      "source": [
        "df.na.fill('MISSING').show(4)"
      ],
      "execution_count": null,
      "outputs": [
        {
          "output_type": "stream",
          "name": "stdout",
          "text": [
            "+--------------------+--------------------+---------------+--------------------+--------------------+-----+-----+--------------+--------------------+-------------------+--------------------+--------------------+---------------------------+--------------------+--------------------+--------------------+--------------------+\n",
            "|                 url|             address|           name|        online_order|          book_table| rate|votes|         phone|            location|          rest_type|          dish_liked|            cuisines|approx_cost(for two people)|        reviews_list|           menu_item|     listed_in(type)|     listed_in(city)|\n",
            "+--------------------+--------------------+---------------+--------------------+--------------------+-----+-----+--------------+--------------------+-------------------+--------------------+--------------------+---------------------------+--------------------+--------------------+--------------------+--------------------+\n",
            "|https://www.zomat...|942, 21st Main Ro...|          Jalsa|                 Yes|                 Yes|4.1/5|  775|  080 42297555|             MISSING|            MISSING|             MISSING|             MISSING|                       null|             MISSING|             MISSING|             MISSING|             MISSING|\n",
            "|     +91 9743772233\"|        Banashankari|  Casual Dining|Pasta, Lunch Buff...|North Indian, Mug...|  800| null|  ('Rated 4.0'| 'RATED\\n  You ca...|       ('Rated 5.0'| 'RATED\\n  Overde...|        ('Rated 4.0'|                       null|        ('Rated 4.0'| 'RATED\\n  The pl...|        ('Rated 4.0'| 'RATED\\n  The pl...|\n",
            "|https://www.zomat...|2nd Floor, 80 Fee...| Spice Elephant|                 Yes|                  No|4.1/5|  787|  080 41714161|        Banashankari|      Casual Dining|Momos, Lunch Buff...|Chinese, North In...|                        800|\"[('Rated 4.0', '...|rice was well coo...|        ('Rated 5.0'| 'RATED\\n  This p...|\n",
            "|https://www.zomat...|1112, Next to KIM...|San Churro Cafe|                 Yes|                  No|3.8/5|  918|+91 9663487993|        Banashankari|Cafe, Casual Dining|Churros, Cannello...|Cafe, Mexican, It...|                        800|\"[('Rated 3.0', \"...|        ('Rated 3.0'| \"\"RATED\\n \\nWent...| pasta churros an...|\n",
            "+--------------------+--------------------+---------------+--------------------+--------------------+-----+-----+--------------+--------------------+-------------------+--------------------+--------------------+---------------------------+--------------------+--------------------+--------------------+--------------------+\n",
            "only showing top 4 rows\n",
            "\n"
          ]
        }
      ]
    },
    {
      "cell_type": "code",
      "metadata": {
        "colab": {
          "base_uri": "https://localhost:8080/"
        },
        "id": "y6bZb9f8vt3Z",
        "outputId": "01996def-b68c-4fa1-f3a1-e42c26b0f370"
      },
      "source": [
        "df.na.fill(9999).show(5)"
      ],
      "execution_count": null,
      "outputs": [
        {
          "output_type": "stream",
          "name": "stdout",
          "text": [
            "+--------------------+--------------------+--------------------+--------------------+--------------------+-----+-----+--------------+--------------------+-------------------+--------------------+--------------------+---------------------------+--------------------+--------------------+--------------------+--------------------+\n",
            "|                 url|             address|                name|        online_order|          book_table| rate|votes|         phone|            location|          rest_type|          dish_liked|            cuisines|approx_cost(for two people)|        reviews_list|           menu_item|     listed_in(type)|     listed_in(city)|\n",
            "+--------------------+--------------------+--------------------+--------------------+--------------------+-----+-----+--------------+--------------------+-------------------+--------------------+--------------------+---------------------------+--------------------+--------------------+--------------------+--------------------+\n",
            "|https://www.zomat...|942, 21st Main Ro...|               Jalsa|                 Yes|                 Yes|4.1/5|  775|  080 42297555|                null|               null|                null|                null|                       9999|                null|                null|                null|                null|\n",
            "|     +91 9743772233\"|        Banashankari|       Casual Dining|Pasta, Lunch Buff...|North Indian, Mug...|  800| 9999|  ('Rated 4.0'| 'RATED\\n  You ca...|       ('Rated 5.0'| 'RATED\\n  Overde...|        ('Rated 4.0'|                       9999|        ('Rated 4.0'| 'RATED\\n  The pl...|        ('Rated 4.0'| 'RATED\\n  The pl...|\n",
            "|https://www.zomat...|2nd Floor, 80 Fee...|      Spice Elephant|                 Yes|                  No|4.1/5|  787|  080 41714161|        Banashankari|      Casual Dining|Momos, Lunch Buff...|Chinese, North In...|                        800|\"[('Rated 4.0', '...|rice was well coo...|        ('Rated 5.0'| 'RATED\\n  This p...|\n",
            "|https://www.zomat...|1112, Next to KIM...|     San Churro Cafe|                 Yes|                  No|3.8/5|  918|+91 9663487993|        Banashankari|Cafe, Casual Dining|Churros, Cannello...|Cafe, Mexican, It...|                        800|\"[('Rated 3.0', \"...|        ('Rated 3.0'| \"\"RATED\\n \\nWent...| pasta churros an...|\n",
            "|https://www.zomat...|1st Floor, Annaku...|Addhuri Udupi Bho...|                  No|                  No|3.7/5|   88|+91 9620009302|        Banashankari|        Quick Bites|         Masala Dosa|South Indian, Nor...|                        300|\"[('Rated 4.0', \"...|        ('Rated 2.0'| 'RATED\\n  Reache...|        ('Rated 4.0'|\n",
            "+--------------------+--------------------+--------------------+--------------------+--------------------+-----+-----+--------------+--------------------+-------------------+--------------------+--------------------+---------------------------+--------------------+--------------------+--------------------+--------------------+\n",
            "only showing top 5 rows\n",
            "\n"
          ]
        }
      ]
    },
    {
      "cell_type": "code",
      "metadata": {
        "colab": {
          "base_uri": "https://localhost:8080/"
        },
        "id": "NfNK5IR2vzGX",
        "outputId": "2b3de218-694a-41b7-8b86-8ce2346b2e8c"
      },
      "source": [
        "df.filter(df.name.isNull()).na.fill('no name', subset = ['name']).show(4)"
      ],
      "execution_count": null,
      "outputs": [
        {
          "output_type": "stream",
          "name": "stdout",
          "text": [
            "+---------------+-----------------+-------+--------------------+--------------------+----+-----+-------------+--------------------+--------------------+--------------------+-----------------+---------------------------+-------------+--------------------+---------------+--------------------+\n",
            "|            url|          address|   name|        online_order|          book_table|rate|votes|        phone|            location|           rest_type|          dish_liked|         cuisines|approx_cost(for two people)| reviews_list|           menu_item|listed_in(type)|     listed_in(city)|\n",
            "+---------------+-----------------+-------+--------------------+--------------------+----+-----+-------------+--------------------+--------------------+--------------------+-----------------+---------------------------+-------------+--------------------+---------------+--------------------+\n",
            "|+91 9986692090\"|              BTM|no name|   Momos, Oreo Shake|Mughlai, North In...| 600| null| ('Rated 3.0'| 'RATED\\n  Simple...|['Fry Chicken Kab...|            Delivery|Bannerghatta Road|                       null|         null|                null|           null|                null|\n",
            "|  00 805074123\"|              BTM|no name|                null|North Indian, Chi...| 700| null|           []|            Delivery|   Bannerghatta Road|                null|             null|                       null|         null|                null|           null|                null|\n",
            "|+91 8971051846\"|Bannerghatta Road|no name|                null| Street Food, Burger| 150| null|           []|            Delivery|   Bannerghatta Road|                null|             null|                       null|         null|                null|           null|                null|\n",
            "|  080 39457777\"|Bannerghatta Road|no name|Chicken Biryani, ...|Biryani, North In...| 500| null| ('Rated 3.0'| 'RATED\\n  too mu...|        ('Rated 2.0'| 'RATED\\n  salan ...|     ('Rated 1.0'|                       null| ('Rated 3.0'| 'RATED\\n  ok ok ...|   ('Rated 1.0'| \"\"RATED\\n  poor ...|\n",
            "+---------------+-----------------+-------+--------------------+--------------------+----+-----+-------------+--------------------+--------------------+--------------------+-----------------+---------------------------+-------------+--------------------+---------------+--------------------+\n",
            "only showing top 4 rows\n",
            "\n"
          ]
        }
      ]
    },
    {
      "cell_type": "code",
      "metadata": {
        "id": "JcGiGBpwv_qw"
      },
      "source": [
        "# fill with mean\n",
        "def fill_with_mean(df,include = set()):\n",
        "  stats = df.agg(*(avg(c).alias(c) for c in df.columns if c in include))\n",
        "  return df.na.fill(stats.first().asDict())"
      ],
      "execution_count": null,
      "outputs": []
    },
    {
      "cell_type": "code",
      "metadata": {
        "colab": {
          "base_uri": "https://localhost:8080/",
          "height": 564
        },
        "id": "ERJaM2xiwZRA",
        "outputId": "a9782be4-5905-4ab4-a314-585867ebf2c8"
      },
      "source": [
        "update = fill_with_mean(df,['votes'])\n",
        "update.limit(5).toPandas()"
      ],
      "execution_count": null,
      "outputs": [
        {
          "output_type": "execute_result",
          "data": {
            "text/html": [
              "<div>\n",
              "<style scoped>\n",
              "    .dataframe tbody tr th:only-of-type {\n",
              "        vertical-align: middle;\n",
              "    }\n",
              "\n",
              "    .dataframe tbody tr th {\n",
              "        vertical-align: top;\n",
              "    }\n",
              "\n",
              "    .dataframe thead th {\n",
              "        text-align: right;\n",
              "    }\n",
              "</style>\n",
              "<table border=\"1\" class=\"dataframe\">\n",
              "  <thead>\n",
              "    <tr style=\"text-align: right;\">\n",
              "      <th></th>\n",
              "      <th>url</th>\n",
              "      <th>address</th>\n",
              "      <th>name</th>\n",
              "      <th>online_order</th>\n",
              "      <th>book_table</th>\n",
              "      <th>rate</th>\n",
              "      <th>votes</th>\n",
              "      <th>phone</th>\n",
              "      <th>location</th>\n",
              "      <th>rest_type</th>\n",
              "      <th>dish_liked</th>\n",
              "      <th>cuisines</th>\n",
              "      <th>approx_cost(for two people)</th>\n",
              "      <th>reviews_list</th>\n",
              "      <th>menu_item</th>\n",
              "      <th>listed_in(type)</th>\n",
              "      <th>listed_in(city)</th>\n",
              "    </tr>\n",
              "  </thead>\n",
              "  <tbody>\n",
              "    <tr>\n",
              "      <th>0</th>\n",
              "      <td>https://www.zomato.com/bangalore/jalsa-banasha...</td>\n",
              "      <td>942, 21st Main Road, 2nd Stage, Banashankari, ...</td>\n",
              "      <td>Jalsa</td>\n",
              "      <td>Yes</td>\n",
              "      <td>Yes</td>\n",
              "      <td>4.1/5</td>\n",
              "      <td>775</td>\n",
              "      <td>080 42297555</td>\n",
              "      <td>None</td>\n",
              "      <td>None</td>\n",
              "      <td>None</td>\n",
              "      <td>None</td>\n",
              "      <td>NaN</td>\n",
              "      <td>None</td>\n",
              "      <td>None</td>\n",
              "      <td>None</td>\n",
              "      <td>None</td>\n",
              "    </tr>\n",
              "    <tr>\n",
              "      <th>1</th>\n",
              "      <td>+91 9743772233\"</td>\n",
              "      <td>Banashankari</td>\n",
              "      <td>Casual Dining</td>\n",
              "      <td>Pasta, Lunch Buffet, Masala Papad, Paneer Laja...</td>\n",
              "      <td>North Indian, Mughlai, Chinese</td>\n",
              "      <td>800</td>\n",
              "      <td>185</td>\n",
              "      <td>('Rated 4.0'</td>\n",
              "      <td>'RATED\\n  You canÃ\\x83Ã\\x83Ã\\x82Ã\\x82Ã\\x...</td>\n",
              "      <td>('Rated 5.0'</td>\n",
              "      <td>'RATED\\n  Overdelighted by the service and fo...</td>\n",
              "      <td>('Rated 4.0'</td>\n",
              "      <td>NaN</td>\n",
              "      <td>('Rated 4.0'</td>\n",
              "      <td>'RATED\\n  The place is nice and comfortable. ...</td>\n",
              "      <td>('Rated 4.0'</td>\n",
              "      <td>'RATED\\n  The place is nice and comfortable. ...</td>\n",
              "    </tr>\n",
              "    <tr>\n",
              "      <th>2</th>\n",
              "      <td>https://www.zomato.com/bangalore/spice-elephan...</td>\n",
              "      <td>2nd Floor, 80 Feet Road, Near Big Bazaar, 6th ...</td>\n",
              "      <td>Spice Elephant</td>\n",
              "      <td>Yes</td>\n",
              "      <td>No</td>\n",
              "      <td>4.1/5</td>\n",
              "      <td>787</td>\n",
              "      <td>080 41714161</td>\n",
              "      <td>Banashankari</td>\n",
              "      <td>Casual Dining</td>\n",
              "      <td>Momos, Lunch Buffet, Chocolate Nirvana, Thai G...</td>\n",
              "      <td>Chinese, North Indian, Thai</td>\n",
              "      <td>800.0</td>\n",
              "      <td>\"[('Rated 4.0', 'RATED\\n  Had been here for di...</td>\n",
              "      <td>rice was well cooked and overall was great\\n\\n...</td>\n",
              "      <td>('Rated 5.0'</td>\n",
              "      <td>'RATED\\n  This place just cool ? with good am...</td>\n",
              "    </tr>\n",
              "    <tr>\n",
              "      <th>3</th>\n",
              "      <td>https://www.zomato.com/SanchurroBangalore?cont...</td>\n",
              "      <td>1112, Next to KIMS Medical College, 17th Cross...</td>\n",
              "      <td>San Churro Cafe</td>\n",
              "      <td>Yes</td>\n",
              "      <td>No</td>\n",
              "      <td>3.8/5</td>\n",
              "      <td>918</td>\n",
              "      <td>+91 9663487993</td>\n",
              "      <td>Banashankari</td>\n",
              "      <td>Cafe, Casual Dining</td>\n",
              "      <td>Churros, Cannelloni, Minestrone Soup, Hot Choc...</td>\n",
              "      <td>Cafe, Mexican, Italian</td>\n",
              "      <td>800.0</td>\n",
              "      <td>\"[('Rated 3.0', \"\"RATED\\n  Ambience is not tha...</td>\n",
              "      <td>('Rated 3.0'</td>\n",
              "      <td>\"\"RATED\\n \\nWent there for a quick bite with ...</td>\n",
              "      <td>pasta churros and lasagne.\\n\\nNachos were pat...</td>\n",
              "    </tr>\n",
              "    <tr>\n",
              "      <th>4</th>\n",
              "      <td>https://www.zomato.com/bangalore/addhuri-udupi...</td>\n",
              "      <td>1st Floor, Annakuteera, 3rd Stage, Banashankar...</td>\n",
              "      <td>Addhuri Udupi Bhojana</td>\n",
              "      <td>No</td>\n",
              "      <td>No</td>\n",
              "      <td>3.7/5</td>\n",
              "      <td>88</td>\n",
              "      <td>+91 9620009302</td>\n",
              "      <td>Banashankari</td>\n",
              "      <td>Quick Bites</td>\n",
              "      <td>Masala Dosa</td>\n",
              "      <td>South Indian, North Indian</td>\n",
              "      <td>300.0</td>\n",
              "      <td>\"[('Rated 4.0', \"\"RATED\\n  Great food and prop...</td>\n",
              "      <td>('Rated 2.0'</td>\n",
              "      <td>'RATED\\n  Reached the place at 3pm on Saturda...</td>\n",
              "      <td>('Rated 4.0'</td>\n",
              "    </tr>\n",
              "  </tbody>\n",
              "</table>\n",
              "</div>"
            ],
            "text/plain": [
              "                                                 url  ...                                    listed_in(city)\n",
              "0  https://www.zomato.com/bangalore/jalsa-banasha...  ...                                               None\n",
              "1                                    +91 9743772233\"  ...   'RATED\\n  The place is nice and comfortable. ...\n",
              "2  https://www.zomato.com/bangalore/spice-elephan...  ...   'RATED\\n  This place just cool ? with good am...\n",
              "3  https://www.zomato.com/SanchurroBangalore?cont...  ...   pasta churros and lasagne.\\n\\nNachos were pat...\n",
              "4  https://www.zomato.com/bangalore/addhuri-udupi...  ...                                       ('Rated 4.0'\n",
              "\n",
              "[5 rows x 17 columns]"
            ]
          },
          "metadata": {},
          "execution_count": 61
        }
      ]
    },
    {
      "cell_type": "code",
      "metadata": {
        "id": "qmfM1anywmzo"
      },
      "source": [],
      "execution_count": null,
      "outputs": []
    }
  ]
}